{
  "cells": [
    {
      "cell_type": "markdown",
      "metadata": {
        "id": "view-in-github",
        "colab_type": "text"
      },
      "source": [
        "<a href=\"https://colab.research.google.com/github/vmazashvili/Neural-Networks/blob/main/MaskTune_Vano_Mazashvili_1993251.ipynb\" target=\"_parent\"><img src=\"https://colab.research.google.com/assets/colab-badge.svg\" alt=\"Open In Colab\"/></a>"
      ]
    },
    {
      "cell_type": "markdown",
      "metadata": {
        "id": "0Yjq3qMXaDTm"
      },
      "source": [
        "MaskTune Model\n",
        "\n",
        "- train an ERM Model (Empirical Risk Minimization)\n",
        "    - Load and normalize the CIFAR10 training and test datasets using torchvision\n",
        "\n",
        "    - Define a Convolutional Neural Network\n",
        "\n",
        "    - Define a loss function\n",
        "\n",
        "    - Train the network on the training data\n",
        "\n",
        "Test the network on the test data\n",
        "- Generate Masks based on Model Outputs\n",
        "- Fine-tune the Model with Masks\n",
        "- Testing and Evaluation"
      ]
    },
    {
      "cell_type": "code",
      "execution_count": 51,
      "metadata": {
        "colab": {
          "base_uri": "https://localhost:8080/"
        },
        "id": "w4v38sj4upbb",
        "outputId": "6b5a8f7e-4f7b-48eb-f15d-b7da60eaaeee"
      },
      "outputs": [
        {
          "output_type": "stream",
          "name": "stdout",
          "text": [
            "Requirement already satisfied: torch in /usr/local/lib/python3.10/dist-packages (2.3.0+cu121)\n",
            "Requirement already satisfied: torchvision in /usr/local/lib/python3.10/dist-packages (0.18.0+cu121)\n",
            "Requirement already satisfied: timm in /usr/local/lib/python3.10/dist-packages (1.0.3)\n",
            "Requirement already satisfied: filelock in /usr/local/lib/python3.10/dist-packages (from torch) (3.14.0)\n",
            "Requirement already satisfied: typing-extensions>=4.8.0 in /usr/local/lib/python3.10/dist-packages (from torch) (4.11.0)\n",
            "Requirement already satisfied: sympy in /usr/local/lib/python3.10/dist-packages (from torch) (1.12)\n",
            "Requirement already satisfied: networkx in /usr/local/lib/python3.10/dist-packages (from torch) (3.3)\n",
            "Requirement already satisfied: jinja2 in /usr/local/lib/python3.10/dist-packages (from torch) (3.1.4)\n",
            "Requirement already satisfied: fsspec in /usr/local/lib/python3.10/dist-packages (from torch) (2023.6.0)\n",
            "Requirement already satisfied: nvidia-cuda-nvrtc-cu12==12.1.105 in /usr/local/lib/python3.10/dist-packages (from torch) (12.1.105)\n",
            "Requirement already satisfied: nvidia-cuda-runtime-cu12==12.1.105 in /usr/local/lib/python3.10/dist-packages (from torch) (12.1.105)\n",
            "Requirement already satisfied: nvidia-cuda-cupti-cu12==12.1.105 in /usr/local/lib/python3.10/dist-packages (from torch) (12.1.105)\n",
            "Requirement already satisfied: nvidia-cudnn-cu12==8.9.2.26 in /usr/local/lib/python3.10/dist-packages (from torch) (8.9.2.26)\n",
            "Requirement already satisfied: nvidia-cublas-cu12==12.1.3.1 in /usr/local/lib/python3.10/dist-packages (from torch) (12.1.3.1)\n",
            "Requirement already satisfied: nvidia-cufft-cu12==11.0.2.54 in /usr/local/lib/python3.10/dist-packages (from torch) (11.0.2.54)\n",
            "Requirement already satisfied: nvidia-curand-cu12==10.3.2.106 in /usr/local/lib/python3.10/dist-packages (from torch) (10.3.2.106)\n",
            "Requirement already satisfied: nvidia-cusolver-cu12==11.4.5.107 in /usr/local/lib/python3.10/dist-packages (from torch) (11.4.5.107)\n",
            "Requirement already satisfied: nvidia-cusparse-cu12==12.1.0.106 in /usr/local/lib/python3.10/dist-packages (from torch) (12.1.0.106)\n",
            "Requirement already satisfied: nvidia-nccl-cu12==2.20.5 in /usr/local/lib/python3.10/dist-packages (from torch) (2.20.5)\n",
            "Requirement already satisfied: nvidia-nvtx-cu12==12.1.105 in /usr/local/lib/python3.10/dist-packages (from torch) (12.1.105)\n",
            "Requirement already satisfied: triton==2.3.0 in /usr/local/lib/python3.10/dist-packages (from torch) (2.3.0)\n",
            "Requirement already satisfied: nvidia-nvjitlink-cu12 in /usr/local/lib/python3.10/dist-packages (from nvidia-cusolver-cu12==11.4.5.107->torch) (12.5.40)\n",
            "Requirement already satisfied: numpy in /usr/local/lib/python3.10/dist-packages (from torchvision) (1.25.2)\n",
            "Requirement already satisfied: pillow!=8.3.*,>=5.3.0 in /usr/local/lib/python3.10/dist-packages (from torchvision) (9.4.0)\n",
            "Requirement already satisfied: pyyaml in /usr/local/lib/python3.10/dist-packages (from timm) (6.0.1)\n",
            "Requirement already satisfied: huggingface_hub in /usr/local/lib/python3.10/dist-packages (from timm) (0.23.1)\n",
            "Requirement already satisfied: safetensors in /usr/local/lib/python3.10/dist-packages (from timm) (0.4.3)\n",
            "Requirement already satisfied: packaging>=20.9 in /usr/local/lib/python3.10/dist-packages (from huggingface_hub->timm) (24.0)\n",
            "Requirement already satisfied: requests in /usr/local/lib/python3.10/dist-packages (from huggingface_hub->timm) (2.31.0)\n",
            "Requirement already satisfied: tqdm>=4.42.1 in /usr/local/lib/python3.10/dist-packages (from huggingface_hub->timm) (4.66.4)\n",
            "Requirement already satisfied: MarkupSafe>=2.0 in /usr/local/lib/python3.10/dist-packages (from jinja2->torch) (2.1.5)\n",
            "Requirement already satisfied: mpmath>=0.19 in /usr/local/lib/python3.10/dist-packages (from sympy->torch) (1.3.0)\n",
            "Requirement already satisfied: charset-normalizer<4,>=2 in /usr/local/lib/python3.10/dist-packages (from requests->huggingface_hub->timm) (3.3.2)\n",
            "Requirement already satisfied: idna<4,>=2.5 in /usr/local/lib/python3.10/dist-packages (from requests->huggingface_hub->timm) (3.7)\n",
            "Requirement already satisfied: urllib3<3,>=1.21.1 in /usr/local/lib/python3.10/dist-packages (from requests->huggingface_hub->timm) (2.0.7)\n",
            "Requirement already satisfied: certifi>=2017.4.17 in /usr/local/lib/python3.10/dist-packages (from requests->huggingface_hub->timm) (2024.2.2)\n",
            "Requirement already satisfied: torchcam in /usr/local/lib/python3.10/dist-packages (0.4.0)\n",
            "Requirement already satisfied: torch<3.0.0,>=2.0.0 in /usr/local/lib/python3.10/dist-packages (from torchcam) (2.3.0+cu121)\n",
            "Requirement already satisfied: numpy<2.0.0,>=1.17.2 in /usr/local/lib/python3.10/dist-packages (from torchcam) (1.25.2)\n",
            "Requirement already satisfied: Pillow!=9.2.0,>=8.4.0 in /usr/local/lib/python3.10/dist-packages (from torchcam) (9.4.0)\n",
            "Requirement already satisfied: matplotlib<4.0.0,>=3.7.0 in /usr/local/lib/python3.10/dist-packages (from torchcam) (3.7.1)\n",
            "Requirement already satisfied: contourpy>=1.0.1 in /usr/local/lib/python3.10/dist-packages (from matplotlib<4.0.0,>=3.7.0->torchcam) (1.2.1)\n",
            "Requirement already satisfied: cycler>=0.10 in /usr/local/lib/python3.10/dist-packages (from matplotlib<4.0.0,>=3.7.0->torchcam) (0.12.1)\n",
            "Requirement already satisfied: fonttools>=4.22.0 in /usr/local/lib/python3.10/dist-packages (from matplotlib<4.0.0,>=3.7.0->torchcam) (4.51.0)\n",
            "Requirement already satisfied: kiwisolver>=1.0.1 in /usr/local/lib/python3.10/dist-packages (from matplotlib<4.0.0,>=3.7.0->torchcam) (1.4.5)\n",
            "Requirement already satisfied: packaging>=20.0 in /usr/local/lib/python3.10/dist-packages (from matplotlib<4.0.0,>=3.7.0->torchcam) (24.0)\n",
            "Requirement already satisfied: pyparsing>=2.3.1 in /usr/local/lib/python3.10/dist-packages (from matplotlib<4.0.0,>=3.7.0->torchcam) (3.1.2)\n",
            "Requirement already satisfied: python-dateutil>=2.7 in /usr/local/lib/python3.10/dist-packages (from matplotlib<4.0.0,>=3.7.0->torchcam) (2.8.2)\n",
            "Requirement already satisfied: filelock in /usr/local/lib/python3.10/dist-packages (from torch<3.0.0,>=2.0.0->torchcam) (3.14.0)\n",
            "Requirement already satisfied: typing-extensions>=4.8.0 in /usr/local/lib/python3.10/dist-packages (from torch<3.0.0,>=2.0.0->torchcam) (4.11.0)\n",
            "Requirement already satisfied: sympy in /usr/local/lib/python3.10/dist-packages (from torch<3.0.0,>=2.0.0->torchcam) (1.12)\n",
            "Requirement already satisfied: networkx in /usr/local/lib/python3.10/dist-packages (from torch<3.0.0,>=2.0.0->torchcam) (3.3)\n",
            "Requirement already satisfied: jinja2 in /usr/local/lib/python3.10/dist-packages (from torch<3.0.0,>=2.0.0->torchcam) (3.1.4)\n",
            "Requirement already satisfied: fsspec in /usr/local/lib/python3.10/dist-packages (from torch<3.0.0,>=2.0.0->torchcam) (2023.6.0)\n",
            "Requirement already satisfied: nvidia-cuda-nvrtc-cu12==12.1.105 in /usr/local/lib/python3.10/dist-packages (from torch<3.0.0,>=2.0.0->torchcam) (12.1.105)\n",
            "Requirement already satisfied: nvidia-cuda-runtime-cu12==12.1.105 in /usr/local/lib/python3.10/dist-packages (from torch<3.0.0,>=2.0.0->torchcam) (12.1.105)\n",
            "Requirement already satisfied: nvidia-cuda-cupti-cu12==12.1.105 in /usr/local/lib/python3.10/dist-packages (from torch<3.0.0,>=2.0.0->torchcam) (12.1.105)\n",
            "Requirement already satisfied: nvidia-cudnn-cu12==8.9.2.26 in /usr/local/lib/python3.10/dist-packages (from torch<3.0.0,>=2.0.0->torchcam) (8.9.2.26)\n",
            "Requirement already satisfied: nvidia-cublas-cu12==12.1.3.1 in /usr/local/lib/python3.10/dist-packages (from torch<3.0.0,>=2.0.0->torchcam) (12.1.3.1)\n",
            "Requirement already satisfied: nvidia-cufft-cu12==11.0.2.54 in /usr/local/lib/python3.10/dist-packages (from torch<3.0.0,>=2.0.0->torchcam) (11.0.2.54)\n",
            "Requirement already satisfied: nvidia-curand-cu12==10.3.2.106 in /usr/local/lib/python3.10/dist-packages (from torch<3.0.0,>=2.0.0->torchcam) (10.3.2.106)\n",
            "Requirement already satisfied: nvidia-cusolver-cu12==11.4.5.107 in /usr/local/lib/python3.10/dist-packages (from torch<3.0.0,>=2.0.0->torchcam) (11.4.5.107)\n",
            "Requirement already satisfied: nvidia-cusparse-cu12==12.1.0.106 in /usr/local/lib/python3.10/dist-packages (from torch<3.0.0,>=2.0.0->torchcam) (12.1.0.106)\n",
            "Requirement already satisfied: nvidia-nccl-cu12==2.20.5 in /usr/local/lib/python3.10/dist-packages (from torch<3.0.0,>=2.0.0->torchcam) (2.20.5)\n",
            "Requirement already satisfied: nvidia-nvtx-cu12==12.1.105 in /usr/local/lib/python3.10/dist-packages (from torch<3.0.0,>=2.0.0->torchcam) (12.1.105)\n",
            "Requirement already satisfied: triton==2.3.0 in /usr/local/lib/python3.10/dist-packages (from torch<3.0.0,>=2.0.0->torchcam) (2.3.0)\n",
            "Requirement already satisfied: nvidia-nvjitlink-cu12 in /usr/local/lib/python3.10/dist-packages (from nvidia-cusolver-cu12==11.4.5.107->torch<3.0.0,>=2.0.0->torchcam) (12.5.40)\n",
            "Requirement already satisfied: six>=1.5 in /usr/local/lib/python3.10/dist-packages (from python-dateutil>=2.7->matplotlib<4.0.0,>=3.7.0->torchcam) (1.16.0)\n",
            "Requirement already satisfied: MarkupSafe>=2.0 in /usr/local/lib/python3.10/dist-packages (from jinja2->torch<3.0.0,>=2.0.0->torchcam) (2.1.5)\n",
            "Requirement already satisfied: mpmath>=0.19 in /usr/local/lib/python3.10/dist-packages (from sympy->torch<3.0.0,>=2.0.0->torchcam) (1.3.0)\n",
            "Requirement already satisfied: pytorch-gradcam in /usr/local/lib/python3.10/dist-packages (0.2.1)\n",
            "Requirement already satisfied: opencv-python in /usr/local/lib/python3.10/dist-packages (from pytorch-gradcam) (4.8.0.76)\n",
            "Requirement already satisfied: numpy in /usr/local/lib/python3.10/dist-packages (from pytorch-gradcam) (1.25.2)\n"
          ]
        }
      ],
      "source": [
        "!pip install torch torchvision timm\n",
        "!pip install torchcam\n",
        "!pip install pytorch-gradcam"
      ]
    },
    {
      "cell_type": "code",
      "execution_count": 96,
      "metadata": {
        "id": "RVe71WOgg9ml"
      },
      "outputs": [],
      "source": [
        "import os\n",
        "import cv2\n",
        "import timm\n",
        "import torch\n",
        "import random\n",
        "import numpy as np\n",
        "import torchvision\n",
        "from torch.optim import SGD\n",
        "import matplotlib.pyplot as plt\n",
        "import torch.nn.functional as F\n",
        "from torch import nn\n",
        "from torch import optim\n",
        "from torch.nn import CrossEntropyLoss\n",
        "from torchcam.methods import XGradCAM\n",
        "from torch.utils.data import DataLoader\n",
        "from torchvision import datasets, transforms\n",
        "from torchvision.transforms import ToTensor, Lambda\n",
        "from torchvision.transforms.functional import resize\n",
        "from sklearn.metrics import confusion_matrix, precision_score, recall_score, f1_score"
      ]
    },
    {
      "cell_type": "markdown",
      "metadata": {
        "id": "XjqipoBg9duJ"
      },
      "source": [
        "# MNIST DATASET\n",
        "\n",
        "- [x] Distinguish between two MNIST digit groups (0-4 and 5-9)\n",
        "- [x] 0-4 into class 0 and 5-9 into class 1.\n",
        "- [ ] Transform 99% of new class 0 and 1% of the new class 1 so that they acquire same spurious feature (square in top left corner)\n",
        "- [ ] Two test sets during testing: the original raw MNIST test set and a biased test set.\n",
        "- [ ] biasd test set - add spurious feature to only 5-9 group  "
      ]
    },
    {
      "cell_type": "markdown",
      "metadata": {
        "id": "b-gkEFw9icSs"
      },
      "source": [
        "Load and normalize the MNIST training and test datasets using torchvision. We can Induce spurrious features too\n",
        "\n"
      ]
    },
    {
      "cell_type": "code",
      "execution_count": 97,
      "metadata": {
        "colab": {
          "base_uri": "https://localhost:8080/"
        },
        "id": "DALGG5P3KgF8",
        "outputId": "79fba25e-9121-490d-8fff-a94f41243a8c"
      },
      "outputs": [
        {
          "output_type": "stream",
          "name": "stdout",
          "text": [
            "Original class distribution in train set: tensor([5923, 6742, 5958, 6131, 5842, 5421, 5918, 6265, 5851, 5949])\n",
            "Remapped class distribution in train set: tensor([30596, 29404])\n",
            "Original class distribution in test set: tensor([ 980, 1135, 1032, 1010,  982,  892,  958, 1028,  974, 1009])\n",
            "Remapped class distribution in test set: tensor([5139, 4861])\n"
          ]
        }
      ],
      "source": [
        "import torch\n",
        "from torchvision import datasets\n",
        "\n",
        "def remap_classes(dataset):\n",
        "    \"\"\"\n",
        "    Remap MNIST dataset classes to two new classes\n",
        "    new_to_old_label_mapping={0: [0, 1, 2, 3, 4], 1: [5, 6, 7, 8, 9]},\n",
        "\n",
        "    Input:\n",
        "        MNIST dataset\n",
        "\n",
        "    Output:\n",
        "        List of remapped dataset. Each item is (PIL image, class)\n",
        "    \"\"\"\n",
        "    remapped_data = []\n",
        "    remapped_targets = []\n",
        "\n",
        "    for data, target in dataset:\n",
        "        if target < 5:  # Digits 0-4\n",
        "            remapped_targets.append(0)\n",
        "        else:  # Digits 5-9\n",
        "            remapped_targets.append(1)\n",
        "\n",
        "        remapped_data.append(data)\n",
        "\n",
        "    return list(zip(remapped_data, remapped_targets))\n",
        "\n",
        "# Load the MNIST dataset\n",
        "mnist_train = datasets.MNIST(root='data', train=True, download=True)\n",
        "mnist_test = datasets.MNIST(root='data', train=False, download=True)\n",
        "\n",
        "# Remap the classes, the variables contain lists:\n",
        "#\n",
        "remapped_train_data = remap_classes(mnist_train)\n",
        "remapped_test_data = remap_classes(mnist_test)\n",
        "\n",
        "# Example usage:\n",
        "print(\"Original class distribution in train set:\", mnist_train.targets.bincount())\n",
        "print(\"Remapped class distribution in train set:\", torch.tensor([target for _, target in remapped_train_data]).bincount())\n",
        "\n",
        "print(\"Original class distribution in test set:\", mnist_test.targets.bincount())\n",
        "print(\"Remapped class distribution in test set:\", torch.tensor([target for _, target in remapped_test_data]).bincount())\n"
      ]
    },
    {
      "cell_type": "code",
      "execution_count": 98,
      "metadata": {
        "colab": {
          "base_uri": "https://localhost:8080/"
        },
        "id": "pdlYG9vjzE0g",
        "outputId": "d903edfc-cbd6-420e-cb66-832d65b0dab3"
      },
      "outputs": [
        {
          "output_type": "execute_result",
          "data": {
            "text/plain": [
              "(<PIL.Image.Image image mode=L size=28x28>, 1)"
            ]
          },
          "metadata": {},
          "execution_count": 98
        }
      ],
      "source": [
        "remapped_train_data[0]"
      ]
    },
    {
      "cell_type": "code",
      "execution_count": 99,
      "metadata": {
        "colab": {
          "base_uri": "https://localhost:8080/",
          "height": 281
        },
        "id": "WkWyg3T7ofkD",
        "outputId": "a74ffe31-dd55-4456-9c25-9f8e3e81aa07"
      },
      "outputs": [
        {
          "output_type": "display_data",
          "data": {
            "text/plain": [
              "<Figure size 1500x300 with 20 Axes>"
            ],
            "image/png": "[encoded data removed]"
          },
          "metadata": {}
        }
      ],
      "source": [
        "import random\n",
        "from PIL import Image, ImageDraw\n",
        "import matplotlib.pyplot as plt\n",
        "\n",
        "def add_spurious_feature(image, label, percentage_class_0=0.99, percentage_class_1=0.01):\n",
        "    \"\"\"\n",
        "    A function to add blue spurious features to PIL images based on class-specific percentages.\n",
        "\n",
        "    Args:\n",
        "        image (PIL.Image.Image): Input image.\n",
        "        label (int): The class label of the image.\n",
        "        percentage_class_0 (float, optional): Percentage of class 0 samples to apply the feature to. Defaults to 0.99.\n",
        "        percentage_class_1 (float, optional): Percentage of class 1 samples to apply the feature to. Defaults to 0.0w1.\n",
        "\n",
        "    Returns:\n",
        "        PIL.Image.Image: Transformed image with the spurious feature.\n",
        "    \"\"\"\n",
        "    # Determine the appropriate percentage based on the class label\n",
        "    percentage = percentage_class_0 if label == 0 else percentage_class_1\n",
        "\n",
        "    # Check if the condition for adding the feature is met\n",
        "    if random.random() < percentage:\n",
        "        # Create a copy of the input image\n",
        "        image_with_spurious = image.convert(\"RGB\")  # Ensure the image is in RGB mode\n",
        "        # Create a drawing context\n",
        "        draw = ImageDraw.Draw(image_with_spurious)\n",
        "        # Draw a blue square in the top-left corner\n",
        "        draw.rectangle([0, 0, 5, 5], fill=(0, 0, 255))  # Blue color\n",
        "        del draw  # Release drawing context\n",
        "        return image_with_spurious\n",
        "    else:\n",
        "        return image.convert(\"RGB\")  # Ensure the image is in RGB mode\n",
        "\n",
        "# Apply add_spurious_feature to the entire remapped_train_data dataset\n",
        "remapped_train_data_with_spurious = [(add_spurious_feature(image, label), label) for image, label in remapped_train_data]\n",
        "\n",
        "# Display 10 samples from each class\n",
        "fig, axes = plt.subplots(2, 10, figsize=(15, 3))\n",
        "class_0_count = 0\n",
        "class_1_count = 0\n",
        "\n",
        "for image, label in remapped_train_data_with_spurious:\n",
        "    if label == 0 and class_0_count < 10:\n",
        "        axes[0, class_0_count].imshow(image)\n",
        "        axes[0, class_0_count].set_title(f\"Class: {label}\")\n",
        "        axes[0, class_0_count].axis('off')\n",
        "        class_0_count += 1\n",
        "    elif label == 1 and class_1_count < 10:\n",
        "        axes[1, class_1_count].imshow(image)\n",
        "        axes[1, class_1_count].set_title(f\"Class: {label}\")\n",
        "        axes[1, class_1_count].axis('off')\n",
        "        class_1_count += 1\n",
        "\n",
        "    if class_0_count >= 10 and class_1_count >= 10:\n",
        "        break\n",
        "\n",
        "plt.show()\n"
      ]
    },
    {
      "cell_type": "code",
      "execution_count": 100,
      "metadata": {
        "colab": {
          "base_uri": "https://localhost:8080/",
          "height": 281
        },
        "id": "4nBnbveQuGUo",
        "outputId": "57ec53c1-e4ca-4269-f058-f3c3941f9deb"
      },
      "outputs": [
        {
          "output_type": "display_data",
          "data": {
            "text/plain": [
              "<Figure size 1500x300 with 20 Axes>"
            ],
            "image/png": "[encoded data removed]"
          },
          "metadata": {}
        }
      ],
      "source": [
        "import random\n",
        "from PIL import Image, ImageDraw\n",
        "\n",
        "def add_spurious_feature_test(image, label, spurious_value=(0, 0, 255)):\n",
        "    \"\"\"\n",
        "    A function to add a blue spurious feature to a PIL image for class 1 samples.\n",
        "\n",
        "    Args:\n",
        "        image (PIL.Image.Image): Input image.\n",
        "        label (int): The class label of the image.\n",
        "        spurious_value (tuple, optional): RGB value to assign to the spurious feature pixels. Defaults to blue (0, 0, 255).\n",
        "\n",
        "    Returns:\n",
        "        PIL.Image.Image: Transformed image with the spurious feature added (if applicable).\n",
        "    \"\"\"\n",
        "    if label == 1:\n",
        "        # Always add the feature to class 1 samples\n",
        "        image_with_spurious = image.convert(\"RGB\")  # Ensure the image is in RGB mode\n",
        "        draw = ImageDraw.Draw(image_with_spurious)\n",
        "        draw.rectangle([0, 0, 5, 5], fill=spurious_value)\n",
        "        del draw\n",
        "        return image_with_spurious\n",
        "    else:\n",
        "        return image.convert(\"RGB\")  # Ensure the image is in RGB mode\n",
        "\n",
        "# Save remapped_test_data into test_data_raw\n",
        "test_data_raw = remapped_test_data.copy()  # Create a copy to avoid modifying the original data\n",
        "\n",
        "# Apply spurious features to class 1 samples in test_data_raw and store in test_data_biased\n",
        "test_data_biased = [(add_spurious_feature_test(image, label), label) for image, label in test_data_raw]\n",
        "\n",
        "# Display 10 samples from each class in the biased test set\n",
        "fig, axes = plt.subplots(2, 10, figsize=(15, 3))\n",
        "class_0_count = 0\n",
        "class_1_count = 0\n",
        "\n",
        "for image, label in test_data_biased:\n",
        "    if label == 0 and class_0_count < 10:\n",
        "        axes[0, class_0_count].imshow(image)\n",
        "        axes[0, class_0_count].set_title(f\"Class: {label}\")\n",
        "        axes[0, class_0_count].axis('off')\n",
        "        class_0_count += 1\n",
        "    elif label == 1 and class_1_count < 10:\n",
        "        axes[1, class_1_count].imshow(image)\n",
        "        axes[1, class_1_count].set_title(f\"Class: {label}\")\n",
        "        axes[1, class_1_count].axis('off')\n",
        "        class_1_count += 1\n",
        "\n",
        "    if class_0_count >= 10 and class_1_count >= 10:\n",
        "        break\n",
        "\n",
        "plt.show()\n"
      ]
    },
    {
      "cell_type": "code",
      "execution_count": 101,
      "metadata": {
        "colab": {
          "base_uri": "https://localhost:8080/"
        },
        "id": "GWn4SHJM8jKL",
        "outputId": "9f7ebf64-a72d-46c2-860e-39b9cee95651"
      },
      "outputs": [
        {
          "output_type": "execute_result",
          "data": {
            "text/plain": [
              "(<PIL.Image.Image image mode=RGB size=28x28>, 1)"
            ]
          },
          "metadata": {},
          "execution_count": 101
        }
      ],
      "source": [
        "remapped_train_data_with_spurious[0]\n",
        "remapped_test_data[0]\n",
        "test_data_biased[0]"
      ]
    },
    {
      "cell_type": "code",
      "execution_count": 102,
      "metadata": {
        "colab": {
          "base_uri": "https://localhost:8080/",
          "height": 189
        },
        "id": "yXaDlQ4q2TpH",
        "outputId": "18402521-b675-45ca-ec6d-f03c66642a5a"
      },
      "outputs": [
        {
          "output_type": "display_data",
          "data": {
            "text/plain": [
              "<Figure size 2000x400 with 40 Axes>"
            ],
            "image/png": "[encoded data removed]"
          },
          "metadata": {}
        }
      ],
      "source": [
        "import matplotlib.pyplot as plt\n",
        "\n",
        "# Initialize counters for each class\n",
        "class_counts = {0: 0, 1: 0}\n",
        "\n",
        "# Plot 10 samples for each class\n",
        "fig, axes = plt.subplots(2, 20, figsize=(20, 4))\n",
        "\n",
        "for image, label in remapped_train_data_with_spurious:\n",
        "    # Check if the maximum number of samples for each class is reached\n",
        "    if class_counts[label] >= 20:\n",
        "        continue\n",
        "\n",
        "    # Plot the image\n",
        "    ax = axes[label][class_counts[label]]\n",
        "    ax.imshow(image, cmap='gray')\n",
        "    ax.axis('off')\n",
        "    ax.set_title(f'Class {label}')\n",
        "\n",
        "    # Increment the counter for the respective class\n",
        "    class_counts[label] += 1\n",
        "\n",
        "plt.tight_layout()\n",
        "plt.show()\n"
      ]
    },
    {
      "cell_type": "code",
      "execution_count": 103,
      "metadata": {
        "colab": {
          "base_uri": "https://localhost:8080/",
          "height": 487
        },
        "id": "dHXn58a8EBDo",
        "outputId": "d3d4bc7d-595a-4845-d7b5-3beee74f3068"
      },
      "outputs": [
        {
          "output_type": "display_data",
          "data": {
            "text/plain": [
              "<Figure size 2000x400 with 20 Axes>"
            ],
            "image/png": "[encoded data removed]"
          },
          "metadata": {}
        },
        {
          "output_type": "display_data",
          "data": {
            "text/plain": [
              "<Figure size 2000x400 with 20 Axes>"
            ],
            "image/png": "[encoded data removed]"
          },
          "metadata": {}
        }
      ],
      "source": [
        "import matplotlib.pyplot as plt\n",
        "\n",
        "# Initialize counters for each class\n",
        "class_counts_raw = {0: 0, 1: 0}\n",
        "class_counts_biased = {0: 0, 1: 0}\n",
        "\n",
        "# Plot 10 samples for each class from test_data_raw\n",
        "fig_raw, axes_raw = plt.subplots(2, 10, figsize=(20, 4))\n",
        "\n",
        "for image, label in test_data_raw:\n",
        "    # Check if the maximum number of samples for each class is reached\n",
        "    if class_counts_raw[label] >= 10:\n",
        "        continue\n",
        "\n",
        "    # Plot the image\n",
        "    ax = axes_raw[label][class_counts_raw[label]]\n",
        "    ax.imshow(image, cmap='gray')\n",
        "    ax.axis('off')\n",
        "    ax.set_title(f'Class {label}')\n",
        "\n",
        "    # Increment the counter for the respective class\n",
        "    class_counts_raw[label] += 1\n",
        "\n",
        "plt.tight_layout()\n",
        "plt.show()\n",
        "\n",
        "# Plot 10 samples for each class from test_data_biased\n",
        "fig_biased, axes_biased = plt.subplots(2, 10, figsize=(20, 4))\n",
        "\n",
        "for image, label in test_data_biased:\n",
        "    # Check if the maximum number of samples for each class is reached\n",
        "    if class_counts_biased[label] >= 10:\n",
        "        continue\n",
        "\n",
        "    # Plot the image\n",
        "    ax = axes_biased[label][class_counts_biased[label]]\n",
        "    ax.imshow(image, cmap='gray')\n",
        "    ax.axis('off')\n",
        "    ax.set_title(f'Class {label}')\n",
        "\n",
        "    # Increment the counter for the respective class\n",
        "    class_counts_biased[label] += 1\n",
        "\n",
        "plt.tight_layout()\n",
        "plt.show()\n"
      ]
    },
    {
      "cell_type": "markdown",
      "metadata": {
        "id": "VR1-2Xg3ELd_"
      },
      "source": [
        "Therefore, we should have a training dataset ```remapped_train_data_with_spurious``` with two classes, 0 (containing digits 0-4) and 1 (digits 5-9).\n",
        "99% of the samples in class 0 have a spurious feature, while 1% of the class 1 has the same spurious feature.\n",
        "\n",
        "As for testing dataset, we have 2, ```test_data_raw``` and ```test_data_biased```. One will be a raw MNIST test dataset, while the other one will be a modified one with spurious features for class 1 samples.\n",
        "\n",
        "Thus we have ```test_data_daw```, ```test_data_spurious``` with only class 1 sample spurious features, `remapped_train_data_with_spurious`, and `remapped_train_data`"
      ]
    },
    {
      "cell_type": "markdown",
      "metadata": {
        "id": "Uph4IAqN8VTe"
      },
      "source": [
        "# Dataloaders\n",
        "make batches"
      ]
    },
    {
      "cell_type": "code",
      "execution_count": 104,
      "metadata": {
        "id": "u3Bh8Xs4-S0r"
      },
      "outputs": [],
      "source": [
        "from PIL import Image\n",
        "\n",
        "# Convert grayscale images in remapped_test_data to RGB\n",
        "remapped_test_data_rgb = [(image.convert(\"RGB\"), label) for image, label in remapped_test_data]\n",
        "\n",
        "# Define a transform to convert PIL images to tensors\n",
        "transform = transforms.ToTensor()\n",
        "\n",
        "# Convert remapped_train_data_with_spurious to tensors\n",
        "remapped_spurious_train_data_tensor = [(transform(image), label) for image, label in remapped_train_data_with_spurious]\n",
        "\n",
        "# Convert remapped_test_data_rgb to tensors\n",
        "test_data_raw_tensor = [(transform(image), label) for image, label in remapped_test_data_rgb]\n",
        "\n",
        "# Convert test_data_biased to tensors\n",
        "test_data_biased_tensor = [(transform(image), label) for image, label in test_data_biased]\n"
      ]
    },
    {
      "cell_type": "code",
      "execution_count": 61,
      "metadata": {
        "colab": {
          "base_uri": "https://localhost:8080/"
        },
        "id": "IWdJy_tW6Dop",
        "outputId": "a548f6b4-9ae7-431d-de42-c1cbf76bfe8e"
      },
      "outputs": [
        {
          "output_type": "stream",
          "name": "stdout",
          "text": [
            "Data batch shape: torch.Size([128, 3, 28, 28])\n",
            "Label batch shape: torch.Size([128])\n",
            "Data batch example: tensor([[[0., 0., 0.,  ..., 0., 0., 0.],\n",
            "         [0., 0., 0.,  ..., 0., 0., 0.],\n",
            "         [0., 0., 0.,  ..., 0., 0., 0.],\n",
            "         ...,\n",
            "         [0., 0., 0.,  ..., 0., 0., 0.],\n",
            "         [0., 0., 0.,  ..., 0., 0., 0.],\n",
            "         [0., 0., 0.,  ..., 0., 0., 0.]],\n",
            "\n",
            "        [[0., 0., 0.,  ..., 0., 0., 0.],\n",
            "         [0., 0., 0.,  ..., 0., 0., 0.],\n",
            "         [0., 0., 0.,  ..., 0., 0., 0.],\n",
            "         ...,\n",
            "         [0., 0., 0.,  ..., 0., 0., 0.],\n",
            "         [0., 0., 0.,  ..., 0., 0., 0.],\n",
            "         [0., 0., 0.,  ..., 0., 0., 0.]],\n",
            "\n",
            "        [[0., 0., 0.,  ..., 0., 0., 0.],\n",
            "         [0., 0., 0.,  ..., 0., 0., 0.],\n",
            "         [0., 0., 0.,  ..., 0., 0., 0.],\n",
            "         ...,\n",
            "         [0., 0., 0.,  ..., 0., 0., 0.],\n",
            "         [0., 0., 0.,  ..., 0., 0., 0.],\n",
            "         [0., 0., 0.,  ..., 0., 0., 0.]]])\n",
            "Label batch example: tensor(1)\n"
          ]
        }
      ],
      "source": [
        "biased_train_dataloader = DataLoader(remapped_spurious_train_data_tensor, batch_size=128)\n",
        "raw_test_dataloader = DataLoader(test_data_raw_tensor, batch_size=128)\n",
        "biased_test_dataloader = DataLoader(test_data_biased_tensor, batch_size=128)\n",
        "\n",
        "len(biased_train_dataloader)\n",
        "len(raw_test_dataloader)\n",
        "len(biased_test_dataloader)\n",
        "\n",
        "for data_batch, label_batch in biased_train_dataloader:\n",
        "    print(\"Data batch shape:\", data_batch.shape)\n",
        "    print(\"Label batch shape:\", label_batch.shape)\n",
        "    print(\"Data batch example:\", data_batch[0])\n",
        "    print(\"Label batch example:\", label_batch[0])\n",
        "    break  # Only print the first batch for brevity\n"
      ]
    },
    {
      "cell_type": "markdown",
      "source": [
        "### Creating a subset dataset for testing purposes"
      ],
      "metadata": {
        "id": "asZo9-78Ta4-"
      }
    },
    {
      "cell_type": "code",
      "source": [
        "# Define subset sizes\n",
        "subset_size_train = 300\n",
        "subset_size_test_raw = 100\n",
        "subset_size_test_biased = 100\n",
        "\n",
        "# Randomly sample subsets from the tensors\n",
        "subset_train_biased_tensor = random.sample(remapped_spurious_train_data_tensor, subset_size_train)\n",
        "subset_test_raw_tensor = random.sample(test_data_raw_tensor, subset_size_test_raw)\n",
        "subset_test_biased_tensor = random.sample(test_data_biased_tensor, subset_size_test_biased)\n",
        "\n",
        "# Define batch size\n",
        "batch_size = 64  # Adjust as needed\n",
        "\n",
        "# Create DataLoader for the subset of training data\n",
        "subset_train_biased_dataloader = DataLoader(subset_train_biased_tensor, batch_size=batch_size, shuffle=True)\n",
        "\n",
        "# Create DataLoader for the subset of raw test data\n",
        "subset_test_raw_dataloader = DataLoader(subset_test_raw_tensor, batch_size=batch_size, shuffle=False)\n",
        "\n",
        "# Create DataLoader for the subset of biased test data\n",
        "subset_test_biased_dataloader = DataLoader(subset_test_biased_tensor, batch_size=batch_size, shuffle=False)"
      ],
      "metadata": {
        "id": "gciQRBcgTaer"
      },
      "execution_count": 124,
      "outputs": []
    },
    {
      "cell_type": "markdown",
      "metadata": {
        "id": "Dlxs0SJ98ftx"
      },
      "source": [
        "# Define CNN\n",
        "Define a Convolutional Neural Network and give its class a ```get_grad_cam_target_layer``` function which will grab the last convolutional layer to use it for saliency map generation. Uses almost the same architecture as the paper \"MaskTune: Mitigating Spurious Correlations by Forcing to Explore\""
      ]
    },
    {
      "cell_type": "code",
      "execution_count": 62,
      "metadata": {
        "id": "kFdy4wMmGyXC"
      },
      "outputs": [],
      "source": [
        "class SmallCNN(nn.Module):\n",
        "    def __init__(self, num_classes):\n",
        "        super().__init__()\n",
        "        self.num_classes = num_classes\n",
        "        self.backbone = nn.Sequential(\n",
        "            nn.Conv2d(3, 16, (3, 3), (1, 1)),  # Change 1 to 3 for RGB input\n",
        "            nn.BatchNorm2d(16),\n",
        "            nn.ReLU(),\n",
        "            nn.Conv2d(16, 16, (3, 3), (1, 1)),\n",
        "            nn.BatchNorm2d(num_features=16),\n",
        "            nn.ReLU(),\n",
        "            nn.MaxPool2d((2, 2), (2, 2)),\n",
        "            nn.Conv2d(16, 32, (3, 3), (1, 1)),\n",
        "            nn.BatchNorm2d(num_features=32),\n",
        "            nn.ReLU(),\n",
        "            nn.Conv2d(32, 32, (3, 3), (1, 1)),\n",
        "            nn.BatchNorm2d(num_features=32),\n",
        "            nn.ReLU(),\n",
        "            nn.MaxPool2d((2, 2), (2, 2)),\n",
        "            nn.Flatten()\n",
        "        )\n",
        "        self.linear = nn.Sequential(\n",
        "            nn.Linear(512, 256),\n",
        "            nn.BatchNorm1d(num_features=256),\n",
        "            nn.ReLU(),\n",
        "            nn.Linear(256, self.num_classes)\n",
        "        )\n",
        "\n",
        "    def forward(self, x):\n",
        "        features = self.backbone(x)\n",
        "        logits = self.linear(features)\n",
        "        return logits\n",
        "\n",
        "    def get_grad_cam_target_layer(self):\n",
        "        return self.backbone[-3]"
      ]
    },
    {
      "cell_type": "markdown",
      "metadata": {
        "id": "JmVn-g3Z87tf"
      },
      "source": [
        "### Hyperparameters, optimizer, model selection"
      ]
    },
    {
      "cell_type": "code",
      "execution_count": 63,
      "metadata": {
        "id": "8ROjx8uF04n7"
      },
      "outputs": [],
      "source": [
        "import torch.optim as optim\n",
        "from sklearn.metrics import accuracy_score, precision_score, recall_score, f1_score\n",
        "\n",
        "# Hyperparameters according to the paper\n",
        "lr = 0.01\n",
        "momentum = 0.9\n",
        "weight_decay = 1e-4\n",
        "batch_size = 128\n",
        "epochs = 20\n",
        "lr_decay_epochs = 25\n",
        "lr_decay_factor = 0.5\n",
        "number_of_classes = 2\n",
        "\n",
        "# Loss function\n",
        "loss_function = nn.CrossEntropyLoss()\n",
        "\n",
        "# Optimizer with the above presented hyperparameters\n",
        "model = SmallCNN(number_of_classes)\n",
        "optimizer = optim.SGD(model.parameters(), lr=lr, momentum=momentum, weight_decay=weight_decay)\n",
        "\n",
        "# Learning rate scheduler to decrease learning rate every lr_decay_epochs epochs\n",
        "lr_scheduler = optim.lr_scheduler.StepLR(optimizer, step_size=lr_decay_epochs, gamma=lr_decay_factor)"
      ]
    },
    {
      "cell_type": "markdown",
      "metadata": {
        "id": "e1ti6kBN9F5R"
      },
      "source": [
        "# Training and Testing\n",
        "Done with the specified parameters and models above"
      ]
    },
    {
      "cell_type": "markdown",
      "metadata": {
        "id": "-D2mbCXzwL-3"
      },
      "source": [
        "`test_model()` has:\n",
        "\n",
        "**Class-wise accuracy** - correctness of predictions for each class infividually. We expect improved class-wise accuracy for biased dataset after applying MaskTune. Before that, biased dataset should have low class-wise accuracy for the underrepresented classes.\n",
        "\n",
        "**Precision and Recall, F1 score** -\n",
        "\n",
        "*   Precision - how many of the predicted positive samples are actually positive\n",
        "*   Recall - how many of the actual positive samples are predicted as positive\n",
        "*   F1 score - balance between them\n",
        "We expect to see improvements in those metrics after applying MaskTune, especially for the biased dataset.\n",
        "\n",
        "**Confusion Matrix** - detailed breakdown of correct and incorrect classifications for each class. After applying Masktune, we should see the improvements in the main diagonal of the matrix (correct classifications)\n",
        "\n",
        "**Accuracy** - overall correctness of the predictions. Improvements in accuracy after applying Masktune is expected on both raw and biased datasets. Before that, accuracy might be lower on the biased dataset compared to the raw dataset due to the bias."
      ]
    },
    {
      "cell_type": "code",
      "execution_count": 64,
      "metadata": {
        "id": "8-qCeq790EaG"
      },
      "outputs": [],
      "source": [
        "def train_erm(model, dataloader, optimizer, loss_function, epochs=100):\n",
        "    for epoch in range(epochs):\n",
        "        model.train()  # Set the model to training mode\n",
        "        total_loss = 0.0\n",
        "        correct_predictions = 0\n",
        "        total_samples = 0\n",
        "\n",
        "        for xb, yb in dataloader:\n",
        "            optimizer.zero_grad()\n",
        "            preds = model(xb)\n",
        "            loss = loss_function(preds, yb)\n",
        "            loss.backward()\n",
        "            optimizer.step()\n",
        "\n",
        "            total_loss += loss.item() * xb.size(0)\n",
        "            correct_predictions += (preds.argmax(1) == yb).sum().item()\n",
        "            total_samples += xb.size(0)\n",
        "\n",
        "        epoch_loss = total_loss / total_samples\n",
        "        epoch_accuracy = correct_predictions / total_samples\n",
        "\n",
        "        print(f\"Epoch {epoch+1}/{epochs}, Loss: {epoch_loss:.4f}, Accuracy: {epoch_accuracy:.4f}\")\n",
        "\n",
        "        torch.save(model.state_dict(), f'/content/data/MNIST/CNN_checkpoint.pth')\n"
      ]
    },
    {
      "cell_type": "code",
      "execution_count": 65,
      "metadata": {
        "id": "pmmuI9Q3y4nh"
      },
      "outputs": [],
      "source": [
        "def test_model(model, dataloader, loss_function, num_classes=2):\n",
        "    model.eval()  # Set the model to evaluation mode\n",
        "    total_loss = 0.0\n",
        "    correct_predictions = 0\n",
        "    total_samples = 0\n",
        "\n",
        "    class_correct = [0] * num_classes\n",
        "    class_samples = [0] * num_classes\n",
        "\n",
        "    all_preds = []\n",
        "    all_labels = []\n",
        "\n",
        "    with torch.no_grad():\n",
        "        for xb, yb in dataloader:\n",
        "            preds = model(xb)\n",
        "            loss = loss_function(preds, yb)\n",
        "\n",
        "            total_loss += loss.item() * xb.size(0)\n",
        "            correct_predictions += (preds.argmax(1) == yb).sum().item()\n",
        "            total_samples += xb.size(0)\n",
        "\n",
        "            for i in range(len(yb)):\n",
        "                label = yb[i].item()\n",
        "                pred = preds.argmax(1)[i].item()\n",
        "                all_preds.append(pred)\n",
        "                all_labels.append(label)\n",
        "                if label == pred:\n",
        "                    class_correct[label] += 1\n",
        "                class_samples[label] += 1\n",
        "\n",
        "    average_loss = total_loss / total_samples\n",
        "    accuracy = correct_predictions / total_samples\n",
        "    class_accuracy = [class_correct[i] / class_samples[i] if class_samples[i] > 0 else 0 for i in range(num_classes)]\n",
        "\n",
        "    print(f\"Test Loss: {average_loss:.4f}, Accuracy: {accuracy:.4f}\")\n",
        "    for i in range(num_classes):\n",
        "        print(f\"Class {i} Accuracy: {class_accuracy[i]:.4f}\")\n",
        "\n",
        "    conf_matrix = confusion_matrix(all_labels, all_preds)\n",
        "    precision = precision_score(all_labels, all_preds, average='macro')\n",
        "    recall = recall_score(all_labels, all_preds, average='macro')\n",
        "    f1 = f1_score(all_labels, all_preds, average='macro')\n",
        "\n",
        "    print(f\"Confusion Matrix:\\n{conf_matrix}\")\n",
        "    print(f\"Precision: {precision:.4f}\")\n",
        "    print(f\"Recall: {recall:.4f}\")\n",
        "    print(f\"F1 Score: {f1:.4f}\")\n"
      ]
    },
    {
      "cell_type": "code",
      "execution_count": 66,
      "metadata": {
        "colab": {
          "base_uri": "https://localhost:8080/"
        },
        "id": "2_avXX_C5iiE",
        "outputId": "99403eb3-99a1-4a67-891b-106f4d144aec"
      },
      "outputs": [
        {
          "output_type": "stream",
          "name": "stdout",
          "text": [
            "Epoch 1/1, Loss: 0.0365, Accuracy: 0.9878\n",
            "\u001b[1m \u001b[93m Testing on Raw Test Dataset: \u001b[0m\n",
            "Test Loss: 0.5019, Accuracy: 0.8079\n",
            "Class 0 Accuracy: 0.6283\n",
            "Class 1 Accuracy: 0.9977\n",
            "Confusion Matrix:\n",
            "[[3229 1910]\n",
            " [  11 4850]]\n",
            "Precision: 0.8570\n",
            "Recall: 0.8130\n",
            "F1 Score: 0.8027\n",
            "\u001b[1m \u001b[93m Testing on Biased Test Dataset: \u001b[0m\n",
            "Test Loss: 0.8588, Accuracy: 0.6632\n",
            "Class 0 Accuracy: 0.6283\n",
            "Class 1 Accuracy: 0.7001\n",
            "Confusion Matrix:\n",
            "[[3229 1910]\n",
            " [1458 3403]]\n",
            "Precision: 0.6647\n",
            "Recall: 0.6642\n",
            "F1 Score: 0.6631\n"
          ]
        }
      ],
      "source": [
        "# Train the model with biased training dataset\n",
        "train_erm(model, biased_train_dataloader, optimizer, loss_function, epochs=1)\n",
        "\n",
        "# Test the model on the raw test dataset\n",
        "print(\"\\033[1m \\033[93m Testing on Raw Test Dataset: \\033[0m\")  # Bold and yellow text\n",
        "test_model(model, raw_test_dataloader, loss_function)\n",
        "\n",
        "# Test the model on the biased test dataset\n",
        "print(\"\\033[1m \\033[93m Testing on Biased Test Dataset: \\033[0m\") # Reset formatting\n",
        "test_model(model, biased_test_dataloader, loss_function)\n"
      ]
    },
    {
      "cell_type": "markdown",
      "source": [
        "# Masktune\n",
        "After the initial training with the empirical risk minimization, let's apply Masktune, which incorporates:\n",
        "\n",
        "- **Mask Generation** - identifying and masking the most influential, potentially spurious features\n",
        "\n",
        "- **Mask Application and Finetunning** - by finetuning the model with the masked data, it is forced to explore less prominent and potentially more descriptive non-spurious features.\n",
        "\n",
        "- **Iteratarions** - enable us to adjust the depth of the feature depth and descriptiveness."
      ],
      "metadata": {
        "id": "03mdSJ74xEDP"
      }
    },
    {
      "cell_type": "markdown",
      "source": [
        "## Mask Generation\n",
        "\n",
        "1.   **Train the model using** Empirical Risk Minimization (**ERM**)\n",
        "2.   **Identify the spurious features** / class activations from saliency maps. In case of present spurious features, the method will likely identify the spurious feature, while for the input without any spurious features, the function will identify the most prominent features to mask, forcing the training to escape its myopic and greedy feature-seeking approach and encouraging and leveraging more input variables [1]\n",
        "3.  **Generate masks** to cover the most discriminatory features discovered in the saliency maps.\n",
        "4.  The generated masks from the step 3 will be applied to the dataset\n",
        "5.  We will fine-tune the pretrained ERM model on newly masked dataset onlt for one epoch."
      ],
      "metadata": {
        "id": "UZ1C-PZh8xK2"
      }
    },
    {
      "cell_type": "code",
      "source": [
        "class MaskTunePipeline:\n",
        "    def __init__(self, model, biased_train_dataloader, raw_test_dataloader, biased_test_dataloader, mask_dir, batch_size=128, epochs=1, finetune_epochs=1, num_classes=2):\n",
        "        self.model = model\n",
        "        self.biased_train_dataloader = biased_train_dataloader\n",
        "        self.raw_test_dataloader = raw_test_dataloader\n",
        "        self.biased_test_dataloader = biased_test_dataloader\n",
        "        self.mask_dir = mask_dir\n",
        "        self.batch_size = batch_size\n",
        "        self.epochs = epochs\n",
        "        self.finetune_epochs = finetune_epochs\n",
        "        self.optimizer = optim.SGD(self.model.parameters(), lr=0.01, momentum=0.9, weight_decay=1e-4)\n",
        "        self.loss_function = nn.CrossEntropyLoss()\n",
        "        self.num_classes = num_classes\n",
        "\n",
        "    def train_erm(self):\n",
        "        for epoch in range(self.epochs):\n",
        "            self.model.train()\n",
        "            total_loss = 0.0\n",
        "            correct_predictions = 0\n",
        "            total_samples = 0\n",
        "\n",
        "            for xb, yb in self.biased_train_dataloader:\n",
        "                self.optimizer.zero_grad()\n",
        "                preds = self.model(xb)\n",
        "                loss = self.loss_function(preds, yb)\n",
        "                loss.backward()\n",
        "                self.optimizer.step()\n",
        "\n",
        "                total_loss += loss.item() * xb.size(0)\n",
        "                correct_predictions += (preds.argmax(1) == yb).sum().item()\n",
        "                total_samples += xb.size(0)\n",
        "\n",
        "            epoch_loss = total_loss / total_samples\n",
        "            epoch_accuracy = correct_predictions / total_samples\n",
        "\n",
        "            print(f\"Epoch {epoch+1}/{self.epochs}, Loss: {epoch_loss:.4f}, Accuracy: {epoch_accuracy:.4f}\")\n",
        "            torch.save(self.model.state_dict(), f'{self.mask_dir}/CNN_checkpoint.pth')\n",
        "\n",
        "    def test_model(self, dataloader):\n",
        "        self.model.eval()\n",
        "        test_loss = 0\n",
        "        correct = 0\n",
        "        class_correct = list(0. for i in range(10))\n",
        "        class_total = list(0. for i in range(10))\n",
        "        confusion_matrix = np.zeros((2, 2), dtype=int)\n",
        "\n",
        "        with torch.no_grad():\n",
        "            for xb, yb in dataloader:\n",
        "                # No detachment here (assuming it's not necessary)\n",
        "                # xb = xb.detach()  # Remove this line if not needed\n",
        "                preds = self.model(xb)\n",
        "                loss = self.loss_function(preds, yb)\n",
        "                test_loss += loss.item()\n",
        "                pred_class = preds.argmax(dim=1)\n",
        "                correct += (pred_class == yb).sum().item()\n",
        "\n",
        "                for i in range(len(pred_class)):\n",
        "                    confusion_matrix[yb[i]][pred_class[i]] += 1\n",
        "                    class_total[yb[i]] += 1\n",
        "                    if pred_class[i] == yb[i]:\n",
        "                        class_correct[yb[i]] += 1\n",
        "\n",
        "        accuracy = correct / len(dataloader.dataset)\n",
        "        test_loss /= len(dataloader.dataset)\n",
        "\n",
        "        print(f\"Test Loss: {test_loss:.4f}, Accuracy: {accuracy:.4f}\")\n",
        "        for i in range(2):\n",
        "            print(f\"Class {i} Accuracy: {100 * class_correct[i] / class_total[i]:.4f}\")\n",
        "        print(\"Confusion Matrix:\")\n",
        "        print(confusion_matrix)\n",
        "\n",
        "\n",
        "    def generate_map(self, sample_idx, sample_class):\n",
        "        \"\"\"\n",
        "        Generates a saliency map for a specific sample in the biased training data.\n",
        "\n",
        "        Args:\n",
        "            sample_idx (int): Index of the sample in the biased training dataset.\n",
        "            sample_class (int): Class label of the sample.\n",
        "\n",
        "        Returns:\n",
        "            np.ndarray: Saliency map for the sample.\n",
        "        \"\"\"\n",
        "\n",
        "        checkpoint = torch.load(f'{self.mask_dir}/CNN_checkpoint.pth')\n",
        "        self.model.load_state_dict(checkpoint)\n",
        "        self.model.eval()\n",
        "\n",
        "        if not isinstance(sample_idx, int):\n",
        "            raise ValueError(\"sample_idx must be an integer representing the sample index\")\n",
        "\n",
        "        try:\n",
        "            data, label = self.biased_train_dataloader.dataset[sample_idx]\n",
        "        except IndexError:\n",
        "            raise IndexError(f\"sample_idx {sample_idx} is out of range for the biased training dataset\")\n",
        "\n",
        "        if len(data.shape) == 3:\n",
        "            data = data.unsqueeze(0)\n",
        "\n",
        "        data = data.to(next(self.model.parameters()).device)\n",
        "\n",
        "        target_layer = self.model.get_grad_cam_target_layer()\n",
        "        cam = XGradCAM(self.model, target_layer)\n",
        "        output = self.model(data)\n",
        "        batch_size = data.size(0)\n",
        "        class_idx = [sample_class] * batch_size\n",
        "\n",
        "        saliency_map = cam(class_idx=class_idx, scores=output)\n",
        "        saliency_map_np = saliency_map[0].detach().cpu().numpy()\n",
        "        saliency_map_np = saliency_map_np.reshape(saliency_map_np.shape[1:])\n",
        "\n",
        "        return saliency_map_np\n",
        "\n",
        "    def create_mask(self, saliency_map, threshold=0.5):\n",
        "        mask = saliency_map > threshold\n",
        "        return mask.astype(np.float32)\n",
        "\n",
        "\n",
        "    def apply_mask(self, image, mask, resize_dims=(28, 28)):\n",
        "        # print(\"Image shape:\", image.shape)\n",
        "        # print(\"Mask shape:\", mask.shape)\n",
        "\n",
        "        # Resize the mask to match the dimensions of the image\n",
        "        mask_resized = F.interpolate(torch.tensor(mask).unsqueeze(0).unsqueeze(0), size=(image.shape[1], image.shape[2]), mode='nearest').squeeze(0).squeeze(0)\n",
        "\n",
        "        # Apply mask to the image\n",
        "        masked_image = image * (1 - mask_resized)\n",
        "\n",
        "        # Resize the masked image\n",
        "        masked_image_resized = F.interpolate(masked_image.unsqueeze(0), size=resize_dims, mode='bilinear', align_corners=False).squeeze(0)\n",
        "\n",
        "        return masked_image_resized\n",
        "\n",
        "    def mask_data(self):\n",
        "        print(\"Generating and applying masks to the training data...\")\n",
        "        masked_data = []\n",
        "        for i, (data, label) in enumerate(self.biased_train_dataloader.dataset):\n",
        "            data, label = torch.tensor(data).clone().detach(), torch.tensor(label).clone().detach()\n",
        "            # more efficient way (optional)\n",
        "            # data, label = data.to(torch.device(\"cuda\" if torch.cuda.is_available() else \"cpu\")), label.to(torch.device(\"cuda\" if torch.cuda.is_available() else \"cpu\"))\n",
        "            saliency_map = self.generate_map(i, label.item())\n",
        "            mask = self.create_mask(saliency_map)\n",
        "            masked_image = self.apply_mask(data, mask)\n",
        "            masked_data.append((masked_image, label))\n",
        "        torch.save(masked_data, f'{self.mask_dir}/masked_train_data.pth')\n",
        "        print(\"Masks generated and applied to the training data.\")\n",
        "\n",
        "    def finetune(self, masked_dataloader):\n",
        "        self.model.train()\n",
        "        for epoch in range(self.finetune_epochs):\n",
        "            total_loss = 0.0\n",
        "            correct_predictions = 0\n",
        "            total_samples = 0\n",
        "\n",
        "            for xb, yb in masked_dataloader:\n",
        "                self.optimizer.zero_grad()\n",
        "                preds = self.model(xb)\n",
        "                loss = self.loss_function(preds, yb)\n",
        "                loss.backward()\n",
        "                self.optimizer.step()\n",
        "\n",
        "                total_loss += loss.item() * xb.size(0)\n",
        "                correct_predictions += (preds.argmax(1) == yb).sum().item()\n",
        "                total_samples += xb.size(0)\n",
        "\n",
        "            epoch_loss = total_loss / total_samples\n",
        "            epoch_accuracy = correct_predictions / total_samples\n",
        "\n",
        "            print(f\"Finetune Epoch {epoch+1}/{self.finetune_epochs}, Loss: {epoch_loss:.4f}, Accuracy: {epoch_accuracy:.4f}\")\n",
        "            torch.save(self.model.state_dict(), f'{self.mask_dir}/finetuned_model_checkpoint.pth')\n",
        "\n",
        "    def masktune(self):\n",
        "        self.train_erm()\n",
        "        print(\"\\033[1m \\033[93m Testing on Raw Test Dataset: \\033[0m\")\n",
        "        self.test_model(self.raw_test_dataloader)\n",
        "        print(\"\\033[1m \\033[93m Testing on Biased Test Dataset: \\033[0m\")\n",
        "        self.test_model(self.biased_test_dataloader)\n",
        "\n",
        "        self.mask_data()\n",
        "\n",
        "        masked_data = torch.load(f'{self.mask_dir}/masked_train_data.pth')\n",
        "        masked_train_dataloader = DataLoader(masked_data, batch_size=self.batch_size, shuffle=True)\n",
        "\n",
        "        print(\"\\033[1m \\033[93m Fine-tuning with masked data... \\033[0m\")\n",
        "        self.finetune(masked_train_dataloader)\n",
        "\n",
        "        print(\"\\033[1m \\033[93m Testing on Raw Test Dataset after fine-tuning: \\033[0m\")\n",
        "        self.test_model(self.raw_test_dataloader)\n",
        "        print(\"\\033[1m \\033[93m Testing on Biased Test Dataset after fine-tuning: \\033[0m\")\n",
        "        self.test_model(self.biased_test_dataloader)\n",
        "\n",
        "# Example usage:\n",
        "# model = SmallCNN(num_classes=2)\n",
        "# pipeline = MaskTunePipeline(model, biased_train_dataloader, raw_test_dataloader, biased_test_dataloader, mask_dir='/path/to/mask_dir')\n",
        "# pipeline.masktune()\n"
      ],
      "metadata": {
        "id": "uRjODdQtysfQ"
      },
      "execution_count": 125,
      "outputs": []
    },
    {
      "cell_type": "code",
      "source": [
        "# Initialize the MaskTunePipeline and run masktune\n",
        "#device = torch.device(\"cuda\" if torch.cuda.is_available() else \"cpu\")\n",
        "import warnings\n",
        "warnings.filterwarnings(\"ignore\")\n",
        "model = SmallCNN(num_classes=2)\n",
        "#model = model.to(device)  # Move the model to the chosen device\n",
        "\n",
        "# Testing\n",
        "pipeline = MaskTunePipeline(model, subset_train_biased_dataloader, subset_test_raw_dataloader, subset_test_biased_dataloader, mask_dir='/content/data/MNIST')\n",
        "#pipeline = MaskTunePipeline(model, biased_train_dataloader, raw_test_dataloader, biased_test_dataloader, mask_dir='/content/data/MNIST')\n",
        "pipeline.masktune()\n"
      ],
      "metadata": {
        "colab": {
          "base_uri": "https://localhost:8080/",
          "height": 744
        },
        "id": "qt3Uu24HAyUQ",
        "outputId": "710645b8-f2e4-45ad-e5b5-fc7df44091d1"
      },
      "execution_count": 126,
      "outputs": [
        {
          "output_type": "stream",
          "name": "stdout",
          "text": [
            "Epoch 1/1, Loss: 0.5321, Accuracy: 0.7067\n",
            "\u001b[1m \u001b[93m Testing on Raw Test Dataset: \u001b[0m\n",
            "Test Loss: 0.0138, Accuracy: 0.5400\n",
            "Class 0 Accuracy: 0.0000\n",
            "Class 1 Accuracy: 100.0000\n",
            "Confusion Matrix:\n",
            "[[ 0 46]\n",
            " [ 0 54]]\n",
            "\u001b[1m \u001b[93m Testing on Biased Test Dataset: \u001b[0m\n",
            "Test Loss: 0.0138, Accuracy: 0.5600\n",
            "Class 0 Accuracy: 0.0000\n",
            "Class 1 Accuracy: 100.0000\n",
            "Confusion Matrix:\n",
            "[[ 0 44]\n",
            " [ 0 56]]\n",
            "Generating and applying masks to the training data...\n",
            "Masks generated and applied to the training data.\n",
            "\u001b[1m \u001b[93m Fine-tuning with masked data... \u001b[0m\n",
            "Finetune Epoch 1/1, Loss: 0.1386, Accuracy: 0.9933\n",
            "\u001b[1m \u001b[93m Testing on Raw Test Dataset after fine-tuning: \u001b[0m\n"
          ]
        },
        {
          "output_type": "error",
          "ename": "RuntimeError",
          "evalue": "cannot register a hook on a tensor that doesn't require gradient",
          "traceback": [
            "\u001b[0;31m---------------------------------------------------------------------------\u001b[0m",
            "\u001b[0;31mRuntimeError\u001b[0m                              Traceback (most recent call last)",
            "\u001b[0;32m<ipython-input-126-507cd60953b4>\u001b[0m in \u001b[0;36m<cell line: 11>\u001b[0;34m()\u001b[0m\n\u001b[1;32m      9\u001b[0m \u001b[0mpipeline\u001b[0m \u001b[0;34m=\u001b[0m \u001b[0mMaskTunePipeline\u001b[0m\u001b[0;34m(\u001b[0m\u001b[0mmodel\u001b[0m\u001b[0;34m,\u001b[0m \u001b[0msubset_train_biased_dataloader\u001b[0m\u001b[0;34m,\u001b[0m \u001b[0msubset_test_raw_dataloader\u001b[0m\u001b[0;34m,\u001b[0m \u001b[0msubset_test_biased_dataloader\u001b[0m\u001b[0;34m,\u001b[0m \u001b[0mmask_dir\u001b[0m\u001b[0;34m=\u001b[0m\u001b[0;34m'/content/data/MNIST'\u001b[0m\u001b[0;34m)\u001b[0m\u001b[0;34m\u001b[0m\u001b[0;34m\u001b[0m\u001b[0m\n\u001b[1;32m     10\u001b[0m \u001b[0;31m#pipeline = MaskTunePipeline(model, biased_train_dataloader, raw_test_dataloader, biased_test_dataloader, mask_dir='/content/data/MNIST')\u001b[0m\u001b[0;34m\u001b[0m\u001b[0;34m\u001b[0m\u001b[0m\n\u001b[0;32m---> 11\u001b[0;31m \u001b[0mpipeline\u001b[0m\u001b[0;34m.\u001b[0m\u001b[0mmasktune\u001b[0m\u001b[0;34m(\u001b[0m\u001b[0;34m)\u001b[0m\u001b[0;34m\u001b[0m\u001b[0;34m\u001b[0m\u001b[0m\n\u001b[0m",
            "\u001b[0;32m<ipython-input-125-f5ad4394ffed>\u001b[0m in \u001b[0;36mmasktune\u001b[0;34m(self)\u001b[0m\n\u001b[1;32m    186\u001b[0m \u001b[0;34m\u001b[0m\u001b[0m\n\u001b[1;32m    187\u001b[0m         \u001b[0mprint\u001b[0m\u001b[0;34m(\u001b[0m\u001b[0;34m\"\\033[1m \\033[93m Testing on Raw Test Dataset after fine-tuning: \\033[0m\"\u001b[0m\u001b[0;34m)\u001b[0m\u001b[0;34m\u001b[0m\u001b[0;34m\u001b[0m\u001b[0m\n\u001b[0;32m--> 188\u001b[0;31m         \u001b[0mself\u001b[0m\u001b[0;34m.\u001b[0m\u001b[0mtest_model\u001b[0m\u001b[0;34m(\u001b[0m\u001b[0mself\u001b[0m\u001b[0;34m.\u001b[0m\u001b[0mraw_test_dataloader\u001b[0m\u001b[0;34m)\u001b[0m\u001b[0;34m\u001b[0m\u001b[0;34m\u001b[0m\u001b[0m\n\u001b[0m\u001b[1;32m    189\u001b[0m         \u001b[0mprint\u001b[0m\u001b[0;34m(\u001b[0m\u001b[0;34m\"\\033[1m \\033[93m Testing on Biased Test Dataset after fine-tuning: \\033[0m\"\u001b[0m\u001b[0;34m)\u001b[0m\u001b[0;34m\u001b[0m\u001b[0;34m\u001b[0m\u001b[0m\n\u001b[1;32m    190\u001b[0m         \u001b[0mself\u001b[0m\u001b[0;34m.\u001b[0m\u001b[0mtest_model\u001b[0m\u001b[0;34m(\u001b[0m\u001b[0mself\u001b[0m\u001b[0;34m.\u001b[0m\u001b[0mbiased_test_dataloader\u001b[0m\u001b[0;34m)\u001b[0m\u001b[0;34m\u001b[0m\u001b[0;34m\u001b[0m\u001b[0m\n",
            "\u001b[0;32m<ipython-input-125-f5ad4394ffed>\u001b[0m in \u001b[0;36mtest_model\u001b[0;34m(self, dataloader)\u001b[0m\n\u001b[1;32m     49\u001b[0m                 \u001b[0;31m# No detachment here (assuming it's not necessary)\u001b[0m\u001b[0;34m\u001b[0m\u001b[0;34m\u001b[0m\u001b[0m\n\u001b[1;32m     50\u001b[0m                 \u001b[0;31m# xb = xb.detach()  # Remove this line if not needed\u001b[0m\u001b[0;34m\u001b[0m\u001b[0;34m\u001b[0m\u001b[0m\n\u001b[0;32m---> 51\u001b[0;31m                 \u001b[0mpreds\u001b[0m \u001b[0;34m=\u001b[0m \u001b[0mself\u001b[0m\u001b[0;34m.\u001b[0m\u001b[0mmodel\u001b[0m\u001b[0;34m(\u001b[0m\u001b[0mxb\u001b[0m\u001b[0;34m)\u001b[0m\u001b[0;34m\u001b[0m\u001b[0;34m\u001b[0m\u001b[0m\n\u001b[0m\u001b[1;32m     52\u001b[0m                 \u001b[0mloss\u001b[0m \u001b[0;34m=\u001b[0m \u001b[0mself\u001b[0m\u001b[0;34m.\u001b[0m\u001b[0mloss_function\u001b[0m\u001b[0;34m(\u001b[0m\u001b[0mpreds\u001b[0m\u001b[0;34m,\u001b[0m \u001b[0myb\u001b[0m\u001b[0;34m)\u001b[0m\u001b[0;34m\u001b[0m\u001b[0;34m\u001b[0m\u001b[0m\n\u001b[1;32m     53\u001b[0m                 \u001b[0mtest_loss\u001b[0m \u001b[0;34m+=\u001b[0m \u001b[0mloss\u001b[0m\u001b[0;34m.\u001b[0m\u001b[0mitem\u001b[0m\u001b[0;34m(\u001b[0m\u001b[0;34m)\u001b[0m\u001b[0;34m\u001b[0m\u001b[0;34m\u001b[0m\u001b[0m\n",
            "\u001b[0;32m/usr/local/lib/python3.10/dist-packages/torch/nn/modules/module.py\u001b[0m in \u001b[0;36m_wrapped_call_impl\u001b[0;34m(self, *args, **kwargs)\u001b[0m\n\u001b[1;32m   1530\u001b[0m             \u001b[0;32mreturn\u001b[0m \u001b[0mself\u001b[0m\u001b[0;34m.\u001b[0m\u001b[0m_compiled_call_impl\u001b[0m\u001b[0;34m(\u001b[0m\u001b[0;34m*\u001b[0m\u001b[0margs\u001b[0m\u001b[0;34m,\u001b[0m \u001b[0;34m**\u001b[0m\u001b[0mkwargs\u001b[0m\u001b[0;34m)\u001b[0m  \u001b[0;31m# type: ignore[misc]\u001b[0m\u001b[0;34m\u001b[0m\u001b[0;34m\u001b[0m\u001b[0m\n\u001b[1;32m   1531\u001b[0m         \u001b[0;32melse\u001b[0m\u001b[0;34m:\u001b[0m\u001b[0;34m\u001b[0m\u001b[0;34m\u001b[0m\u001b[0m\n\u001b[0;32m-> 1532\u001b[0;31m             \u001b[0;32mreturn\u001b[0m \u001b[0mself\u001b[0m\u001b[0;34m.\u001b[0m\u001b[0m_call_impl\u001b[0m\u001b[0;34m(\u001b[0m\u001b[0;34m*\u001b[0m\u001b[0margs\u001b[0m\u001b[0;34m,\u001b[0m \u001b[0;34m**\u001b[0m\u001b[0mkwargs\u001b[0m\u001b[0;34m)\u001b[0m\u001b[0;34m\u001b[0m\u001b[0;34m\u001b[0m\u001b[0m\n\u001b[0m\u001b[1;32m   1533\u001b[0m \u001b[0;34m\u001b[0m\u001b[0m\n\u001b[1;32m   1534\u001b[0m     \u001b[0;32mdef\u001b[0m \u001b[0m_call_impl\u001b[0m\u001b[0;34m(\u001b[0m\u001b[0mself\u001b[0m\u001b[0;34m,\u001b[0m \u001b[0;34m*\u001b[0m\u001b[0margs\u001b[0m\u001b[0;34m,\u001b[0m \u001b[0;34m**\u001b[0m\u001b[0mkwargs\u001b[0m\u001b[0;34m)\u001b[0m\u001b[0;34m:\u001b[0m\u001b[0;34m\u001b[0m\u001b[0;34m\u001b[0m\u001b[0m\n",
            "\u001b[0;32m/usr/local/lib/python3.10/dist-packages/torch/nn/modules/module.py\u001b[0m in \u001b[0;36m_call_impl\u001b[0;34m(self, *args, **kwargs)\u001b[0m\n\u001b[1;32m   1539\u001b[0m                 \u001b[0;32mor\u001b[0m \u001b[0m_global_backward_pre_hooks\u001b[0m \u001b[0;32mor\u001b[0m \u001b[0m_global_backward_hooks\u001b[0m\u001b[0;34m\u001b[0m\u001b[0;34m\u001b[0m\u001b[0m\n\u001b[1;32m   1540\u001b[0m                 or _global_forward_hooks or _global_forward_pre_hooks):\n\u001b[0;32m-> 1541\u001b[0;31m             \u001b[0;32mreturn\u001b[0m \u001b[0mforward_call\u001b[0m\u001b[0;34m(\u001b[0m\u001b[0;34m*\u001b[0m\u001b[0margs\u001b[0m\u001b[0;34m,\u001b[0m \u001b[0;34m**\u001b[0m\u001b[0mkwargs\u001b[0m\u001b[0;34m)\u001b[0m\u001b[0;34m\u001b[0m\u001b[0;34m\u001b[0m\u001b[0m\n\u001b[0m\u001b[1;32m   1542\u001b[0m \u001b[0;34m\u001b[0m\u001b[0m\n\u001b[1;32m   1543\u001b[0m         \u001b[0;32mtry\u001b[0m\u001b[0;34m:\u001b[0m\u001b[0;34m\u001b[0m\u001b[0;34m\u001b[0m\u001b[0m\n",
            "\u001b[0;32m<ipython-input-62-0e46c7ebf490>\u001b[0m in \u001b[0;36mforward\u001b[0;34m(self, x)\u001b[0m\n\u001b[1;32m     28\u001b[0m \u001b[0;34m\u001b[0m\u001b[0m\n\u001b[1;32m     29\u001b[0m     \u001b[0;32mdef\u001b[0m \u001b[0mforward\u001b[0m\u001b[0;34m(\u001b[0m\u001b[0mself\u001b[0m\u001b[0;34m,\u001b[0m \u001b[0mx\u001b[0m\u001b[0;34m)\u001b[0m\u001b[0;34m:\u001b[0m\u001b[0;34m\u001b[0m\u001b[0;34m\u001b[0m\u001b[0m\n\u001b[0;32m---> 30\u001b[0;31m         \u001b[0mfeatures\u001b[0m \u001b[0;34m=\u001b[0m \u001b[0mself\u001b[0m\u001b[0;34m.\u001b[0m\u001b[0mbackbone\u001b[0m\u001b[0;34m(\u001b[0m\u001b[0mx\u001b[0m\u001b[0;34m)\u001b[0m\u001b[0;34m\u001b[0m\u001b[0;34m\u001b[0m\u001b[0m\n\u001b[0m\u001b[1;32m     31\u001b[0m         \u001b[0mlogits\u001b[0m \u001b[0;34m=\u001b[0m \u001b[0mself\u001b[0m\u001b[0;34m.\u001b[0m\u001b[0mlinear\u001b[0m\u001b[0;34m(\u001b[0m\u001b[0mfeatures\u001b[0m\u001b[0;34m)\u001b[0m\u001b[0;34m\u001b[0m\u001b[0;34m\u001b[0m\u001b[0m\n\u001b[1;32m     32\u001b[0m         \u001b[0;32mreturn\u001b[0m \u001b[0mlogits\u001b[0m\u001b[0;34m\u001b[0m\u001b[0;34m\u001b[0m\u001b[0m\n",
            "\u001b[0;32m/usr/local/lib/python3.10/dist-packages/torch/nn/modules/module.py\u001b[0m in \u001b[0;36m_wrapped_call_impl\u001b[0;34m(self, *args, **kwargs)\u001b[0m\n\u001b[1;32m   1530\u001b[0m             \u001b[0;32mreturn\u001b[0m \u001b[0mself\u001b[0m\u001b[0;34m.\u001b[0m\u001b[0m_compiled_call_impl\u001b[0m\u001b[0;34m(\u001b[0m\u001b[0;34m*\u001b[0m\u001b[0margs\u001b[0m\u001b[0;34m,\u001b[0m \u001b[0;34m**\u001b[0m\u001b[0mkwargs\u001b[0m\u001b[0;34m)\u001b[0m  \u001b[0;31m# type: ignore[misc]\u001b[0m\u001b[0;34m\u001b[0m\u001b[0;34m\u001b[0m\u001b[0m\n\u001b[1;32m   1531\u001b[0m         \u001b[0;32melse\u001b[0m\u001b[0;34m:\u001b[0m\u001b[0;34m\u001b[0m\u001b[0;34m\u001b[0m\u001b[0m\n\u001b[0;32m-> 1532\u001b[0;31m             \u001b[0;32mreturn\u001b[0m \u001b[0mself\u001b[0m\u001b[0;34m.\u001b[0m\u001b[0m_call_impl\u001b[0m\u001b[0;34m(\u001b[0m\u001b[0;34m*\u001b[0m\u001b[0margs\u001b[0m\u001b[0;34m,\u001b[0m \u001b[0;34m**\u001b[0m\u001b[0mkwargs\u001b[0m\u001b[0;34m)\u001b[0m\u001b[0;34m\u001b[0m\u001b[0;34m\u001b[0m\u001b[0m\n\u001b[0m\u001b[1;32m   1533\u001b[0m \u001b[0;34m\u001b[0m\u001b[0m\n\u001b[1;32m   1534\u001b[0m     \u001b[0;32mdef\u001b[0m \u001b[0m_call_impl\u001b[0m\u001b[0;34m(\u001b[0m\u001b[0mself\u001b[0m\u001b[0;34m,\u001b[0m \u001b[0;34m*\u001b[0m\u001b[0margs\u001b[0m\u001b[0;34m,\u001b[0m \u001b[0;34m**\u001b[0m\u001b[0mkwargs\u001b[0m\u001b[0;34m)\u001b[0m\u001b[0;34m:\u001b[0m\u001b[0;34m\u001b[0m\u001b[0;34m\u001b[0m\u001b[0m\n",
            "\u001b[0;32m/usr/local/lib/python3.10/dist-packages/torch/nn/modules/module.py\u001b[0m in \u001b[0;36m_call_impl\u001b[0;34m(self, *args, **kwargs)\u001b[0m\n\u001b[1;32m   1539\u001b[0m                 \u001b[0;32mor\u001b[0m \u001b[0m_global_backward_pre_hooks\u001b[0m \u001b[0;32mor\u001b[0m \u001b[0m_global_backward_hooks\u001b[0m\u001b[0;34m\u001b[0m\u001b[0;34m\u001b[0m\u001b[0m\n\u001b[1;32m   1540\u001b[0m                 or _global_forward_hooks or _global_forward_pre_hooks):\n\u001b[0;32m-> 1541\u001b[0;31m             \u001b[0;32mreturn\u001b[0m \u001b[0mforward_call\u001b[0m\u001b[0;34m(\u001b[0m\u001b[0;34m*\u001b[0m\u001b[0margs\u001b[0m\u001b[0;34m,\u001b[0m \u001b[0;34m**\u001b[0m\u001b[0mkwargs\u001b[0m\u001b[0;34m)\u001b[0m\u001b[0;34m\u001b[0m\u001b[0;34m\u001b[0m\u001b[0m\n\u001b[0m\u001b[1;32m   1542\u001b[0m \u001b[0;34m\u001b[0m\u001b[0m\n\u001b[1;32m   1543\u001b[0m         \u001b[0;32mtry\u001b[0m\u001b[0;34m:\u001b[0m\u001b[0;34m\u001b[0m\u001b[0;34m\u001b[0m\u001b[0m\n",
            "\u001b[0;32m/usr/local/lib/python3.10/dist-packages/torch/nn/modules/container.py\u001b[0m in \u001b[0;36mforward\u001b[0;34m(self, input)\u001b[0m\n\u001b[1;32m    215\u001b[0m     \u001b[0;32mdef\u001b[0m \u001b[0mforward\u001b[0m\u001b[0;34m(\u001b[0m\u001b[0mself\u001b[0m\u001b[0;34m,\u001b[0m \u001b[0minput\u001b[0m\u001b[0;34m)\u001b[0m\u001b[0;34m:\u001b[0m\u001b[0;34m\u001b[0m\u001b[0;34m\u001b[0m\u001b[0m\n\u001b[1;32m    216\u001b[0m         \u001b[0;32mfor\u001b[0m \u001b[0mmodule\u001b[0m \u001b[0;32min\u001b[0m \u001b[0mself\u001b[0m\u001b[0;34m:\u001b[0m\u001b[0;34m\u001b[0m\u001b[0;34m\u001b[0m\u001b[0m\n\u001b[0;32m--> 217\u001b[0;31m             \u001b[0minput\u001b[0m \u001b[0;34m=\u001b[0m \u001b[0mmodule\u001b[0m\u001b[0;34m(\u001b[0m\u001b[0minput\u001b[0m\u001b[0;34m)\u001b[0m\u001b[0;34m\u001b[0m\u001b[0;34m\u001b[0m\u001b[0m\n\u001b[0m\u001b[1;32m    218\u001b[0m         \u001b[0;32mreturn\u001b[0m \u001b[0minput\u001b[0m\u001b[0;34m\u001b[0m\u001b[0;34m\u001b[0m\u001b[0m\n\u001b[1;32m    219\u001b[0m \u001b[0;34m\u001b[0m\u001b[0m\n",
            "\u001b[0;32m/usr/local/lib/python3.10/dist-packages/torch/nn/modules/module.py\u001b[0m in \u001b[0;36m_wrapped_call_impl\u001b[0;34m(self, *args, **kwargs)\u001b[0m\n\u001b[1;32m   1530\u001b[0m             \u001b[0;32mreturn\u001b[0m \u001b[0mself\u001b[0m\u001b[0;34m.\u001b[0m\u001b[0m_compiled_call_impl\u001b[0m\u001b[0;34m(\u001b[0m\u001b[0;34m*\u001b[0m\u001b[0margs\u001b[0m\u001b[0;34m,\u001b[0m \u001b[0;34m**\u001b[0m\u001b[0mkwargs\u001b[0m\u001b[0;34m)\u001b[0m  \u001b[0;31m# type: ignore[misc]\u001b[0m\u001b[0;34m\u001b[0m\u001b[0;34m\u001b[0m\u001b[0m\n\u001b[1;32m   1531\u001b[0m         \u001b[0;32melse\u001b[0m\u001b[0;34m:\u001b[0m\u001b[0;34m\u001b[0m\u001b[0;34m\u001b[0m\u001b[0m\n\u001b[0;32m-> 1532\u001b[0;31m             \u001b[0;32mreturn\u001b[0m \u001b[0mself\u001b[0m\u001b[0;34m.\u001b[0m\u001b[0m_call_impl\u001b[0m\u001b[0;34m(\u001b[0m\u001b[0;34m*\u001b[0m\u001b[0margs\u001b[0m\u001b[0;34m,\u001b[0m \u001b[0;34m**\u001b[0m\u001b[0mkwargs\u001b[0m\u001b[0;34m)\u001b[0m\u001b[0;34m\u001b[0m\u001b[0;34m\u001b[0m\u001b[0m\n\u001b[0m\u001b[1;32m   1533\u001b[0m \u001b[0;34m\u001b[0m\u001b[0m\n\u001b[1;32m   1534\u001b[0m     \u001b[0;32mdef\u001b[0m \u001b[0m_call_impl\u001b[0m\u001b[0;34m(\u001b[0m\u001b[0mself\u001b[0m\u001b[0;34m,\u001b[0m \u001b[0;34m*\u001b[0m\u001b[0margs\u001b[0m\u001b[0;34m,\u001b[0m \u001b[0;34m**\u001b[0m\u001b[0mkwargs\u001b[0m\u001b[0;34m)\u001b[0m\u001b[0;34m:\u001b[0m\u001b[0;34m\u001b[0m\u001b[0;34m\u001b[0m\u001b[0m\n",
            "\u001b[0;32m/usr/local/lib/python3.10/dist-packages/torch/nn/modules/module.py\u001b[0m in \u001b[0;36m_call_impl\u001b[0;34m(self, *args, **kwargs)\u001b[0m\n\u001b[1;32m   1593\u001b[0m                         \u001b[0mhook_result\u001b[0m \u001b[0;34m=\u001b[0m \u001b[0mhook\u001b[0m\u001b[0;34m(\u001b[0m\u001b[0mself\u001b[0m\u001b[0;34m,\u001b[0m \u001b[0margs\u001b[0m\u001b[0;34m,\u001b[0m \u001b[0mkwargs\u001b[0m\u001b[0;34m,\u001b[0m \u001b[0mresult\u001b[0m\u001b[0;34m)\u001b[0m\u001b[0;34m\u001b[0m\u001b[0;34m\u001b[0m\u001b[0m\n\u001b[1;32m   1594\u001b[0m                     \u001b[0;32melse\u001b[0m\u001b[0;34m:\u001b[0m\u001b[0;34m\u001b[0m\u001b[0;34m\u001b[0m\u001b[0m\n\u001b[0;32m-> 1595\u001b[0;31m                         \u001b[0mhook_result\u001b[0m \u001b[0;34m=\u001b[0m \u001b[0mhook\u001b[0m\u001b[0;34m(\u001b[0m\u001b[0mself\u001b[0m\u001b[0;34m,\u001b[0m \u001b[0margs\u001b[0m\u001b[0;34m,\u001b[0m \u001b[0mresult\u001b[0m\u001b[0;34m)\u001b[0m\u001b[0;34m\u001b[0m\u001b[0;34m\u001b[0m\u001b[0m\n\u001b[0m\u001b[1;32m   1596\u001b[0m \u001b[0;34m\u001b[0m\u001b[0m\n\u001b[1;32m   1597\u001b[0m                     \u001b[0;32mif\u001b[0m \u001b[0mhook_result\u001b[0m \u001b[0;32mis\u001b[0m \u001b[0;32mnot\u001b[0m \u001b[0;32mNone\u001b[0m\u001b[0;34m:\u001b[0m\u001b[0;34m\u001b[0m\u001b[0;34m\u001b[0m\u001b[0m\n",
            "\u001b[0;32m/usr/local/lib/python3.10/dist-packages/torchcam/methods/gradient.py\u001b[0m in \u001b[0;36m_hook_g\u001b[0;34m(self, module, input, output, idx)\u001b[0m\n\u001b[1;32m     47\u001b[0m         \u001b[0;34m\"\"\"Gradient hook\"\"\"\u001b[0m\u001b[0;34m\u001b[0m\u001b[0;34m\u001b[0m\u001b[0m\n\u001b[1;32m     48\u001b[0m         \u001b[0;32mif\u001b[0m \u001b[0mself\u001b[0m\u001b[0;34m.\u001b[0m\u001b[0m_hooks_enabled\u001b[0m\u001b[0;34m:\u001b[0m\u001b[0;34m\u001b[0m\u001b[0;34m\u001b[0m\u001b[0m\n\u001b[0;32m---> 49\u001b[0;31m             \u001b[0mself\u001b[0m\u001b[0;34m.\u001b[0m\u001b[0mhook_handles\u001b[0m\u001b[0;34m.\u001b[0m\u001b[0mappend\u001b[0m\u001b[0;34m(\u001b[0m\u001b[0moutput\u001b[0m\u001b[0;34m.\u001b[0m\u001b[0mregister_hook\u001b[0m\u001b[0;34m(\u001b[0m\u001b[0mpartial\u001b[0m\u001b[0;34m(\u001b[0m\u001b[0mself\u001b[0m\u001b[0;34m.\u001b[0m\u001b[0m_store_grad\u001b[0m\u001b[0;34m,\u001b[0m \u001b[0midx\u001b[0m\u001b[0;34m=\u001b[0m\u001b[0midx\u001b[0m\u001b[0;34m)\u001b[0m\u001b[0;34m)\u001b[0m\u001b[0;34m)\u001b[0m\u001b[0;34m\u001b[0m\u001b[0;34m\u001b[0m\u001b[0m\n\u001b[0m\u001b[1;32m     50\u001b[0m \u001b[0;34m\u001b[0m\u001b[0m\n\u001b[1;32m     51\u001b[0m     \u001b[0;32mdef\u001b[0m \u001b[0m_backprop\u001b[0m\u001b[0;34m(\u001b[0m\u001b[0mself\u001b[0m\u001b[0;34m,\u001b[0m \u001b[0mscores\u001b[0m\u001b[0;34m:\u001b[0m \u001b[0mTensor\u001b[0m\u001b[0;34m,\u001b[0m \u001b[0mclass_idx\u001b[0m\u001b[0;34m:\u001b[0m \u001b[0mUnion\u001b[0m\u001b[0;34m[\u001b[0m\u001b[0mint\u001b[0m\u001b[0;34m,\u001b[0m \u001b[0mList\u001b[0m\u001b[0;34m[\u001b[0m\u001b[0mint\u001b[0m\u001b[0;34m]\u001b[0m\u001b[0;34m]\u001b[0m\u001b[0;34m,\u001b[0m \u001b[0mretain_graph\u001b[0m\u001b[0;34m:\u001b[0m \u001b[0mbool\u001b[0m \u001b[0;34m=\u001b[0m \u001b[0;32mFalse\u001b[0m\u001b[0;34m)\u001b[0m \u001b[0;34m->\u001b[0m \u001b[0;32mNone\u001b[0m\u001b[0;34m:\u001b[0m\u001b[0;34m\u001b[0m\u001b[0;34m\u001b[0m\u001b[0m\n",
            "\u001b[0;32m/usr/local/lib/python3.10/dist-packages/torch/_tensor.py\u001b[0m in \u001b[0;36mregister_hook\u001b[0;34m(self, hook)\u001b[0m\n\u001b[1;32m    563\u001b[0m             \u001b[0;32mreturn\u001b[0m \u001b[0mhandle_torch_function\u001b[0m\u001b[0;34m(\u001b[0m\u001b[0mTensor\u001b[0m\u001b[0;34m.\u001b[0m\u001b[0mregister_hook\u001b[0m\u001b[0;34m,\u001b[0m \u001b[0;34m(\u001b[0m\u001b[0mself\u001b[0m\u001b[0;34m,\u001b[0m\u001b[0;34m)\u001b[0m\u001b[0;34m,\u001b[0m \u001b[0mself\u001b[0m\u001b[0;34m,\u001b[0m \u001b[0mhook\u001b[0m\u001b[0;34m)\u001b[0m\u001b[0;34m\u001b[0m\u001b[0;34m\u001b[0m\u001b[0m\n\u001b[1;32m    564\u001b[0m         \u001b[0;32mif\u001b[0m \u001b[0;32mnot\u001b[0m \u001b[0mself\u001b[0m\u001b[0;34m.\u001b[0m\u001b[0mrequires_grad\u001b[0m\u001b[0;34m:\u001b[0m\u001b[0;34m\u001b[0m\u001b[0;34m\u001b[0m\u001b[0m\n\u001b[0;32m--> 565\u001b[0;31m             raise RuntimeError(\n\u001b[0m\u001b[1;32m    566\u001b[0m                 \u001b[0;34m\"cannot register a hook on a tensor that doesn't require gradient\"\u001b[0m\u001b[0;34m\u001b[0m\u001b[0;34m\u001b[0m\u001b[0m\n\u001b[1;32m    567\u001b[0m             )\n",
            "\u001b[0;31mRuntimeError\u001b[0m: cannot register a hook on a tensor that doesn't require gradient"
          ]
        }
      ]
    },
    {
      "cell_type": "markdown",
      "metadata": {
        "id": "EwbD6_8B9Vwa"
      },
      "source": [
        "# Generating Saliency Map using XGradCAM\n",
        "Implementing explainability.\n",
        "Using the, for example, last convolutional layer from the trained CNN checkpoint to generate the gradient and hook.\n",
        "Pass a random instance from each class to the trained model. The model, target layer from the trained network and the network output are used to generate a saliency_map which is interpolated and projected onto the appropriate input image."
      ]
    },
    {
      "cell_type": "code",
      "execution_count": 118,
      "metadata": {
        "colab": {
          "base_uri": "https://localhost:8080/",
          "height": 407
        },
        "id": "fdd_xUPMwML7",
        "outputId": "f72d3647-9fcf-4b51-bb9e-09316137de2f"
      },
      "outputs": [
        {
          "output_type": "display_data",
          "data": {
            "text/plain": [
              "<Figure size 400x400 with 4 Axes>"
            ],
            "image/png": "[encoded data removed]"
          },
          "metadata": {}
        }
      ],
      "source": [
        "# Load the model\n",
        "model = SmallCNN(num_classes=2)\n",
        "\n",
        "def generate_map(sample_data, sample_class):\n",
        "    checkpoint = torch.load('/content/data/MNIST/CNN_checkpoint.pth') # Load the saved model checkpoint\n",
        "    model.load_state_dict(checkpoint)\n",
        "    model.eval() # Set the model to evaluation mode\n",
        "\n",
        "    # Get the target layer\n",
        "    target_layer = model.get_grad_cam_target_layer() # Last convolutional layer is the target\n",
        "    # Prepare the input tensor\n",
        "    input_tensor = sample_data # a sample from the dataset passed to the function\n",
        "\n",
        "    cam = XGradCAM(model, target_layer)\n",
        "    output = model(input_tensor.unsqueeze(0))\n",
        "    saliency_map = cam(class_idx=sample_class, scores=output)\n",
        "\n",
        "    # Get the first saliency map tensor from the list\n",
        "    saliency_map_tensor = saliency_map[0]\n",
        "\n",
        "    # Convert the saliency map tensor to a numpy array\n",
        "    saliency_map_np = saliency_map_tensor.detach().cpu().numpy()\n",
        "\n",
        "    # Reshape the saliency map to 2D\n",
        "    saliency_map_np = saliency_map_np.reshape(saliency_map_np.shape[1:])\n",
        "\n",
        "    return saliency_map_np\n",
        "\n",
        "def interpolate_heatmap(input_tensor, saliency_map_np):\n",
        "    # Convert the input tensor to a numpy array image\n",
        "    input_img_np = input_tensor.permute(1, 2, 0).cpu().numpy()  # Change the shape from (C, H, W) to (H, W, C)\n",
        "    input_img_np = np.uint8(255 * input_img_np)\n",
        "\n",
        "    # Resize the saliency map to match the size of the original image\n",
        "    heatmap_resized = cv2.resize(saliency_map_np, (input_img_np.shape[1], input_img_np.shape[0]))\n",
        "\n",
        "    # Normalize the saliency map values to the range [0, 255]\n",
        "    heatmap_resized = (heatmap_resized - np.min(heatmap_resized)) / (np.max(heatmap_resized) - np.min(heatmap_resized)) * 255\n",
        "    heatmap_resized = np.uint8(heatmap_resized)\n",
        "\n",
        "    # Apply a colormap to the saliency map to convert it into a heatmap image\n",
        "    heatmap_colored = cv2.applyColorMap(heatmap_resized, cv2.COLORMAP_JET)\n",
        "\n",
        "    # Overlay the heatmap image onto the original image\n",
        "    superimposed_img = cv2.addWeighted(input_img_np, 0.7, heatmap_colored, 0.3, 0)\n",
        "\n",
        "    return superimposed_img\n",
        "\n",
        "# Dictionary to store interpolated images by class label\n",
        "interpolated_images_by_class = {}\n",
        "saliency_maps_by_class = {}\n",
        "\n",
        "# Function to generate and interpolate the heatmap for one instance of each class\n",
        "def generate_and_interpolate_heatmap_one_per_class():\n",
        "    # Create a dictionary to hold the data instances for each class\n",
        "    class_data_dict = {}\n",
        "\n",
        "    # Iterate through the training data\n",
        "    for data, label in remapped_spurious_train_data_tensor:\n",
        "        if label not in class_data_dict:\n",
        "            class_data_dict[label] = []\n",
        "        class_data_dict[label].append(data)\n",
        "\n",
        "    # Iterate through each class label\n",
        "    for class_label in range(2):  # Assuming 2 classes (0 and 1)\n",
        "        # Get the data instances for the specified class label\n",
        "        class_data = class_data_dict.get(class_label, [])\n",
        "\n",
        "        # Select one random instance from the class data\n",
        "        if class_data:\n",
        "            random_instance = random.choice(class_data)\n",
        "\n",
        "            # Generate the saliency map for the random instance\n",
        "            saliency_map_np = generate_map(random_instance, class_label)\n",
        "\n",
        "            # Interpolate the heatmap for the random instance\n",
        "            interpolated_img = interpolate_heatmap(random_instance, saliency_map_np)\n",
        "\n",
        "            # Store the interpolated image in the dictionary by class label\n",
        "            interpolated_images_by_class[class_label] = interpolated_img\n",
        "\n",
        "            saliency_maps_by_class[class_label] = saliency_map_np\n",
        "\n",
        "# Generate interpolated images for one instance per class\n",
        "generate_and_interpolate_heatmap_one_per_class()\n",
        "\n",
        "# Plot the interpolated images and saliency maps together\n",
        "fig, axs = plt.subplots(2, 2, figsize=(4, 4))  # Adjust figsize for square plot\n",
        "\n",
        "for i, ax in enumerate(axs.flat):\n",
        "  class_label = i // number_of_classes # Different for each dataset\n",
        "  interpolated_img = interpolated_images_by_class.get(class_label)\n",
        "  saliency_map_by_class = saliency_maps_by_class.get(class_label)  # Assuming separate dictionary\n",
        "\n",
        "  if interpolated_img is not None:\n",
        "    # Display the interpolated image on the top half of the subplot\n",
        "    axs[i // 2, 0].imshow(interpolated_img)\n",
        "    axs[i // 2, 0].axis('off')\n",
        "    axs[i // 2, 0].set_title(f'Class {class_label} - Image')\n",
        "\n",
        "    # Display the saliency map on the bottom half of the subplot\n",
        "    axs[i // 2, 1].imshow(saliency_map_by_class)  # Assuming saliency map format is compatible\n",
        "    axs[i // 2, 1].axis('off')\n",
        "    axs[i // 2, 1].set_title(f'Class {class_label} - Saliency Map')\n",
        "\n",
        "  else:\n",
        "    axs[i].axis('off')\n",
        "\n",
        "plt.tight_layout()\n",
        "plt.show()\n",
        "\n"
      ]
    },
    {
      "cell_type": "markdown",
      "metadata": {
        "id": "2zzb23_ZU1Uf"
      },
      "source": [
        "TODO:\n",
        "start implementing MaskTune for MNIST\n",
        "\n",
        "- [x] **ISSUE:** The transformation function transforms every instance in the dataset instead of the ones of the chosen class\n",
        "- [x] Create a biased MNIST dataset - for it to work, induce spurious feature to one class so the model will pick up the easyeast detectable feature. If the bias is applied to every class, the result wont change because during training, the model is forced to focus on other features in order to predict correctly.\n",
        "- [ ] See how it performs compared to unbised MNIST\n",
        "\n",
        "---\n",
        "\n",
        "- [ ] def `finetune` (finetune erm checkpoint with ```masktune```)\n",
        "- [ ] def ```masktune```\n",
        "- [ ] def ```finetune```\n",
        "\n",
        "---\n",
        "\n",
        "- [ ] Compare performances and saliency matrices between unbiased and biased MNIST datasets\n",
        "\n",
        "\n",
        "\n"
      ]
    },
    {
      "cell_type": "code",
      "execution_count": null,
      "metadata": {
        "id": "ch_tT-25_JQQ"
      },
      "outputs": [],
      "source": []
    }
  ],
  "metadata": {
    "accelerator": "GPU",
    "colab": {
      "gpuType": "T4",
      "provenance": [],
      "authorship_tag": "ABX9TyPI8kkf2kb3IKMlYHovzGby",
      "include_colab_link": true
    },
    "kernelspec": {
      "display_name": "Python 3",
      "name": "python3"
    },
    "language_info": {
      "name": "python"
    }
  },
  "nbformat": 4,
  "nbformat_minor": 0
}