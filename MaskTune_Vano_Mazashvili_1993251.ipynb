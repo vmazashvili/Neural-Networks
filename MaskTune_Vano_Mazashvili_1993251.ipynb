{
  "cells": [
    {
      "cell_type": "markdown",
      "metadata": {
        "id": "view-in-github",
        "colab_type": "text"
      },
      "source": [
        "<a href=\"https://colab.research.google.com/github/vmazashvili/Neural-Networks/blob/main/MaskTune_Vano_Mazashvili_1993251.ipynb\" target=\"_parent\"><img src=\"https://colab.research.google.com/assets/colab-badge.svg\" alt=\"Open In Colab\"/></a>"
      ]
    },
    {
      "cell_type": "markdown",
      "metadata": {
        "id": "0Yjq3qMXaDTm"
      },
      "source": [
        "# Masktune"
      ]
    },
    {
      "cell_type": "markdown",
      "source": [
        "Project outline:\n",
        "\n",
        "1.   **Train the model using** Empirical Risk Minimization (**ERM**)\n",
        "\n",
        "\n",
        "2.  After the initial training with the empirical risk minimization, we can apply Masktune, which incorporates:\n",
        "\n",
        "    - **Mask Generation** - identifying and masking the most influential, potentially spurious features\n",
        "        1.  **Identify the spurious features** / class activations from saliency maps. In case of present spurious features, the method will likely identify the spurious feature, while for the input without any spurious features, the function will identify the most prominent features to mask, forcing the training to escape its myopic and greedy feature-seeking approach and encouraging and leveraging more input variables [1]\n",
        "\n",
        "        2.  **Generate masks** to cover the most discriminatory features discovered in the saliency maps.\n",
        "\n",
        "    - **Mask Application** -  masked data will force the model to explore less prominent and potentially more descriptive non-spurious features.\n",
        "\n",
        "3.  The generated masks from the step 3 will be applied to the dataset\n",
        "5.  We will fine-tune the pretrained ERM model on newly masked dataset only for one epoch.\n",
        "\n"
      ],
      "metadata": {
        "id": "vGzaBMRe8bN_"
      }
    },
    {
      "cell_type": "code",
      "execution_count": 26,
      "metadata": {
        "colab": {
          "base_uri": "https://localhost:8080/"
        },
        "collapsed": true,
        "id": "w4v38sj4upbb",
        "outputId": "bfbc8917-b3b9-4008-89ea-6f7f3fa29a62"
      },
      "outputs": [
        {
          "output_type": "stream",
          "name": "stdout",
          "text": [
            "Requirement already satisfied: torch in /usr/local/lib/python3.10/dist-packages (2.3.0+cu121)\n",
            "Requirement already satisfied: torchvision in /usr/local/lib/python3.10/dist-packages (0.18.0+cu121)\n",
            "Requirement already satisfied: timm in /usr/local/lib/python3.10/dist-packages (1.0.3)\n",
            "Requirement already satisfied: filelock in /usr/local/lib/python3.10/dist-packages (from torch) (3.14.0)\n",
            "Requirement already satisfied: typing-extensions>=4.8.0 in /usr/local/lib/python3.10/dist-packages (from torch) (4.12.1)\n",
            "Requirement already satisfied: sympy in /usr/local/lib/python3.10/dist-packages (from torch) (1.12.1)\n",
            "Requirement already satisfied: networkx in /usr/local/lib/python3.10/dist-packages (from torch) (3.3)\n",
            "Requirement already satisfied: jinja2 in /usr/local/lib/python3.10/dist-packages (from torch) (3.1.4)\n",
            "Requirement already satisfied: fsspec in /usr/local/lib/python3.10/dist-packages (from torch) (2023.6.0)\n",
            "Requirement already satisfied: nvidia-cuda-nvrtc-cu12==12.1.105 in /usr/local/lib/python3.10/dist-packages (from torch) (12.1.105)\n",
            "Requirement already satisfied: nvidia-cuda-runtime-cu12==12.1.105 in /usr/local/lib/python3.10/dist-packages (from torch) (12.1.105)\n",
            "Requirement already satisfied: nvidia-cuda-cupti-cu12==12.1.105 in /usr/local/lib/python3.10/dist-packages (from torch) (12.1.105)\n",
            "Requirement already satisfied: nvidia-cudnn-cu12==8.9.2.26 in /usr/local/lib/python3.10/dist-packages (from torch) (8.9.2.26)\n",
            "Requirement already satisfied: nvidia-cublas-cu12==12.1.3.1 in /usr/local/lib/python3.10/dist-packages (from torch) (12.1.3.1)\n",
            "Requirement already satisfied: nvidia-cufft-cu12==11.0.2.54 in /usr/local/lib/python3.10/dist-packages (from torch) (11.0.2.54)\n",
            "Requirement already satisfied: nvidia-curand-cu12==10.3.2.106 in /usr/local/lib/python3.10/dist-packages (from torch) (10.3.2.106)\n",
            "Requirement already satisfied: nvidia-cusolver-cu12==11.4.5.107 in /usr/local/lib/python3.10/dist-packages (from torch) (11.4.5.107)\n",
            "Requirement already satisfied: nvidia-cusparse-cu12==12.1.0.106 in /usr/local/lib/python3.10/dist-packages (from torch) (12.1.0.106)\n",
            "Requirement already satisfied: nvidia-nccl-cu12==2.20.5 in /usr/local/lib/python3.10/dist-packages (from torch) (2.20.5)\n",
            "Requirement already satisfied: nvidia-nvtx-cu12==12.1.105 in /usr/local/lib/python3.10/dist-packages (from torch) (12.1.105)\n",
            "Requirement already satisfied: triton==2.3.0 in /usr/local/lib/python3.10/dist-packages (from torch) (2.3.0)\n",
            "Requirement already satisfied: nvidia-nvjitlink-cu12 in /usr/local/lib/python3.10/dist-packages (from nvidia-cusolver-cu12==11.4.5.107->torch) (12.5.40)\n",
            "Requirement already satisfied: numpy in /usr/local/lib/python3.10/dist-packages (from torchvision) (1.25.2)\n",
            "Requirement already satisfied: pillow!=8.3.*,>=5.3.0 in /usr/local/lib/python3.10/dist-packages (from torchvision) (9.4.0)\n",
            "Requirement already satisfied: pyyaml in /usr/local/lib/python3.10/dist-packages (from timm) (6.0.1)\n",
            "Requirement already satisfied: huggingface_hub in /usr/local/lib/python3.10/dist-packages (from timm) (0.23.2)\n",
            "Requirement already satisfied: safetensors in /usr/local/lib/python3.10/dist-packages (from timm) (0.4.3)\n",
            "Requirement already satisfied: packaging>=20.9 in /usr/local/lib/python3.10/dist-packages (from huggingface_hub->timm) (24.0)\n",
            "Requirement already satisfied: requests in /usr/local/lib/python3.10/dist-packages (from huggingface_hub->timm) (2.31.0)\n",
            "Requirement already satisfied: tqdm>=4.42.1 in /usr/local/lib/python3.10/dist-packages (from huggingface_hub->timm) (4.66.4)\n",
            "Requirement already satisfied: MarkupSafe>=2.0 in /usr/local/lib/python3.10/dist-packages (from jinja2->torch) (2.1.5)\n",
            "Requirement already satisfied: mpmath<1.4.0,>=1.1.0 in /usr/local/lib/python3.10/dist-packages (from sympy->torch) (1.3.0)\n",
            "Requirement already satisfied: charset-normalizer<4,>=2 in /usr/local/lib/python3.10/dist-packages (from requests->huggingface_hub->timm) (3.3.2)\n",
            "Requirement already satisfied: idna<4,>=2.5 in /usr/local/lib/python3.10/dist-packages (from requests->huggingface_hub->timm) (3.7)\n",
            "Requirement already satisfied: urllib3<3,>=1.21.1 in /usr/local/lib/python3.10/dist-packages (from requests->huggingface_hub->timm) (2.0.7)\n",
            "Requirement already satisfied: certifi>=2017.4.17 in /usr/local/lib/python3.10/dist-packages (from requests->huggingface_hub->timm) (2024.6.2)\n",
            "Requirement already satisfied: torchcam in /usr/local/lib/python3.10/dist-packages (0.4.0)\n",
            "Requirement already satisfied: torch<3.0.0,>=2.0.0 in /usr/local/lib/python3.10/dist-packages (from torchcam) (2.3.0+cu121)\n",
            "Requirement already satisfied: numpy<2.0.0,>=1.17.2 in /usr/local/lib/python3.10/dist-packages (from torchcam) (1.25.2)\n",
            "Requirement already satisfied: Pillow!=9.2.0,>=8.4.0 in /usr/local/lib/python3.10/dist-packages (from torchcam) (9.4.0)\n",
            "Requirement already satisfied: matplotlib<4.0.0,>=3.7.0 in /usr/local/lib/python3.10/dist-packages (from torchcam) (3.7.1)\n",
            "Requirement already satisfied: contourpy>=1.0.1 in /usr/local/lib/python3.10/dist-packages (from matplotlib<4.0.0,>=3.7.0->torchcam) (1.2.1)\n",
            "Requirement already satisfied: cycler>=0.10 in /usr/local/lib/python3.10/dist-packages (from matplotlib<4.0.0,>=3.7.0->torchcam) (0.12.1)\n",
            "Requirement already satisfied: fonttools>=4.22.0 in /usr/local/lib/python3.10/dist-packages (from matplotlib<4.0.0,>=3.7.0->torchcam) (4.53.0)\n",
            "Requirement already satisfied: kiwisolver>=1.0.1 in /usr/local/lib/python3.10/dist-packages (from matplotlib<4.0.0,>=3.7.0->torchcam) (1.4.5)\n",
            "Requirement already satisfied: packaging>=20.0 in /usr/local/lib/python3.10/dist-packages (from matplotlib<4.0.0,>=3.7.0->torchcam) (24.0)\n",
            "Requirement already satisfied: pyparsing>=2.3.1 in /usr/local/lib/python3.10/dist-packages (from matplotlib<4.0.0,>=3.7.0->torchcam) (3.1.2)\n",
            "Requirement already satisfied: python-dateutil>=2.7 in /usr/local/lib/python3.10/dist-packages (from matplotlib<4.0.0,>=3.7.0->torchcam) (2.8.2)\n",
            "Requirement already satisfied: filelock in /usr/local/lib/python3.10/dist-packages (from torch<3.0.0,>=2.0.0->torchcam) (3.14.0)\n",
            "Requirement already satisfied: typing-extensions>=4.8.0 in /usr/local/lib/python3.10/dist-packages (from torch<3.0.0,>=2.0.0->torchcam) (4.12.1)\n",
            "Requirement already satisfied: sympy in /usr/local/lib/python3.10/dist-packages (from torch<3.0.0,>=2.0.0->torchcam) (1.12.1)\n",
            "Requirement already satisfied: networkx in /usr/local/lib/python3.10/dist-packages (from torch<3.0.0,>=2.0.0->torchcam) (3.3)\n",
            "Requirement already satisfied: jinja2 in /usr/local/lib/python3.10/dist-packages (from torch<3.0.0,>=2.0.0->torchcam) (3.1.4)\n",
            "Requirement already satisfied: fsspec in /usr/local/lib/python3.10/dist-packages (from torch<3.0.0,>=2.0.0->torchcam) (2023.6.0)\n",
            "Requirement already satisfied: nvidia-cuda-nvrtc-cu12==12.1.105 in /usr/local/lib/python3.10/dist-packages (from torch<3.0.0,>=2.0.0->torchcam) (12.1.105)\n",
            "Requirement already satisfied: nvidia-cuda-runtime-cu12==12.1.105 in /usr/local/lib/python3.10/dist-packages (from torch<3.0.0,>=2.0.0->torchcam) (12.1.105)\n",
            "Requirement already satisfied: nvidia-cuda-cupti-cu12==12.1.105 in /usr/local/lib/python3.10/dist-packages (from torch<3.0.0,>=2.0.0->torchcam) (12.1.105)\n",
            "Requirement already satisfied: nvidia-cudnn-cu12==8.9.2.26 in /usr/local/lib/python3.10/dist-packages (from torch<3.0.0,>=2.0.0->torchcam) (8.9.2.26)\n",
            "Requirement already satisfied: nvidia-cublas-cu12==12.1.3.1 in /usr/local/lib/python3.10/dist-packages (from torch<3.0.0,>=2.0.0->torchcam) (12.1.3.1)\n",
            "Requirement already satisfied: nvidia-cufft-cu12==11.0.2.54 in /usr/local/lib/python3.10/dist-packages (from torch<3.0.0,>=2.0.0->torchcam) (11.0.2.54)\n",
            "Requirement already satisfied: nvidia-curand-cu12==10.3.2.106 in /usr/local/lib/python3.10/dist-packages (from torch<3.0.0,>=2.0.0->torchcam) (10.3.2.106)\n",
            "Requirement already satisfied: nvidia-cusolver-cu12==11.4.5.107 in /usr/local/lib/python3.10/dist-packages (from torch<3.0.0,>=2.0.0->torchcam) (11.4.5.107)\n",
            "Requirement already satisfied: nvidia-cusparse-cu12==12.1.0.106 in /usr/local/lib/python3.10/dist-packages (from torch<3.0.0,>=2.0.0->torchcam) (12.1.0.106)\n",
            "Requirement already satisfied: nvidia-nccl-cu12==2.20.5 in /usr/local/lib/python3.10/dist-packages (from torch<3.0.0,>=2.0.0->torchcam) (2.20.5)\n",
            "Requirement already satisfied: nvidia-nvtx-cu12==12.1.105 in /usr/local/lib/python3.10/dist-packages (from torch<3.0.0,>=2.0.0->torchcam) (12.1.105)\n",
            "Requirement already satisfied: triton==2.3.0 in /usr/local/lib/python3.10/dist-packages (from torch<3.0.0,>=2.0.0->torchcam) (2.3.0)\n",
            "Requirement already satisfied: nvidia-nvjitlink-cu12 in /usr/local/lib/python3.10/dist-packages (from nvidia-cusolver-cu12==11.4.5.107->torch<3.0.0,>=2.0.0->torchcam) (12.5.40)\n",
            "Requirement already satisfied: six>=1.5 in /usr/local/lib/python3.10/dist-packages (from python-dateutil>=2.7->matplotlib<4.0.0,>=3.7.0->torchcam) (1.16.0)\n",
            "Requirement already satisfied: MarkupSafe>=2.0 in /usr/local/lib/python3.10/dist-packages (from jinja2->torch<3.0.0,>=2.0.0->torchcam) (2.1.5)\n",
            "Requirement already satisfied: mpmath<1.4.0,>=1.1.0 in /usr/local/lib/python3.10/dist-packages (from sympy->torch<3.0.0,>=2.0.0->torchcam) (1.3.0)\n",
            "Requirement already satisfied: pytorch-gradcam in /usr/local/lib/python3.10/dist-packages (0.2.1)\n",
            "Requirement already satisfied: opencv-python in /usr/local/lib/python3.10/dist-packages (from pytorch-gradcam) (4.8.0.76)\n",
            "Requirement already satisfied: numpy in /usr/local/lib/python3.10/dist-packages (from pytorch-gradcam) (1.25.2)\n"
          ]
        }
      ],
      "source": [
        "!pip install torch torchvision timm\n",
        "!pip install torchcam\n",
        "!pip install pytorch-gradcam"
      ]
    },
    {
      "cell_type": "code",
      "execution_count": 27,
      "metadata": {
        "id": "RVe71WOgg9ml"
      },
      "outputs": [],
      "source": [
        "import os\n",
        "import cv2\n",
        "#import timm\n",
        "import torch\n",
        "import random\n",
        "import numpy as np\n",
        "import torchvision\n",
        "from torch.optim import SGD\n",
        "import matplotlib.pyplot as plt\n",
        "import torch.nn.functional as F\n",
        "from torch import nn\n",
        "from torch import optim\n",
        "from torch.nn import CrossEntropyLoss\n",
        "from torchcam.methods import XGradCAM\n",
        "from torch.utils.data import DataLoader\n",
        "from torchvision import datasets, transforms\n",
        "from torchvision.transforms import ToTensor, Lambda\n",
        "from torchvision.transforms.functional import resize\n",
        "from sklearn.metrics import confusion_matrix, precision_score, recall_score, f1_score"
      ]
    },
    {
      "cell_type": "markdown",
      "metadata": {
        "id": "XjqipoBg9duJ"
      },
      "source": [
        "# MNIST DATASET\n",
        "\n",
        "- [x] Distinguish between two MNIST digit groups (0-4 and 5-9)\n",
        "- [x] 0-4 into class 0 and 5-9 into class 1.\n",
        "- [x] Transform 99% of new class 0 and 1% of the new class 1 so that they acquire same spurious feature (square in top left corner)\n",
        "- [x] Two test sets during testing: the original raw MNIST test set and a biased test set.\n",
        "- [x] biasd test set - add spurious feature to only 5-9 group  "
      ]
    },
    {
      "cell_type": "markdown",
      "metadata": {
        "id": "b-gkEFw9icSs"
      },
      "source": [
        "Load and normalize the MNIST training and test datasets using torchvision. We can Induce spurrious features too\n",
        "\n"
      ]
    },
    {
      "cell_type": "markdown",
      "source": [
        "### Step 1: Remap the dataset\n",
        "Remap the 10 classes (0-9) to 2 (0, 1).\n",
        "\n",
        "Digits 0-5 are labeled with class 0, digits 5-9 are labeled with class 1.\n",
        "\n",
        "The remapped classes are saved into `remapped_train_data` and `remapped_test_data` lists.\n",
        "\n",
        "Each element is `[(PIL.Image.Image instance, )`"
      ],
      "metadata": {
        "id": "bS8nmn5Izr7N"
      }
    },
    {
      "cell_type": "code",
      "execution_count": 28,
      "metadata": {
        "collapsed": true,
        "id": "DALGG5P3KgF8",
        "colab": {
          "base_uri": "https://localhost:8080/"
        },
        "outputId": "2d65746a-f06b-44ef-8e65-8862daacb096"
      },
      "outputs": [
        {
          "output_type": "stream",
          "name": "stdout",
          "text": [
            "Original class distribution in train set: tensor([5923, 6742, 5958, 6131, 5842, 5421, 5918, 6265, 5851, 5949])\n",
            "Remapped class distribution in train set: tensor([30596, 29404])\n",
            "Original class distribution in test set: tensor([ 980, 1135, 1032, 1010,  982,  892,  958, 1028,  974, 1009])\n",
            "Remapped class distribution in test set: tensor([5139, 4861])\n"
          ]
        }
      ],
      "source": [
        "import torch\n",
        "from torchvision import datasets\n",
        "\n",
        "def remap_classes(dataset):\n",
        "    \"\"\"\n",
        "    Remap MNIST dataset classes to two new classes\n",
        "    new_to_old_label_mapping={0: [0, 1, 2, 3, 4], 1: [5, 6, 7, 8, 9]},\n",
        "\n",
        "    Input:\n",
        "        MNIST dataset\n",
        "\n",
        "    Output:\n",
        "        List of remapped dataset. Each item is (PIL image, class)\n",
        "    \"\"\"\n",
        "    remapped_data = []\n",
        "    remapped_targets = []\n",
        "\n",
        "    for data, target in dataset:\n",
        "        if target < 5:  # Digits 0-4\n",
        "            remapped_targets.append(0)\n",
        "        else:  # Digits 5-9\n",
        "            remapped_targets.append(1)\n",
        "\n",
        "        remapped_data.append(data)\n",
        "\n",
        "    return list(zip(remapped_data, remapped_targets))\n",
        "\n",
        "# Load the MNIST dataset\n",
        "mnist_train = datasets.MNIST(root='data', train=True, download=True)\n",
        "mnist_test = datasets.MNIST(root='data', train=False, download=True)\n",
        "\n",
        "# Remap the classes, the variables contain lists:\n",
        "remapped_train_data = remap_classes(mnist_train)\n",
        "remapped_test_data = remap_classes(mnist_test)\n",
        "\n",
        "print(\"Original class distribution in train set:\", mnist_train.targets.bincount())\n",
        "print(\"Remapped class distribution in train set:\", torch.tensor([target for _, target in remapped_train_data]).bincount())\n",
        "\n",
        "print(\"Original class distribution in test set:\", mnist_test.targets.bincount())\n",
        "print(\"Remapped class distribution in test set:\", torch.tensor([target for _, target in remapped_test_data]).bincount())\n"
      ]
    },
    {
      "cell_type": "markdown",
      "source": [
        "Check the first element of the list"
      ],
      "metadata": {
        "id": "NkL66LP_-wmj"
      }
    },
    {
      "cell_type": "code",
      "execution_count": 29,
      "metadata": {
        "id": "pdlYG9vjzE0g",
        "colab": {
          "base_uri": "https://localhost:8080/"
        },
        "outputId": "2d84079e-7ce5-4e56-b885-3622fd70c1ea"
      },
      "outputs": [
        {
          "output_type": "execute_result",
          "data": {
            "text/plain": [
              "(<PIL.Image.Image image mode=L size=28x28>, 1)"
            ]
          },
          "metadata": {},
          "execution_count": 29
        }
      ],
      "source": [
        "remapped_train_data[0]"
      ]
    },
    {
      "cell_type": "markdown",
      "source": [
        "### Step 2: Add Spurious Features to the Dataset\n",
        "\n"
      ],
      "metadata": {
        "id": "sMJWXrJ3DyIk"
      }
    },
    {
      "cell_type": "markdown",
      "source": [
        "Apply spurious feature, a blue square in the top left corner of the image, to the 99% of samples of class 0, and 1% of class 1 in `remapped_train_data` list of tuples.\n",
        "\n",
        "The results are saved in `train_data_spuriousus` list of tuples."
      ],
      "metadata": {
        "id": "snWHQgooGqO5"
      }
    },
    {
      "cell_type": "code",
      "execution_count": 30,
      "metadata": {
        "id": "WkWyg3T7ofkD",
        "colab": {
          "base_uri": "https://localhost:8080/",
          "height": 283
        },
        "outputId": "5c01a1b3-1296-4242-dfc4-a25fad3e09db"
      },
      "outputs": [
        {
          "output_type": "display_data",
          "data": {
            "text/plain": [
              "<Figure size 1500x300 with 20 Axes>"
            ],
            "image/png": "[encoded data removed]"
          },
          "metadata": {}
        }
      ],
      "source": [
        "import random\n",
        "from PIL import Image, ImageDraw\n",
        "import matplotlib.pyplot as plt\n",
        "\n",
        "def add_spurious_feature(image, label, percentage_class_0=0.99, percentage_class_1=0.01):\n",
        "    \"\"\"\n",
        "    A function to add blue spurious features to PIL images based on class-specific percentages.\n",
        "\n",
        "    Args:\n",
        "        image (PIL.Image.Image): Input image.\n",
        "        label (int): The class label of the image.\n",
        "        percentage_class_0 (float, optional): Percentage of class 0 samples to apply the feature to. Defaults to 0.99.\n",
        "        percentage_class_1 (float, optional): Percentage of class 1 samples to apply the feature to. Defaults to 0.01.\n",
        "\n",
        "    Returns:\n",
        "        PIL.Image.Image: Transformed image with the spurious feature.\n",
        "    \"\"\"\n",
        "    # Determine the appropriate percentage based on the class label\n",
        "    percentage = percentage_class_0 if label == 0 else percentage_class_1\n",
        "\n",
        "    # Check if the condition for adding the feature is met\n",
        "    if random.random() < percentage:\n",
        "        # Create a copy of the input image\n",
        "        image_with_spurious = image.convert(\"RGB\")  # Ensure the image is in RGB mode\n",
        "        # Create a drawing context, image should be already in RGB, so no need to specify with the argument\n",
        "        draw = ImageDraw.Draw(image_with_spurious)\n",
        "        # Draw a blue square in the top-left corner\n",
        "        draw.rectangle([0, 0, 5, 5], fill=(0, 0, 255))  # Blue color\n",
        "        del draw  # Release drawing context\n",
        "        return image_with_spurious\n",
        "    else:\n",
        "        return image.convert(\"RGB\")  # Ensure the image is in RGB\n",
        "\n",
        "# Apply add_spurious_feature to the entire remapped_train_data dataset\n",
        "train_data_spurious = [(add_spurious_feature(image, label), label) for image, label in remapped_train_data]\n",
        "\n",
        "# Display 10 samples from each class\n",
        "fig, axes = plt.subplots(2, 10, figsize=(15, 3))\n",
        "class_0_count = 0\n",
        "class_1_count = 0\n",
        "\n",
        "for image, label in train_data_spurious:\n",
        "    if label == 0 and class_0_count < 10:\n",
        "        axes[0, class_0_count].imshow(image)\n",
        "        axes[0, class_0_count].set_title(f\"Class: {label}\")\n",
        "        axes[0, class_0_count].axis('off')\n",
        "        class_0_count += 1\n",
        "    elif label == 1 and class_1_count < 10:\n",
        "        axes[1, class_1_count].imshow(image)\n",
        "        axes[1, class_1_count].set_title(f\"Class: {label}\")\n",
        "        axes[1, class_1_count].axis('off')\n",
        "        class_1_count += 1\n",
        "\n",
        "    if class_0_count >= 10 and class_1_count >= 10:\n",
        "        break\n",
        "\n",
        "plt.show()\n"
      ]
    },
    {
      "cell_type": "markdown",
      "source": [
        "Copy `remapped_test_data` to `test_data_raw`, so that we can modify the original test dataset and save it in `test_data_spuriousus`. Both of them are lists of tuples of PIL images and class labels.\n",
        "\n",
        "In this way, we are able to test the trained model on both, original and the biased test datasets.\n",
        "\n",
        "The `test_data_spurious` has each sample of class 1 modified with the spurious feature."
      ],
      "metadata": {
        "id": "YKXdi3rtHuyW"
      }
    },
    {
      "cell_type": "code",
      "execution_count": 31,
      "metadata": {
        "id": "4nBnbveQuGUo"
      },
      "outputs": [],
      "source": [
        "import random\n",
        "from PIL import Image, ImageDraw\n",
        "\n",
        "def add_spurious_feature_test(image, label, spurious_value=(0, 0, 255)):\n",
        "    \"\"\"\n",
        "    A function to add a blue spurious feature to a PIL image for class 1 samples.\n",
        "\n",
        "    Args:\n",
        "        image (PIL.Image.Image): Input image.\n",
        "        label (int): The class label of the image.\n",
        "        spurious_value (tuple, optional): RGB value to assign to the spurious feature pixels. Defaults to blue (0, 0, 255).\n",
        "\n",
        "    Returns:\n",
        "        PIL.Image.Image: Transformed image with the spurious feature added (if applicable).\n",
        "    \"\"\"\n",
        "    if label == 1:\n",
        "        # Always add the feature to class 1 samples\n",
        "        image_with_spurious = image.convert(\"RGB\")  # Ensure the image is in RGB mode\n",
        "        draw = ImageDraw.Draw(image_with_spurious)\n",
        "        draw.rectangle([0, 0, 5, 5], fill=spurious_value)\n",
        "        del draw\n",
        "        return image_with_spurious\n",
        "    else:\n",
        "        return image.convert(\"RGB\")  # Ensure the image is in RGB mode\n",
        "\n",
        "# Save remapped_test_data into test_data_raw\n",
        "test_data_raw = remapped_test_data.copy()  # Create a copy to avoid modifying the original data\n",
        "\n",
        "# Create a copy to avoid modifying the original data\n",
        "test_data_raw = remapped_test_data.copy()\n",
        "\n",
        "# Loop through each image and label in test_data_raw\n",
        "for i, (image, label) in enumerate(test_data_raw):\n",
        "  # Convert the image to RGB format\n",
        "  image = image.convert(\"RGB\")\n",
        "\n",
        "  # Update the test_data_raw list with the converted image\n",
        "  test_data_raw[i] = (image, label)\n",
        "\n",
        "# Apply spurious features to class 1 samples in test_data_raw and store in test_data_spurious\n",
        "test_data_spurious = [(add_spurious_feature_test(image, label), label) for image, label in remapped_test_data]"
      ]
    },
    {
      "cell_type": "markdown",
      "source": [
        "Display 10 samples for `test_data_raw` and `test_data_spurious`."
      ],
      "metadata": {
        "id": "fKCztzYndjuZ"
      }
    },
    {
      "cell_type": "code",
      "execution_count": 32,
      "metadata": {
        "id": "GWn4SHJM8jKL",
        "colab": {
          "base_uri": "https://localhost:8080/",
          "height": 799
        },
        "outputId": "be37107c-1c47-4067-a297-54bb49fddb6e"
      },
      "outputs": [
        {
          "output_type": "display_data",
          "data": {
            "text/plain": [
              "<Figure size 1500x300 with 20 Axes>"
            ],
            "image/png": "[encoded data removed]"
          },
          "metadata": {}
        },
        {
          "output_type": "display_data",
          "data": {
            "text/plain": [
              "<Figure size 1500x300 with 20 Axes>"
            ],
            "image/png": "[encoded data removed]"
          },
          "metadata": {}
        },
        {
          "output_type": "display_data",
          "data": {
            "text/plain": [
              "<Figure size 2000x400 with 40 Axes>"
            ],
            "image/png": "[encoded data removed]"
          },
          "metadata": {}
        },
        {
          "output_type": "execute_result",
          "data": {
            "text/plain": [
              "(<PIL.Image.Image image mode=RGB size=28x28>, 1)"
            ]
          },
          "metadata": {},
          "execution_count": 32
        }
      ],
      "source": [
        "# Display 10 samples from each class in the raw test set\n",
        "fig, axes = plt.subplots(2, 10, figsize=(15, 3))\n",
        "class_0_count = 0\n",
        "class_1_count = 0\n",
        "\n",
        "for image, label in test_data_raw:\n",
        "    if label == 0 and class_0_count < 10:\n",
        "        axes[0, class_0_count].imshow(image)\n",
        "        axes[0, class_0_count].set_title(f\"Class: {label}\")\n",
        "        axes[0, class_0_count].axis('off')\n",
        "        class_0_count += 1\n",
        "    elif label == 1 and class_1_count < 10:\n",
        "        axes[1, class_1_count].imshow(image)\n",
        "        axes[1, class_1_count].set_title(f\"Class: {label}\")\n",
        "        axes[1, class_1_count].axis('off')\n",
        "        class_1_count += 1\n",
        "\n",
        "    if class_0_count >= 10 and class_1_count >= 10:\n",
        "        break\n",
        "\n",
        "plt.suptitle(\"10 Samples of Each Class for Raw Test Dataset `test_data_raw`\", fontsize=12)  # Add main title\n",
        "plt.show()\n",
        "\n",
        "# Display 10 samples from each class in the biased test set\n",
        "fig, axes = plt.subplots(2, 10, figsize=(15, 3))\n",
        "class_0_count = 0\n",
        "class_1_count = 0\n",
        "\n",
        "for image, label in test_data_spurious:\n",
        "    if label == 0 and class_0_count < 10:\n",
        "        axes[0, class_0_count].imshow(image)\n",
        "        axes[0, class_0_count].set_title(f\"Class: {label}\")\n",
        "        axes[0, class_0_count].axis('off')\n",
        "        class_0_count += 1\n",
        "    elif label == 1 and class_1_count < 10:\n",
        "        axes[1, class_1_count].imshow(image)\n",
        "        axes[1, class_1_count].set_title(f\"Class: {label}\")\n",
        "        axes[1, class_1_count].axis('off')\n",
        "        class_1_count += 1\n",
        "\n",
        "    if class_0_count >= 10 and class_1_count >= 10:\n",
        "        break\n",
        "\n",
        "plt.suptitle(\"10 Samples of Each Class for the Modified Test Dataset `test_data_spurious`\", fontsize=12)  # Add main title\n",
        "plt.show()\n",
        "\n",
        "# Initialize counters for each class\n",
        "class_counts = {0: 0, 1: 0}\n",
        "\n",
        "# Plot 10 samples for each class\n",
        "fig, axes = plt.subplots(2, 20, figsize=(20, 4))\n",
        "\n",
        "for image, label in train_data_spurious:\n",
        "    # Check if the maximum number of samples for each class is reached\n",
        "    if class_counts[label] >= 20:\n",
        "        continue\n",
        "\n",
        "    # Plot the image\n",
        "    ax = axes[label][class_counts[label]]\n",
        "    ax.imshow(image, cmap='gray')\n",
        "    ax.axis('off')\n",
        "    ax.set_title(f'Class {label}')\n",
        "\n",
        "    # Increment the counter for the respective class\n",
        "    class_counts[label] += 1\n",
        "\n",
        "plt.tight_layout()\n",
        "plt.suptitle(\"20 Samples of Each Class of the Modified Training Dataset `train_data_spurious`\", fontsize=12)  # Add main title\n",
        "plt.show()\n",
        "\n",
        "\n",
        "# Accessing first elements (assuming these are iterables)\n",
        "train_data_spurious[0]\n",
        "remapped_test_data[0]\n",
        "test_data_spurious[0]\n"
      ]
    },
    {
      "cell_type": "markdown",
      "metadata": {
        "id": "VR1-2Xg3ELd_"
      },
      "source": [
        "Therefore, we should have a training dataset ```train_data_spurious``` with two classes, 0 (containing digits 0-4) and 1 (digits 5-9).\n",
        "99% of the samples in class 0 have a spurious feature, while 1% of the class 1 has the same spurious feature.\n",
        "\n",
        "As for testing dataset, we have 2, ```test_data_raw``` and ```test_data_spurious```. One will be a raw MNIST test dataset, while the other one will be a modified one with spurious features for class 1 samples.\n",
        "\n",
        "Thus we have ```test_data_daw```, ```test_data_spurious``` with only class 1 sample spurious features, `train_data_spurious`, and `remapped_train_data`"
      ]
    },
    {
      "cell_type": "markdown",
      "metadata": {
        "id": "Uph4IAqN8VTe"
      },
      "source": [
        "### Step 3: Create dataloaders\n",
        "make batches"
      ]
    },
    {
      "cell_type": "code",
      "execution_count": 33,
      "metadata": {
        "id": "u3Bh8Xs4-S0r"
      },
      "outputs": [],
      "source": [
        "from PIL import Image\n",
        "\n",
        "# Convert grayscale images in remapped_test_data to RGB\n",
        "remapped_train_data = [(image.convert(\"RGB\"), label) for image, label in remapped_train_data]\n",
        "\n",
        "# Define a transform to convert PIL images to tensors\n",
        "transform = transforms.ToTensor()\n",
        "\n",
        "train_data_spurious_tensor = [(transform(image), label) for image, label in train_data_spurious]\n",
        "\n",
        "test_data_spurious_tensor = [(transform(image), label) for image, label in test_data_spurious]\n",
        "\n",
        "test_data_raw_tensor = [(transform(image), label) for image, label in test_data_raw]\n"
      ]
    },
    {
      "cell_type": "code",
      "execution_count": 34,
      "metadata": {
        "id": "IWdJy_tW6Dop",
        "colab": {
          "base_uri": "https://localhost:8080/"
        },
        "outputId": "6a0e72b3-a47e-4cdf-d84e-c258547b8fa5"
      },
      "outputs": [
        {
          "output_type": "stream",
          "name": "stdout",
          "text": [
            "Data batch shape: torch.Size([128, 3, 28, 28])\n",
            "Label batch shape: torch.Size([128])\n",
            "Data batch example: tensor([[[0., 0., 0.,  ..., 0., 0., 0.],\n",
            "         [0., 0., 0.,  ..., 0., 0., 0.],\n",
            "         [0., 0., 0.,  ..., 0., 0., 0.],\n",
            "         ...,\n",
            "         [0., 0., 0.,  ..., 0., 0., 0.],\n",
            "         [0., 0., 0.,  ..., 0., 0., 0.],\n",
            "         [0., 0., 0.,  ..., 0., 0., 0.]],\n",
            "\n",
            "        [[0., 0., 0.,  ..., 0., 0., 0.],\n",
            "         [0., 0., 0.,  ..., 0., 0., 0.],\n",
            "         [0., 0., 0.,  ..., 0., 0., 0.],\n",
            "         ...,\n",
            "         [0., 0., 0.,  ..., 0., 0., 0.],\n",
            "         [0., 0., 0.,  ..., 0., 0., 0.],\n",
            "         [0., 0., 0.,  ..., 0., 0., 0.]],\n",
            "\n",
            "        [[0., 0., 0.,  ..., 0., 0., 0.],\n",
            "         [0., 0., 0.,  ..., 0., 0., 0.],\n",
            "         [0., 0., 0.,  ..., 0., 0., 0.],\n",
            "         ...,\n",
            "         [0., 0., 0.,  ..., 0., 0., 0.],\n",
            "         [0., 0., 0.,  ..., 0., 0., 0.],\n",
            "         [0., 0., 0.,  ..., 0., 0., 0.]]])\n",
            "Label batch example: tensor(1)\n"
          ]
        }
      ],
      "source": [
        "train_spurious_dataloader = DataLoader(train_data_spurious_tensor, batch_size=128)\n",
        "test_raw_dataloader = DataLoader(test_data_raw_tensor, batch_size=128)\n",
        "test_spurious_dataloader = DataLoader(test_data_spurious_tensor, batch_size=128)\n",
        "\n",
        "len(train_spurious_dataloader)\n",
        "len(test_raw_dataloader)\n",
        "len(test_spurious_dataloader)\n",
        "\n",
        "for data_batch, label_batch in train_spurious_dataloader:\n",
        "    print(\"Data batch shape:\", data_batch.shape)\n",
        "    print(\"Label batch shape:\", label_batch.shape)\n",
        "    print(\"Data batch example:\", data_batch[0])\n",
        "    print(\"Label batch example:\", label_batch[0])\n",
        "    break  # Only print the first batch\n"
      ]
    },
    {
      "cell_type": "markdown",
      "metadata": {
        "id": "asZo9-78Ta4-"
      },
      "source": [
        "### Creating a subset dataset for testing purposes"
      ]
    },
    {
      "cell_type": "code",
      "execution_count": 35,
      "metadata": {
        "id": "gciQRBcgTaer"
      },
      "outputs": [],
      "source": [
        "# Define subset sizes\n",
        "subset_size_train = 900\n",
        "subset_size_test_raw = 300\n",
        "subset_size_test_biased = 300\n",
        "\n",
        "# Randomly sample subsets from the tensors\n",
        "subset_train_biased_tensor = random.sample(train_data_spurious_tensor, subset_size_train)\n",
        "subset_test_raw_tensor = random.sample(test_data_spurious_tensor, subset_size_test_raw)\n",
        "subset_test_biased_tensor = random.sample(test_data_raw_tensor, subset_size_test_biased)\n",
        "\n",
        "# Define batch size\n",
        "batch_size = 64  # Adjust as needed\n",
        "\n",
        "# Create DataLoader for the subset of training data\n",
        "subset_train_spurious_dataloader = DataLoader(subset_train_biased_tensor, batch_size=batch_size, shuffle=True)\n",
        "\n",
        "# Create DataLoader for the subset of raw test data\n",
        "subset_test_raw_dataloader = DataLoader(subset_test_raw_tensor, batch_size=batch_size, shuffle=False)\n",
        "\n",
        "# Create DataLoader for the subset of biased test data\n",
        "subset_test_spurious_dataloader = DataLoader(subset_test_biased_tensor, batch_size=batch_size, shuffle=False)"
      ]
    },
    {
      "cell_type": "markdown",
      "metadata": {
        "id": "Dlxs0SJ98ftx"
      },
      "source": [
        "# Define CNN\n",
        "Define a Convolutional Neural Network and give its class a ```get_grad_cam_target_layer``` function which will grab the last convolutional layer to use it for saliency map generation. Uses almost the same architecture as the paper \"MaskTune: Mitigating Spurious Correlations by Forcing to Explore\""
      ]
    },
    {
      "cell_type": "markdown",
      "metadata": {
        "id": "JmVn-g3Z87tf"
      },
      "source": [
        "### Hyperparameters, optimizer, model selection"
      ]
    },
    {
      "cell_type": "code",
      "source": [
        "class SmallCNN(nn.Module):\n",
        "    def __init__(self, num_classes):\n",
        "        super().__init__()\n",
        "        self.num_classes = num_classes\n",
        "        self.backbone = nn.Sequential(\n",
        "            nn.Conv2d(3, 16, (3, 3), (1, 1)),  # Change 1 to 3 for RGB input\n",
        "            nn.BatchNorm2d(16),\n",
        "            nn.ReLU(),\n",
        "            nn.Conv2d(16, 16, (3, 3), (1, 1)),\n",
        "            nn.BatchNorm2d(num_features=16),\n",
        "            nn.ReLU(),\n",
        "            nn.MaxPool2d((2, 2), (2, 2)),\n",
        "            nn.Conv2d(16, 32, (3, 3), (1, 1)),\n",
        "            nn.BatchNorm2d(num_features=32),\n",
        "            nn.ReLU(),\n",
        "            nn.Conv2d(32, 32, (3, 3), (1, 1)),\n",
        "            nn.BatchNorm2d(num_features=32),\n",
        "            nn.ReLU(),\n",
        "            nn.MaxPool2d((2, 2), (2, 2)),\n",
        "            nn.Flatten()\n",
        "        )\n",
        "        self.linear = nn.Sequential(\n",
        "            nn.Linear(512, 256),\n",
        "            nn.BatchNorm1d(num_features=256),\n",
        "            nn.ReLU(),\n",
        "            nn.Linear(256, self.num_classes)\n",
        "        )\n",
        "\n",
        "    def forward(self, x):\n",
        "        features = self.backbone(x)\n",
        "        logits = self.linear(features)\n",
        "        return logits\n",
        "\n",
        "    def get_grad_cam_target_layer(self):\n",
        "        return self.backbone[-3]"
      ],
      "metadata": {
        "id": "VGgA9ky30ZMk"
      },
      "execution_count": 36,
      "outputs": []
    },
    {
      "cell_type": "code",
      "execution_count": 37,
      "metadata": {
        "id": "8ROjx8uF04n7"
      },
      "outputs": [],
      "source": [
        "import torch.optim as optim\n",
        "from sklearn.metrics import accuracy_score, precision_score, recall_score, f1_score\n",
        "\n",
        "# Hyperparameters according to the paper\n",
        "lr = 0.01\n",
        "momentum = 0.9\n",
        "weight_decay = 1e-4\n",
        "batch_size = 128\n",
        "epochs = 20\n",
        "lr_decay_epochs = 25\n",
        "lr_decay_factor = 0.5\n",
        "number_of_classes = 2\n",
        "\n",
        "# Loss function\n",
        "loss_function = nn.CrossEntropyLoss()\n",
        "\n",
        "# Optimizer with the above presented hyperparameters\n",
        "model = SmallCNN(number_of_classes)\n",
        "optimizer = optim.SGD(model.parameters(), lr=lr, momentum=momentum, weight_decay=weight_decay)\n",
        "\n",
        "# Learning rate scheduler to decrease learning rate every lr_decay_epochs epochs\n",
        "lr_scheduler = optim.lr_scheduler.StepLR(optimizer, step_size=lr_decay_epochs, gamma=lr_decay_factor)"
      ]
    },
    {
      "cell_type": "markdown",
      "metadata": {
        "id": "e1ti6kBN9F5R"
      },
      "source": [
        "# Training and Testing\n",
        "Done with the specified parameters and models above"
      ]
    },
    {
      "cell_type": "markdown",
      "metadata": {
        "id": "-D2mbCXzwL-3"
      },
      "source": [
        "`test_model()` has:\n",
        "\n",
        "**Class-wise accuracy** - correctness of predictions for each class infividually. We expect improved class-wise accuracy for biased dataset after applying MaskTune. Before that, biased dataset should have low class-wise accuracy for the underrepresented classes.\n",
        "\n",
        "**Precision and Recall, F1 score** -\n",
        "\n",
        "*   Precision - how many of the predicted positive samples are actually positive\n",
        "*   Recall - how many of the actual positive samples are predicted as positive\n",
        "*   F1 score - balance between them\n",
        "We expect to see improvements in those metrics after applying MaskTune, especially for the biased dataset.\n",
        "\n",
        "**Confusion Matrix** - detailed breakdown of correct and incorrect classifications for each class. After applying Masktune, we should see the improvements in the main diagonal of the matrix (correct classifications)\n",
        "\n",
        "**Accuracy** - overall correctness of the predictions. Improvements in accuracy after applying Masktune is expected on both raw and biased datasets. Before that, accuracy might be lower on the biased dataset compared to the raw dataset due to the bias."
      ]
    },
    {
      "cell_type": "code",
      "execution_count": 38,
      "metadata": {
        "id": "8-qCeq790EaG"
      },
      "outputs": [],
      "source": [
        "def train_erm(model, dataloader, optimizer, loss_function, epochs=100):\n",
        "    for epoch in range(epochs):\n",
        "        model.train()  # Set the model to training mode\n",
        "        total_loss = 0.0\n",
        "        correct_predictions = 0\n",
        "        total_samples = 0\n",
        "\n",
        "        for xb, yb in dataloader:\n",
        "            optimizer.zero_grad()\n",
        "            preds = model(xb)\n",
        "            loss = loss_function(preds, yb)\n",
        "            loss.backward()\n",
        "            optimizer.step()\n",
        "\n",
        "            total_loss += loss.item() * xb.size(0)\n",
        "            correct_predictions += (preds.argmax(1) == yb).sum().item()\n",
        "            total_samples += xb.size(0)\n",
        "\n",
        "        epoch_loss = total_loss / total_samples\n",
        "        epoch_accuracy = correct_predictions / total_samples\n",
        "\n",
        "        print(f\"Epoch {epoch+1}/{epochs}, Loss: {epoch_loss:.4f}, Accuracy: {epoch_accuracy:.4f}\")\n",
        "\n",
        "        torch.save(model.state_dict(), f'/content/data/MNIST/CNN_checkpoint.pth')\n"
      ]
    },
    {
      "cell_type": "code",
      "execution_count": 39,
      "metadata": {
        "id": "pmmuI9Q3y4nh"
      },
      "outputs": [],
      "source": [
        "def test_model(model, dataloader, loss_function, num_classes=2):\n",
        "    model.eval()  # Set the model to evaluation mode\n",
        "    total_loss = 0.0\n",
        "    correct_predictions = 0\n",
        "    total_samples = 0\n",
        "\n",
        "    class_correct = [0] * num_classes\n",
        "    class_samples = [0] * num_classes\n",
        "\n",
        "    all_preds = []\n",
        "    all_labels = []\n",
        "\n",
        "    with torch.no_grad():\n",
        "        for xb, yb in dataloader:\n",
        "            preds = model(xb)\n",
        "            loss = loss_function(preds, yb)\n",
        "\n",
        "            total_loss += loss.item() * xb.size(0)\n",
        "            correct_predictions += (preds.argmax(1) == yb).sum().item()\n",
        "            total_samples += xb.size(0)\n",
        "\n",
        "            for i in range(len(yb)):\n",
        "                label = yb[i].item()\n",
        "                pred = preds.argmax(1)[i].item()\n",
        "                all_preds.append(pred)\n",
        "                all_labels.append(label)\n",
        "                if label == pred:\n",
        "                    class_correct[label] += 1\n",
        "                class_samples[label] += 1\n",
        "\n",
        "    average_loss = total_loss / total_samples\n",
        "    accuracy = correct_predictions / total_samples\n",
        "    class_accuracy = [class_correct[i] / class_samples[i] if class_samples[i] > 0 else 0 for i in range(num_classes)]\n",
        "\n",
        "    print(f\"Test Loss: {average_loss:.4f}, Accuracy: {accuracy:.4f}\")\n",
        "    for i in range(num_classes):\n",
        "        print(f\"Class {i} Accuracy: {class_accuracy[i]:.4f}\")\n",
        "\n",
        "    conf_matrix = confusion_matrix(all_labels, all_preds)\n",
        "    precision = precision_score(all_labels, all_preds, average='macro')\n",
        "    recall = recall_score(all_labels, all_preds, average='macro')\n",
        "    f1 = f1_score(all_labels, all_preds, average='macro')\n",
        "\n",
        "    print(f\"Confusion Matrix:\\n{conf_matrix}\")\n",
        "    print(f\"Precision: {precision:.4f}\")\n",
        "    print(f\"Recall: {recall:.4f}\")\n",
        "    print(f\"F1 Score: {f1:.4f}\")\n"
      ]
    },
    {
      "cell_type": "code",
      "source": [
        "# Train the model with biased training dataset\n",
        "train_erm(model, train_spurious_dataloader, optimizer, loss_function, epochs=5)\n",
        "\n",
        "# Test the model on the raw test dataset\n",
        "print(\"\\033[1m \\033[93m Testing on Raw Test Dataset: \\033[0m\")  # Bold and yellow text\n",
        "test_model(model, test_raw_dataloader, loss_function)\n",
        "\n",
        "# Test the model on the biased test dataset\n",
        "print(\"\\033[1m \\033[93m Testing on Biased Test Dataset: \\033[0m\") # Reset formatting\n",
        "test_model(model, test_spurious_dataloader, loss_function)\n"
      ],
      "metadata": {
        "colab": {
          "base_uri": "https://localhost:8080/"
        },
        "id": "w8rt9so94sew",
        "outputId": "e1f8f7cb-22cb-4f09-b32c-3e120c7f6913"
      },
      "execution_count": 40,
      "outputs": [
        {
          "output_type": "stream",
          "name": "stdout",
          "text": [
            "Epoch 1/5, Loss: 0.0340, Accuracy: 0.9882\n",
            "Epoch 2/5, Loss: 0.0102, Accuracy: 0.9969\n",
            "Epoch 3/5, Loss: 0.0061, Accuracy: 0.9984\n",
            "Epoch 4/5, Loss: 0.0036, Accuracy: 0.9992\n",
            "Epoch 5/5, Loss: 0.0022, Accuracy: 0.9997\n",
            "\u001b[1m \u001b[93m Testing on Raw Test Dataset: \u001b[0m\n",
            "Test Loss: 0.1702, Accuracy: 0.9381\n",
            "Class 0 Accuracy: 0.8821\n",
            "Class 1 Accuracy: 0.9973\n",
            "Confusion Matrix:\n",
            "[[4533  606]\n",
            " [  13 4848]]\n",
            "Precision: 0.9430\n",
            "Recall: 0.9397\n",
            "F1 Score: 0.9380\n",
            "\u001b[1m \u001b[93m Testing on Biased Test Dataset: \u001b[0m\n",
            "Test Loss: 0.5044, Accuracy: 0.8287\n",
            "Class 0 Accuracy: 0.8821\n",
            "Class 1 Accuracy: 0.7723\n",
            "Confusion Matrix:\n",
            "[[4533  606]\n",
            " [1107 3754]]\n",
            "Precision: 0.8324\n",
            "Recall: 0.8272\n",
            "F1 Score: 0.8277\n"
          ]
        }
      ]
    },
    {
      "cell_type": "code",
      "source": [
        "def generate_saliency_map(model, checkpoint_path, dataloader, threshold=0.5):\n",
        "    # Load the model checkpoint\n",
        "    checkpoint = torch.load(checkpoint_path)\n",
        "    model.load_state_dict(checkpoint)\n",
        "    model.eval()  # Set the model to evaluation mode\n",
        "\n",
        "    target_layer = model.get_grad_cam_target_layer()\n",
        "    cam = XGradCAM(model, target_layer)\n",
        "\n",
        "    masked_dataset = []\n",
        "    saliency_maps = []\n",
        "    original_images = []\n",
        "    masked_images = []\n",
        "\n",
        "    for data, labels in dataloader:\n",
        "        for i in range(data.size(0)):\n",
        "            sample_data = data[i]\n",
        "            sample_class = labels[i].item()\n",
        "\n",
        "            # Prepare the input tensor\n",
        "            input_tensor = sample_data.unsqueeze(0)  # Add batch dimension\n",
        "\n",
        "            # Generate the saliency map using XGradCAM\n",
        "            output = model(input_tensor)\n",
        "            saliency_map = cam(class_idx=[sample_class], scores=output)\n",
        "\n",
        "            # Convert the saliency map tensor to a numpy array\n",
        "            saliency_map_np = saliency_map[0].detach().cpu().numpy()\n",
        "\n",
        "            # Reshape the saliency map to 2D\n",
        "            saliency_map_np = saliency_map_np.reshape(saliency_map_np.shape[1:])\n",
        "\n",
        "            # Create mask\n",
        "            mask = create_mask(saliency_map_np, threshold=threshold)\n",
        "\n",
        "            # Apply mask\n",
        "            masked_image = apply_mask(sample_data, mask)\n",
        "\n",
        "            # Append masked image and label to the new dataset\n",
        "            masked_dataset.append((masked_image, labels[i]))\n",
        "            saliency_maps.append(saliency_map_np)\n",
        "            original_images.append(sample_data)\n",
        "            masked_images.append(masked_image)\n",
        "\n",
        "    return masked_dataset, saliency_maps, original_images, masked_images\n",
        "\n",
        "def create_mask(saliency_map, threshold=0.5):\n",
        "    # Normalize the saliency map to the range [0, 1]\n",
        "    saliency_map_normalized = (saliency_map - np.min(saliency_map)) / (np.max(saliency_map) - np.min(saliency_map))\n",
        "\n",
        "    # Create a mask where the saliency map values are above the threshold\n",
        "    mask = saliency_map_normalized > threshold\n",
        "\n",
        "    return mask.astype(np.float32)\n",
        "\n",
        "def apply_mask(image, mask):\n",
        "    # Ensure the mask has the same height and width as the image\n",
        "    mask_resized = cv2.resize(mask, (image.shape[2], image.shape[1]))\n",
        "\n",
        "    # Apply the mask to the image (inverted mask to zero out the active regions)\n",
        "    mask_resized_tensor = torch.tensor(1 - mask_resized).float().unsqueeze(0)\n",
        "    masked_image = image * mask_resized_tensor\n",
        "\n",
        "    return masked_image\n",
        "\n",
        "def plot_saliency_and_mask(image, saliency_map, mask, masked_image):\n",
        "    # Convert the image tensor to a numpy array\n",
        "    image_np = image.permute(1, 2, 0).cpu().numpy()\n",
        "    masked_image_np = masked_image.permute(1, 2, 0).cpu().numpy()\n",
        "\n",
        "    # Resize the saliency map and mask to match the image size\n",
        "    saliency_map_resized = cv2.resize(saliency_map, (image_np.shape[1], image_np.shape[0]))\n",
        "    mask_resized = cv2.resize(mask, (image_np.shape[1], image_np.shape[0]))\n",
        "\n",
        "    # Normalize the saliency map\n",
        "    saliency_map_resized = (saliency_map_resized - np.min(saliency_map_resized)) / (np.max(saliency_map_resized) - np.min(saliency_map_resized))\n",
        "\n",
        "    # Apply colormap to saliency map\n",
        "    saliency_map_colored = cv2.applyColorMap(np.uint8(255 * saliency_map_resized), cv2.COLORMAP_JET)\n",
        "    saliency_map_colored = saliency_map_colored / 255.0  # Normalize to [0, 1]\n",
        "\n",
        "    # Overlay the saliency map on the original image\n",
        "    overlay = 0.5 * image_np + 0.5 * saliency_map_colored\n",
        "\n",
        "    # Plot the original image, saliency map, mask, and masked image\n",
        "    fig, axes = plt.subplots(1, 4, figsize=(12, 3))  # Adjust figsize for compact layout\n",
        "    fig.subplots_adjust(wspace=0.1)  # Adjust space between subplots\n",
        "\n",
        "    axes[0].set_title('Original Image')\n",
        "    axes[0].imshow(image_np)\n",
        "    axes[0].axis('off')\n",
        "\n",
        "    axes[1].set_title('Saliency Map')\n",
        "    axes[1].imshow(overlay)\n",
        "    axes[1].axis('off')\n",
        "\n",
        "    axes[2].set_title('Mask')\n",
        "    axes[2].imshow(mask_resized, cmap='gray')\n",
        "    axes[2].axis('off')\n",
        "\n",
        "    axes[3].set_title('Masked Image')\n",
        "    axes[3].imshow(masked_image_np)\n",
        "    axes[3].axis('off')\n",
        "\n",
        "    plt.show()\n",
        "\n"
      ],
      "metadata": {
        "id": "pGW_Lf4OOKSj"
      },
      "execution_count": 41,
      "outputs": []
    },
    {
      "cell_type": "code",
      "source": [
        "# Example usage:\n",
        "model = SmallCNN(num_classes=2)\n",
        "masked_train_dataset, saliency_maps, original_images, masked_images = generate_saliency_map(model, '/content/data/MNIST/CNN_checkpoint.pth', train_spurious_dataloader, threshold=0.5)\n",
        "masked_train_dataloader = DataLoader(masked_train_dataset, batch_size=batch_size, shuffle=True)\n",
        "\n",
        "# Plot some saliency maps, masks, and masked images\n",
        "for i in range(5):  # Plot the first 5 samples\n",
        "    plot_saliency_and_mask(original_images[i], saliency_maps[i], create_mask(saliency_maps[i], threshold=0.3), masked_images[i])"
      ],
      "metadata": {
        "colab": {
          "base_uri": "https://localhost:8080/",
          "height": 1000
        },
        "id": "fg0L47Obrwly",
        "outputId": "e09dccb7-e883-4788-95db-2f5e864d701c"
      },
      "execution_count": 42,
      "outputs": [
        {
          "output_type": "display_data",
          "data": {
            "text/plain": [
              "<Figure size 1200x300 with 4 Axes>"
            ],
            "image/png": "[encoded data removed]"
          },
          "metadata": {}
        },
        {
          "output_type": "display_data",
          "data": {
            "text/plain": [
              "<Figure size 1200x300 with 4 Axes>"
            ],
            "image/png": "[encoded data removed]"
          },
          "metadata": {}
        },
        {
          "output_type": "display_data",
          "data": {
            "text/plain": [
              "<Figure size 1200x300 with 4 Axes>"
            ],
            "image/png": "[encoded data removed]"
          },
          "metadata": {}
        },
        {
          "output_type": "display_data",
          "data": {
            "text/plain": [
              "<Figure size 1200x300 with 4 Axes>"
            ],
            "image/png": "[encoded data removed]"
          },
          "metadata": {}
        },
        {
          "output_type": "display_data",
          "data": {
            "text/plain": [
              "<Figure size 1200x300 with 4 Axes>"
            ],
            "image/png": "[encoded data removed]"
          },
          "metadata": {}
        }
      ]
    },
    {
      "cell_type": "code",
      "source": [
        "# 1. Load the pre-trained model\n",
        "model = SmallCNN(num_classes=2)\n",
        "checkpoint_path = '/content/data/MNIST/CNN_checkpoint.pth'\n",
        "model.load_state_dict(torch.load(checkpoint_path))\n",
        "\n",
        "# 2. Define fine-tuning parameters (optional)\n",
        "learning_rate = 0.001\n",
        "epochs = 5\n",
        "optimizer = optim.Adam(model.parameters(), lr=learning_rate)\n",
        "\n",
        "# 3. Create fine-tuning dataloader\n",
        "masked_train_dataloader = DataLoader(masked_train_dataset, batch_size=batch_size, shuffle=True)\n",
        "\n",
        "# 4. Fine-tuning loop\n",
        "loss_function = nn.CrossEntropyLoss()\n",
        "\n",
        "model.train()\n",
        "for epoch in range(epochs):\n",
        "    total_loss = 0.0\n",
        "    correct_predictions = 0\n",
        "    total_samples = 0\n",
        "\n",
        "    for xb, yb in masked_train_dataloader:\n",
        "        optimizer.zero_grad()\n",
        "        preds = model(xb)\n",
        "        loss = loss_function(preds, yb)\n",
        "        loss.backward()\n",
        "        optimizer.step()\n",
        "\n",
        "        total_loss += loss.item() * xb.size(0)\n",
        "        correct_predictions += (preds.argmax(1) == yb).sum().item()\n",
        "        total_samples += xb.size(0)\n",
        "\n",
        "    epoch_loss = total_loss / total_samples\n",
        "    epoch_accuracy = correct_predictions / total_samples\n",
        "\n",
        "    print(f\"Fine-tuning Epoch {epoch+1}/{epochs}, Loss: {epoch_loss:.4f}, Accuracy: {epoch_accuracy:.4f}\")\n",
        "\n",
        "# 5. Evaluate fine-tuned model (example using test_raw dataloader)\n",
        "test_model(model, test_raw_dataloader, loss_function)\n"
      ],
      "metadata": {
        "colab": {
          "base_uri": "https://localhost:8080/"
        },
        "id": "ILj5Hs8-OmGj",
        "outputId": "e3ea3d75-8b22-4126-bb3a-f6ce23d27228"
      },
      "execution_count": 43,
      "outputs": [
        {
          "output_type": "stream",
          "name": "stdout",
          "text": [
            "Fine-tuning Epoch 1/5, Loss: 0.0136, Accuracy: 0.9957\n",
            "Fine-tuning Epoch 2/5, Loss: 0.0043, Accuracy: 0.9988\n",
            "Fine-tuning Epoch 3/5, Loss: 0.0032, Accuracy: 0.9989\n",
            "Fine-tuning Epoch 4/5, Loss: 0.0028, Accuracy: 0.9991\n",
            "Fine-tuning Epoch 5/5, Loss: 0.0018, Accuracy: 0.9993\n",
            "Test Loss: 0.2070, Accuracy: 0.9319\n",
            "Class 0 Accuracy: 0.8762\n",
            "Class 1 Accuracy: 0.9907\n",
            "Confusion Matrix:\n",
            "[[4503  636]\n",
            " [  45 4816]]\n",
            "Precision: 0.9367\n",
            "Recall: 0.9335\n",
            "F1 Score: 0.9318\n"
          ]
        }
      ]
    },
    {
      "cell_type": "code",
      "source": [
        "test_model(model, test_spurious_dataloader, loss_function)"
      ],
      "metadata": {
        "colab": {
          "base_uri": "https://localhost:8080/"
        },
        "id": "_aVGAPyBr2JB",
        "outputId": "bf3a912d-0080-463b-89f3-5e868479c178"
      },
      "execution_count": 44,
      "outputs": [
        {
          "output_type": "stream",
          "name": "stdout",
          "text": [
            "Test Loss: 0.2137, Accuracy: 0.9302\n",
            "Class 0 Accuracy: 0.8762\n",
            "Class 1 Accuracy: 0.9872\n",
            "Confusion Matrix:\n",
            "[[4503  636]\n",
            " [  62 4799]]\n",
            "Precision: 0.9347\n",
            "Recall: 0.9317\n",
            "F1 Score: 0.9301\n"
          ]
        }
      ]
    },
    {
      "cell_type": "markdown",
      "metadata": {
        "id": "03mdSJ74xEDP"
      },
      "source": [
        "# Masktune\n",
        "After the initial training with the empirical risk minimization, let's apply Masktune, which incorporates:\n",
        "\n",
        "- **Mask Generation** - identifying and masking the most influential, potentially spurious features\n",
        "\n",
        "- **Mask Application and Finetunning** - by finetuning the model with the masked data, it is forced to explore less prominent and potentially more descriptive non-spurious features.\n",
        "\n",
        "- **Iteratarions** - enable us to adjust the depth of the feature depth and descriptiveness."
      ]
    },
    {
      "cell_type": "markdown",
      "metadata": {
        "id": "UZ1C-PZh8xK2"
      },
      "source": [
        "## Mask Generation\n",
        "\n",
        "1.   **Train the model using** Empirical Risk Minimization (**ERM**)\n",
        "2.   **Identify the spurious features** / class activations from saliency maps. In case of present spurious features, the method will likely identify the spurious feature, while for the input without any spurious features, the function will identify the most prominent features to mask, forcing the training to escape its myopic and greedy feature-seeking approach and encouraging and leveraging more input variables [1]\n",
        "3.  **Generate masks** to cover the most discriminatory features discovered in the saliency maps.\n",
        "4.  The generated masks from the step 3 will be applied to the dataset\n",
        "5.  We will fine-tune the pretrained ERM model on newly masked dataset onlt for one epoch."
      ]
    },
    {
      "cell_type": "code",
      "source": [
        "import torch\n",
        "import torch.nn as nn\n",
        "import torch.optim as optim\n",
        "from torch.utils.data import DataLoader\n",
        "import random\n",
        "\n",
        "class SmallCNN(nn.Module):\n",
        "    def __init__(self, num_classes):\n",
        "        super().__init__()\n",
        "        self.num_classes = num_classes\n",
        "        self.backbone = nn.Sequential(\n",
        "            nn.Conv2d(3, 16, (3, 3), (1, 1)),\n",
        "            nn.BatchNorm2d(16),\n",
        "            nn.ReLU(),\n",
        "            nn.Conv2d(16, 16, (3, 3), (1, 1)),\n",
        "            nn.BatchNorm2d(num_features=16),\n",
        "            nn.ReLU(),\n",
        "            nn.MaxPool2d((2, 2), (2, 2)),\n",
        "            nn.Conv2d(16, 32, (3, 3), (1, 1)),\n",
        "            nn.BatchNorm2d(num_features=32),\n",
        "            nn.ReLU(),\n",
        "            nn.Conv2d(32, 32, (3, 3), (1, 1)),\n",
        "            nn.BatchNorm2d(num_features=32),\n",
        "            nn.ReLU(),\n",
        "            nn.MaxPool2d((2, 2), (2, 2)),\n",
        "            nn.Flatten()\n",
        "        )\n",
        "        self.linear = nn.Sequential(\n",
        "            nn.Linear(512, 256),\n",
        "            nn.BatchNorm1d(num_features=256),\n",
        "            nn.ReLU(),\n",
        "            nn.Linear(256, self.num_classes)\n",
        "        )\n",
        "\n",
        "    def forward(self, x):\n",
        "        features = self.backbone(x)\n",
        "        logits = self.linear(features)\n",
        "        return logits\n",
        "\n",
        "    def get_grad_cam_target_layer(self):\n",
        "        return self.backbone[-3]\n",
        "\n",
        "def train_erm(model, dataloader, epochs=1, learning_rate=0.01, momentum=0.9, weight_decay=1e-4, save_path='cnn_checkpoint.pth'):\n",
        "    optimizer = optim.SGD(model.parameters(), lr=learning_rate, momentum=momentum, weight_decay=weight_decay)\n",
        "    loss_function = nn.CrossEntropyLoss()\n",
        "\n",
        "    for epoch in range(epochs):\n",
        "        model.train()\n",
        "        total_loss = 0.0\n",
        "        correct_predictions = 0\n",
        "        total_samples = 0\n",
        "\n",
        "        for xb, yb in dataloader:\n",
        "            optimizer.zero_grad()\n",
        "            preds = model(xb)\n",
        "            loss = loss_function(preds, yb)\n",
        "            loss.backward()\n",
        "            optimizer.step()\n",
        "\n",
        "            total_loss += loss.item() * xb.size(0)\n",
        "            correct_predictions += (preds.argmax(1) == yb).sum().item()\n",
        "            total_samples += xb.size(0)\n",
        "\n",
        "        epoch_loss = total_loss / total_samples\n",
        "        epoch_accuracy = correct_predictions / total_samples\n",
        "\n",
        "        print(f\"Epoch {epoch+1}/{epochs}, Loss: {epoch_loss:.4f}, Accuracy: {epoch_accuracy:.4f}\")\n",
        "        torch.save(model.state_dict(), save_path)\n",
        "\n",
        "# Example usage:\n",
        "model = SmallCNN(num_classes=2)\n",
        "train_erm(model, biased_train_dataloader, epochs=1, save_path='/content/data/MNIST/CNN_checkpoint.pth')\n"
      ],
      "metadata": {
        "id": "gWFyGy5m3sZx",
        "colab": {
          "base_uri": "https://localhost:8080/",
          "height": 176
        },
        "outputId": "0f4a3cb1-8b9c-4541-a8c2-8fd53c346856"
      },
      "execution_count": 45,
      "outputs": [
        {
          "output_type": "error",
          "ename": "NameError",
          "evalue": "name 'biased_train_dataloader' is not defined",
          "traceback": [
            "\u001b[0;31m---------------------------------------------------------------------------\u001b[0m",
            "\u001b[0;31mNameError\u001b[0m                                 Traceback (most recent call last)",
            "\u001b[0;32m<ipython-input-45-b5087a665aff>\u001b[0m in \u001b[0;36m<cell line: 72>\u001b[0;34m()\u001b[0m\n\u001b[1;32m     70\u001b[0m \u001b[0;31m# Example usage:\u001b[0m\u001b[0;34m\u001b[0m\u001b[0;34m\u001b[0m\u001b[0m\n\u001b[1;32m     71\u001b[0m \u001b[0mmodel\u001b[0m \u001b[0;34m=\u001b[0m \u001b[0mSmallCNN\u001b[0m\u001b[0;34m(\u001b[0m\u001b[0mnum_classes\u001b[0m\u001b[0;34m=\u001b[0m\u001b[0;36m2\u001b[0m\u001b[0;34m)\u001b[0m\u001b[0;34m\u001b[0m\u001b[0;34m\u001b[0m\u001b[0m\n\u001b[0;32m---> 72\u001b[0;31m \u001b[0mtrain_erm\u001b[0m\u001b[0;34m(\u001b[0m\u001b[0mmodel\u001b[0m\u001b[0;34m,\u001b[0m \u001b[0mbiased_train_dataloader\u001b[0m\u001b[0;34m,\u001b[0m \u001b[0mepochs\u001b[0m\u001b[0;34m=\u001b[0m\u001b[0;36m1\u001b[0m\u001b[0;34m,\u001b[0m \u001b[0msave_path\u001b[0m\u001b[0;34m=\u001b[0m\u001b[0;34m'/content/data/MNIST/CNN_checkpoint.pth'\u001b[0m\u001b[0;34m)\u001b[0m\u001b[0;34m\u001b[0m\u001b[0;34m\u001b[0m\u001b[0m\n\u001b[0m",
            "\u001b[0;31mNameError\u001b[0m: name 'biased_train_dataloader' is not defined"
          ]
        }
      ]
    },
    {
      "cell_type": "code",
      "source": [
        "def test_model(model, dataloader, loss_function):\n",
        "    model.eval()\n",
        "    test_loss = 0\n",
        "    correct = 0\n",
        "    class_correct = [0 for _ in range(model.num_classes)]\n",
        "    class_total = [0 for _ in range(model.num_classes)]\n",
        "    confusion_matrix = np.zeros((model.num_classes, model.num_classes), dtype=int)\n",
        "\n",
        "    with torch.no_grad():\n",
        "        for xb, yb in dataloader:\n",
        "            preds = model(xb)\n",
        "            loss = loss_function(preds, yb)\n",
        "            test_loss += loss.item()\n",
        "            pred_class = preds.argmax(dim=1)\n",
        "            correct += (pred_class == yb).sum().item()\n",
        "\n",
        "            for i in range(len(pred_class)):\n",
        "                confusion_matrix[yb[i]][pred_class[i]] += 1\n",
        "                class_total[yb[i]] += 1\n",
        "                if pred_class[i] == yb[i]:\n",
        "                    class_correct[yb[i]] += 1\n",
        "\n",
        "    accuracy = correct / len(dataloader.dataset)\n",
        "    test_loss /= len(dataloader.dataset)\n",
        "\n",
        "    print(f\"Test Loss: {test_loss:.4f}, Accuracy: {accuracy:.4f}\")\n",
        "    for i in range(model.num_classes):\n",
        "        print(f\"Class {i} Accuracy: {100 * class_correct[i] / class_total[i]:.4f}\")\n",
        "    print(\"Confusion Matrix:\")\n",
        "    print(confusion_matrix)\n",
        "\n",
        "# Example usage:\n",
        "model = SmallCNN(num_classes=2)\n",
        "loss_function = nn.CrossEntropyLoss()\n",
        "test_model(model, raw_test_dataloader, loss_function)\n",
        "test_model(model, biased_test_dataloader, loss_function)\n"
      ],
      "metadata": {
        "id": "kUxzCWgWBG7L"
      },
      "execution_count": null,
      "outputs": []
    },
    {
      "cell_type": "code",
      "source": [
        "import matplotlib.pyplot as plt\n",
        "import numpy as np\n",
        "import cv2\n",
        "from torchvision import transforms\n",
        "# from pytorch_grad_cam import XGradCAM\n",
        "\n",
        "# def generate_saliency_map(model, checkpoint_path, dataloader, threshold=0.5):\n",
        "#     # Load the model checkpoint\n",
        "#     checkpoint = torch.load(checkpoint_path)\n",
        "#     model.load_state_dict(checkpoint)\n",
        "#     model.eval()  # Set the model to evaluation mode\n",
        "\n",
        "#     target_layer = model.get_grad_cam_target_layer()\n",
        "#     cam = XGradCAM(model, target_layer)\n",
        "\n",
        "#     masked_dataset = []\n",
        "#     saliency_maps = []\n",
        "#     original_images = []\n",
        "#     masked_images = []\n",
        "\n",
        "#     for data, labels in dataloader:\n",
        "#         for i in range(data.size(0)):\n",
        "#             sample_data = data[i]\n",
        "#             sample_class = labels[i].item()\n",
        "\n",
        "#             # Prepare the input tensor\n",
        "#             input_tensor = sample_data.unsqueeze(0)  # Add batch dimension\n",
        "\n",
        "#             # Generate the saliency map using XGradCAM\n",
        "#             output = model(input_tensor)\n",
        "#             saliency_map = cam(class_idx=[sample_class], scores=output)\n",
        "\n",
        "#             # Convert the saliency map tensor to a numpy array\n",
        "#             saliency_map_np = saliency_map[0].detach().cpu().numpy()\n",
        "\n",
        "#             # Reshape the saliency map to 2D\n",
        "#             saliency_map_np = saliency_map_np.reshape(saliency_map_np.shape[1:])\n",
        "\n",
        "#             # Create mask\n",
        "#             mask = create_mask(saliency_map_np, threshold=threshold)\n",
        "\n",
        "#             # Apply mask\n",
        "#             masked_image = apply_mask(sample_data, mask)\n",
        "\n",
        "#             # Append masked image and label to the new dataset\n",
        "#             masked_dataset.append((masked_image, labels[i]))\n",
        "#             saliency_maps.append(saliency_map_np)\n",
        "#             original_images.append(sample_data)\n",
        "#             masked_images.append(masked_image)\n",
        "\n",
        "#     return masked_dataset, saliency_maps, original_images, masked_images\n",
        "\n",
        "# def create_mask(saliency_map, threshold=0.5):\n",
        "#     # Normalize the saliency map to the range [0, 1]\n",
        "#     saliency_map_normalized = (saliency_map - np.min(saliency_map)) / (np.max(saliency_map) - np.min(saliency_map))\n",
        "\n",
        "#     # Create a mask where the saliency map values are above the threshold\n",
        "#     mask = saliency_map_normalized > threshold\n",
        "\n",
        "#     return mask.astype(np.float32)\n",
        "\n",
        "# def apply_mask(image, mask):\n",
        "#     # Ensure the mask has the same height and width as the image\n",
        "#     mask_resized = cv2.resize(mask, (image.shape[2], image.shape[1]))\n",
        "\n",
        "#     # Apply the mask to the image (inverted mask to zero out the active regions)\n",
        "#     mask_resized_tensor = torch.tensor(1 - mask_resized).float().unsqueeze(0)\n",
        "#     masked_image = image * mask_resized_tensor\n",
        "\n",
        "#     return masked_image\n",
        "\n",
        "# def plot_saliency_and_mask(image, saliency_map, mask, masked_image):\n",
        "#     # Convert the image tensor to a numpy array\n",
        "#     image_np = image.permute(1, 2, 0).cpu().numpy()\n",
        "#     masked_image_np = masked_image.permute(1, 2, 0).cpu().numpy()\n",
        "\n",
        "#     # Resize the saliency map and mask to match the image size\n",
        "#     saliency_map_resized = cv2.resize(saliency_map, (image_np.shape[1], image_np.shape[0]))\n",
        "#     mask_resized = cv2.resize(mask, (image_np.shape[1], image_np.shape[0]))\n",
        "\n",
        "#     # Normalize the saliency map\n",
        "#     saliency_map_resized = (saliency_map_resized - np.min(saliency_map_resized)) / (np.max(saliency_map_resized) - np.min(saliency_map_resized))\n",
        "\n",
        "#     # Apply colormap to saliency map\n",
        "#     saliency_map_colored = cv2.applyColorMap(np.uint8(255 * saliency_map_resized), cv2.COLORMAP_JET)\n",
        "#     saliency_map_colored = saliency_map_colored / 255.0  # Normalize to [0, 1]\n",
        "\n",
        "#     # Overlay the saliency map on the original image\n",
        "#     overlay = 0.5 * image_np + 0.5 * saliency_map_colored\n",
        "\n",
        "#     # Plot the original image, saliency map, mask, and masked image\n",
        "#     fig, axes = plt.subplots(1, 4, figsize=(12, 3))  # Adjust figsize for compact layout\n",
        "#     fig.subplots_adjust(wspace=0.1)  # Adjust space between subplots\n",
        "\n",
        "#     axes[0].set_title('Original Image')\n",
        "#     axes[0].imshow(image_np)\n",
        "#     axes[0].axis('off')\n",
        "\n",
        "#     axes[1].set_title('Saliency Map')\n",
        "#     axes[1].imshow(overlay)\n",
        "#     axes[1].axis('off')\n",
        "\n",
        "#     axes[2].set_title('Mask')\n",
        "#     axes[2].imshow(mask_resized, cmap='gray')\n",
        "#     axes[2].axis('off')\n",
        "\n",
        "#     axes[3].set_title('Masked Image')\n",
        "#     axes[3].imshow(masked_image_np)\n",
        "#     axes[3].axis('off')\n",
        "\n",
        "#     plt.show()\n",
        "\n",
        "# Example usage:\n",
        "# model = SmallCNN(num_classes=2)\n",
        "# masked_train_dataset, saliency_maps, original_images, masked_images = generate_saliency_map(model, '/content/data/MNIST/CNN_checkpoint.pth', subset_train_spurious_dataloader, threshold=0.5)\n",
        "# masked_train_dataloader = DataLoader(masked_train_dataset, batch_size=batch_size, shuffle=True)\n",
        "\n",
        "# Plot some saliency maps, masks, and masked images\n",
        "# for i in range(5):  # Plot the first 5 samples\n",
        "#     plot_saliency_and_mask(original_images[i], saliency_maps[i], create_mask(saliency_maps[i], threshold=0.5), masked_images[i])\n",
        "\n",
        "# Example usage:\n",
        "# model = SmallCNN(num_classes=2)\n",
        "# sample_data, sample_class = remapped_spurious_train_data_tensor[0]\n",
        "# saliency_map = generate_saliency_map(model, '/content/data/MNIST/CNN_checkpoint.pth', sample_data, sample_class)\n",
        "# mask = create_mask(saliency_map, threshold=0.5)\n",
        "# masked_image = apply_mask(sample_data, mask)\n",
        "# plot_saliency_map(sample_data, saliency_map)\n",
        "# plot_saliency_map(masked_image, saliency_map)  # Visualize the masked image"
      ],
      "metadata": {
        "id": "H2LMh7-7BKBx"
      },
      "execution_count": null,
      "outputs": []
    },
    {
      "cell_type": "code",
      "source": [
        "# def mask_dataset(model, dataloader, checkpoint_path, threshold=0.5):\n",
        "#     model.eval()\n",
        "#     masked_dataset = []\n",
        "\n",
        "#     for data, label in dataloader:\n",
        "#         for i in range(data.size(0)):\n",
        "#             sample_data = data[i]\n",
        "#             sample_class = label[i].item()\n",
        "\n",
        "#             # Generate saliency map\n",
        "#             saliency_map = generate_saliency_map(model, checkpoint_path, sample_data, sample_class)\n",
        "\n",
        "#             # Create mask\n",
        "#             mask = create_mask(saliency_map, threshold=threshold)\n",
        "\n",
        "#             # Apply mask\n",
        "#             masked_image = apply_mask(sample_data, mask)\n",
        "\n",
        "#             # Append masked image and label to the new dataset\n",
        "#             masked_dataset.append((masked_image, label[i]))\n",
        "\n",
        "#     return masked_dataset\n",
        "\n",
        "# # Example usage:\n",
        "# # model = SmallCNN(num_classes=2)\n",
        "# # masked_train_dataset = mask_dataset(model, biased_train_dataloader, '/content/data/MNIST/CNN_checkpoint.pth', threshold=0.5)\n",
        "# # masked_train_dataloader = DataLoader(masked_train_dataset, batch_size=batch_size, shuffle=True)\n"
      ],
      "metadata": {
        "id": "lj-gcziQBJhy"
      },
      "execution_count": null,
      "outputs": []
    },
    {
      "cell_type": "code",
      "source": [
        "# Example usage:\n",
        "model = SmallCNN(num_classes=2)\n",
        "masked_train_dataset, saliency_maps, original_images, masked_images = generate_saliency_map(model, '/content/data/MNIST/CNN_checkpoint.pth', train_spurious_dataloader, threshold=0.5)\n",
        "masked_train_dataloader = DataLoader(masked_train_dataset, batch_size=batch_size, shuffle=True)\n",
        "\n",
        "# Plot some saliency maps, masks, and masked images\n",
        "for i in range(5):  # Plot the first 5 samples\n",
        "    plot_saliency_and_mask(original_images[i], saliency_maps[i], create_mask(saliency_maps[i], threshold=0.3), masked_images[i])"
      ],
      "metadata": {
        "id": "drqnQMuI3ssz"
      },
      "execution_count": null,
      "outputs": []
    },
    {
      "cell_type": "code",
      "source": [
        "# 1. Load the pre-trained model\n",
        "model = SmallCNN(num_classes=2)\n",
        "checkpoint_path = '/content/data/MNIST/CNN_checkpoint.pth'\n",
        "model.load_state_dict(torch.load(checkpoint_path))\n",
        "\n",
        "# 2. Generate pre-trained saliency maps and masks (optional)\n",
        "pre_train_masked_dataset, pre_train_saliency_maps, pre_train_original_images, pre_train_masked_images = generate_saliency_map(model, checkpoint_path, subset_train_spurious_dataloader, threshold=0.5)\n",
        "\n",
        "# 3. Define fine-tuning parameters (optional)\n",
        "learning_rate = 0.001\n",
        "epochs = 1\n",
        "optimizer = optim.Adam(model.parameters(), lr=learning_rate)\n",
        "\n",
        "# 4. Create fine-tuning dataloader\n",
        "masked_train_dataloader = DataLoader(masked_train_dataset, batch_size=batch_size, shuffle=True)\n",
        "\n",
        "# 5. Fine-tuning loop\n",
        "loss_function = nn.CrossEntropyLoss()\n",
        "\n",
        "model.train()\n",
        "for epoch in range(epochs):\n",
        "    total_loss = 0.0\n",
        "    correct_predictions = 0\n",
        "    total_samples = 0\n",
        "\n",
        "    for xb, yb in masked_train_dataloader:\n",
        "        optimizer.zero_grad()\n",
        "        preds = model(xb)\n",
        "        loss = loss_function(preds, yb)\n",
        "        loss.backward()\n",
        "        optimizer.step()\n",
        "\n",
        "        total_loss += loss.item() * xb.size(0)\n",
        "        correct_predictions += (preds.argmax(1) == yb).sum().item()\n",
        "        total_samples += xb.size(0)\n",
        "\n",
        "    epoch_loss = total_loss / total_samples\n",
        "    epoch_accuracy = correct_predictions / total_samples\n",
        "\n",
        "    print(f\"Fine-tuning Epoch {epoch+1}/{epochs}, Loss: {epoch_loss:.4f}, Accuracy: {epoch_accuracy:.4f}\")\n",
        "\n",
        "# 6. Save the fine-tuned model (optional)\n",
        "save_path = '/content/data/MNIST/CNN_finetuned_checkpoint.pth'\n",
        "torch.save(model.state_dict(), save_path)\n",
        "\n",
        "# 7. Generate saliency maps (after fine-tuning)\n",
        "finetuned_masked_dataset, finetuned_saliency_maps, finetuned_original_images, finetuned_masked_images = generate_saliency_map(model, save_path, subset_test_raw_dataloader, threshold=0.5)  # Use test data here\n",
        "\n",
        "# 8. Plot pre-trained and fine-tuned results\n",
        "for i in range(5):  # Plot the first 5 samples\n",
        "    # Pre-trained results (optional)\n",
        "    if pre_train_masked_dataset is not None:  # Check if pre-trained maps were generated\n",
        "        plot_saliency_and_mask(pre_train_original_images[i], pre_train_saliency_maps[i], create_mask(pre_train_saliency_maps[i], threshold=0.3), pre_train_masked_images[i])\n",
        "\n",
        "    # Fine-tuned results (using test data)\n",
        "    plot_saliency_and_mask(finetuned_original_images[i], finetuned_saliency_maps[i], create_mask(finetuned_saliency_maps[i], threshold=0.3), finetuned_masked_images[i])\n",
        "\n",
        "    # Masked image saliency map (using fine-tuned model on masked image)\n",
        "    masked_image_saliency_map = generate_saliency_map_from_masked_image(model, finetuned_masked_images[i])  # New function to generate saliency map for masked image\n",
        "    plot_saliency_and_mask(finetuned_masked_images[i], masked_image_saliency_map, None, None)  # No separate mask needed for masked image saliency\n"
      ],
      "metadata": {
        "id": "BhGnHRjyptmU"
      },
      "execution_count": null,
      "outputs": []
    },
    {
      "cell_type": "code",
      "source": [],
      "metadata": {
        "id": "e4mAefRN02EF"
      },
      "execution_count": null,
      "outputs": []
    },
    {
      "cell_type": "markdown",
      "metadata": {
        "id": "EwbD6_8B9Vwa"
      },
      "source": [
        "# Generating Saliency Map using XGradCAM\n",
        "Implementing explainability.\n",
        "Using the, for example, last convolutional layer from the trained CNN checkpoint to generate the gradient and hook.\n",
        "Pass a random instance from each class to the trained model. The model, target layer from the trained network and the network output are used to generate a saliency_map which is interpolated and projected onto the appropriate input image."
      ]
    },
    {
      "cell_type": "code",
      "execution_count": null,
      "metadata": {
        "id": "fdd_xUPMwML7"
      },
      "outputs": [],
      "source": [
        "# Load the model\n",
        "model = SmallCNN(num_classes=2)\n",
        "\n",
        "def generate_map(sample_data, sample_class):\n",
        "    checkpoint = torch.load('/content/data/MNIST/CNN_checkpoint.pth') # Load the saved model checkpoint\n",
        "    model.load_state_dict(checkpoint)\n",
        "    model.eval() # Set the model to evaluation mode\n",
        "\n",
        "    # Get the target layer\n",
        "    target_layer = model.get_grad_cam_target_layer() # Last convolutional layer is the target\n",
        "    # Prepare the input tensor\n",
        "    input_tensor = sample_data # a sample from the dataset passed to the function\n",
        "\n",
        "    cam = XGradCAM(model, target_layer)\n",
        "    output = model(input_tensor.unsqueeze(0))\n",
        "    saliency_map = cam(class_idx=sample_class, scores=output)\n",
        "\n",
        "    # Get the first saliency map tensor from the list\n",
        "    saliency_map_tensor = saliency_map[0]\n",
        "\n",
        "    # Convert the saliency map tensor to a numpy array\n",
        "    saliency_map_np = saliency_map_tensor.detach().cpu().numpy()\n",
        "\n",
        "    # Reshape the saliency map to 2D\n",
        "    saliency_map_np = saliency_map_np.reshape(saliency_map_np.shape[1:])\n",
        "\n",
        "    return saliency_map_np\n",
        "\n",
        "def interpolate_heatmap(input_tensor, saliency_map_np):\n",
        "    # Convert the input tensor to a numpy array image\n",
        "    input_img_np = input_tensor.permute(1, 2, 0).cpu().numpy()  # Change the shape from (C, H, W) to (H, W, C)\n",
        "    input_img_np = np.uint8(255 * input_img_np)\n",
        "\n",
        "    # Resize the saliency map to match the size of the original image\n",
        "    heatmap_resized = cv2.resize(saliency_map_np, (input_img_np.shape[1], input_img_np.shape[0]))\n",
        "\n",
        "    # Normalize the saliency map values to the range [0, 255]\n",
        "    heatmap_resized = (heatmap_resized - np.min(heatmap_resized)) / (np.max(heatmap_resized) - np.min(heatmap_resized)) * 255\n",
        "    heatmap_resized = np.uint8(heatmap_resized)\n",
        "\n",
        "    # Apply a colormap to the saliency map to convert it into a heatmap image\n",
        "    heatmap_colored = cv2.applyColorMap(heatmap_resized, cv2.COLORMAP_JET)\n",
        "\n",
        "    # Overlay the heatmap image onto the original image\n",
        "    superimposed_img = cv2.addWeighted(input_img_np, 0.7, heatmap_colored, 0.3, 0)\n",
        "\n",
        "    return superimposed_img\n",
        "\n",
        "# Dictionary to store interpolated images by class label\n",
        "interpolated_images_by_class = {}\n",
        "saliency_maps_by_class = {}\n",
        "\n",
        "# Function to generate and interpolate the heatmap for one instance of each class\n",
        "def generate_and_interpolate_heatmap_one_per_class():\n",
        "    # Create a dictionary to hold the data instances for each class\n",
        "    class_data_dict = {}\n",
        "\n",
        "    # Iterate through the training data\n",
        "    for data, label in remapped_spurious_train_data_tensor:\n",
        "        if label not in class_data_dict:\n",
        "            class_data_dict[label] = []\n",
        "        class_data_dict[label].append(data)\n",
        "\n",
        "    # Iterate through each class label\n",
        "    for class_label in range(2):  # Assuming 2 classes (0 and 1)\n",
        "        # Get the data instances for the specified class label\n",
        "        class_data = class_data_dict.get(class_label, [])\n",
        "\n",
        "        # Select one random instance from the class data\n",
        "        if class_data:\n",
        "            random_instance = random.choice(class_data)\n",
        "\n",
        "            # Generate the saliency map for the random instance\n",
        "            saliency_map_np = generate_map(random_instance, class_label)\n",
        "\n",
        "            # Interpolate the heatmap for the random instance\n",
        "            interpolated_img = interpolate_heatmap(random_instance, saliency_map_np)\n",
        "\n",
        "            # Store the interpolated image in the dictionary by class label\n",
        "            interpolated_images_by_class[class_label] = interpolated_img\n",
        "\n",
        "            saliency_maps_by_class[class_label] = saliency_map_np\n",
        "\n",
        "# Generate interpolated images for one instance per class\n",
        "generate_and_interpolate_heatmap_one_per_class()\n",
        "\n",
        "# Plot the interpolated images and saliency maps together\n",
        "fig, axs = plt.subplots(2, 2, figsize=(4, 4))  # Adjust figsize for square plot\n",
        "\n",
        "for i, ax in enumerate(axs.flat):\n",
        "  class_label = i // number_of_classes # Different for each dataset\n",
        "  interpolated_img = interpolated_images_by_class.get(class_label)\n",
        "  saliency_map_by_class = saliency_maps_by_class.get(class_label)  # Assuming separate dictionary\n",
        "\n",
        "  if interpolated_img is not None:\n",
        "    # Display the interpolated image on the top half of the subplot\n",
        "    axs[i // 2, 0].imshow(interpolated_img)\n",
        "    axs[i // 2, 0].axis('off')\n",
        "    axs[i // 2, 0].set_title(f'Class {class_label} - Image')\n",
        "\n",
        "    # Display the saliency map on the bottom half of the subplot\n",
        "    axs[i // 2, 1].imshow(saliency_map_by_class)  # Assuming saliency map format is compatible\n",
        "    axs[i // 2, 1].axis('off')\n",
        "    axs[i // 2, 1].set_title(f'Class {class_label} - Saliency Map')\n",
        "\n",
        "  else:\n",
        "    axs[i].axis('off')\n",
        "\n",
        "plt.tight_layout()\n",
        "plt.show()\n",
        "\n"
      ]
    },
    {
      "cell_type": "code",
      "source": [],
      "metadata": {
        "id": "ULkXwNYL7RkF"
      },
      "execution_count": null,
      "outputs": []
    },
    {
      "cell_type": "markdown",
      "metadata": {
        "id": "2zzb23_ZU1Uf"
      },
      "source": [
        "TODO:\n",
        "start implementing MaskTune for MNIST\n",
        "\n",
        "- [x] **ISSUE:** The transformation function transforms every instance in the dataset instead of the ones of the chosen class\n",
        "- [x] Create a biased MNIST dataset - for it to work, induce spurious feature to one class so the model will pick up the easyeast detectable feature. If the bias is applied to every class, the result wont change because during training, the model is forced to focus on other features in order to predict correctly.\n",
        "- [ ] See how it performs compared to unbised MNIST\n",
        "\n",
        "---\n",
        "\n",
        "- [ ] def `finetune` (finetune erm checkpoint with ```masktune```)\n",
        "- [ ] def ```masktune```\n",
        "- [ ] def ```finetune```\n",
        "\n",
        "---\n",
        "\n",
        "- [ ] Compare performances and saliency matrices between unbiased and biased MNIST datasets\n",
        "\n",
        "\n",
        "\n"
      ]
    },
    {
      "cell_type": "code",
      "execution_count": null,
      "metadata": {
        "id": "ch_tT-25_JQQ"
      },
      "outputs": [],
      "source": []
    }
  ],
  "metadata": {
    "accelerator": "GPU",
    "colab": {
      "gpuType": "T4",
      "provenance": [],
      "authorship_tag": "ABX9TyNfTNbNfV4aG32x+G3LUtzp",
      "include_colab_link": true
    },
    "kernelspec": {
      "display_name": "Python 3",
      "name": "python3"
    },
    "language_info": {
      "name": "python"
    }
  },
  "nbformat": 4,
  "nbformat_minor": 0
}