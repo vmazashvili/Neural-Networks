{
  "nbformat": 4,
  "nbformat_minor": 0,
  "metadata": {
    "colab": {
      "provenance": [],
      "gpuType": "T4",
      "authorship_tag": "ABX9TyNbs6rBUIg4npm6/nekLKPM",
      "include_colab_link": true
    },
    "kernelspec": {
      "name": "python3",
      "display_name": "Python 3"
    },
    "language_info": {
      "name": "python"
    },
    "accelerator": "GPU"
  },
  "cells": [
    {
      "cell_type": "markdown",
      "metadata": {
        "id": "view-in-github",
        "colab_type": "text"
      },
      "source": [
        "<a href=\"https://colab.research.google.com/github/vmazashvili/Neural-Networks/blob/main/MaskTune_Vano_Mazashvili_1993251.ipynb\" target=\"_parent\"><img src=\"https://colab.research.google.com/assets/colab-badge.svg\" alt=\"Open In Colab\"/></a>"
      ]
    },
    {
      "cell_type": "markdown",
      "source": [
        "MaskTune Model\n",
        "\n",
        "- train an ERM Model (Empirical Risk Minimization)\n",
        "    - Load and normalize the CIFAR10 training and test datasets using torchvision\n",
        "\n",
        "    - Define a Convolutional Neural Network\n",
        "\n",
        "    - Define a loss function\n",
        "\n",
        "    - Train the network on the training data\n",
        "\n",
        "Test the network on the test data\n",
        "- Generate Masks based on Model Outputs\n",
        "- Fine-tune the Model with Masks\n",
        "- Testing and Evaluation"
      ],
      "metadata": {
        "id": "0Yjq3qMXaDTm"
      }
    },
    {
      "cell_type": "code",
      "source": [
        "!pip install torch torchvision timm\n",
        "!pip install torchcam\n",
        "!pip install pytorch-gradcam"
      ],
      "metadata": {
        "colab": {
          "base_uri": "https://localhost:8080/"
        },
        "id": "w4v38sj4upbb",
        "outputId": "303e9436-c90c-4e8e-cc31-e82f48a33e21"
      },
      "execution_count": 36,
      "outputs": [
        {
          "output_type": "stream",
          "name": "stdout",
          "text": [
            "Requirement already satisfied: torch in /usr/local/lib/python3.10/dist-packages (2.2.1+cu121)\n",
            "Requirement already satisfied: torchvision in /usr/local/lib/python3.10/dist-packages (0.17.1+cu121)\n",
            "Requirement already satisfied: timm in /usr/local/lib/python3.10/dist-packages (0.9.16)\n",
            "Requirement already satisfied: filelock in /usr/local/lib/python3.10/dist-packages (from torch) (3.14.0)\n",
            "Requirement already satisfied: typing-extensions>=4.8.0 in /usr/local/lib/python3.10/dist-packages (from torch) (4.11.0)\n",
            "Requirement already satisfied: sympy in /usr/local/lib/python3.10/dist-packages (from torch) (1.12)\n",
            "Requirement already satisfied: networkx in /usr/local/lib/python3.10/dist-packages (from torch) (3.3)\n",
            "Requirement already satisfied: jinja2 in /usr/local/lib/python3.10/dist-packages (from torch) (3.1.3)\n",
            "Requirement already satisfied: fsspec in /usr/local/lib/python3.10/dist-packages (from torch) (2023.6.0)\n",
            "Requirement already satisfied: nvidia-cuda-nvrtc-cu12==12.1.105 in /usr/local/lib/python3.10/dist-packages (from torch) (12.1.105)\n",
            "Requirement already satisfied: nvidia-cuda-runtime-cu12==12.1.105 in /usr/local/lib/python3.10/dist-packages (from torch) (12.1.105)\n",
            "Requirement already satisfied: nvidia-cuda-cupti-cu12==12.1.105 in /usr/local/lib/python3.10/dist-packages (from torch) (12.1.105)\n",
            "Requirement already satisfied: nvidia-cudnn-cu12==8.9.2.26 in /usr/local/lib/python3.10/dist-packages (from torch) (8.9.2.26)\n",
            "Requirement already satisfied: nvidia-cublas-cu12==12.1.3.1 in /usr/local/lib/python3.10/dist-packages (from torch) (12.1.3.1)\n",
            "Requirement already satisfied: nvidia-cufft-cu12==11.0.2.54 in /usr/local/lib/python3.10/dist-packages (from torch) (11.0.2.54)\n",
            "Requirement already satisfied: nvidia-curand-cu12==10.3.2.106 in /usr/local/lib/python3.10/dist-packages (from torch) (10.3.2.106)\n",
            "Requirement already satisfied: nvidia-cusolver-cu12==11.4.5.107 in /usr/local/lib/python3.10/dist-packages (from torch) (11.4.5.107)\n",
            "Requirement already satisfied: nvidia-cusparse-cu12==12.1.0.106 in /usr/local/lib/python3.10/dist-packages (from torch) (12.1.0.106)\n",
            "Requirement already satisfied: nvidia-nccl-cu12==2.19.3 in /usr/local/lib/python3.10/dist-packages (from torch) (2.19.3)\n",
            "Requirement already satisfied: nvidia-nvtx-cu12==12.1.105 in /usr/local/lib/python3.10/dist-packages (from torch) (12.1.105)\n",
            "Requirement already satisfied: triton==2.2.0 in /usr/local/lib/python3.10/dist-packages (from torch) (2.2.0)\n",
            "Requirement already satisfied: nvidia-nvjitlink-cu12 in /usr/local/lib/python3.10/dist-packages (from nvidia-cusolver-cu12==11.4.5.107->torch) (12.4.127)\n",
            "Requirement already satisfied: numpy in /usr/local/lib/python3.10/dist-packages (from torchvision) (1.25.2)\n",
            "Requirement already satisfied: pillow!=8.3.*,>=5.3.0 in /usr/local/lib/python3.10/dist-packages (from torchvision) (9.4.0)\n",
            "Requirement already satisfied: pyyaml in /usr/local/lib/python3.10/dist-packages (from timm) (6.0.1)\n",
            "Requirement already satisfied: huggingface_hub in /usr/local/lib/python3.10/dist-packages (from timm) (0.20.3)\n",
            "Requirement already satisfied: safetensors in /usr/local/lib/python3.10/dist-packages (from timm) (0.4.3)\n",
            "Requirement already satisfied: requests in /usr/local/lib/python3.10/dist-packages (from huggingface_hub->timm) (2.31.0)\n",
            "Requirement already satisfied: tqdm>=4.42.1 in /usr/local/lib/python3.10/dist-packages (from huggingface_hub->timm) (4.66.2)\n",
            "Requirement already satisfied: packaging>=20.9 in /usr/local/lib/python3.10/dist-packages (from huggingface_hub->timm) (24.0)\n",
            "Requirement already satisfied: MarkupSafe>=2.0 in /usr/local/lib/python3.10/dist-packages (from jinja2->torch) (2.1.5)\n",
            "Requirement already satisfied: mpmath>=0.19 in /usr/local/lib/python3.10/dist-packages (from sympy->torch) (1.3.0)\n",
            "Requirement already satisfied: charset-normalizer<4,>=2 in /usr/local/lib/python3.10/dist-packages (from requests->huggingface_hub->timm) (3.3.2)\n",
            "Requirement already satisfied: idna<4,>=2.5 in /usr/local/lib/python3.10/dist-packages (from requests->huggingface_hub->timm) (3.7)\n",
            "Requirement already satisfied: urllib3<3,>=1.21.1 in /usr/local/lib/python3.10/dist-packages (from requests->huggingface_hub->timm) (2.0.7)\n",
            "Requirement already satisfied: certifi>=2017.4.17 in /usr/local/lib/python3.10/dist-packages (from requests->huggingface_hub->timm) (2024.2.2)\n",
            "Requirement already satisfied: torchcam in /usr/local/lib/python3.10/dist-packages (0.4.0)\n",
            "Requirement already satisfied: torch<3.0.0,>=2.0.0 in /usr/local/lib/python3.10/dist-packages (from torchcam) (2.2.1+cu121)\n",
            "Requirement already satisfied: numpy<2.0.0,>=1.17.2 in /usr/local/lib/python3.10/dist-packages (from torchcam) (1.25.2)\n",
            "Requirement already satisfied: Pillow!=9.2.0,>=8.4.0 in /usr/local/lib/python3.10/dist-packages (from torchcam) (9.4.0)\n",
            "Requirement already satisfied: matplotlib<4.0.0,>=3.7.0 in /usr/local/lib/python3.10/dist-packages (from torchcam) (3.7.1)\n",
            "Requirement already satisfied: contourpy>=1.0.1 in /usr/local/lib/python3.10/dist-packages (from matplotlib<4.0.0,>=3.7.0->torchcam) (1.2.1)\n",
            "Requirement already satisfied: cycler>=0.10 in /usr/local/lib/python3.10/dist-packages (from matplotlib<4.0.0,>=3.7.0->torchcam) (0.12.1)\n",
            "Requirement already satisfied: fonttools>=4.22.0 in /usr/local/lib/python3.10/dist-packages (from matplotlib<4.0.0,>=3.7.0->torchcam) (4.51.0)\n",
            "Requirement already satisfied: kiwisolver>=1.0.1 in /usr/local/lib/python3.10/dist-packages (from matplotlib<4.0.0,>=3.7.0->torchcam) (1.4.5)\n",
            "Requirement already satisfied: packaging>=20.0 in /usr/local/lib/python3.10/dist-packages (from matplotlib<4.0.0,>=3.7.0->torchcam) (24.0)\n",
            "Requirement already satisfied: pyparsing>=2.3.1 in /usr/local/lib/python3.10/dist-packages (from matplotlib<4.0.0,>=3.7.0->torchcam) (3.1.2)\n",
            "Requirement already satisfied: python-dateutil>=2.7 in /usr/local/lib/python3.10/dist-packages (from matplotlib<4.0.0,>=3.7.0->torchcam) (2.8.2)\n",
            "Requirement already satisfied: filelock in /usr/local/lib/python3.10/dist-packages (from torch<3.0.0,>=2.0.0->torchcam) (3.14.0)\n",
            "Requirement already satisfied: typing-extensions>=4.8.0 in /usr/local/lib/python3.10/dist-packages (from torch<3.0.0,>=2.0.0->torchcam) (4.11.0)\n",
            "Requirement already satisfied: sympy in /usr/local/lib/python3.10/dist-packages (from torch<3.0.0,>=2.0.0->torchcam) (1.12)\n",
            "Requirement already satisfied: networkx in /usr/local/lib/python3.10/dist-packages (from torch<3.0.0,>=2.0.0->torchcam) (3.3)\n",
            "Requirement already satisfied: jinja2 in /usr/local/lib/python3.10/dist-packages (from torch<3.0.0,>=2.0.0->torchcam) (3.1.3)\n",
            "Requirement already satisfied: fsspec in /usr/local/lib/python3.10/dist-packages (from torch<3.0.0,>=2.0.0->torchcam) (2023.6.0)\n",
            "Requirement already satisfied: nvidia-cuda-nvrtc-cu12==12.1.105 in /usr/local/lib/python3.10/dist-packages (from torch<3.0.0,>=2.0.0->torchcam) (12.1.105)\n",
            "Requirement already satisfied: nvidia-cuda-runtime-cu12==12.1.105 in /usr/local/lib/python3.10/dist-packages (from torch<3.0.0,>=2.0.0->torchcam) (12.1.105)\n",
            "Requirement already satisfied: nvidia-cuda-cupti-cu12==12.1.105 in /usr/local/lib/python3.10/dist-packages (from torch<3.0.0,>=2.0.0->torchcam) (12.1.105)\n",
            "Requirement already satisfied: nvidia-cudnn-cu12==8.9.2.26 in /usr/local/lib/python3.10/dist-packages (from torch<3.0.0,>=2.0.0->torchcam) (8.9.2.26)\n",
            "Requirement already satisfied: nvidia-cublas-cu12==12.1.3.1 in /usr/local/lib/python3.10/dist-packages (from torch<3.0.0,>=2.0.0->torchcam) (12.1.3.1)\n",
            "Requirement already satisfied: nvidia-cufft-cu12==11.0.2.54 in /usr/local/lib/python3.10/dist-packages (from torch<3.0.0,>=2.0.0->torchcam) (11.0.2.54)\n",
            "Requirement already satisfied: nvidia-curand-cu12==10.3.2.106 in /usr/local/lib/python3.10/dist-packages (from torch<3.0.0,>=2.0.0->torchcam) (10.3.2.106)\n",
            "Requirement already satisfied: nvidia-cusolver-cu12==11.4.5.107 in /usr/local/lib/python3.10/dist-packages (from torch<3.0.0,>=2.0.0->torchcam) (11.4.5.107)\n",
            "Requirement already satisfied: nvidia-cusparse-cu12==12.1.0.106 in /usr/local/lib/python3.10/dist-packages (from torch<3.0.0,>=2.0.0->torchcam) (12.1.0.106)\n",
            "Requirement already satisfied: nvidia-nccl-cu12==2.19.3 in /usr/local/lib/python3.10/dist-packages (from torch<3.0.0,>=2.0.0->torchcam) (2.19.3)\n",
            "Requirement already satisfied: nvidia-nvtx-cu12==12.1.105 in /usr/local/lib/python3.10/dist-packages (from torch<3.0.0,>=2.0.0->torchcam) (12.1.105)\n",
            "Requirement already satisfied: triton==2.2.0 in /usr/local/lib/python3.10/dist-packages (from torch<3.0.0,>=2.0.0->torchcam) (2.2.0)\n",
            "Requirement already satisfied: nvidia-nvjitlink-cu12 in /usr/local/lib/python3.10/dist-packages (from nvidia-cusolver-cu12==11.4.5.107->torch<3.0.0,>=2.0.0->torchcam) (12.4.127)\n",
            "Requirement already satisfied: six>=1.5 in /usr/local/lib/python3.10/dist-packages (from python-dateutil>=2.7->matplotlib<4.0.0,>=3.7.0->torchcam) (1.16.0)\n",
            "Requirement already satisfied: MarkupSafe>=2.0 in /usr/local/lib/python3.10/dist-packages (from jinja2->torch<3.0.0,>=2.0.0->torchcam) (2.1.5)\n",
            "Requirement already satisfied: mpmath>=0.19 in /usr/local/lib/python3.10/dist-packages (from sympy->torch<3.0.0,>=2.0.0->torchcam) (1.3.0)\n",
            "Requirement already satisfied: pytorch-gradcam in /usr/local/lib/python3.10/dist-packages (0.2.1)\n",
            "Requirement already satisfied: opencv-python in /usr/local/lib/python3.10/dist-packages (from pytorch-gradcam) (4.8.0.76)\n",
            "Requirement already satisfied: numpy in /usr/local/lib/python3.10/dist-packages (from pytorch-gradcam) (1.25.2)\n"
          ]
        }
      ]
    },
    {
      "cell_type": "code",
      "source": [
        "import cv2\n",
        "import timm\n",
        "import torch\n",
        "import numpy as np\n",
        "import torchvision\n",
        "import matplotlib.pyplot as plt\n",
        "import torch.nn.functional as F\n",
        "from torch import nn\n",
        "from torch import optim\n",
        "from torchcam.methods import XGradCAM\n",
        "from torch.utils.data import DataLoader\n",
        "from torchvision import datasets, transforms\n",
        "from torchvision.transforms import ToTensor, Lambda"
      ],
      "metadata": {
        "id": "RVe71WOgg9ml"
      },
      "execution_count": 64,
      "outputs": []
    },
    {
      "cell_type": "markdown",
      "source": [
        "Load and normalize the MNIST training and test datasets using torchvision\n",
        "\n"
      ],
      "metadata": {
        "id": "b-gkEFw9icSs"
      }
    },
    {
      "cell_type": "code",
      "source": [
        "training_data = datasets.MNIST(\n",
        "    root = 'data',\n",
        "    train = True,\n",
        "    download = True,\n",
        "    transform = ToTensor()\n",
        ")\n",
        "\n",
        "test_data = datasets.MNIST(\n",
        "    root = 'data',\n",
        "    train = False,\n",
        "    download = True,\n",
        "    transform = ToTensor()\n",
        ")"
      ],
      "metadata": {
        "id": "H0bVY6qG_iAT"
      },
      "execution_count": 38,
      "outputs": []
    },
    {
      "cell_type": "code",
      "source": [
        "training_data[0][0].shape"
      ],
      "metadata": {
        "colab": {
          "base_uri": "https://localhost:8080/"
        },
        "id": "5lAppzbHCVT3",
        "outputId": "a4f72ca4-12b9-4be7-b86a-33796b12ef68"
      },
      "execution_count": 39,
      "outputs": [
        {
          "output_type": "execute_result",
          "data": {
            "text/plain": [
              "torch.Size([1, 28, 28])"
            ]
          },
          "metadata": {},
          "execution_count": 39
        }
      ]
    },
    {
      "cell_type": "code",
      "source": [
        "len(training_data)"
      ],
      "metadata": {
        "colab": {
          "base_uri": "https://localhost:8080/"
        },
        "id": "TVb_hJTsEWoL",
        "outputId": "fce9d211-3c46-48ae-f1e3-bf306500ed94"
      },
      "execution_count": 40,
      "outputs": [
        {
          "output_type": "execute_result",
          "data": {
            "text/plain": [
              "60000"
            ]
          },
          "metadata": {},
          "execution_count": 40
        }
      ]
    },
    {
      "cell_type": "markdown",
      "source": [
        "# Draw random numbers from the dataset with their lables\n",
        "Just a visual verification step confirming that we correctly loaded the dataset."
      ],
      "metadata": {
        "id": "_tlFrx4o77KX"
      }
    },
    {
      "cell_type": "code",
      "source": [
        "figure = plt.figure(figsize=(8,8))\n",
        "cols, rows = 4, 2\n",
        "for i in range(1, cols * rows + 1):\n",
        "    sample_idx = torch.randint(len(training_data), size=(1,)).item()\n",
        "    img, label = training_data[sample_idx]\n",
        "    figure.add_subplot(rows, cols, i)\n",
        "    plt.title(label)\n",
        "    plt.axis(\"off\")\n",
        "    plt.imshow(img.squeeze(), cmap=\"gray\")\n",
        "plt.show()"
      ],
      "metadata": {
        "colab": {
          "base_uri": "https://localhost:8080/",
          "height": 530
        },
        "id": "QYfjji_RFZPD",
        "outputId": "45b7a9fc-a1d3-4473-a92a-6c777a1e02ec"
      },
      "execution_count": 41,
      "outputs": [
        {
          "output_type": "display_data",
          "data": {
            "text/plain": [
              "<Figure size 800x800 with 8 Axes>"
            ],
            "image/png": "[encoded data removed]"
          },
          "metadata": {}
        }
      ]
    },
    {
      "cell_type": "markdown",
      "source": [
        "# Dataloaders\n",
        "make batches"
      ],
      "metadata": {
        "id": "Uph4IAqN8VTe"
      }
    },
    {
      "cell_type": "code",
      "source": [
        "train_dataloader = DataLoader(training_data, batch_size=64)\n",
        "test_dataloader = DataLoader(test_data, batch_size=64)\n",
        "len(test_dataloader)"
      ],
      "metadata": {
        "colab": {
          "base_uri": "https://localhost:8080/"
        },
        "id": "zBUHVQ4JCUIZ",
        "outputId": "546b8e7d-7182-4ef4-8888-e8cd3178edfd"
      },
      "execution_count": 42,
      "outputs": [
        {
          "output_type": "execute_result",
          "data": {
            "text/plain": [
              "157"
            ]
          },
          "metadata": {},
          "execution_count": 42
        }
      ]
    },
    {
      "cell_type": "markdown",
      "source": [
        "# Define CNN\n",
        "Define a Convolutional Neural Network and give its class a ```get_grad_cam_target_layer``` function which will grab the last convolutional layer to use it for saliency map generation"
      ],
      "metadata": {
        "id": "Dlxs0SJ98ftx"
      }
    },
    {
      "cell_type": "code",
      "source": [
        "# Small Convolutional Neural Network\n",
        "\n",
        "class SmallCNN(nn.Module):\n",
        "    def __init__(self, num_classes):\n",
        "        super().__init__()\n",
        "        self.num_classes = num_classes\n",
        "        self.backbone = nn.Sequential(\n",
        "            nn.Conv2d(1, 16, (3, 3), (1, 1)),\n",
        "            nn.BatchNorm2d(16),\n",
        "            nn.ReLU(),\n",
        "            nn.Conv2d(16, 16, (3, 3), (1, 1)),\n",
        "            nn.BatchNorm2d(num_features=16),\n",
        "            nn.ReLU(),\n",
        "            nn.MaxPool2d((2, 2), (2, 2)),\n",
        "            nn.Conv2d(16, 32, (3, 3), (1, 1)),\n",
        "            nn.BatchNorm2d(num_features=32),\n",
        "            nn.ReLU(),\n",
        "            nn.Conv2d(32, 32, (3, 3), (1, 1)),\n",
        "            nn.BatchNorm2d(num_features=32),\n",
        "            nn.ReLU(),\n",
        "            nn.MaxPool2d((2, 2), (2, 2)),\n",
        "            nn.Flatten()\n",
        "        )\n",
        "\n",
        "        self.linear = nn.Sequential(\n",
        "            nn.Linear(512, 256),\n",
        "            nn.BatchNorm1d(num_features=256),\n",
        "            nn.ReLU(),\n",
        "            nn.Linear(256, self.num_classes)\n",
        "        )\n",
        "\n",
        "    def forward(self, x):\n",
        "        features = self.backbone(x)\n",
        "        logits = self.linear(features)\n",
        "        return logits\n",
        "\n",
        "\n",
        "    def get_grad_cam_target_layer(self):\n",
        "        return self.backbone[-5]\n"
      ],
      "metadata": {
        "id": "kFdy4wMmGyXC"
      },
      "execution_count": 43,
      "outputs": []
    },
    {
      "cell_type": "markdown",
      "source": [
        "### Hyperparameters, optimizer, model selection"
      ],
      "metadata": {
        "id": "JmVn-g3Z87tf"
      }
    },
    {
      "cell_type": "code",
      "source": [
        "# hyperparameters\n",
        "\n",
        "lr = 0.001\n",
        "batch_size = 64\n",
        "epochs = 10\n",
        "number_of_classes = 10\n",
        "\n",
        "loss_function = nn.CrossEntropyLoss()\n",
        "\n",
        "# in base_method.py check how we can pass the tailored parameters to the CNN. 10\n",
        "model = SmallCNN(number_of_classes)\n",
        "optimizer = torch.optim.SGD(model.parameters(), lr = lr)\n",
        "\n",
        "model"
      ],
      "metadata": {
        "colab": {
          "base_uri": "https://localhost:8080/"
        },
        "id": "8ROjx8uF04n7",
        "outputId": "22ca8f99-4fb9-43bc-c2c0-dd4781d59154"
      },
      "execution_count": 71,
      "outputs": [
        {
          "output_type": "execute_result",
          "data": {
            "text/plain": [
              "SmallCNN(\n",
              "  (backbone): Sequential(\n",
              "    (0): Conv2d(1, 16, kernel_size=(3, 3), stride=(1, 1))\n",
              "    (1): BatchNorm2d(16, eps=1e-05, momentum=0.1, affine=True, track_running_stats=True)\n",
              "    (2): ReLU()\n",
              "    (3): Conv2d(16, 16, kernel_size=(3, 3), stride=(1, 1))\n",
              "    (4): BatchNorm2d(16, eps=1e-05, momentum=0.1, affine=True, track_running_stats=True)\n",
              "    (5): ReLU()\n",
              "    (6): MaxPool2d(kernel_size=(2, 2), stride=(2, 2), padding=0, dilation=1, ceil_mode=False)\n",
              "    (7): Conv2d(16, 32, kernel_size=(3, 3), stride=(1, 1))\n",
              "    (8): BatchNorm2d(32, eps=1e-05, momentum=0.1, affine=True, track_running_stats=True)\n",
              "    (9): ReLU()\n",
              "    (10): Conv2d(32, 32, kernel_size=(3, 3), stride=(1, 1))\n",
              "    (11): BatchNorm2d(32, eps=1e-05, momentum=0.1, affine=True, track_running_stats=True)\n",
              "    (12): ReLU()\n",
              "    (13): MaxPool2d(kernel_size=(2, 2), stride=(2, 2), padding=0, dilation=1, ceil_mode=False)\n",
              "    (14): Flatten(start_dim=1, end_dim=-1)\n",
              "  )\n",
              "  (linear): Sequential(\n",
              "    (0): Linear(in_features=512, out_features=256, bias=True)\n",
              "    (1): BatchNorm1d(256, eps=1e-05, momentum=0.1, affine=True, track_running_stats=True)\n",
              "    (2): ReLU()\n",
              "    (3): Linear(in_features=256, out_features=10, bias=True)\n",
              "  )\n",
              ")"
            ]
          },
          "metadata": {},
          "execution_count": 71
        }
      ]
    },
    {
      "cell_type": "markdown",
      "source": [
        "# Training and Testing\n",
        "Done with the specified parameters and models above"
      ],
      "metadata": {
        "id": "e1ti6kBN9F5R"
      }
    },
    {
      "cell_type": "code",
      "source": [
        "# training\n",
        "\n",
        "def train_erm (model):\n",
        "    for xb, yb in train_dataloader:\n",
        "        preds = model(xb)\n",
        "        loss = loss_function(preds, yb)\n",
        "        optimizer.zero_grad()\n",
        "        loss.backward()\n",
        "        optimizer.step()\n",
        "    loss = loss.item()\n",
        "    print(f\"Train loss: {loss:>7f}\")\n",
        "\n",
        "    # Save the model's state dictionary\n",
        "    torch.save(model.state_dict(), '/content/data/MNIST/CNN_checkpoint.pth')"
      ],
      "metadata": {
        "id": "2xIjIw7G3PNs"
      },
      "execution_count": 45,
      "outputs": []
    },
    {
      "cell_type": "code",
      "source": [
        "# testing\n",
        "\n",
        "def test_model (model):\n",
        "    num_batches = len(test_dataloader)\n",
        "    size = len(test_dataloader.dataset)\n",
        "    test_loss, corrects = 0,0\n",
        "\n",
        "    with torch.no_grad():\n",
        "        for xb, yb in test_dataloader:\n",
        "            preds=model(xb)\n",
        "            test_loss += loss_function(preds,yb).item()\n",
        "            corrects += (preds.argmax(1) == yb).type(torch.float).sum().item()\n",
        "\n",
        "    test_loss /= num_batches\n",
        "    corrects /= size\n",
        "    print(f\"Test loss: \\n Accuracy:{(100*corrects):>0.1f}%, Avg loss:{test_loss:>8f}\\n\")"
      ],
      "metadata": {
        "id": "Q-yCsmNc3h8S"
      },
      "execution_count": 46,
      "outputs": []
    },
    {
      "cell_type": "code",
      "source": [
        "for t in range(4):\n",
        "    train_erm(model)\n",
        "    test_model(model)"
      ],
      "metadata": {
        "colab": {
          "base_uri": "https://localhost:8080/"
        },
        "id": "IFG9TzGi6qe6",
        "outputId": "56d4a294-974d-4e1a-dbf2-ad4896d3aa43"
      },
      "execution_count": 48,
      "outputs": [
        {
          "output_type": "stream",
          "name": "stdout",
          "text": [
            "Train loss: 0.199554\n",
            "Test loss: \n",
            " Accuracy:95.4%, Avg loss:0.269966\n",
            "\n",
            "Train loss: 0.132713\n",
            "Test loss: \n",
            " Accuracy:96.3%, Avg loss:0.196773\n",
            "\n",
            "Train loss: 0.101016\n",
            "Test loss: \n",
            " Accuracy:96.8%, Avg loss:0.158724\n",
            "\n",
            "Train loss: 0.082700\n",
            "Test loss: \n",
            " Accuracy:97.1%, Avg loss:0.135219\n",
            "\n"
          ]
        }
      ]
    },
    {
      "cell_type": "markdown",
      "source": [
        "# Generating Saliency Map using XGradCAM\n",
        "Implementing explainability.\n",
        "Using the, for example, last convolutional layer from the trained CNN checkpoint to generate the gradient and hook.\n",
        "Pass a random instance from each class to the trained model. The model, target layer from the trained network and the network output are used to generate a saliency_map which is interpolated and projected onto the appropriate input image."
      ],
      "metadata": {
        "id": "EwbD6_8B9Vwa"
      }
    },
    {
      "cell_type": "code",
      "source": [
        "def generate_map(sample_data, sample_class):\n",
        "    checkpoint = torch.load('/content/data/MNIST/CNN_checkpoint.pth') # Load the saved model checkpoint\n",
        "    model.load_state_dict(checkpoint)\n",
        "    # Don’t forget to set your model into the evaluation mode, otherwise you can get very random results\n",
        "    model.eval() # Set the model to evaluation mode\n",
        "\n",
        "    # Get the target layer\n",
        "    target_layer = model.get_grad_cam_target_layer() # Last convolutional layer is the target\n",
        "    # Prepare the input tensor\n",
        "    input_tensor = sample_data # a sample from the dataset passed to the function\n",
        "\n",
        "    cam = XGradCAM(model, target_layer)\n",
        "    output = model (input_tensor.unsqueeze(0))\n",
        "    saliency_map = cam(class_idx = sample_class, scores = output)\n",
        "\n",
        "    # Now we can visualize the saliency map\n",
        "    # Get the first saliency map tensor from the list\n",
        "    saliency_map_tensor = saliency_map[0]\n",
        "\n",
        "    # Convert the saliency map tensor to a numpy array\n",
        "    saliency_map_np = saliency_map_tensor.detach().cpu().numpy()\n",
        "\n",
        "    # Reshape the saliency map to 2D\n",
        "    saliency_map_np = saliency_map_np.reshape(saliency_map_np.shape[1:])\n",
        "\n",
        "    # Visualize or process the saliency map as needed\n",
        "    # For example, you can plot it as an image\n",
        "    #plt.imshow(saliency_map_np, cmap='hot', interpolation='nearest')\n",
        "    #plt.axis('off')\n",
        "    #plt.show()\n",
        "\n",
        "    return saliency_map_np"
      ],
      "metadata": {
        "id": "ChsPbczY-i3h"
      },
      "execution_count": 52,
      "outputs": []
    },
    {
      "cell_type": "code",
      "source": [
        "def interpolate_heatmap(input_tensor, saliency_map_np):\n",
        "    # Convert the input tensor to a numpy array image\n",
        "    input_img_np = input_tensor.squeeze(0).cpu().numpy()\n",
        "    input_img_np = np.uint8(255 * input_img_np)\n",
        "\n",
        "    # Resize the saliency map to match the size of the original image\n",
        "    heatmap_resized = cv2.resize(saliency_map_np, (input_img_np.shape[1], input_img_np.shape[0]))\n",
        "\n",
        "    # Normalize the saliency map values to the range [0, 255]\n",
        "    heatmap_resized = (heatmap_resized - np.min(heatmap_resized)) / (np.max(heatmap_resized) - np.min(heatmap_resized)) * 255\n",
        "    heatmap_resized = np.uint8(heatmap_resized)\n",
        "\n",
        "    # Convert the original image to a BGR format\n",
        "    input_img_bgr = cv2.cvtColor(input_img_np, cv2.COLOR_GRAY2BGR)\n",
        "\n",
        "    # Apply a colormap to the saliency map to convert it into a heatmap image\n",
        "    heatmap_colored = cv2.applyColorMap(heatmap_resized, cv2.COLORMAP_JET)\n",
        "\n",
        "    # Resize the heatmap image to match the size of the original image\n",
        "    heatmap_colored_resized = cv2.resize(heatmap_colored, (input_img_np.shape[1], input_img_np.shape[0]))\n",
        "\n",
        "    # Overlay the heatmap image onto the original image\n",
        "    superimposed_img = cv2.addWeighted(input_img_bgr, 0.7, heatmap_colored_resized, 0.3, 0)\n",
        "\n",
        "    return superimposed_img\n"
      ],
      "metadata": {
        "id": "dcyW-CH_oFC4"
      },
      "execution_count": 50,
      "outputs": []
    },
    {
      "cell_type": "code",
      "source": [
        "import random\n",
        "\n",
        "# Dictionary to store interpolated images by class label\n",
        "interpolated_images_by_class = {}\n",
        "\n",
        "# Function to generate and interpolate the heatmap for one instance of each class\n",
        "def generate_and_interpolate_heatmap_one_per_class():\n",
        "    # Iterate through each class label\n",
        "    for class_label in range(10):  # Assuming 10 classes (0 to 9)\n",
        "        # Get the data instances for the specified class label\n",
        "        class_data = class_data_dict.get(class_label, [])\n",
        "\n",
        "        # Select one random instance from the class data\n",
        "        if class_data:\n",
        "            random_instance = random.choice(class_data)\n",
        "\n",
        "            # Generate the saliency map for the random instance\n",
        "            saliency_map_np = generate_map(random_instance, class_label)\n",
        "\n",
        "            # Interpolate the heatmap for the random instance\n",
        "            interpolated_img = interpolate_heatmap(random_instance, saliency_map_np)\n",
        "\n",
        "            # Store the interpolated image in the dictionary by class label\n",
        "            interpolated_images_by_class[class_label] = interpolated_img\n",
        "\n",
        "# Generate interpolated images for one instance per class\n",
        "generate_and_interpolate_heatmap_one_per_class()\n",
        "\n",
        "# Plot the interpolated images with their class labels\n",
        "fig, axs = plt.subplots(2, 5, figsize=(15, 6))\n",
        "for i, ax in enumerate(axs.flat):\n",
        "    class_label = i\n",
        "    interpolated_img = interpolated_images_by_class.get(class_label)\n",
        "    if interpolated_img is not None:\n",
        "        ax.imshow(interpolated_img, cmap='hot', interpolation='nearest')\n",
        "        ax.axis('off')\n",
        "        ax.set_title(f'Class {class_label}')\n",
        "    else:\n",
        "        ax.axis('off')\n",
        "\n",
        "plt.tight_layout()\n",
        "plt.show()\n"
      ],
      "metadata": {
        "colab": {
          "base_uri": "https://localhost:8080/",
          "height": 352
        },
        "id": "zBuAEO3LK1EH",
        "outputId": "8ab2ea86-bb67-4f87-a0eb-fb316ad683c5"
      },
      "execution_count": 59,
      "outputs": [
        {
          "output_type": "display_data",
          "data": {
            "text/plain": [
              "<Figure size 1500x600 with 10 Axes>"
            ],
            "image/png": "[encoded data removed]"
          },
          "metadata": {}
        }
      ]
    },
    {
      "cell_type": "code",
      "source": [
        "import torch\n",
        "import numpy as np\n",
        "import cv2\n",
        "\n",
        "def accumulate_and_plot_average_saliency_map(training_data, generate_map, class_label_to_accumulate, num_maps_to_accumulate=10):\n",
        "    # List to store accumulated saliency maps for the chosen class label\n",
        "    accumulated_saliency_maps = []\n",
        "\n",
        "    # Function to accumulate the input tensors for the chosen class label\n",
        "    def accumulate_inputs():\n",
        "        # List to store accumulated input tensors for the chosen class label\n",
        "        accumulated_inputs = []\n",
        "\n",
        "        # Iterate through the training data\n",
        "        for data in training_data:\n",
        "            input_tensor, class_label = data\n",
        "\n",
        "            # Check if the class label matches the chosen class label\n",
        "            if class_label == class_label_to_accumulate:\n",
        "                # Accumulate the input tensor\n",
        "                accumulated_inputs.append(input_tensor)\n",
        "\n",
        "        return accumulated_inputs\n",
        "\n",
        "    # Accumulate the input tensors for the chosen class label\n",
        "    accumulated_inputs = accumulate_inputs()\n",
        "\n",
        "    # Function to generate and accumulate the saliency maps for the chosen class label\n",
        "    def accumulate_saliency_maps():\n",
        "        nonlocal accumulated_saliency_maps\n",
        "        # Generate saliency maps for the chosen class label\n",
        "        for _ in range(num_maps_to_accumulate):\n",
        "            # Choose a random input tensor from the accumulated inputs\n",
        "            input_tensor = random.choice(accumulated_inputs)\n",
        "\n",
        "            # Generate the saliency map for the chosen input tensor\n",
        "            saliency_map = generate_map(input_tensor, class_label_to_accumulate)\n",
        "\n",
        "            # Accumulate the saliency map\n",
        "            accumulated_saliency_maps.append(saliency_map)\n",
        "\n",
        "    # Generate and accumulate saliency maps for the chosen class label\n",
        "    accumulate_saliency_maps()\n",
        "\n",
        "    # Convert the list of accumulated saliency maps to a numpy array\n",
        "    accumulated_saliency_maps_array = np.array(accumulated_saliency_maps)\n",
        "\n",
        "    # Compute the average saliency map\n",
        "    average_saliency_map = np.mean(accumulated_saliency_maps_array, axis=0)\n",
        "\n",
        "    # Interpolate the average saliency map to match the size of the original input image (28x28)\n",
        "    interpolated_avg_saliency_map = cv2.resize(average_saliency_map, (28, 28), interpolation=cv2.INTER_LINEAR)\n",
        "\n",
        "    # Plot the interpolated average saliency map\n",
        "    # plt.imshow(interpolated_avg_saliency_map, cmap='hot', interpolation='nearest')\n",
        "    # plt.axis('off')\n",
        "    # plt.title('Interpolated Average Saliency Map for Class {}'.format(class_label_to_accumulate))\n",
        "    # plt.show()\n",
        "\n",
        "    return interpolated_avg_saliency_map\n"
      ],
      "metadata": {
        "id": "5pHI0irlReLh"
      },
      "execution_count": 74,
      "outputs": []
    },
    {
      "cell_type": "code",
      "source": [
        "interpolated_images_by_class = {}\n",
        "\n",
        "for class_label in range(number_of_classes):\n",
        "    interpolated_img = accumulate_and_plot_average_saliency_map(training_data, generate_map, class_label_to_accumulate=class_label)\n",
        "    interpolated_images_by_class[class_label] = interpolated_img\n",
        "\n",
        "# Plot the interpolated images with their class labels\n",
        "fig, axs = plt.subplots(2, 5, figsize=(15, 6))\n",
        "for i, ax in enumerate(axs.flat):\n",
        "    class_label = i\n",
        "    interpolated_img = interpolated_images_by_class.get(class_label)\n",
        "    if interpolated_img is not None:\n",
        "        ax.imshow(interpolated_img, cmap='hot', interpolation='nearest')\n",
        "        ax.axis('off')\n",
        "        ax.set_title(f'Class {class_label}')\n",
        "    else:\n",
        "        ax.axis('off')\n",
        "\n",
        "plt.tight_layout()\n",
        "plt.show()\n"
      ],
      "metadata": {
        "colab": {
          "base_uri": "https://localhost:8080/",
          "height": 352
        },
        "id": "G6oI5PQmR52B",
        "outputId": "f994eb1d-9efd-45ca-8aba-4991b94604d4"
      },
      "execution_count": 75,
      "outputs": [
        {
          "output_type": "display_data",
          "data": {
            "text/plain": [
              "<Figure size 1500x600 with 10 Axes>"
            ],
            "image/png": "[encoded data removed]"
          },
          "metadata": {}
        }
      ]
    },
    {
      "cell_type": "markdown",
      "source": [
        "TODO:\n",
        "    start implementing MaskTune for MNIST"
      ],
      "metadata": {
        "id": "2zzb23_ZU1Uf"
      }
    }
  ]
}