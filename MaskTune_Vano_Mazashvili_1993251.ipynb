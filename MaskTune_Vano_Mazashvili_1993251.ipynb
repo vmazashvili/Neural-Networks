{
  "cells": [
    {
      "cell_type": "markdown",
      "metadata": {
        "id": "0Yjq3qMXaDTm"
      },
      "source": [
        "MaskTune Model\n",
        "\n",
        "- train an ERM Model (Empirical Risk Minimization)\n",
        "    - Load and normalize the CIFAR10 training and test datasets using torchvision\n",
        "\n",
        "    - Define a Convolutional Neural Network\n",
        "\n",
        "    - Define a loss function\n",
        "\n",
        "    - Train the network on the training data\n",
        "\n",
        "Test the network on the test data\n",
        "- Generate Masks based on Model Outputs\n",
        "- Fine-tune the Model with Masks\n",
        "- Testing and Evaluation"
      ]
    },
    {
      "cell_type": "code",
      "execution_count": 55,
      "metadata": {
        "colab": {
          "base_uri": "https://localhost:8080/"
        },
        "id": "w4v38sj4upbb",
        "outputId": "7f23c917-d689-4176-d9cf-145d5ff36949"
      },
      "outputs": [
        {
          "output_type": "stream",
          "name": "stdout",
          "text": [
            "Requirement already satisfied: torch in /usr/local/lib/python3.10/dist-packages (2.3.0+cu121)\n",
            "Requirement already satisfied: torchvision in /usr/local/lib/python3.10/dist-packages (0.18.0+cu121)\n",
            "Requirement already satisfied: timm in /usr/local/lib/python3.10/dist-packages (1.0.3)\n",
            "Requirement already satisfied: filelock in /usr/local/lib/python3.10/dist-packages (from torch) (3.14.0)\n",
            "Requirement already satisfied: typing-extensions>=4.8.0 in /usr/local/lib/python3.10/dist-packages (from torch) (4.11.0)\n",
            "Requirement already satisfied: sympy in /usr/local/lib/python3.10/dist-packages (from torch) (1.12)\n",
            "Requirement already satisfied: networkx in /usr/local/lib/python3.10/dist-packages (from torch) (3.3)\n",
            "Requirement already satisfied: jinja2 in /usr/local/lib/python3.10/dist-packages (from torch) (3.1.4)\n",
            "Requirement already satisfied: fsspec in /usr/local/lib/python3.10/dist-packages (from torch) (2023.6.0)\n",
            "Requirement already satisfied: nvidia-cuda-nvrtc-cu12==12.1.105 in /usr/local/lib/python3.10/dist-packages (from torch) (12.1.105)\n",
            "Requirement already satisfied: nvidia-cuda-runtime-cu12==12.1.105 in /usr/local/lib/python3.10/dist-packages (from torch) (12.1.105)\n",
            "Requirement already satisfied: nvidia-cuda-cupti-cu12==12.1.105 in /usr/local/lib/python3.10/dist-packages (from torch) (12.1.105)\n",
            "Requirement already satisfied: nvidia-cudnn-cu12==8.9.2.26 in /usr/local/lib/python3.10/dist-packages (from torch) (8.9.2.26)\n",
            "Requirement already satisfied: nvidia-cublas-cu12==12.1.3.1 in /usr/local/lib/python3.10/dist-packages (from torch) (12.1.3.1)\n",
            "Requirement already satisfied: nvidia-cufft-cu12==11.0.2.54 in /usr/local/lib/python3.10/dist-packages (from torch) (11.0.2.54)\n",
            "Requirement already satisfied: nvidia-curand-cu12==10.3.2.106 in /usr/local/lib/python3.10/dist-packages (from torch) (10.3.2.106)\n",
            "Requirement already satisfied: nvidia-cusolver-cu12==11.4.5.107 in /usr/local/lib/python3.10/dist-packages (from torch) (11.4.5.107)\n",
            "Requirement already satisfied: nvidia-cusparse-cu12==12.1.0.106 in /usr/local/lib/python3.10/dist-packages (from torch) (12.1.0.106)\n",
            "Requirement already satisfied: nvidia-nccl-cu12==2.20.5 in /usr/local/lib/python3.10/dist-packages (from torch) (2.20.5)\n",
            "Requirement already satisfied: nvidia-nvtx-cu12==12.1.105 in /usr/local/lib/python3.10/dist-packages (from torch) (12.1.105)\n",
            "Requirement already satisfied: triton==2.3.0 in /usr/local/lib/python3.10/dist-packages (from torch) (2.3.0)\n",
            "Requirement already satisfied: nvidia-nvjitlink-cu12 in /usr/local/lib/python3.10/dist-packages (from nvidia-cusolver-cu12==11.4.5.107->torch) (12.5.40)\n",
            "Requirement already satisfied: numpy in /usr/local/lib/python3.10/dist-packages (from torchvision) (1.25.2)\n",
            "Requirement already satisfied: pillow!=8.3.*,>=5.3.0 in /usr/local/lib/python3.10/dist-packages (from torchvision) (9.4.0)\n",
            "Requirement already satisfied: pyyaml in /usr/local/lib/python3.10/dist-packages (from timm) (6.0.1)\n",
            "Requirement already satisfied: huggingface_hub in /usr/local/lib/python3.10/dist-packages (from timm) (0.23.1)\n",
            "Requirement already satisfied: safetensors in /usr/local/lib/python3.10/dist-packages (from timm) (0.4.3)\n",
            "Requirement already satisfied: packaging>=20.9 in /usr/local/lib/python3.10/dist-packages (from huggingface_hub->timm) (24.0)\n",
            "Requirement already satisfied: requests in /usr/local/lib/python3.10/dist-packages (from huggingface_hub->timm) (2.31.0)\n",
            "Requirement already satisfied: tqdm>=4.42.1 in /usr/local/lib/python3.10/dist-packages (from huggingface_hub->timm) (4.66.4)\n",
            "Requirement already satisfied: MarkupSafe>=2.0 in /usr/local/lib/python3.10/dist-packages (from jinja2->torch) (2.1.5)\n",
            "Requirement already satisfied: mpmath>=0.19 in /usr/local/lib/python3.10/dist-packages (from sympy->torch) (1.3.0)\n",
            "Requirement already satisfied: charset-normalizer<4,>=2 in /usr/local/lib/python3.10/dist-packages (from requests->huggingface_hub->timm) (3.3.2)\n",
            "Requirement already satisfied: idna<4,>=2.5 in /usr/local/lib/python3.10/dist-packages (from requests->huggingface_hub->timm) (3.7)\n",
            "Requirement already satisfied: urllib3<3,>=1.21.1 in /usr/local/lib/python3.10/dist-packages (from requests->huggingface_hub->timm) (2.0.7)\n",
            "Requirement already satisfied: certifi>=2017.4.17 in /usr/local/lib/python3.10/dist-packages (from requests->huggingface_hub->timm) (2024.2.2)\n",
            "Requirement already satisfied: torchcam in /usr/local/lib/python3.10/dist-packages (0.4.0)\n",
            "Requirement already satisfied: torch<3.0.0,>=2.0.0 in /usr/local/lib/python3.10/dist-packages (from torchcam) (2.3.0+cu121)\n",
            "Requirement already satisfied: numpy<2.0.0,>=1.17.2 in /usr/local/lib/python3.10/dist-packages (from torchcam) (1.25.2)\n",
            "Requirement already satisfied: Pillow!=9.2.0,>=8.4.0 in /usr/local/lib/python3.10/dist-packages (from torchcam) (9.4.0)\n",
            "Requirement already satisfied: matplotlib<4.0.0,>=3.7.0 in /usr/local/lib/python3.10/dist-packages (from torchcam) (3.7.1)\n",
            "Requirement already satisfied: contourpy>=1.0.1 in /usr/local/lib/python3.10/dist-packages (from matplotlib<4.0.0,>=3.7.0->torchcam) (1.2.1)\n",
            "Requirement already satisfied: cycler>=0.10 in /usr/local/lib/python3.10/dist-packages (from matplotlib<4.0.0,>=3.7.0->torchcam) (0.12.1)\n",
            "Requirement already satisfied: fonttools>=4.22.0 in /usr/local/lib/python3.10/dist-packages (from matplotlib<4.0.0,>=3.7.0->torchcam) (4.51.0)\n",
            "Requirement already satisfied: kiwisolver>=1.0.1 in /usr/local/lib/python3.10/dist-packages (from matplotlib<4.0.0,>=3.7.0->torchcam) (1.4.5)\n",
            "Requirement already satisfied: packaging>=20.0 in /usr/local/lib/python3.10/dist-packages (from matplotlib<4.0.0,>=3.7.0->torchcam) (24.0)\n",
            "Requirement already satisfied: pyparsing>=2.3.1 in /usr/local/lib/python3.10/dist-packages (from matplotlib<4.0.0,>=3.7.0->torchcam) (3.1.2)\n",
            "Requirement already satisfied: python-dateutil>=2.7 in /usr/local/lib/python3.10/dist-packages (from matplotlib<4.0.0,>=3.7.0->torchcam) (2.8.2)\n",
            "Requirement already satisfied: filelock in /usr/local/lib/python3.10/dist-packages (from torch<3.0.0,>=2.0.0->torchcam) (3.14.0)\n",
            "Requirement already satisfied: typing-extensions>=4.8.0 in /usr/local/lib/python3.10/dist-packages (from torch<3.0.0,>=2.0.0->torchcam) (4.11.0)\n",
            "Requirement already satisfied: sympy in /usr/local/lib/python3.10/dist-packages (from torch<3.0.0,>=2.0.0->torchcam) (1.12)\n",
            "Requirement already satisfied: networkx in /usr/local/lib/python3.10/dist-packages (from torch<3.0.0,>=2.0.0->torchcam) (3.3)\n",
            "Requirement already satisfied: jinja2 in /usr/local/lib/python3.10/dist-packages (from torch<3.0.0,>=2.0.0->torchcam) (3.1.4)\n",
            "Requirement already satisfied: fsspec in /usr/local/lib/python3.10/dist-packages (from torch<3.0.0,>=2.0.0->torchcam) (2023.6.0)\n",
            "Requirement already satisfied: nvidia-cuda-nvrtc-cu12==12.1.105 in /usr/local/lib/python3.10/dist-packages (from torch<3.0.0,>=2.0.0->torchcam) (12.1.105)\n",
            "Requirement already satisfied: nvidia-cuda-runtime-cu12==12.1.105 in /usr/local/lib/python3.10/dist-packages (from torch<3.0.0,>=2.0.0->torchcam) (12.1.105)\n",
            "Requirement already satisfied: nvidia-cuda-cupti-cu12==12.1.105 in /usr/local/lib/python3.10/dist-packages (from torch<3.0.0,>=2.0.0->torchcam) (12.1.105)\n",
            "Requirement already satisfied: nvidia-cudnn-cu12==8.9.2.26 in /usr/local/lib/python3.10/dist-packages (from torch<3.0.0,>=2.0.0->torchcam) (8.9.2.26)\n",
            "Requirement already satisfied: nvidia-cublas-cu12==12.1.3.1 in /usr/local/lib/python3.10/dist-packages (from torch<3.0.0,>=2.0.0->torchcam) (12.1.3.1)\n",
            "Requirement already satisfied: nvidia-cufft-cu12==11.0.2.54 in /usr/local/lib/python3.10/dist-packages (from torch<3.0.0,>=2.0.0->torchcam) (11.0.2.54)\n",
            "Requirement already satisfied: nvidia-curand-cu12==10.3.2.106 in /usr/local/lib/python3.10/dist-packages (from torch<3.0.0,>=2.0.0->torchcam) (10.3.2.106)\n",
            "Requirement already satisfied: nvidia-cusolver-cu12==11.4.5.107 in /usr/local/lib/python3.10/dist-packages (from torch<3.0.0,>=2.0.0->torchcam) (11.4.5.107)\n",
            "Requirement already satisfied: nvidia-cusparse-cu12==12.1.0.106 in /usr/local/lib/python3.10/dist-packages (from torch<3.0.0,>=2.0.0->torchcam) (12.1.0.106)\n",
            "Requirement already satisfied: nvidia-nccl-cu12==2.20.5 in /usr/local/lib/python3.10/dist-packages (from torch<3.0.0,>=2.0.0->torchcam) (2.20.5)\n",
            "Requirement already satisfied: nvidia-nvtx-cu12==12.1.105 in /usr/local/lib/python3.10/dist-packages (from torch<3.0.0,>=2.0.0->torchcam) (12.1.105)\n",
            "Requirement already satisfied: triton==2.3.0 in /usr/local/lib/python3.10/dist-packages (from torch<3.0.0,>=2.0.0->torchcam) (2.3.0)\n",
            "Requirement already satisfied: nvidia-nvjitlink-cu12 in /usr/local/lib/python3.10/dist-packages (from nvidia-cusolver-cu12==11.4.5.107->torch<3.0.0,>=2.0.0->torchcam) (12.5.40)\n",
            "Requirement already satisfied: six>=1.5 in /usr/local/lib/python3.10/dist-packages (from python-dateutil>=2.7->matplotlib<4.0.0,>=3.7.0->torchcam) (1.16.0)\n",
            "Requirement already satisfied: MarkupSafe>=2.0 in /usr/local/lib/python3.10/dist-packages (from jinja2->torch<3.0.0,>=2.0.0->torchcam) (2.1.5)\n",
            "Requirement already satisfied: mpmath>=0.19 in /usr/local/lib/python3.10/dist-packages (from sympy->torch<3.0.0,>=2.0.0->torchcam) (1.3.0)\n",
            "Requirement already satisfied: pytorch-gradcam in /usr/local/lib/python3.10/dist-packages (0.2.1)\n",
            "Requirement already satisfied: opencv-python in /usr/local/lib/python3.10/dist-packages (from pytorch-gradcam) (4.8.0.76)\n",
            "Requirement already satisfied: numpy in /usr/local/lib/python3.10/dist-packages (from pytorch-gradcam) (1.25.2)\n"
          ]
        }
      ],
      "source": [
        "!pip install torch torchvision timm\n",
        "!pip install torchcam\n",
        "!pip install pytorch-gradcam"
      ]
    },
    {
      "cell_type": "code",
      "execution_count": 56,
      "metadata": {
        "id": "RVe71WOgg9ml"
      },
      "outputs": [],
      "source": [
        "import os\n",
        "import cv2\n",
        "import timm\n",
        "import torch\n",
        "import random\n",
        "import numpy as np\n",
        "import torchvision\n",
        "from torch.optim import SGD\n",
        "import matplotlib.pyplot as plt\n",
        "import torch.nn.functional as F\n",
        "from torch import nn\n",
        "from torch import optim\n",
        "from torch.nn import CrossEntropyLoss\n",
        "from torchcam.methods import XGradCAM\n",
        "from torch.utils.data import DataLoader\n",
        "from torchvision import datasets, transforms\n",
        "from torchvision.transforms import ToTensor, Lambda\n",
        "from torchvision.transforms.functional import resize\n",
        "from sklearn.metrics import confusion_matrix, precision_score, recall_score, f1_score"
      ]
    },
    {
      "cell_type": "markdown",
      "metadata": {
        "id": "XjqipoBg9duJ"
      },
      "source": [
        "# MNIST DATASET\n",
        "\n",
        "- [x] Distinguish between two MNIST digit groups (0-4 and 5-9)\n",
        "- [x] 0-4 into class 0 and 5-9 into class 1.\n",
        "- [ ] Transform 99% of new class 0 and 1% of the new class 1 so that they acquire same spurious feature (square in top left corner)\n",
        "- [ ] Two test sets during testing: the original raw MNIST test set and a biased test set.\n",
        "- [ ] biasd test set - add spurious feature to only 5-9 group  "
      ]
    },
    {
      "cell_type": "markdown",
      "metadata": {
        "id": "b-gkEFw9icSs"
      },
      "source": [
        "Load and normalize the MNIST training and test datasets using torchvision. We can Induce spurrious features too\n",
        "\n"
      ]
    },
    {
      "cell_type": "code",
      "execution_count": 57,
      "metadata": {
        "colab": {
          "base_uri": "https://localhost:8080/"
        },
        "id": "DALGG5P3KgF8",
        "outputId": "5673ef4f-1fc3-403c-86b4-69705e221c19"
      },
      "outputs": [
        {
          "output_type": "stream",
          "name": "stdout",
          "text": [
            "Original class distribution in train set: tensor([5923, 6742, 5958, 6131, 5842, 5421, 5918, 6265, 5851, 5949])\n",
            "Remapped class distribution in train set: tensor([30596, 29404])\n",
            "Original class distribution in test set: tensor([ 980, 1135, 1032, 1010,  982,  892,  958, 1028,  974, 1009])\n",
            "Remapped class distribution in test set: tensor([5139, 4861])\n"
          ]
        }
      ],
      "source": [
        "import torch\n",
        "from torchvision import datasets\n",
        "\n",
        "def remap_classes(dataset):\n",
        "    \"\"\"\n",
        "    Remap MNIST dataset classes to two new classes\n",
        "    new_to_old_label_mapping={0: [0, 1, 2, 3, 4], 1: [5, 6, 7, 8, 9]},\n",
        "\n",
        "    Input:\n",
        "        MNIST dataset\n",
        "\n",
        "    Output:\n",
        "        List of remapped dataset. Each item is (PIL image, class)\n",
        "    \"\"\"\n",
        "    remapped_data = []\n",
        "    remapped_targets = []\n",
        "\n",
        "    for data, target in dataset:\n",
        "        if target < 5:  # Digits 0-4\n",
        "            remapped_targets.append(0)\n",
        "        else:  # Digits 5-9\n",
        "            remapped_targets.append(1)\n",
        "\n",
        "        remapped_data.append(data)\n",
        "\n",
        "    return list(zip(remapped_data, remapped_targets))\n",
        "\n",
        "# Load the MNIST dataset\n",
        "mnist_train = datasets.MNIST(root='data', train=True, download=True)\n",
        "mnist_test = datasets.MNIST(root='data', train=False, download=True)\n",
        "\n",
        "# Remap the classes, the variables contain lists:\n",
        "#\n",
        "remapped_train_data = remap_classes(mnist_train)\n",
        "remapped_test_data = remap_classes(mnist_test)\n",
        "\n",
        "# Example usage:\n",
        "print(\"Original class distribution in train set:\", mnist_train.targets.bincount())\n",
        "print(\"Remapped class distribution in train set:\", torch.tensor([target for _, target in remapped_train_data]).bincount())\n",
        "\n",
        "print(\"Original class distribution in test set:\", mnist_test.targets.bincount())\n",
        "print(\"Remapped class distribution in test set:\", torch.tensor([target for _, target in remapped_test_data]).bincount())\n"
      ]
    },
    {
      "cell_type": "code",
      "execution_count": 58,
      "metadata": {
        "colab": {
          "base_uri": "https://localhost:8080/"
        },
        "id": "pdlYG9vjzE0g",
        "outputId": "a52833f5-e4f9-4206-f487-b6278041d91b"
      },
      "outputs": [
        {
          "output_type": "execute_result",
          "data": {
            "text/plain": [
              "(<PIL.Image.Image image mode=L size=28x28>, 1)"
            ]
          },
          "metadata": {},
          "execution_count": 58
        }
      ],
      "source": [
        "remapped_train_data[0]"
      ]
    },
    {
      "cell_type": "code",
      "execution_count": 59,
      "metadata": {
        "colab": {
          "base_uri": "https://localhost:8080/",
          "height": 159
        },
        "id": "WkWyg3T7ofkD",
        "outputId": "d1a33c90-6184-4756-cd4b-dd65a85ada11"
      },
      "outputs": [
        {
          "output_type": "display_data",
          "data": {
            "text/plain": [
              "<Figure size 1500x300 with 20 Axes>"
            ],
            "image/png": "[encoded data removed]"
          },
          "metadata": {}
        }
      ],
      "source": [
        "import random\n",
        "from PIL import Image, ImageDraw\n",
        "import matplotlib.pyplot as plt\n",
        "\n",
        "def add_spurious_feature(image, label, percentage_class_0=0.99, percentage_class_1=0.01):\n",
        "    \"\"\"\n",
        "    A function to add blue spurious features to PIL images based on class-specific percentages.\n",
        "\n",
        "    Args:\n",
        "        image (PIL.Image.Image): Input image.\n",
        "        label (int): The class label of the image.\n",
        "        percentage_class_0 (float, optional): Percentage of class 0 samples to apply the feature to. Defaults to 0.99.\n",
        "        percentage_class_1 (float, optional): Percentage of class 1 samples to apply the feature to. Defaults to 0.0w1.\n",
        "\n",
        "    Returns:\n",
        "        PIL.Image.Image: Transformed image with the spurious feature.\n",
        "    \"\"\"\n",
        "    # Determine the appropriate percentage based on the class label\n",
        "    percentage = percentage_class_0 if label == 0 else percentage_class_1\n",
        "\n",
        "    # Check if the condition for adding the feature is met\n",
        "    if random.random() < percentage:\n",
        "        # Create a copy of the input image\n",
        "        image_with_spurious = image.convert(\"RGB\")  # Ensure the image is in RGB mode\n",
        "        # Create a drawing context\n",
        "        draw = ImageDraw.Draw(image_with_spurious)\n",
        "        # Draw a blue square in the top-left corner\n",
        "        draw.rectangle([0, 0, 5, 5], fill=(0, 0, 255))  # Blue color\n",
        "        del draw  # Release drawing context\n",
        "        return image_with_spurious\n",
        "    else:\n",
        "        return image.convert(\"RGB\")  # Ensure the image is in RGB mode\n",
        "\n",
        "# Apply add_spurious_feature to the entire remapped_train_data dataset\n",
        "remapped_train_data_with_spurious = [(add_spurious_feature(image, label), label) for image, label in remapped_train_data]\n",
        "\n",
        "# Display 10 samples from each class\n",
        "fig, axes = plt.subplots(2, 10, figsize=(15, 3))\n",
        "class_0_count = 0\n",
        "class_1_count = 0\n",
        "\n",
        "for image, label in remapped_train_data_with_spurious:\n",
        "    if label == 0 and class_0_count < 10:\n",
        "        axes[0, class_0_count].imshow(image)\n",
        "        axes[0, class_0_count].set_title(f\"Class: {label}\")\n",
        "        axes[0, class_0_count].axis('off')\n",
        "        class_0_count += 1\n",
        "    elif label == 1 and class_1_count < 10:\n",
        "        axes[1, class_1_count].imshow(image)\n",
        "        axes[1, class_1_count].set_title(f\"Class: {label}\")\n",
        "        axes[1, class_1_count].axis('off')\n",
        "        class_1_count += 1\n",
        "\n",
        "    if class_0_count >= 10 and class_1_count >= 10:\n",
        "        break\n",
        "\n",
        "plt.show()\n"
      ]
    },
    {
      "cell_type": "code",
      "execution_count": 60,
      "metadata": {
        "colab": {
          "base_uri": "https://localhost:8080/",
          "height": 159
        },
        "id": "4nBnbveQuGUo",
        "outputId": "60f58e03-f194-4651-b672-164f14573737"
      },
      "outputs": [
        {
          "output_type": "display_data",
          "data": {
            "text/plain": [
              "<Figure size 1500x300 with 20 Axes>"
            ],
            "image/png": "[encoded data removed]"
          },
          "metadata": {}
        }
      ],
      "source": [
        "import random\n",
        "from PIL import Image, ImageDraw\n",
        "\n",
        "def add_spurious_feature_test(image, label, spurious_value=(0, 0, 255)):\n",
        "    \"\"\"\n",
        "    A function to add a blue spurious feature to a PIL image for class 1 samples.\n",
        "\n",
        "    Args:\n",
        "        image (PIL.Image.Image): Input image.\n",
        "        label (int): The class label of the image.\n",
        "        spurious_value (tuple, optional): RGB value to assign to the spurious feature pixels. Defaults to blue (0, 0, 255).\n",
        "\n",
        "    Returns:\n",
        "        PIL.Image.Image: Transformed image with the spurious feature added (if applicable).\n",
        "    \"\"\"\n",
        "    if label == 1:\n",
        "        # Always add the feature to class 1 samples\n",
        "        image_with_spurious = image.convert(\"RGB\")  # Ensure the image is in RGB mode\n",
        "        draw = ImageDraw.Draw(image_with_spurious)\n",
        "        draw.rectangle([0, 0, 5, 5], fill=spurious_value)\n",
        "        del draw\n",
        "        return image_with_spurious\n",
        "    else:\n",
        "        return image.convert(\"RGB\")  # Ensure the image is in RGB mode\n",
        "\n",
        "# Save remapped_test_data into test_data_raw\n",
        "test_data_raw = remapped_test_data.copy()  # Create a copy to avoid modifying the original data\n",
        "\n",
        "# Apply spurious features to class 1 samples in test_data_raw and store in test_data_biased\n",
        "test_data_biased = [(add_spurious_feature_test(image, label), label) for image, label in test_data_raw]\n",
        "\n",
        "# Display 10 samples from each class in the biased test set\n",
        "fig, axes = plt.subplots(2, 10, figsize=(15, 3))\n",
        "class_0_count = 0\n",
        "class_1_count = 0\n",
        "\n",
        "for image, label in test_data_biased:\n",
        "    if label == 0 and class_0_count < 10:\n",
        "        axes[0, class_0_count].imshow(image)\n",
        "        axes[0, class_0_count].set_title(f\"Class: {label}\")\n",
        "        axes[0, class_0_count].axis('off')\n",
        "        class_0_count += 1\n",
        "    elif label == 1 and class_1_count < 10:\n",
        "        axes[1, class_1_count].imshow(image)\n",
        "        axes[1, class_1_count].set_title(f\"Class: {label}\")\n",
        "        axes[1, class_1_count].axis('off')\n",
        "        class_1_count += 1\n",
        "\n",
        "    if class_0_count >= 10 and class_1_count >= 10:\n",
        "        break\n",
        "\n",
        "plt.show()\n"
      ]
    },
    {
      "cell_type": "code",
      "execution_count": 61,
      "metadata": {
        "colab": {
          "base_uri": "https://localhost:8080/"
        },
        "id": "GWn4SHJM8jKL",
        "outputId": "c56a1540-8650-4b55-ff01-9404047ed169"
      },
      "outputs": [
        {
          "output_type": "execute_result",
          "data": {
            "text/plain": [
              "(<PIL.Image.Image image mode=RGB size=28x28>, 1)"
            ]
          },
          "metadata": {},
          "execution_count": 61
        }
      ],
      "source": [
        "remapped_train_data_with_spurious[0]\n",
        "remapped_test_data[0]\n",
        "test_data_biased[0]"
      ]
    },
    {
      "cell_type": "code",
      "execution_count": 62,
      "metadata": {
        "colab": {
          "base_uri": "https://localhost:8080/",
          "height": 109
        },
        "id": "yXaDlQ4q2TpH",
        "outputId": "b761b5b1-ddb3-4e04-b2a8-862e477f0366"
      },
      "outputs": [
        {
          "output_type": "display_data",
          "data": {
            "text/plain": [
              "<Figure size 2000x400 with 40 Axes>"
            ],
            "image/png": "[encoded data removed]"
          },
          "metadata": {}
        }
      ],
      "source": [
        "import matplotlib.pyplot as plt\n",
        "\n",
        "# Initialize counters for each class\n",
        "class_counts = {0: 0, 1: 0}\n",
        "\n",
        "# Plot 10 samples for each class\n",
        "fig, axes = plt.subplots(2, 20, figsize=(20, 4))\n",
        "\n",
        "for image, label in remapped_train_data_with_spurious:\n",
        "    # Check if the maximum number of samples for each class is reached\n",
        "    if class_counts[label] >= 20:\n",
        "        continue\n",
        "\n",
        "    # Plot the image\n",
        "    ax = axes[label][class_counts[label]]\n",
        "    ax.imshow(image, cmap='gray')\n",
        "    ax.axis('off')\n",
        "    ax.set_title(f'Class {label}')\n",
        "\n",
        "    # Increment the counter for the respective class\n",
        "    class_counts[label] += 1\n",
        "\n",
        "plt.tight_layout()\n",
        "plt.show()\n"
      ]
    },
    {
      "cell_type": "code",
      "execution_count": 63,
      "metadata": {
        "colab": {
          "base_uri": "https://localhost:8080/",
          "height": 269
        },
        "id": "dHXn58a8EBDo",
        "outputId": "2b1cb053-0bc9-4b7b-e43d-402af71f61d2"
      },
      "outputs": [
        {
          "output_type": "display_data",
          "data": {
            "text/plain": [
              "<Figure size 2000x400 with 20 Axes>"
            ],
            "image/png": "[encoded data removed]"
          },
          "metadata": {}
        },
        {
          "output_type": "display_data",
          "data": {
            "text/plain": [
              "<Figure size 2000x400 with 20 Axes>"
            ],
            "image/png": "[encoded data removed]"
          },
          "metadata": {}
        }
      ],
      "source": [
        "import matplotlib.pyplot as plt\n",
        "\n",
        "# Initialize counters for each class\n",
        "class_counts_raw = {0: 0, 1: 0}\n",
        "class_counts_biased = {0: 0, 1: 0}\n",
        "\n",
        "# Plot 10 samples for each class from test_data_raw\n",
        "fig_raw, axes_raw = plt.subplots(2, 10, figsize=(20, 4))\n",
        "\n",
        "for image, label in test_data_raw:\n",
        "    # Check if the maximum number of samples for each class is reached\n",
        "    if class_counts_raw[label] >= 10:\n",
        "        continue\n",
        "\n",
        "    # Plot the image\n",
        "    ax = axes_raw[label][class_counts_raw[label]]\n",
        "    ax.imshow(image, cmap='gray')\n",
        "    ax.axis('off')\n",
        "    ax.set_title(f'Class {label}')\n",
        "\n",
        "    # Increment the counter for the respective class\n",
        "    class_counts_raw[label] += 1\n",
        "\n",
        "plt.tight_layout()\n",
        "plt.show()\n",
        "\n",
        "# Plot 10 samples for each class from test_data_biased\n",
        "fig_biased, axes_biased = plt.subplots(2, 10, figsize=(20, 4))\n",
        "\n",
        "for image, label in test_data_biased:\n",
        "    # Check if the maximum number of samples for each class is reached\n",
        "    if class_counts_biased[label] >= 10:\n",
        "        continue\n",
        "\n",
        "    # Plot the image\n",
        "    ax = axes_biased[label][class_counts_biased[label]]\n",
        "    ax.imshow(image, cmap='gray')\n",
        "    ax.axis('off')\n",
        "    ax.set_title(f'Class {label}')\n",
        "\n",
        "    # Increment the counter for the respective class\n",
        "    class_counts_biased[label] += 1\n",
        "\n",
        "plt.tight_layout()\n",
        "plt.show()\n"
      ]
    },
    {
      "cell_type": "markdown",
      "metadata": {
        "id": "VR1-2Xg3ELd_"
      },
      "source": [
        "Therefore, we should have a training dataset ```remapped_train_data_with_spurious``` with two classes, 0 (containing digits 0-4) and 1 (digits 5-9).\n",
        "99% of the samples in class 0 have a spurious feature, while 1% of the class 1 has the same spurious feature.\n",
        "\n",
        "As for testing dataset, we have 2, ```test_data_raw``` and ```test_data_biased```. One will be a raw MNIST test dataset, while the other one will be a modified one with spurious features for class 1 samples.\n",
        "\n",
        "Thus we have ```test_data_daw```, ```test_data_spurious``` with only class 1 sample spurious features, `remapped_train_data_with_spurious`, and `remapped_train_data`"
      ]
    },
    {
      "cell_type": "markdown",
      "metadata": {
        "id": "Uph4IAqN8VTe"
      },
      "source": [
        "# Dataloaders\n",
        "make batches"
      ]
    },
    {
      "cell_type": "code",
      "execution_count": 64,
      "metadata": {
        "id": "u3Bh8Xs4-S0r"
      },
      "outputs": [],
      "source": [
        "from PIL import Image\n",
        "\n",
        "# Convert grayscale images in remapped_test_data to RGB\n",
        "remapped_test_data_rgb = [(image.convert(\"RGB\"), label) for image, label in remapped_test_data]\n",
        "\n",
        "# Define a transform to convert PIL images to tensors\n",
        "transform = transforms.ToTensor()\n",
        "\n",
        "# Convert remapped_train_data_with_spurious to tensors\n",
        "remapped_spurious_train_data_tensor = [(transform(image), label) for image, label in remapped_train_data_with_spurious]\n",
        "\n",
        "# Convert remapped_test_data_rgb to tensors\n",
        "test_data_raw_tensor = [(transform(image), label) for image, label in remapped_test_data_rgb]\n",
        "\n",
        "# Convert test_data_biased to tensors\n",
        "test_data_biased_tensor = [(transform(image), label) for image, label in test_data_biased]\n"
      ]
    },
    {
      "cell_type": "code",
      "execution_count": 65,
      "metadata": {
        "colab": {
          "base_uri": "https://localhost:8080/"
        },
        "id": "IWdJy_tW6Dop",
        "outputId": "96cf3ae5-9bd8-42de-bd50-aac0b39541ff"
      },
      "outputs": [
        {
          "output_type": "execute_result",
          "data": {
            "text/plain": [
              "79"
            ]
          },
          "metadata": {},
          "execution_count": 65
        }
      ],
      "source": [
        "biased_train_dataloader = DataLoader(remapped_spurious_train_data_tensor, batch_size=128)\n",
        "raw_test_dataloader = DataLoader(test_data_raw_tensor, batch_size=128)\n",
        "biased_test_dataloader = DataLoader(test_data_biased_tensor, batch_size=128)\n",
        "len(biased_train_dataloader)\n",
        "len(raw_test_dataloader)\n",
        "len(biased_test_dataloader)"
      ]
    },
    {
      "cell_type": "markdown",
      "metadata": {
        "id": "Dlxs0SJ98ftx"
      },
      "source": [
        "# Define CNN\n",
        "Define a Convolutional Neural Network and give its class a ```get_grad_cam_target_layer``` function which will grab the last convolutional layer to use it for saliency map generation. Uses almost the same architecture as the paper \"MaskTune: Mitigating Spurious Correlations by Forcing to Explore\""
      ]
    },
    {
      "cell_type": "code",
      "execution_count": 66,
      "metadata": {
        "id": "kFdy4wMmGyXC"
      },
      "outputs": [],
      "source": [
        "class SmallCNN(nn.Module):\n",
        "    def __init__(self, num_classes):\n",
        "        super().__init__()\n",
        "        self.num_classes = num_classes\n",
        "        self.backbone = nn.Sequential(\n",
        "            nn.Conv2d(3, 16, (3, 3), (1, 1)),  # Change 1 to 3 for RGB input\n",
        "            nn.BatchNorm2d(16),\n",
        "            nn.ReLU(),\n",
        "            nn.Conv2d(16, 16, (3, 3), (1, 1)),\n",
        "            nn.BatchNorm2d(num_features=16),\n",
        "            nn.ReLU(),\n",
        "            nn.MaxPool2d((2, 2), (2, 2)),\n",
        "            nn.Conv2d(16, 32, (3, 3), (1, 1)),\n",
        "            nn.BatchNorm2d(num_features=32),\n",
        "            nn.ReLU(),\n",
        "            nn.Conv2d(32, 32, (3, 3), (1, 1)),\n",
        "            nn.BatchNorm2d(num_features=32),\n",
        "            nn.ReLU(),\n",
        "            nn.MaxPool2d((2, 2), (2, 2)),\n",
        "            nn.Flatten()\n",
        "        )\n",
        "        self.linear = nn.Sequential(\n",
        "            nn.Linear(512, 256),\n",
        "            nn.BatchNorm1d(num_features=256),\n",
        "            nn.ReLU(),\n",
        "            nn.Linear(256, self.num_classes)\n",
        "        )\n",
        "\n",
        "    def forward(self, x):\n",
        "        features = self.backbone(x)\n",
        "        logits = self.linear(features)\n",
        "        return logits\n",
        "\n",
        "    def get_grad_cam_target_layer(self):\n",
        "        return self.backbone[-3]"
      ]
    },
    {
      "cell_type": "markdown",
      "metadata": {
        "id": "JmVn-g3Z87tf"
      },
      "source": [
        "### Hyperparameters, optimizer, model selection"
      ]
    },
    {
      "cell_type": "code",
      "execution_count": 67,
      "metadata": {
        "id": "8ROjx8uF04n7"
      },
      "outputs": [],
      "source": [
        "import torch.optim as optim\n",
        "from sklearn.metrics import accuracy_score, precision_score, recall_score, f1_score\n",
        "\n",
        "# Hyperparameters according to the paper\n",
        "lr = 0.01\n",
        "momentum = 0.9\n",
        "weight_decay = 1e-4\n",
        "batch_size = 128\n",
        "epochs = 20\n",
        "lr_decay_epochs = 25\n",
        "lr_decay_factor = 0.5\n",
        "number_of_classes = 2\n",
        "\n",
        "# Loss function\n",
        "loss_function = nn.CrossEntropyLoss()\n",
        "\n",
        "# Optimizer with the above presented hyperparameters\n",
        "model = SmallCNN(number_of_classes)\n",
        "optimizer = optim.SGD(model.parameters(), lr=lr, momentum=momentum, weight_decay=weight_decay)\n",
        "\n",
        "# Learning rate scheduler to decrease learning rate every lr_decay_epochs epochs\n",
        "lr_scheduler = optim.lr_scheduler.StepLR(optimizer, step_size=lr_decay_epochs, gamma=lr_decay_factor)"
      ]
    },
    {
      "cell_type": "markdown",
      "metadata": {
        "id": "e1ti6kBN9F5R"
      },
      "source": [
        "# Training and Testing\n",
        "Done with the specified parameters and models above"
      ]
    },
    {
      "cell_type": "markdown",
      "metadata": {
        "id": "-D2mbCXzwL-3"
      },
      "source": [
        "`test_model()` has:\n",
        "\n",
        "**Class-wise accuracy** - correctness of predictions for each class infividually. We expect improved class-wise accuracy for biased dataset after applying MaskTune. Before that, biased dataset should have low class-wise accuracy for the underrepresented classes.\n",
        "\n",
        "**Precision and Recall, F1 score** -\n",
        "\n",
        "*   Precision - how many of the predicted positive samples are actually positive\n",
        "*   Recall - how many of the actual positive samples are predicted as positive\n",
        "*   F1 score - balance between them\n",
        "We expect to see improvements in those metrics after applying MaskTune, especially for the biased dataset.\n",
        "\n",
        "**Confusion Matrix** - detailed breakdown of correct and incorrect classifications for each class. After applying Masktune, we should see the improvements in the main diagonal of the matrix (correct classifications)\n",
        "\n",
        "**Accuracy** - overall correctness of the predictions. Improvements in accuracy after applying Masktune is expected on both raw and biased datasets. Before that, accuracy might be lower on the biased dataset compared to the raw dataset due to the bias."
      ]
    },
    {
      "cell_type": "code",
      "execution_count": 68,
      "metadata": {
        "id": "8-qCeq790EaG"
      },
      "outputs": [],
      "source": [
        "def train_erm(model, dataloader, optimizer, loss_function, epochs=100):\n",
        "    for epoch in range(epochs):\n",
        "        model.train()  # Set the model to training mode\n",
        "        total_loss = 0.0\n",
        "        correct_predictions = 0\n",
        "        total_samples = 0\n",
        "\n",
        "        for xb, yb in dataloader:\n",
        "            optimizer.zero_grad()\n",
        "            preds = model(xb)\n",
        "            loss = loss_function(preds, yb)\n",
        "            loss.backward()\n",
        "            optimizer.step()\n",
        "\n",
        "            total_loss += loss.item() * xb.size(0)\n",
        "            correct_predictions += (preds.argmax(1) == yb).sum().item()\n",
        "            total_samples += xb.size(0)\n",
        "\n",
        "        epoch_loss = total_loss / total_samples\n",
        "        epoch_accuracy = correct_predictions / total_samples\n",
        "\n",
        "        print(f\"Epoch {epoch+1}/{epochs}, Loss: {epoch_loss:.4f}, Accuracy: {epoch_accuracy:.4f}\")\n",
        "\n",
        "        torch.save(model.state_dict(), f'/content/data/MNIST/CNN_checkpoint.pth')\n"
      ]
    },
    {
      "cell_type": "code",
      "execution_count": 69,
      "metadata": {
        "id": "pmmuI9Q3y4nh"
      },
      "outputs": [],
      "source": [
        "def test_model(model, dataloader, loss_function, num_classes=2):\n",
        "    model.eval()  # Set the model to evaluation mode\n",
        "    total_loss = 0.0\n",
        "    correct_predictions = 0\n",
        "    total_samples = 0\n",
        "\n",
        "    class_correct = [0] * num_classes\n",
        "    class_samples = [0] * num_classes\n",
        "\n",
        "    all_preds = []\n",
        "    all_labels = []\n",
        "\n",
        "    with torch.no_grad():\n",
        "        for xb, yb in dataloader:\n",
        "            preds = model(xb)\n",
        "            loss = loss_function(preds, yb)\n",
        "\n",
        "            total_loss += loss.item() * xb.size(0)\n",
        "            correct_predictions += (preds.argmax(1) == yb).sum().item()\n",
        "            total_samples += xb.size(0)\n",
        "\n",
        "            for i in range(len(yb)):\n",
        "                label = yb[i].item()\n",
        "                pred = preds.argmax(1)[i].item()\n",
        "                all_preds.append(pred)\n",
        "                all_labels.append(label)\n",
        "                if label == pred:\n",
        "                    class_correct[label] += 1\n",
        "                class_samples[label] += 1\n",
        "\n",
        "    average_loss = total_loss / total_samples\n",
        "    accuracy = correct_predictions / total_samples\n",
        "    class_accuracy = [class_correct[i] / class_samples[i] if class_samples[i] > 0 else 0 for i in range(num_classes)]\n",
        "\n",
        "    print(f\"Test Loss: {average_loss:.4f}, Accuracy: {accuracy:.4f}\")\n",
        "    for i in range(num_classes):\n",
        "        print(f\"Class {i} Accuracy: {class_accuracy[i]:.4f}\")\n",
        "\n",
        "    conf_matrix = confusion_matrix(all_labels, all_preds)\n",
        "    precision = precision_score(all_labels, all_preds, average='macro')\n",
        "    recall = recall_score(all_labels, all_preds, average='macro')\n",
        "    f1 = f1_score(all_labels, all_preds, average='macro')\n",
        "\n",
        "    print(f\"Confusion Matrix:\\n{conf_matrix}\")\n",
        "    print(f\"Precision: {precision:.4f}\")\n",
        "    print(f\"Recall: {recall:.4f}\")\n",
        "    print(f\"F1 Score: {f1:.4f}\")\n"
      ]
    },
    {
      "cell_type": "code",
      "execution_count": 70,
      "metadata": {
        "colab": {
          "base_uri": "https://localhost:8080/"
        },
        "id": "2_avXX_C5iiE",
        "outputId": "09c21724-1abb-4023-cfd1-ba6cc76a64fb"
      },
      "outputs": [
        {
          "output_type": "stream",
          "name": "stdout",
          "text": [
            "Epoch 1/4, Loss: 0.0319, Accuracy: 0.9889\n",
            "Epoch 2/4, Loss: 0.0101, Accuracy: 0.9969\n",
            "Epoch 3/4, Loss: 0.0059, Accuracy: 0.9983\n",
            "Epoch 4/4, Loss: 0.0034, Accuracy: 0.9995\n",
            "\u001b[1m \u001b[93m Testing on Raw Test Dataset: \u001b[0m\n",
            "Test Loss: 0.3408, Accuracy: 0.8752\n",
            "Class 0 Accuracy: 0.7581\n",
            "Class 1 Accuracy: 0.9990\n",
            "Confusion Matrix:\n",
            "[[3896 1243]\n",
            " [   5 4856]]\n",
            "Precision: 0.8975\n",
            "Recall: 0.8785\n",
            "F1 Score: 0.8740\n",
            "\u001b[1m \u001b[93m Testing on Biased Test Dataset: \u001b[0m\n",
            "Test Loss: 0.5953, Accuracy: 0.7872\n",
            "Class 0 Accuracy: 0.7581\n",
            "Class 1 Accuracy: 0.8179\n",
            "Confusion Matrix:\n",
            "[[3896 1243]\n",
            " [ 885 3976]]\n",
            "Precision: 0.7884\n",
            "Recall: 0.7880\n",
            "F1 Score: 0.7872\n"
          ]
        }
      ],
      "source": [
        "# Train the model with biased training dataset\n",
        "train_erm(model, biased_train_dataloader, optimizer, loss_function, epochs=4)\n",
        "\n",
        "# Test the model on the raw test dataset\n",
        "print(\"\\033[1m \\033[93m Testing on Raw Test Dataset: \\033[0m\")  # Bold and yellow text\n",
        "test_model(model, raw_test_dataloader, loss_function)\n",
        "\n",
        "# Test the model on the biased test dataset\n",
        "print(\"\\033[1m \\033[93m Testing on Biased Test Dataset: \\033[0m\") # Reset formatting\n",
        "test_model(model, biased_test_dataloader, loss_function)\n"
      ]
    },
    {
      "cell_type": "markdown",
      "source": [
        "# Masktune\n",
        "After the initial training with the empirical risk minimization, let's apply Masktune, which incorporates:\n",
        "\n",
        "- **Mask Generation** - identifying and masking the most influential, potentially spurious features\n",
        "\n",
        "- **Mask Application and Finetunning** - by finetuning the model with the masked data, it is forced to explore less prominent and potentially more descriptive non-spurious features.\n",
        "\n",
        "- **Iteratarions** - enable us to adjust the depth of the feature depth and descriptiveness."
      ],
      "metadata": {
        "id": "03mdSJ74xEDP"
      }
    },
    {
      "cell_type": "markdown",
      "source": [
        "## Mask Generation\n",
        "\n",
        "1.   **Train the model using** Empirical Risk Minimization (**ERM**)\n",
        "2.   **Identify the spurious features** / class activations from saliency maps. In case of present spurious features, the method will likely identify the spurious feature, while for the input without any spurious features, the function will identify the most prominent features to mask, forcing the training to escape its myopic and greedy feature-seeking approach and encouraging and leveraging more input variables [1]\n",
        "3.  **Generate masks** to cover the most discriminatory features discovered in the saliency maps.\n",
        "4.  The generated masks from the step 3 will be applied to the dataset\n",
        "5.  We will fine-tune the pretrained ERM model on newly masked dataset onlt for one epoch."
      ],
      "metadata": {
        "id": "UZ1C-PZh8xK2"
      }
    },
    {
      "cell_type": "code",
      "source": [
        "class MaskTunePipeline:\n",
        "    def __init__(self, model, biased_train_dataloader, raw_test_dataloader, biased_test_dataloader, mask_dir, batch_size=128, epochs=1, finetune_epochs=1):\n",
        "        self.model = model\n",
        "        self.biased_train_dataloader = biased_train_dataloader\n",
        "        self.raw_test_dataloader = raw_test_dataloader\n",
        "        self.biased_test_dataloader = biased_test_dataloader\n",
        "        self.mask_dir = mask_dir\n",
        "        self.batch_size = batch_size\n",
        "        self.epochs = epochs\n",
        "        self.finetune_epochs = finetune_epochs\n",
        "        self.optimizer = optim.SGD(self.model.parameters(), lr=0.01, momentum=0.9, weight_decay=1e-4)\n",
        "        self.loss_function = nn.CrossEntropyLoss()\n",
        "\n",
        "    def train_erm(self):\n",
        "        for epoch in range(self.epochs):\n",
        "            self.model.train()  # Set the model to training mode\n",
        "            total_loss = 0.0\n",
        "            correct_predictions = 0\n",
        "            total_samples = 0\n",
        "\n",
        "            for xb, yb in self.biased_train_dataloader:\n",
        "                self.optimizer.zero_grad()\n",
        "                preds = self.model(xb)\n",
        "                loss = self.loss_function(preds, yb)\n",
        "                loss.backward()\n",
        "                self.optimizer.step()\n",
        "\n",
        "                total_loss += loss.item() * xb.size(0)\n",
        "                correct_predictions += (preds.argmax(1) == yb).sum().item()\n",
        "                total_samples += xb.size(0)\n",
        "\n",
        "            epoch_loss = total_loss / total_samples\n",
        "            epoch_accuracy = correct_predictions / total_samples\n",
        "\n",
        "            print(f\"Epoch {epoch+1}/{self.epochs}, Loss: {epoch_loss:.4f}, Accuracy: {epoch_accuracy:.4f}\")\n",
        "            torch.save(self.model.state_dict(), f'{self.mask_dir}/CNN_checkpoint.pth')\n",
        "\n",
        "    def test_model(self, dataloader):\n",
        "        self.model.eval()  # Set the model to evaluation mode\n",
        "        total_loss = 0.0\n",
        "        correct_predictions = 0\n",
        "        total_samples = 0\n",
        "\n",
        "        class_correct = [0] * 2\n",
        "        class_samples = [0] * 2\n",
        "\n",
        "        all_preds = []\n",
        "        all_labels = []\n",
        "\n",
        "        with torch.no_grad():\n",
        "            for xb, yb in dataloader:\n",
        "                preds = self.model(xb)\n",
        "                loss = self.loss_function(preds, yb)\n",
        "\n",
        "                total_loss += loss.item() * xb.size(0)\n",
        "                correct_predictions += (preds.argmax(1) == yb).sum().item()\n",
        "                total_samples += xb.size(0)\n",
        "\n",
        "                for i in range(len(yb)):\n",
        "                    label = yb[i].item()\n",
        "                    pred = preds.argmax(1)[i].item()\n",
        "                    all_preds.append(pred)\n",
        "                    all_labels.append(label)\n",
        "                    if label == pred:\n",
        "                        class_correct[label] += 1\n",
        "                    class_samples[label] += 1\n",
        "\n",
        "        average_loss = total_loss / total_samples\n",
        "        accuracy = correct_predictions / total_samples\n",
        "        class_accuracy = [class_correct[i] / class_samples[i] if class_samples[i] > 0 else 0 for i in range(2)]\n",
        "\n",
        "        print(f\"Test Loss: {average_loss:.4f}, Accuracy: {accuracy:.4f}\")\n",
        "        for i in range(2):\n",
        "            print(f\"Class {i} Accuracy: {class_accuracy[i]:.4f}\")\n",
        "\n",
        "        conf_matrix = confusion_matrix(all_labels, all_preds)\n",
        "        precision = precision_score(all_labels, all_preds, average='macro')\n",
        "        recall = recall_score(all_labels, all_preds, average='macro')\n",
        "        f1 = f1_score(all_labels, all_preds, average='macro')\n",
        "\n",
        "        print(f\"Confusion Matrix:\\n{conf_matrix}\")\n",
        "        print(f\"Precision: {precision:.4f}\")\n",
        "        print(f\"Recall: {recall:.4f}\")\n",
        "        print(f\"F1 Score: {f1:.4f}\")\n",
        "\n",
        "    def generate_map(self, sample_data, sample_class):\n",
        "        '''\n",
        "        Function Generates a saliency map using XGrad-CAM to identify\n",
        "        important features for a specific class.\n",
        "\n",
        "        Args:\n",
        "            sample_data (torch.Tensor): The input sample data tensor.\n",
        "            sample_class (int): The class index for which to generate the saliency map.\n",
        "\n",
        "        Returns:\n",
        "            np.ndarray: The generated saliency map as a NumPy array.\n",
        "\n",
        "        '''\n",
        "\n",
        "        self.model.eval()  # Set the model to evaluation mode\n",
        "\n",
        "        # Get the target layer for GradCAM, which is the last convolutional layer in the model\n",
        "        target_layer = self.model.get_grad_cam_target_layer()\n",
        "\n",
        "        # Initialize XGradCAM with the model and the target layer\n",
        "        cam = XGradCAM(self.model, target_layer)\n",
        "\n",
        "        # Perform a forward pass to get the model output for the input sample\n",
        "        output = self.model(sample_data)\n",
        "\n",
        "        # Generate the saliency map for the specified class index\n",
        "        batch_size = sample_data.size(0)\n",
        "        class_idx = [sample_class] * batch_size  # Repeat the sample_class for each sample in the batch\n",
        "        saliency_map = cam(class_idx=class_idx, scores=output)\n",
        "\n",
        "        # Detach the saliency map from the computation graph, move it to the CPU, and convert it to a NumPy array\n",
        "        saliency_map_np = saliency_map[0].detach().cpu().numpy()\n",
        "\n",
        "        # Reshape the saliency map to 2D\n",
        "        saliency_map_np = saliency_map_np.reshape(saliency_map_np.shape[1:])\n",
        "\n",
        "        return saliency_map_np\n",
        "\n",
        "\n",
        "\n",
        "    def create_mask(self, saliency_map, threshold=0.5):\n",
        "        '''\n",
        "        Creates a binary mask based on the saliency map, occluding regions above a threshold.\n",
        "\n",
        "        '''\n",
        "        mask = saliency_map > threshold\n",
        "        return mask.astype(np.float32)\n",
        "\n",
        "    # Example usage\n",
        "    # saliency_map = generate_map(model, sample_data, sample_class)\n",
        "    # mask = create_mask(saliency_map, threshold=0.5)\n",
        "\n",
        "    def apply_mask(image, mask, resize_dims=(28, 28)):\n",
        "        '''\n",
        "        Applies the mask to an image, setting the masked regions to zero.\n",
        "        The mask needs to be resized, otherwise, there will be a size missmatch\n",
        "        between the mask and the image. For general purpose, I can pass 'resize_dims'\n",
        "        by reference\n",
        "\n",
        "        Args:\n",
        "            image (torch.Tensor): The input image tensor.\n",
        "            mask (np.ndarray): The binary mask.\n",
        "            resize_dims (tuple): The dimensions to resize the mask to.\n",
        "\n",
        "        Returns:\n",
        "            torch.Tensor: The masked image tensor.\n",
        "        '''\n",
        "        # Ensure mask is 2D before resizing\n",
        "        if len(mask.shape) > 2:\n",
        "            mask = mask[0]\n",
        "\n",
        "        # Resize the mask to match the input image dimensions\n",
        "        mask = resize(torch.tensor(mask, dtype=torch.float32), resize_dims)\n",
        "\n",
        "        # Ensure the mask has the same number of channels as the input image\n",
        "        if image.shape[0] != mask.shape[0]:\n",
        "            mask = mask.unsqueeze(0).repeat(image.shape[0], 1, 1)\n",
        "\n",
        "        masked_image = image.clone()\n",
        "        masked_image *= (1 - mask)\n",
        "        return masked_image\n",
        "\n",
        "    # Example usage\n",
        "    # masked_image = apply_mask(sample_data, mask)\n",
        "\n",
        "    def mask_data(self):\n",
        "        print(\"Generating and applying masks to the training data...\")\n",
        "        masked_data = []\n",
        "        for data, label in self.biased_train_dataloader:\n",
        "            saliency_map = self.generate_map(data, label)\n",
        "            mask = self.create_mask(saliency_map)\n",
        "            masked_image = self.apply_mask(data, mask)\n",
        "            masked_data.append((masked_image, label))\n",
        "        torch.save(masked_data, f'{self.mask_dir}/masked_train_data.pth')\n",
        "\n",
        "        torch.save(masked_data, f'{self.mask_dir}/masked_train_data.pth')\n",
        "        print(\"Masks generated and applied to the training data.\")\n",
        "\n",
        "    def finetune(self, masked_dataloader):\n",
        "        self.model.train()\n",
        "        for epoch in range(self.finetune_epochs):\n",
        "            total_loss = 0.0\n",
        "            correct_predictions = 0\n",
        "            total_samples = 0\n",
        "\n",
        "            for xb, yb in masked_dataloader:\n",
        "                self.optimizer.zero_grad()\n",
        "                preds = self.model(xb)\n",
        "                loss = self.loss_function(preds, yb)\n",
        "                loss.backward()\n",
        "                self.optimizer.step()\n",
        "\n",
        "                total_loss += loss.item() * xb.size(0)\n",
        "                correct_predictions += (preds.argmax(1) == yb).sum().item()\n",
        "                total_samples += xb.size(0)\n",
        "\n",
        "            epoch_loss = total_loss / total_samples\n",
        "            epoch_accuracy = correct_predictions / total_samples\n",
        "\n",
        "            print(f\"Finetune Epoch {epoch+1}/{self.finetune_epochs}, Loss: {epoch_loss:.4f}, Accuracy: {epoch_accuracy:.4f}\")\n",
        "            torch.save(self.model.state_dict(), f'{self.mask_dir}/finetuned_model_checkpoint.pth')\n",
        "\n",
        "    def test_model(self, dataloader):\n",
        "        self.model.eval()  # Set the model to evaluation mode\n",
        "        total_loss = 0.0\n",
        "        correct_predictions = 0\n",
        "        total_samples = 0\n",
        "\n",
        "        class_correct = [0] * 2\n",
        "        class_samples = [0] * 2\n",
        "\n",
        "        all_preds = []\n",
        "        all_labels = []\n",
        "\n",
        "        with torch.no_grad():\n",
        "            for xb, yb in dataloader:\n",
        "                preds = self.model(xb)\n",
        "                loss = self.loss_function(preds, yb)\n",
        "\n",
        "                total_loss += loss.item() * xb.size(0)\n",
        "                correct_predictions += (preds.argmax(1) == yb).sum().item()\n",
        "                total_samples += xb.size(0)\n",
        "\n",
        "                for i in range(len(yb)):\n",
        "                    label = yb[i].item()\n",
        "                    pred = preds.argmax(1)[i].item()\n",
        "                    all_preds.append(pred)\n",
        "                    all_labels.append(label)\n",
        "                    if label == pred:\n",
        "                        class_correct[label] += 1\n",
        "                    class_samples[label] += 1\n",
        "\n",
        "        average_loss = total_loss / total_samples\n",
        "        accuracy = correct_predictions / total_samples\n",
        "        class_accuracy = [class_correct[i] / class_samples[i] if class_samples[i] > 0 else 0 for i in range(2)]\n",
        "\n",
        "        print(f\"Test Loss: {average_loss:.4f}, Accuracy: {accuracy:.4f}\")\n",
        "        for i in range(2):\n",
        "            print(f\"Class {i} Accuracy: {class_accuracy[i]:.4f}\")\n",
        "\n",
        "        conf_matrix = confusion_matrix(all_labels, all_preds)\n",
        "        precision = precision_score(all_labels, all_preds, average='macro')\n",
        "        recall = recall_score(all_labels, all_preds, average='macro')\n",
        "        f1 = f1_score(all_labels, all_preds, average='macro')\n",
        "\n",
        "        print(f\"Confusion Matrix:\\n{conf_matrix}\")\n",
        "        print(f\"Precision: {precision:.4f}\")\n",
        "        print(f\"Recall: {recall:.4f}\")\n",
        "        print(f\"F1 Score: {f1:.4f}\")\n",
        "\n",
        "    def masktune(self):\n",
        "        self.train_erm()\n",
        "        print(\"\\033[1m \\033[93m Testing on Raw Test Dataset: \\033[0m\")\n",
        "        self.test_model(self.raw_test_dataloader)\n",
        "        print(\"\\033[1m \\033[93m Testing on Biased Test Dataset: \\033[0m\")\n",
        "        self.test_model(self.biased_test_dataloader)\n",
        "\n",
        "        self.mask_data()\n",
        "\n",
        "        masked_data = torch.load(f'{self.mask_dir}/masked_train_data.pth')\n",
        "        masked_train_dataloader = DataLoader(masked_data, batch_size=self.batch_size, shuffle=True)\n",
        "\n",
        "        print(\"\\033[1m \\033[93m Fine-tuning with masked data... \\033[0m\")\n",
        "        self.fine_tune_model(masked_train_dataloader)\n",
        "\n",
        "        print(\"\\033[1m \\033[93m Testing on Raw Test Dataset after fine-tuning: \\033[0m\")\n",
        "        self.test_model(self.raw_test_dataloader)\n",
        "        print(\"\\033[1m \\033[93m Testing on Biased Test Dataset after fine-tuning: \\033[0m\")\n",
        "        self.test_model(self.biased_test_dataloader)\n",
        "\n",
        "# Example usage:\n",
        "# model = SmallCNN(num_classes=2)\n",
        "# pipeline = MaskTunePipeline(model, remapped_spurious_train_data_tensor, remapped_test_data, test_data_biased, mask_dir='/path/to/mask_dir')\n",
        "# pipeline.masktune()"
      ],
      "metadata": {
        "id": "uRjODdQtysfQ"
      },
      "execution_count": 92,
      "outputs": []
    },
    {
      "cell_type": "code",
      "source": [
        "# Initialize the MaskTunePipeline and run masktune\n",
        "model = SmallCNN(num_classes=2)\n",
        "pipeline = MaskTunePipeline(model, biased_train_dataloader, raw_test_dataloader, biased_test_dataloader, mask_dir='/content/data/MNIST')\n",
        "pipeline.masktune()"
      ],
      "metadata": {
        "colab": {
          "base_uri": "https://localhost:8080/",
          "height": 1000
        },
        "id": "qt3Uu24HAyUQ",
        "outputId": "99458b90-aa5e-49b3-ba67-1c13eed5be27"
      },
      "execution_count": 93,
      "outputs": [
        {
          "output_type": "stream",
          "name": "stdout",
          "text": [
            "Epoch 1/1, Loss: 0.0324, Accuracy: 0.9889\n",
            "\u001b[1m \u001b[93m Testing on Raw Test Dataset: \u001b[0m\n",
            "Test Loss: 0.4032, Accuracy: 0.8249\n",
            "Class 0 Accuracy: 0.6614\n",
            "Class 1 Accuracy: 0.9977\n",
            "Confusion Matrix:\n",
            "[[3399 1740]\n",
            " [  11 4850]]\n",
            "Precision: 0.8664\n",
            "Recall: 0.8296\n",
            "F1 Score: 0.8211\n",
            "\u001b[1m \u001b[93m Testing on Biased Test Dataset: \u001b[0m\n",
            "Test Loss: 0.8302, Accuracy: 0.6460\n",
            "Class 0 Accuracy: 0.6614\n",
            "Class 1 Accuracy: 0.6297\n",
            "Confusion Matrix:\n",
            "[[3399 1740]\n",
            " [1800 3061]]\n",
            "Precision: 0.6457\n",
            "Recall: 0.6456\n",
            "F1 Score: 0.6456\n",
            "Generating and applying masks to the training data...\n"
          ]
        },
        {
          "output_type": "error",
          "ename": "RuntimeError",
          "evalue": "Boolean value of Tensor with more than one value is ambiguous",
          "traceback": [
            "\u001b[0;31m---------------------------------------------------------------------------\u001b[0m",
            "\u001b[0;31mRuntimeError\u001b[0m                              Traceback (most recent call last)",
            "\u001b[0;32m<ipython-input-93-9224abdc3b09>\u001b[0m in \u001b[0;36m<cell line: 4>\u001b[0;34m()\u001b[0m\n\u001b[1;32m      2\u001b[0m \u001b[0mmodel\u001b[0m \u001b[0;34m=\u001b[0m \u001b[0mSmallCNN\u001b[0m\u001b[0;34m(\u001b[0m\u001b[0mnum_classes\u001b[0m\u001b[0;34m=\u001b[0m\u001b[0;36m2\u001b[0m\u001b[0;34m)\u001b[0m\u001b[0;34m\u001b[0m\u001b[0;34m\u001b[0m\u001b[0m\n\u001b[1;32m      3\u001b[0m \u001b[0mpipeline\u001b[0m \u001b[0;34m=\u001b[0m \u001b[0mMaskTunePipeline\u001b[0m\u001b[0;34m(\u001b[0m\u001b[0mmodel\u001b[0m\u001b[0;34m,\u001b[0m \u001b[0mbiased_train_dataloader\u001b[0m\u001b[0;34m,\u001b[0m \u001b[0mraw_test_dataloader\u001b[0m\u001b[0;34m,\u001b[0m \u001b[0mbiased_test_dataloader\u001b[0m\u001b[0;34m,\u001b[0m \u001b[0mmask_dir\u001b[0m\u001b[0;34m=\u001b[0m\u001b[0;34m'/content/data/MNIST'\u001b[0m\u001b[0;34m)\u001b[0m\u001b[0;34m\u001b[0m\u001b[0;34m\u001b[0m\u001b[0m\n\u001b[0;32m----> 4\u001b[0;31m \u001b[0mpipeline\u001b[0m\u001b[0;34m.\u001b[0m\u001b[0mmasktune\u001b[0m\u001b[0;34m(\u001b[0m\u001b[0;34m)\u001b[0m\u001b[0;34m\u001b[0m\u001b[0;34m\u001b[0m\u001b[0m\n\u001b[0m",
            "\u001b[0;32m<ipython-input-92-bf7c913a9bf8>\u001b[0m in \u001b[0;36mmasktune\u001b[0;34m(self)\u001b[0m\n\u001b[1;32m    261\u001b[0m         \u001b[0mself\u001b[0m\u001b[0;34m.\u001b[0m\u001b[0mtest_model\u001b[0m\u001b[0;34m(\u001b[0m\u001b[0mself\u001b[0m\u001b[0;34m.\u001b[0m\u001b[0mbiased_test_dataloader\u001b[0m\u001b[0;34m)\u001b[0m\u001b[0;34m\u001b[0m\u001b[0;34m\u001b[0m\u001b[0m\n\u001b[1;32m    262\u001b[0m \u001b[0;34m\u001b[0m\u001b[0m\n\u001b[0;32m--> 263\u001b[0;31m         \u001b[0mself\u001b[0m\u001b[0;34m.\u001b[0m\u001b[0mmask_data\u001b[0m\u001b[0;34m(\u001b[0m\u001b[0;34m)\u001b[0m\u001b[0;34m\u001b[0m\u001b[0;34m\u001b[0m\u001b[0m\n\u001b[0m\u001b[1;32m    264\u001b[0m \u001b[0;34m\u001b[0m\u001b[0m\n\u001b[1;32m    265\u001b[0m         \u001b[0mmasked_data\u001b[0m \u001b[0;34m=\u001b[0m \u001b[0mtorch\u001b[0m\u001b[0;34m.\u001b[0m\u001b[0mload\u001b[0m\u001b[0;34m(\u001b[0m\u001b[0;34mf'{self.mask_dir}/masked_train_data.pth'\u001b[0m\u001b[0;34m)\u001b[0m\u001b[0;34m\u001b[0m\u001b[0;34m\u001b[0m\u001b[0m\n",
            "\u001b[0;32m<ipython-input-92-bf7c913a9bf8>\u001b[0m in \u001b[0;36mmask_data\u001b[0;34m(self)\u001b[0m\n\u001b[1;32m    173\u001b[0m         \u001b[0mmasked_data\u001b[0m \u001b[0;34m=\u001b[0m \u001b[0;34m[\u001b[0m\u001b[0;34m]\u001b[0m\u001b[0;34m\u001b[0m\u001b[0;34m\u001b[0m\u001b[0m\n\u001b[1;32m    174\u001b[0m         \u001b[0;32mfor\u001b[0m \u001b[0mdata\u001b[0m\u001b[0;34m,\u001b[0m \u001b[0mlabel\u001b[0m \u001b[0;32min\u001b[0m \u001b[0mself\u001b[0m\u001b[0;34m.\u001b[0m\u001b[0mbiased_train_dataloader\u001b[0m\u001b[0;34m:\u001b[0m\u001b[0;34m\u001b[0m\u001b[0;34m\u001b[0m\u001b[0m\n\u001b[0;32m--> 175\u001b[0;31m             \u001b[0msaliency_map\u001b[0m \u001b[0;34m=\u001b[0m \u001b[0mself\u001b[0m\u001b[0;34m.\u001b[0m\u001b[0mgenerate_map\u001b[0m\u001b[0;34m(\u001b[0m\u001b[0mdata\u001b[0m\u001b[0;34m,\u001b[0m \u001b[0mlabel\u001b[0m\u001b[0;34m)\u001b[0m\u001b[0;34m\u001b[0m\u001b[0;34m\u001b[0m\u001b[0m\n\u001b[0m\u001b[1;32m    176\u001b[0m             \u001b[0mmask\u001b[0m \u001b[0;34m=\u001b[0m \u001b[0mself\u001b[0m\u001b[0;34m.\u001b[0m\u001b[0mcreate_mask\u001b[0m\u001b[0;34m(\u001b[0m\u001b[0msaliency_map\u001b[0m\u001b[0;34m)\u001b[0m\u001b[0;34m\u001b[0m\u001b[0;34m\u001b[0m\u001b[0m\n\u001b[1;32m    177\u001b[0m             \u001b[0mmasked_image\u001b[0m \u001b[0;34m=\u001b[0m \u001b[0mself\u001b[0m\u001b[0;34m.\u001b[0m\u001b[0mapply_mask\u001b[0m\u001b[0;34m(\u001b[0m\u001b[0mdata\u001b[0m\u001b[0;34m,\u001b[0m \u001b[0mmask\u001b[0m\u001b[0;34m)\u001b[0m\u001b[0;34m\u001b[0m\u001b[0;34m\u001b[0m\u001b[0m\n",
            "\u001b[0;32m<ipython-input-92-bf7c913a9bf8>\u001b[0m in \u001b[0;36mgenerate_map\u001b[0;34m(self, sample_data, sample_class)\u001b[0m\n\u001b[1;32m    112\u001b[0m         \u001b[0mbatch_size\u001b[0m \u001b[0;34m=\u001b[0m \u001b[0msample_data\u001b[0m\u001b[0;34m.\u001b[0m\u001b[0msize\u001b[0m\u001b[0;34m(\u001b[0m\u001b[0;36m0\u001b[0m\u001b[0;34m)\u001b[0m\u001b[0;34m\u001b[0m\u001b[0;34m\u001b[0m\u001b[0m\n\u001b[1;32m    113\u001b[0m         \u001b[0mclass_idx\u001b[0m \u001b[0;34m=\u001b[0m \u001b[0;34m[\u001b[0m\u001b[0msample_class\u001b[0m\u001b[0;34m]\u001b[0m \u001b[0;34m*\u001b[0m \u001b[0mbatch_size\u001b[0m  \u001b[0;31m# Repeat the sample_class for each sample in the batch\u001b[0m\u001b[0;34m\u001b[0m\u001b[0;34m\u001b[0m\u001b[0m\n\u001b[0;32m--> 114\u001b[0;31m         \u001b[0msaliency_map\u001b[0m \u001b[0;34m=\u001b[0m \u001b[0mcam\u001b[0m\u001b[0;34m(\u001b[0m\u001b[0mclass_idx\u001b[0m\u001b[0;34m=\u001b[0m\u001b[0mclass_idx\u001b[0m\u001b[0;34m,\u001b[0m \u001b[0mscores\u001b[0m\u001b[0;34m=\u001b[0m\u001b[0moutput\u001b[0m\u001b[0;34m)\u001b[0m\u001b[0;34m\u001b[0m\u001b[0;34m\u001b[0m\u001b[0m\n\u001b[0m\u001b[1;32m    115\u001b[0m \u001b[0;34m\u001b[0m\u001b[0m\n\u001b[1;32m    116\u001b[0m         \u001b[0;31m# Detach the saliency map from the computation graph, move it to the CPU, and convert it to a NumPy array\u001b[0m\u001b[0;34m\u001b[0m\u001b[0;34m\u001b[0m\u001b[0m\n",
            "\u001b[0;32m/usr/local/lib/python3.10/dist-packages/torchcam/methods/core.py\u001b[0m in \u001b[0;36m__call__\u001b[0;34m(self, class_idx, scores, normalized, **kwargs)\u001b[0m\n\u001b[1;32m    164\u001b[0m     ) -> List[Tensor]:\n\u001b[1;32m    165\u001b[0m         \u001b[0;31m# Integrity check\u001b[0m\u001b[0;34m\u001b[0m\u001b[0;34m\u001b[0m\u001b[0m\n\u001b[0;32m--> 166\u001b[0;31m         \u001b[0mself\u001b[0m\u001b[0;34m.\u001b[0m\u001b[0m_precheck\u001b[0m\u001b[0;34m(\u001b[0m\u001b[0mclass_idx\u001b[0m\u001b[0;34m,\u001b[0m \u001b[0mscores\u001b[0m\u001b[0;34m)\u001b[0m\u001b[0;34m\u001b[0m\u001b[0;34m\u001b[0m\u001b[0m\n\u001b[0m\u001b[1;32m    167\u001b[0m \u001b[0;34m\u001b[0m\u001b[0m\n\u001b[1;32m    168\u001b[0m         \u001b[0;31m# Compute CAM\u001b[0m\u001b[0;34m\u001b[0m\u001b[0;34m\u001b[0m\u001b[0m\n",
            "\u001b[0;32m/usr/local/lib/python3.10/dist-packages/torchcam/methods/core.py\u001b[0m in \u001b[0;36m_precheck\u001b[0;34m(self, class_idx, scores)\u001b[0m\n\u001b[1;32m    148\u001b[0m         \u001b[0;31m# Check class_idx value\u001b[0m\u001b[0;34m\u001b[0m\u001b[0;34m\u001b[0m\u001b[0m\n\u001b[1;32m    149\u001b[0m         if (not isinstance(class_idx, int) or class_idx < 0) and (\n\u001b[0;32m--> 150\u001b[0;31m             \u001b[0;32mnot\u001b[0m \u001b[0misinstance\u001b[0m\u001b[0;34m(\u001b[0m\u001b[0mclass_idx\u001b[0m\u001b[0;34m,\u001b[0m \u001b[0mlist\u001b[0m\u001b[0;34m)\u001b[0m \u001b[0;32mor\u001b[0m \u001b[0many\u001b[0m\u001b[0;34m(\u001b[0m\u001b[0m_idx\u001b[0m \u001b[0;34m<\u001b[0m \u001b[0;36m0\u001b[0m \u001b[0;32mfor\u001b[0m \u001b[0m_idx\u001b[0m \u001b[0;32min\u001b[0m \u001b[0mclass_idx\u001b[0m\u001b[0;34m)\u001b[0m\u001b[0;34m\u001b[0m\u001b[0;34m\u001b[0m\u001b[0m\n\u001b[0m\u001b[1;32m    151\u001b[0m         ):\n\u001b[1;32m    152\u001b[0m             \u001b[0;32mraise\u001b[0m \u001b[0mValueError\u001b[0m\u001b[0;34m(\u001b[0m\u001b[0;34m\"Incorrect `class_idx` argument value\"\u001b[0m\u001b[0;34m)\u001b[0m\u001b[0;34m\u001b[0m\u001b[0;34m\u001b[0m\u001b[0m\n",
            "\u001b[0;31mRuntimeError\u001b[0m: Boolean value of Tensor with more than one value is ambiguous"
          ]
        }
      ]
    },
    {
      "cell_type": "code",
      "source": [
        "# import torch\n",
        "# import numpy as np\n",
        "# from torch.utils.data import DataLoader\n",
        "\n",
        "# # Assuming you have necessary imports for XGradCAM and your model definition\n",
        "\n",
        "# def masktune_pipeline(model, dataloader, optimizer, loss_function, epochs=10, mask_threshold=0.5):\n",
        "#   \"\"\"\n",
        "#   Performs the MaskTune pipeline for a given model and dataset.\n",
        "\n",
        "#   Args:\n",
        "#       model (torch.nn.Module): The PyTorch model to be fine-tuned.\n",
        "#       dataloader (DataLoader): The dataloader for training data.\n",
        "#       optimizer (torch.optim.Optimizer): The optimizer for training.\n",
        "#       loss_function (torch.nn.Module): The loss function for training.\n",
        "#       epochs (int, optional): The number of epochs for fine-tuning. Defaults to 10.\n",
        "#       mask_threshold (float, optional): Threshold for mask creation. Defaults to 0.5.\n",
        "\n",
        "#   Returns:\n",
        "#       None\n",
        "#   \"\"\"\n",
        "\n",
        "#   for epoch in range(epochs):\n",
        "#     print(f\"** Epoch {epoch+1} / {epochs} **\")\n",
        "\n",
        "#     # Training loop with mask application\n",
        "#     model.train()\n",
        "#     total_loss = 0.0\n",
        "#     correct_predictions = 0\n",
        "#     total_samples = 0\n",
        "\n",
        "#     for xb, yb in dataloader:\n",
        "#       # Generate masks for each sample-class pair\n",
        "#       masks = []\n",
        "#       for i in range(xb.size(0)):  # Loop through batch samples\n",
        "#         sample_data = xb[i].unsqueeze(0)  # Add batch dimension for single sample\n",
        "#         sample_class = yb[i].item()  # Extract class label\n",
        "\n",
        "#         saliency_map = generate_masks(model, sample_data, sample_class)\n",
        "#         mask = create_mask(saliency_map, threshold=mask_threshold)\n",
        "#         masks.append(mask)\n",
        "\n",
        "#       # Convert masks to tensors and apply them to the batch\n",
        "#       masks_tensor = torch.stack(masks).float()\n",
        "#       masked_xb = xb * masks_tensor\n",
        "\n",
        "#       # Forward pass, loss calculation, and backpropagation\n",
        "#       optimizer.zero_grad()\n",
        "#       preds = model(masked_xb)\n",
        "#       loss = loss_function(preds, yb)\n",
        "#       loss.backward()\n",
        "#       optimizer.step()\n",
        "\n",
        "#       total_loss += loss.item() * xb.size(0)\n",
        "#       correct_predictions += (preds.argmax(1) == yb).sum().item()\n",
        "#       total_samples += xb.size(0)\n",
        "\n",
        "#     # Calculate and print epoch statistics\n",
        "#     epoch_loss = total_loss / total_samples\n",
        "#     epoch_accuracy = correct_predictions / total_samples\n",
        "\n",
        "#     print(f\"Training Loss: {epoch_loss:.4f}, Accuracy: {epoch_accuracy:.4f}\")\n",
        "\n",
        "#     # Save the model checkpoint (optional)\n",
        "#     torch.save(model.state_dict(), f'fine_tuned_model_{epoch+1}.pth')\n",
        "\n",
        "#   print(\"MaskTune training completed!\")\n",
        "\n",
        "# # Example usage\n",
        "# fine_tune_model(model, masked_dataloader, optimizer, loss_function, epochs=10)\n"
      ],
      "metadata": {
        "id": "7jLThXfjV8RM"
      },
      "execution_count": null,
      "outputs": []
    },
    {
      "cell_type": "markdown",
      "metadata": {
        "id": "EwbD6_8B9Vwa"
      },
      "source": [
        "# Generating Saliency Map using XGradCAM\n",
        "Implementing explainability.\n",
        "Using the, for example, last convolutional layer from the trained CNN checkpoint to generate the gradient and hook.\n",
        "Pass a random instance from each class to the trained model. The model, target layer from the trained network and the network output are used to generate a saliency_map which is interpolated and projected onto the appropriate input image."
      ]
    },
    {
      "cell_type": "code",
      "execution_count": 94,
      "metadata": {
        "colab": {
          "base_uri": "https://localhost:8080/",
          "height": 407
        },
        "id": "fdd_xUPMwML7",
        "outputId": "a2a1e009-6817-425f-f28d-b844aa2f7da7"
      },
      "outputs": [
        {
          "output_type": "display_data",
          "data": {
            "text/plain": [
              "<Figure size 400x400 with 4 Axes>"
            ],
            "image/png": "[encoded data removed]"
          },
          "metadata": {}
        }
      ],
      "source": [
        "# Load the model\n",
        "model = SmallCNN(num_classes=2)\n",
        "\n",
        "def generate_map(sample_data, sample_class):\n",
        "    checkpoint = torch.load('/content/data/MNIST/CNN_checkpoint.pth') # Load the saved model checkpoint\n",
        "    model.load_state_dict(checkpoint)\n",
        "    model.eval() # Set the model to evaluation mode\n",
        "\n",
        "    # Get the target layer\n",
        "    target_layer = model.get_grad_cam_target_layer() # Last convolutional layer is the target\n",
        "    # Prepare the input tensor\n",
        "    input_tensor = sample_data # a sample from the dataset passed to the function\n",
        "\n",
        "    cam = XGradCAM(model, target_layer)\n",
        "    output = model(input_tensor.unsqueeze(0))\n",
        "    saliency_map = cam(class_idx=sample_class, scores=output)\n",
        "\n",
        "    # Get the first saliency map tensor from the list\n",
        "    saliency_map_tensor = saliency_map[0]\n",
        "\n",
        "    # Convert the saliency map tensor to a numpy array\n",
        "    saliency_map_np = saliency_map_tensor.detach().cpu().numpy()\n",
        "\n",
        "    # Reshape the saliency map to 2D\n",
        "    saliency_map_np = saliency_map_np.reshape(saliency_map_np.shape[1:])\n",
        "\n",
        "    return saliency_map_np\n",
        "\n",
        "def interpolate_heatmap(input_tensor, saliency_map_np):\n",
        "    # Convert the input tensor to a numpy array image\n",
        "    input_img_np = input_tensor.permute(1, 2, 0).cpu().numpy()  # Change the shape from (C, H, W) to (H, W, C)\n",
        "    input_img_np = np.uint8(255 * input_img_np)\n",
        "\n",
        "    # Resize the saliency map to match the size of the original image\n",
        "    heatmap_resized = cv2.resize(saliency_map_np, (input_img_np.shape[1], input_img_np.shape[0]))\n",
        "\n",
        "    # Normalize the saliency map values to the range [0, 255]\n",
        "    heatmap_resized = (heatmap_resized - np.min(heatmap_resized)) / (np.max(heatmap_resized) - np.min(heatmap_resized)) * 255\n",
        "    heatmap_resized = np.uint8(heatmap_resized)\n",
        "\n",
        "    # Apply a colormap to the saliency map to convert it into a heatmap image\n",
        "    heatmap_colored = cv2.applyColorMap(heatmap_resized, cv2.COLORMAP_JET)\n",
        "\n",
        "    # Overlay the heatmap image onto the original image\n",
        "    superimposed_img = cv2.addWeighted(input_img_np, 0.7, heatmap_colored, 0.3, 0)\n",
        "\n",
        "    return superimposed_img\n",
        "\n",
        "# Dictionary to store interpolated images by class label\n",
        "interpolated_images_by_class = {}\n",
        "saliency_maps_by_class = {}\n",
        "\n",
        "# Function to generate and interpolate the heatmap for one instance of each class\n",
        "def generate_and_interpolate_heatmap_one_per_class():\n",
        "    # Create a dictionary to hold the data instances for each class\n",
        "    class_data_dict = {}\n",
        "\n",
        "    # Iterate through the training data\n",
        "    for data, label in remapped_spurious_train_data_tensor:\n",
        "        if label not in class_data_dict:\n",
        "            class_data_dict[label] = []\n",
        "        class_data_dict[label].append(data)\n",
        "\n",
        "    # Iterate through each class label\n",
        "    for class_label in range(2):  # Assuming 2 classes (0 and 1)\n",
        "        # Get the data instances for the specified class label\n",
        "        class_data = class_data_dict.get(class_label, [])\n",
        "\n",
        "        # Select one random instance from the class data\n",
        "        if class_data:\n",
        "            random_instance = random.choice(class_data)\n",
        "\n",
        "            # Generate the saliency map for the random instance\n",
        "            saliency_map_np = generate_map(random_instance, class_label)\n",
        "\n",
        "            # Interpolate the heatmap for the random instance\n",
        "            interpolated_img = interpolate_heatmap(random_instance, saliency_map_np)\n",
        "\n",
        "            # Store the interpolated image in the dictionary by class label\n",
        "            interpolated_images_by_class[class_label] = interpolated_img\n",
        "\n",
        "            saliency_maps_by_class[class_label] = saliency_map_np\n",
        "\n",
        "# Generate interpolated images for one instance per class\n",
        "generate_and_interpolate_heatmap_one_per_class()\n",
        "\n",
        "# Plot the interpolated images and saliency maps together\n",
        "fig, axs = plt.subplots(2, 2, figsize=(4, 4))  # Adjust figsize for square plot\n",
        "\n",
        "for i, ax in enumerate(axs.flat):\n",
        "  class_label = i // number_of_classes # Different for each dataset\n",
        "  interpolated_img = interpolated_images_by_class.get(class_label)\n",
        "  saliency_map_by_class = saliency_maps_by_class.get(class_label)  # Assuming separate dictionary\n",
        "\n",
        "  if interpolated_img is not None:\n",
        "    # Display the interpolated image on the top half of the subplot\n",
        "    axs[i // 2, 0].imshow(interpolated_img)\n",
        "    axs[i // 2, 0].axis('off')\n",
        "    axs[i // 2, 0].set_title(f'Class {class_label} - Image')\n",
        "\n",
        "    # Display the saliency map on the bottom half of the subplot\n",
        "    axs[i // 2, 1].imshow(saliency_map_by_class)  # Assuming saliency map format is compatible\n",
        "    axs[i // 2, 1].axis('off')\n",
        "    axs[i // 2, 1].set_title(f'Class {class_label} - Saliency Map')\n",
        "\n",
        "  else:\n",
        "    axs[i].axis('off')\n",
        "\n",
        "plt.tight_layout()\n",
        "plt.show()\n",
        "\n"
      ]
    },
    {
      "cell_type": "markdown",
      "metadata": {
        "id": "2zzb23_ZU1Uf"
      },
      "source": [
        "TODO:\n",
        "start implementing MaskTune for MNIST\n",
        "\n",
        "- [x] **ISSUE:** The transformation function transforms every instance in the dataset instead of the ones of the chosen class\n",
        "- [x] Create a biased MNIST dataset - for it to work, induce spurious feature to one class so the model will pick up the easyeast detectable feature. If the bias is applied to every class, the result wont change because during training, the model is forced to focus on other features in order to predict correctly.\n",
        "- [ ] See how it performs compared to unbised MNIST\n",
        "\n",
        "---\n",
        "\n",
        "- [ ] def `finetune` (finetune erm checkpoint with ```masktune```)\n",
        "- [ ] def ```masktune```\n",
        "- [ ] def ```finetune```\n",
        "\n",
        "---\n",
        "\n",
        "- [ ] Compare performances and saliency matrices between unbiased and biased MNIST datasets\n",
        "\n",
        "\n",
        "\n"
      ]
    },
    {
      "cell_type": "code",
      "execution_count": null,
      "metadata": {
        "id": "ch_tT-25_JQQ"
      },
      "outputs": [],
      "source": []
    }
  ],
  "metadata": {
    "accelerator": "GPU",
    "colab": {
      "gpuType": "T4",
      "provenance": [],
      "authorship_tag": "ABX9TyN5sxE0EepqnJsQpFFiRYzE"
    },
    "kernelspec": {
      "display_name": "Python 3",
      "name": "python3"
    },
    "language_info": {
      "name": "python"
    }
  },
  "nbformat": 4,
  "nbformat_minor": 0
}