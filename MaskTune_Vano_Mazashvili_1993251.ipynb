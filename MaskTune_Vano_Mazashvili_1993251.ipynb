{
  "cells": [
    {
      "cell_type": "markdown",
      "metadata": {
        "id": "view-in-github",
        "colab_type": "text"
      },
      "source": [
        "<a href=\"https://colab.research.google.com/github/vmazashvili/Neural-Networks/blob/main/MaskTune_Vano_Mazashvili_1993251.ipynb\" target=\"_parent\"><img src=\"https://colab.research.google.com/assets/colab-badge.svg\" alt=\"Open In Colab\"/></a>"
      ]
    },
    {
      "cell_type": "markdown",
      "metadata": {
        "id": "0Yjq3qMXaDTm"
      },
      "source": [
        "MaskTune Model\n",
        "\n",
        "- train an ERM Model (Empirical Risk Minimization)\n",
        "    - Load and normalize the CIFAR10 training and test datasets using torchvision\n",
        "\n",
        "    - Define a Convolutional Neural Network\n",
        "\n",
        "    - Define a loss function\n",
        "\n",
        "    - Train the network on the training data\n",
        "\n",
        "Test the network on the test data\n",
        "- Generate Masks based on Model Outputs\n",
        "- Fine-tune the Model with Masks\n",
        "- Testing and Evaluation"
      ]
    },
    {
      "cell_type": "code",
      "execution_count": 1,
      "metadata": {
        "colab": {
          "base_uri": "https://localhost:8080/"
        },
        "collapsed": true,
        "id": "w4v38sj4upbb",
        "outputId": "8761845b-c07b-4e70-9040-6213441dacb1"
      },
      "outputs": [
        {
          "output_type": "stream",
          "name": "stdout",
          "text": [
            "Requirement already satisfied: torch in /usr/local/lib/python3.10/dist-packages (2.3.0+cu121)\n",
            "Requirement already satisfied: torchvision in /usr/local/lib/python3.10/dist-packages (0.18.0+cu121)\n",
            "Collecting timm\n",
            "  Downloading timm-1.0.3-py3-none-any.whl (2.3 MB)\n",
            "\u001b[2K     \u001b[90m━━━━━━━━━━━━━━━━━━━━━━━━━━━━━━━━━━━━━━━━\u001b[0m \u001b[32m2.3/2.3 MB\u001b[0m \u001b[31m17.2 MB/s\u001b[0m eta \u001b[36m0:00:00\u001b[0m\n",
            "\u001b[?25hRequirement already satisfied: filelock in /usr/local/lib/python3.10/dist-packages (from torch) (3.14.0)\n",
            "Requirement already satisfied: typing-extensions>=4.8.0 in /usr/local/lib/python3.10/dist-packages (from torch) (4.12.0)\n",
            "Requirement already satisfied: sympy in /usr/local/lib/python3.10/dist-packages (from torch) (1.12.1)\n",
            "Requirement already satisfied: networkx in /usr/local/lib/python3.10/dist-packages (from torch) (3.3)\n",
            "Requirement already satisfied: jinja2 in /usr/local/lib/python3.10/dist-packages (from torch) (3.1.4)\n",
            "Requirement already satisfied: fsspec in /usr/local/lib/python3.10/dist-packages (from torch) (2023.6.0)\n",
            "Collecting nvidia-cuda-nvrtc-cu12==12.1.105 (from torch)\n",
            "  Using cached nvidia_cuda_nvrtc_cu12-12.1.105-py3-none-manylinux1_x86_64.whl (23.7 MB)\n",
            "Collecting nvidia-cuda-runtime-cu12==12.1.105 (from torch)\n",
            "  Using cached nvidia_cuda_runtime_cu12-12.1.105-py3-none-manylinux1_x86_64.whl (823 kB)\n",
            "Collecting nvidia-cuda-cupti-cu12==12.1.105 (from torch)\n",
            "  Using cached nvidia_cuda_cupti_cu12-12.1.105-py3-none-manylinux1_x86_64.whl (14.1 MB)\n",
            "Collecting nvidia-cudnn-cu12==8.9.2.26 (from torch)\n",
            "  Using cached nvidia_cudnn_cu12-8.9.2.26-py3-none-manylinux1_x86_64.whl (731.7 MB)\n",
            "Collecting nvidia-cublas-cu12==12.1.3.1 (from torch)\n",
            "  Using cached nvidia_cublas_cu12-12.1.3.1-py3-none-manylinux1_x86_64.whl (410.6 MB)\n",
            "Collecting nvidia-cufft-cu12==11.0.2.54 (from torch)\n",
            "  Using cached nvidia_cufft_cu12-11.0.2.54-py3-none-manylinux1_x86_64.whl (121.6 MB)\n",
            "Collecting nvidia-curand-cu12==10.3.2.106 (from torch)\n",
            "  Using cached nvidia_curand_cu12-10.3.2.106-py3-none-manylinux1_x86_64.whl (56.5 MB)\n",
            "Collecting nvidia-cusolver-cu12==11.4.5.107 (from torch)\n",
            "  Using cached nvidia_cusolver_cu12-11.4.5.107-py3-none-manylinux1_x86_64.whl (124.2 MB)\n",
            "Collecting nvidia-cusparse-cu12==12.1.0.106 (from torch)\n",
            "  Using cached nvidia_cusparse_cu12-12.1.0.106-py3-none-manylinux1_x86_64.whl (196.0 MB)\n",
            "Collecting nvidia-nccl-cu12==2.20.5 (from torch)\n",
            "  Using cached nvidia_nccl_cu12-2.20.5-py3-none-manylinux2014_x86_64.whl (176.2 MB)\n",
            "Collecting nvidia-nvtx-cu12==12.1.105 (from torch)\n",
            "  Using cached nvidia_nvtx_cu12-12.1.105-py3-none-manylinux1_x86_64.whl (99 kB)\n",
            "Requirement already satisfied: triton==2.3.0 in /usr/local/lib/python3.10/dist-packages (from torch) (2.3.0)\n",
            "Collecting nvidia-nvjitlink-cu12 (from nvidia-cusolver-cu12==11.4.5.107->torch)\n",
            "  Downloading nvidia_nvjitlink_cu12-12.5.40-py3-none-manylinux2014_x86_64.whl (21.3 MB)\n",
            "\u001b[2K     \u001b[90m━━━━━━━━━━━━━━━━━━━━━━━━━━━━━━━━━━━━━━━━\u001b[0m \u001b[32m21.3/21.3 MB\u001b[0m \u001b[31m58.6 MB/s\u001b[0m eta \u001b[36m0:00:00\u001b[0m\n",
            "\u001b[?25hRequirement already satisfied: numpy in /usr/local/lib/python3.10/dist-packages (from torchvision) (1.25.2)\n",
            "Requirement already satisfied: pillow!=8.3.*,>=5.3.0 in /usr/local/lib/python3.10/dist-packages (from torchvision) (9.4.0)\n",
            "Requirement already satisfied: pyyaml in /usr/local/lib/python3.10/dist-packages (from timm) (6.0.1)\n",
            "Requirement already satisfied: huggingface_hub in /usr/local/lib/python3.10/dist-packages (from timm) (0.23.2)\n",
            "Requirement already satisfied: safetensors in /usr/local/lib/python3.10/dist-packages (from timm) (0.4.3)\n",
            "Requirement already satisfied: packaging>=20.9 in /usr/local/lib/python3.10/dist-packages (from huggingface_hub->timm) (24.0)\n",
            "Requirement already satisfied: requests in /usr/local/lib/python3.10/dist-packages (from huggingface_hub->timm) (2.31.0)\n",
            "Requirement already satisfied: tqdm>=4.42.1 in /usr/local/lib/python3.10/dist-packages (from huggingface_hub->timm) (4.66.4)\n",
            "Requirement already satisfied: MarkupSafe>=2.0 in /usr/local/lib/python3.10/dist-packages (from jinja2->torch) (2.1.5)\n",
            "Requirement already satisfied: mpmath<1.4.0,>=1.1.0 in /usr/local/lib/python3.10/dist-packages (from sympy->torch) (1.3.0)\n",
            "Requirement already satisfied: charset-normalizer<4,>=2 in /usr/local/lib/python3.10/dist-packages (from requests->huggingface_hub->timm) (3.3.2)\n",
            "Requirement already satisfied: idna<4,>=2.5 in /usr/local/lib/python3.10/dist-packages (from requests->huggingface_hub->timm) (3.7)\n",
            "Requirement already satisfied: urllib3<3,>=1.21.1 in /usr/local/lib/python3.10/dist-packages (from requests->huggingface_hub->timm) (2.0.7)\n",
            "Requirement already satisfied: certifi>=2017.4.17 in /usr/local/lib/python3.10/dist-packages (from requests->huggingface_hub->timm) (2024.2.2)\n",
            "Installing collected packages: nvidia-nvtx-cu12, nvidia-nvjitlink-cu12, nvidia-nccl-cu12, nvidia-curand-cu12, nvidia-cufft-cu12, nvidia-cuda-runtime-cu12, nvidia-cuda-nvrtc-cu12, nvidia-cuda-cupti-cu12, nvidia-cublas-cu12, nvidia-cusparse-cu12, nvidia-cudnn-cu12, nvidia-cusolver-cu12, timm\n",
            "Successfully installed nvidia-cublas-cu12-12.1.3.1 nvidia-cuda-cupti-cu12-12.1.105 nvidia-cuda-nvrtc-cu12-12.1.105 nvidia-cuda-runtime-cu12-12.1.105 nvidia-cudnn-cu12-8.9.2.26 nvidia-cufft-cu12-11.0.2.54 nvidia-curand-cu12-10.3.2.106 nvidia-cusolver-cu12-11.4.5.107 nvidia-cusparse-cu12-12.1.0.106 nvidia-nccl-cu12-2.20.5 nvidia-nvjitlink-cu12-12.5.40 nvidia-nvtx-cu12-12.1.105 timm-1.0.3\n",
            "Collecting torchcam\n",
            "  Downloading torchcam-0.4.0-py3-none-any.whl (46 kB)\n",
            "\u001b[2K     \u001b[90m━━━━━━━━━━━━━━━━━━━━━━━━━━━━━━━━━━━━━━━━\u001b[0m \u001b[32m46.0/46.0 kB\u001b[0m \u001b[31m1.7 MB/s\u001b[0m eta \u001b[36m0:00:00\u001b[0m\n",
            "\u001b[?25hRequirement already satisfied: torch<3.0.0,>=2.0.0 in /usr/local/lib/python3.10/dist-packages (from torchcam) (2.3.0+cu121)\n",
            "Requirement already satisfied: numpy<2.0.0,>=1.17.2 in /usr/local/lib/python3.10/dist-packages (from torchcam) (1.25.2)\n",
            "Requirement already satisfied: Pillow!=9.2.0,>=8.4.0 in /usr/local/lib/python3.10/dist-packages (from torchcam) (9.4.0)\n",
            "Requirement already satisfied: matplotlib<4.0.0,>=3.7.0 in /usr/local/lib/python3.10/dist-packages (from torchcam) (3.7.1)\n",
            "Requirement already satisfied: contourpy>=1.0.1 in /usr/local/lib/python3.10/dist-packages (from matplotlib<4.0.0,>=3.7.0->torchcam) (1.2.1)\n",
            "Requirement already satisfied: cycler>=0.10 in /usr/local/lib/python3.10/dist-packages (from matplotlib<4.0.0,>=3.7.0->torchcam) (0.12.1)\n",
            "Requirement already satisfied: fonttools>=4.22.0 in /usr/local/lib/python3.10/dist-packages (from matplotlib<4.0.0,>=3.7.0->torchcam) (4.52.4)\n",
            "Requirement already satisfied: kiwisolver>=1.0.1 in /usr/local/lib/python3.10/dist-packages (from matplotlib<4.0.0,>=3.7.0->torchcam) (1.4.5)\n",
            "Requirement already satisfied: packaging>=20.0 in /usr/local/lib/python3.10/dist-packages (from matplotlib<4.0.0,>=3.7.0->torchcam) (24.0)\n",
            "Requirement already satisfied: pyparsing>=2.3.1 in /usr/local/lib/python3.10/dist-packages (from matplotlib<4.0.0,>=3.7.0->torchcam) (3.1.2)\n",
            "Requirement already satisfied: python-dateutil>=2.7 in /usr/local/lib/python3.10/dist-packages (from matplotlib<4.0.0,>=3.7.0->torchcam) (2.8.2)\n",
            "Requirement already satisfied: filelock in /usr/local/lib/python3.10/dist-packages (from torch<3.0.0,>=2.0.0->torchcam) (3.14.0)\n",
            "Requirement already satisfied: typing-extensions>=4.8.0 in /usr/local/lib/python3.10/dist-packages (from torch<3.0.0,>=2.0.0->torchcam) (4.12.0)\n",
            "Requirement already satisfied: sympy in /usr/local/lib/python3.10/dist-packages (from torch<3.0.0,>=2.0.0->torchcam) (1.12.1)\n",
            "Requirement already satisfied: networkx in /usr/local/lib/python3.10/dist-packages (from torch<3.0.0,>=2.0.0->torchcam) (3.3)\n",
            "Requirement already satisfied: jinja2 in /usr/local/lib/python3.10/dist-packages (from torch<3.0.0,>=2.0.0->torchcam) (3.1.4)\n",
            "Requirement already satisfied: fsspec in /usr/local/lib/python3.10/dist-packages (from torch<3.0.0,>=2.0.0->torchcam) (2023.6.0)\n",
            "Requirement already satisfied: nvidia-cuda-nvrtc-cu12==12.1.105 in /usr/local/lib/python3.10/dist-packages (from torch<3.0.0,>=2.0.0->torchcam) (12.1.105)\n",
            "Requirement already satisfied: nvidia-cuda-runtime-cu12==12.1.105 in /usr/local/lib/python3.10/dist-packages (from torch<3.0.0,>=2.0.0->torchcam) (12.1.105)\n",
            "Requirement already satisfied: nvidia-cuda-cupti-cu12==12.1.105 in /usr/local/lib/python3.10/dist-packages (from torch<3.0.0,>=2.0.0->torchcam) (12.1.105)\n",
            "Requirement already satisfied: nvidia-cudnn-cu12==8.9.2.26 in /usr/local/lib/python3.10/dist-packages (from torch<3.0.0,>=2.0.0->torchcam) (8.9.2.26)\n",
            "Requirement already satisfied: nvidia-cublas-cu12==12.1.3.1 in /usr/local/lib/python3.10/dist-packages (from torch<3.0.0,>=2.0.0->torchcam) (12.1.3.1)\n",
            "Requirement already satisfied: nvidia-cufft-cu12==11.0.2.54 in /usr/local/lib/python3.10/dist-packages (from torch<3.0.0,>=2.0.0->torchcam) (11.0.2.54)\n",
            "Requirement already satisfied: nvidia-curand-cu12==10.3.2.106 in /usr/local/lib/python3.10/dist-packages (from torch<3.0.0,>=2.0.0->torchcam) (10.3.2.106)\n",
            "Requirement already satisfied: nvidia-cusolver-cu12==11.4.5.107 in /usr/local/lib/python3.10/dist-packages (from torch<3.0.0,>=2.0.0->torchcam) (11.4.5.107)\n",
            "Requirement already satisfied: nvidia-cusparse-cu12==12.1.0.106 in /usr/local/lib/python3.10/dist-packages (from torch<3.0.0,>=2.0.0->torchcam) (12.1.0.106)\n",
            "Requirement already satisfied: nvidia-nccl-cu12==2.20.5 in /usr/local/lib/python3.10/dist-packages (from torch<3.0.0,>=2.0.0->torchcam) (2.20.5)\n",
            "Requirement already satisfied: nvidia-nvtx-cu12==12.1.105 in /usr/local/lib/python3.10/dist-packages (from torch<3.0.0,>=2.0.0->torchcam) (12.1.105)\n",
            "Requirement already satisfied: triton==2.3.0 in /usr/local/lib/python3.10/dist-packages (from torch<3.0.0,>=2.0.0->torchcam) (2.3.0)\n",
            "Requirement already satisfied: nvidia-nvjitlink-cu12 in /usr/local/lib/python3.10/dist-packages (from nvidia-cusolver-cu12==11.4.5.107->torch<3.0.0,>=2.0.0->torchcam) (12.5.40)\n",
            "Requirement already satisfied: six>=1.5 in /usr/local/lib/python3.10/dist-packages (from python-dateutil>=2.7->matplotlib<4.0.0,>=3.7.0->torchcam) (1.16.0)\n",
            "Requirement already satisfied: MarkupSafe>=2.0 in /usr/local/lib/python3.10/dist-packages (from jinja2->torch<3.0.0,>=2.0.0->torchcam) (2.1.5)\n",
            "Requirement already satisfied: mpmath<1.4.0,>=1.1.0 in /usr/local/lib/python3.10/dist-packages (from sympy->torch<3.0.0,>=2.0.0->torchcam) (1.3.0)\n",
            "Installing collected packages: torchcam\n",
            "Successfully installed torchcam-0.4.0\n",
            "Collecting pytorch-gradcam\n",
            "  Downloading pytorch-gradcam-0.2.1.tar.gz (6.0 MB)\n",
            "\u001b[2K     \u001b[90m━━━━━━━━━━━━━━━━━━━━━━━━━━━━━━━━━━━━━━━━\u001b[0m \u001b[32m6.0/6.0 MB\u001b[0m \u001b[31m41.9 MB/s\u001b[0m eta \u001b[36m0:00:00\u001b[0m\n",
            "\u001b[?25h  Preparing metadata (setup.py) ... \u001b[?25l\u001b[?25hdone\n",
            "Requirement already satisfied: opencv-python in /usr/local/lib/python3.10/dist-packages (from pytorch-gradcam) (4.8.0.76)\n",
            "Requirement already satisfied: numpy in /usr/local/lib/python3.10/dist-packages (from pytorch-gradcam) (1.25.2)\n",
            "Building wheels for collected packages: pytorch-gradcam\n",
            "  Building wheel for pytorch-gradcam (setup.py) ... \u001b[?25l\u001b[?25hdone\n",
            "  Created wheel for pytorch-gradcam: filename=pytorch_gradcam-0.2.1-py3-none-any.whl size=5249 sha256=64bd77af5103c6d0d6f77dbf739a8cdbfcb8e58e927aa3dc67eefd797514143a\n",
            "  Stored in directory: /root/.cache/pip/wheels/6f/f1/8f/96c81d13f617841f23cae192a77fea3e9e988d058ba9414f2c\n",
            "Successfully built pytorch-gradcam\n",
            "Installing collected packages: pytorch-gradcam\n",
            "Successfully installed pytorch-gradcam-0.2.1\n"
          ]
        }
      ],
      "source": [
        "!pip install torch torchvision timm\n",
        "!pip install torchcam\n",
        "!pip install pytorch-gradcam"
      ]
    },
    {
      "cell_type": "code",
      "execution_count": 2,
      "metadata": {
        "id": "RVe71WOgg9ml"
      },
      "outputs": [],
      "source": [
        "import os\n",
        "import cv2\n",
        "import timm\n",
        "import torch\n",
        "import random\n",
        "import numpy as np\n",
        "import torchvision\n",
        "from torch.optim import SGD\n",
        "import matplotlib.pyplot as plt\n",
        "import torch.nn.functional as F\n",
        "from torch import nn\n",
        "from torch import optim\n",
        "from torch.nn import CrossEntropyLoss\n",
        "from torchcam.methods import XGradCAM\n",
        "from torch.utils.data import DataLoader\n",
        "from torchvision import datasets, transforms\n",
        "from torchvision.transforms import ToTensor, Lambda\n",
        "from torchvision.transforms.functional import resize\n",
        "from sklearn.metrics import confusion_matrix, precision_score, recall_score, f1_score"
      ]
    },
    {
      "cell_type": "markdown",
      "metadata": {
        "id": "XjqipoBg9duJ"
      },
      "source": [
        "# MNIST DATASET\n",
        "\n",
        "- [x] Distinguish between two MNIST digit groups (0-4 and 5-9)\n",
        "- [x] 0-4 into class 0 and 5-9 into class 1.\n",
        "- [ ] Transform 99% of new class 0 and 1% of the new class 1 so that they acquire same spurious feature (square in top left corner)\n",
        "- [ ] Two test sets during testing: the original raw MNIST test set and a biased test set.\n",
        "- [ ] biasd test set - add spurious feature to only 5-9 group  "
      ]
    },
    {
      "cell_type": "markdown",
      "metadata": {
        "id": "b-gkEFw9icSs"
      },
      "source": [
        "Load and normalize the MNIST training and test datasets using torchvision. We can Induce spurrious features too\n",
        "\n"
      ]
    },
    {
      "cell_type": "code",
      "execution_count": 3,
      "metadata": {
        "collapsed": true,
        "id": "DALGG5P3KgF8",
        "colab": {
          "base_uri": "https://localhost:8080/"
        },
        "outputId": "c15e2f59-491d-4a0f-95de-9c79e05a59ee"
      },
      "outputs": [
        {
          "output_type": "stream",
          "name": "stdout",
          "text": [
            "Downloading http://yann.lecun.com/exdb/mnist/train-images-idx3-ubyte.gz\n",
            "Failed to download (trying next):\n",
            "HTTP Error 403: Forbidden\n",
            "\n",
            "Downloading https://ossci-datasets.s3.amazonaws.com/mnist/train-images-idx3-ubyte.gz\n",
            "Downloading https://ossci-datasets.s3.amazonaws.com/mnist/train-images-idx3-ubyte.gz to data/MNIST/raw/train-images-idx3-ubyte.gz\n"
          ]
        },
        {
          "output_type": "stream",
          "name": "stderr",
          "text": [
            "100%|██████████| 9912422/9912422 [00:00<00:00, 86778775.30it/s]\n"
          ]
        },
        {
          "output_type": "stream",
          "name": "stdout",
          "text": [
            "Extracting data/MNIST/raw/train-images-idx3-ubyte.gz to data/MNIST/raw\n",
            "\n",
            "Downloading http://yann.lecun.com/exdb/mnist/train-labels-idx1-ubyte.gz\n",
            "Failed to download (trying next):\n",
            "HTTP Error 403: Forbidden\n",
            "\n",
            "Downloading https://ossci-datasets.s3.amazonaws.com/mnist/train-labels-idx1-ubyte.gz\n",
            "Downloading https://ossci-datasets.s3.amazonaws.com/mnist/train-labels-idx1-ubyte.gz to data/MNIST/raw/train-labels-idx1-ubyte.gz\n"
          ]
        },
        {
          "output_type": "stream",
          "name": "stderr",
          "text": [
            "100%|██████████| 28881/28881 [00:00<00:00, 35565382.80it/s]"
          ]
        },
        {
          "output_type": "stream",
          "name": "stdout",
          "text": [
            "Extracting data/MNIST/raw/train-labels-idx1-ubyte.gz to data/MNIST/raw\n",
            "\n",
            "Downloading http://yann.lecun.com/exdb/mnist/t10k-images-idx3-ubyte.gz\n",
            "Failed to download (trying next):\n",
            "HTTP Error 403: Forbidden\n",
            "\n",
            "Downloading https://ossci-datasets.s3.amazonaws.com/mnist/t10k-images-idx3-ubyte.gz\n",
            "Downloading https://ossci-datasets.s3.amazonaws.com/mnist/t10k-images-idx3-ubyte.gz to data/MNIST/raw/t10k-images-idx3-ubyte.gz\n"
          ]
        },
        {
          "output_type": "stream",
          "name": "stderr",
          "text": [
            "\n",
            "100%|██████████| 1648877/1648877 [00:00<00:00, 99027626.74it/s]\n"
          ]
        },
        {
          "output_type": "stream",
          "name": "stdout",
          "text": [
            "Extracting data/MNIST/raw/t10k-images-idx3-ubyte.gz to data/MNIST/raw\n",
            "\n",
            "Downloading http://yann.lecun.com/exdb/mnist/t10k-labels-idx1-ubyte.gz\n",
            "Failed to download (trying next):\n",
            "HTTP Error 403: Forbidden\n",
            "\n",
            "Downloading https://ossci-datasets.s3.amazonaws.com/mnist/t10k-labels-idx1-ubyte.gz\n",
            "Downloading https://ossci-datasets.s3.amazonaws.com/mnist/t10k-labels-idx1-ubyte.gz to data/MNIST/raw/t10k-labels-idx1-ubyte.gz\n"
          ]
        },
        {
          "output_type": "stream",
          "name": "stderr",
          "text": [
            "100%|██████████| 4542/4542 [00:00<00:00, 8165678.85it/s]\n"
          ]
        },
        {
          "output_type": "stream",
          "name": "stdout",
          "text": [
            "Extracting data/MNIST/raw/t10k-labels-idx1-ubyte.gz to data/MNIST/raw\n",
            "\n",
            "Original class distribution in train set: tensor([5923, 6742, 5958, 6131, 5842, 5421, 5918, 6265, 5851, 5949])\n",
            "Remapped class distribution in train set: tensor([30596, 29404])\n",
            "Original class distribution in test set: tensor([ 980, 1135, 1032, 1010,  982,  892,  958, 1028,  974, 1009])\n",
            "Remapped class distribution in test set: tensor([5139, 4861])\n"
          ]
        }
      ],
      "source": [
        "import torch\n",
        "from torchvision import datasets\n",
        "\n",
        "def remap_classes(dataset):\n",
        "    \"\"\"\n",
        "    Remap MNIST dataset classes to two new classes\n",
        "    new_to_old_label_mapping={0: [0, 1, 2, 3, 4], 1: [5, 6, 7, 8, 9]},\n",
        "\n",
        "    Input:\n",
        "        MNIST dataset\n",
        "\n",
        "    Output:\n",
        "        List of remapped dataset. Each item is (PIL image, class)\n",
        "    \"\"\"\n",
        "    remapped_data = []\n",
        "    remapped_targets = []\n",
        "\n",
        "    for data, target in dataset:\n",
        "        if target < 5:  # Digits 0-4\n",
        "            remapped_targets.append(0)\n",
        "        else:  # Digits 5-9\n",
        "            remapped_targets.append(1)\n",
        "\n",
        "        remapped_data.append(data)\n",
        "\n",
        "    return list(zip(remapped_data, remapped_targets))\n",
        "\n",
        "# Load the MNIST dataset\n",
        "mnist_train = datasets.MNIST(root='data', train=True, download=True)\n",
        "mnist_test = datasets.MNIST(root='data', train=False, download=True)\n",
        "\n",
        "# Remap the classes, the variables contain lists:\n",
        "#\n",
        "remapped_train_data = remap_classes(mnist_train)\n",
        "remapped_test_data = remap_classes(mnist_test)\n",
        "\n",
        "# Example usage:\n",
        "print(\"Original class distribution in train set:\", mnist_train.targets.bincount())\n",
        "print(\"Remapped class distribution in train set:\", torch.tensor([target for _, target in remapped_train_data]).bincount())\n",
        "\n",
        "print(\"Original class distribution in test set:\", mnist_test.targets.bincount())\n",
        "print(\"Remapped class distribution in test set:\", torch.tensor([target for _, target in remapped_test_data]).bincount())\n"
      ]
    },
    {
      "cell_type": "code",
      "execution_count": 4,
      "metadata": {
        "id": "pdlYG9vjzE0g",
        "colab": {
          "base_uri": "https://localhost:8080/"
        },
        "outputId": "ab99e1a5-d0e7-43a3-f32d-4db9ea459180"
      },
      "outputs": [
        {
          "output_type": "execute_result",
          "data": {
            "text/plain": [
              "(<PIL.Image.Image image mode=L size=28x28>, 1)"
            ]
          },
          "metadata": {},
          "execution_count": 4
        }
      ],
      "source": [
        "remapped_train_data[0]"
      ]
    },
    {
      "cell_type": "code",
      "execution_count": 5,
      "metadata": {
        "id": "WkWyg3T7ofkD",
        "colab": {
          "base_uri": "https://localhost:8080/",
          "height": 201
        },
        "outputId": "1237c7f3-1956-4ea4-94ad-9f0a1ef68e81"
      },
      "outputs": [
        {
          "output_type": "display_data",
          "data": {
            "text/plain": [
              "<Figure size 1500x300 with 20 Axes>"
            ],
            "image/png": "[encoded data removed]"
          },
          "metadata": {}
        }
      ],
      "source": [
        "import random\n",
        "from PIL import Image, ImageDraw\n",
        "import matplotlib.pyplot as plt\n",
        "\n",
        "def add_spurious_feature(image, label, percentage_class_0=0.99, percentage_class_1=0.01):\n",
        "    \"\"\"\n",
        "    A function to add blue spurious features to PIL images based on class-specific percentages.\n",
        "\n",
        "    Args:\n",
        "        image (PIL.Image.Image): Input image.\n",
        "        label (int): The class label of the image.\n",
        "        percentage_class_0 (float, optional): Percentage of class 0 samples to apply the feature to. Defaults to 0.99.\n",
        "        percentage_class_1 (float, optional): Percentage of class 1 samples to apply the feature to. Defaults to 0.0w1.\n",
        "\n",
        "    Returns:\n",
        "        PIL.Image.Image: Transformed image with the spurious feature.\n",
        "    \"\"\"\n",
        "    # Determine the appropriate percentage based on the class label\n",
        "    percentage = percentage_class_0 if label == 0 else percentage_class_1\n",
        "\n",
        "    # Check if the condition for adding the feature is met\n",
        "    if random.random() < percentage:\n",
        "        # Create a copy of the input image\n",
        "        image_with_spurious = image.convert(\"RGB\")  # Ensure the image is in RGB mode\n",
        "        # Create a drawing context\n",
        "        draw = ImageDraw.Draw(image_with_spurious)\n",
        "        # Draw a blue square in the top-left corner\n",
        "        draw.rectangle([0, 0, 5, 5], fill=(0, 0, 255))  # Blue color\n",
        "        del draw  # Release drawing context\n",
        "        return image_with_spurious\n",
        "    else:\n",
        "        return image.convert(\"RGB\")  # Ensure the image is in RGB mode\n",
        "\n",
        "# Apply add_spurious_feature to the entire remapped_train_data dataset\n",
        "remapped_train_data_with_spurious = [(add_spurious_feature(image, label), label) for image, label in remapped_train_data]\n",
        "\n",
        "# Display 10 samples from each class\n",
        "fig, axes = plt.subplots(2, 10, figsize=(15, 3))\n",
        "class_0_count = 0\n",
        "class_1_count = 0\n",
        "\n",
        "for image, label in remapped_train_data_with_spurious:\n",
        "    if label == 0 and class_0_count < 10:\n",
        "        axes[0, class_0_count].imshow(image)\n",
        "        axes[0, class_0_count].set_title(f\"Class: {label}\")\n",
        "        axes[0, class_0_count].axis('off')\n",
        "        class_0_count += 1\n",
        "    elif label == 1 and class_1_count < 10:\n",
        "        axes[1, class_1_count].imshow(image)\n",
        "        axes[1, class_1_count].set_title(f\"Class: {label}\")\n",
        "        axes[1, class_1_count].axis('off')\n",
        "        class_1_count += 1\n",
        "\n",
        "    if class_0_count >= 10 and class_1_count >= 10:\n",
        "        break\n",
        "\n",
        "plt.show()\n"
      ]
    },
    {
      "cell_type": "code",
      "execution_count": 6,
      "metadata": {
        "id": "4nBnbveQuGUo",
        "colab": {
          "base_uri": "https://localhost:8080/",
          "height": 201
        },
        "outputId": "83f5fbe3-ecf7-4450-c779-2601b57165ad"
      },
      "outputs": [
        {
          "output_type": "display_data",
          "data": {
            "text/plain": [
              "<Figure size 1500x300 with 20 Axes>"
            ],
            "image/png": "[encoded data removed]"
          },
          "metadata": {}
        }
      ],
      "source": [
        "import random\n",
        "from PIL import Image, ImageDraw\n",
        "\n",
        "def add_spurious_feature_test(image, label, spurious_value=(0, 0, 255)):\n",
        "    \"\"\"\n",
        "    A function to add a blue spurious feature to a PIL image for class 1 samples.\n",
        "\n",
        "    Args:\n",
        "        image (PIL.Image.Image): Input image.\n",
        "        label (int): The class label of the image.\n",
        "        spurious_value (tuple, optional): RGB value to assign to the spurious feature pixels. Defaults to blue (0, 0, 255).\n",
        "\n",
        "    Returns:\n",
        "        PIL.Image.Image: Transformed image with the spurious feature added (if applicable).\n",
        "    \"\"\"\n",
        "    if label == 1:\n",
        "        # Always add the feature to class 1 samples\n",
        "        image_with_spurious = image.convert(\"RGB\")  # Ensure the image is in RGB mode\n",
        "        draw = ImageDraw.Draw(image_with_spurious)\n",
        "        draw.rectangle([0, 0, 5, 5], fill=spurious_value)\n",
        "        del draw\n",
        "        return image_with_spurious\n",
        "    else:\n",
        "        return image.convert(\"RGB\")  # Ensure the image is in RGB mode\n",
        "\n",
        "# Save remapped_test_data into test_data_raw\n",
        "test_data_raw = remapped_test_data.copy()  # Create a copy to avoid modifying the original data\n",
        "\n",
        "# Apply spurious features to class 1 samples in test_data_raw and store in test_data_biased\n",
        "test_data_biased = [(add_spurious_feature_test(image, label), label) for image, label in test_data_raw]\n",
        "\n",
        "# Display 10 samples from each class in the biased test set\n",
        "fig, axes = plt.subplots(2, 10, figsize=(15, 3))\n",
        "class_0_count = 0\n",
        "class_1_count = 0\n",
        "\n",
        "for image, label in test_data_biased:\n",
        "    if label == 0 and class_0_count < 10:\n",
        "        axes[0, class_0_count].imshow(image)\n",
        "        axes[0, class_0_count].set_title(f\"Class: {label}\")\n",
        "        axes[0, class_0_count].axis('off')\n",
        "        class_0_count += 1\n",
        "    elif label == 1 and class_1_count < 10:\n",
        "        axes[1, class_1_count].imshow(image)\n",
        "        axes[1, class_1_count].set_title(f\"Class: {label}\")\n",
        "        axes[1, class_1_count].axis('off')\n",
        "        class_1_count += 1\n",
        "\n",
        "    if class_0_count >= 10 and class_1_count >= 10:\n",
        "        break\n",
        "\n",
        "plt.show()\n"
      ]
    },
    {
      "cell_type": "code",
      "execution_count": 7,
      "metadata": {
        "id": "GWn4SHJM8jKL",
        "colab": {
          "base_uri": "https://localhost:8080/"
        },
        "outputId": "0baf23ae-0159-4cb2-90ff-6834ea6f5d71"
      },
      "outputs": [
        {
          "output_type": "execute_result",
          "data": {
            "text/plain": [
              "(<PIL.Image.Image image mode=RGB size=28x28>, 1)"
            ]
          },
          "metadata": {},
          "execution_count": 7
        }
      ],
      "source": [
        "remapped_train_data_with_spurious[0]\n",
        "remapped_test_data[0]\n",
        "test_data_biased[0]"
      ]
    },
    {
      "cell_type": "code",
      "execution_count": 8,
      "metadata": {
        "id": "yXaDlQ4q2TpH",
        "colab": {
          "base_uri": "https://localhost:8080/",
          "height": 137
        },
        "outputId": "3ff9d99d-b1f8-4420-aec1-e46290ee693c"
      },
      "outputs": [
        {
          "output_type": "display_data",
          "data": {
            "text/plain": [
              "<Figure size 2000x400 with 40 Axes>"
            ],
            "image/png": "[encoded data removed]"
          },
          "metadata": {}
        }
      ],
      "source": [
        "import matplotlib.pyplot as plt\n",
        "\n",
        "# Initialize counters for each class\n",
        "class_counts = {0: 0, 1: 0}\n",
        "\n",
        "# Plot 10 samples for each class\n",
        "fig, axes = plt.subplots(2, 20, figsize=(20, 4))\n",
        "\n",
        "for image, label in remapped_train_data_with_spurious:\n",
        "    # Check if the maximum number of samples for each class is reached\n",
        "    if class_counts[label] >= 20:\n",
        "        continue\n",
        "\n",
        "    # Plot the image\n",
        "    ax = axes[label][class_counts[label]]\n",
        "    ax.imshow(image, cmap='gray')\n",
        "    ax.axis('off')\n",
        "    ax.set_title(f'Class {label}')\n",
        "\n",
        "    # Increment the counter for the respective class\n",
        "    class_counts[label] += 1\n",
        "\n",
        "plt.tight_layout()\n",
        "plt.show()\n"
      ]
    },
    {
      "cell_type": "code",
      "execution_count": 9,
      "metadata": {
        "id": "dHXn58a8EBDo",
        "colab": {
          "base_uri": "https://localhost:8080/",
          "height": 345
        },
        "outputId": "dc3592f0-73ac-469e-fa6e-6afcb4e22eda"
      },
      "outputs": [
        {
          "output_type": "display_data",
          "data": {
            "text/plain": [
              "<Figure size 2000x400 with 20 Axes>"
            ],
            "image/png": "[encoded data removed]"
          },
          "metadata": {}
        },
        {
          "output_type": "display_data",
          "data": {
            "text/plain": [
              "<Figure size 2000x400 with 20 Axes>"
            ],
            "image/png": "[encoded data removed]"
          },
          "metadata": {}
        }
      ],
      "source": [
        "import matplotlib.pyplot as plt\n",
        "\n",
        "# Initialize counters for each class\n",
        "class_counts_raw = {0: 0, 1: 0}\n",
        "class_counts_biased = {0: 0, 1: 0}\n",
        "\n",
        "# Plot 10 samples for each class from test_data_raw\n",
        "fig_raw, axes_raw = plt.subplots(2, 10, figsize=(20, 4))\n",
        "\n",
        "for image, label in test_data_raw:\n",
        "    # Check if the maximum number of samples for each class is reached\n",
        "    if class_counts_raw[label] >= 10:\n",
        "        continue\n",
        "\n",
        "    # Plot the image\n",
        "    ax = axes_raw[label][class_counts_raw[label]]\n",
        "    ax.imshow(image, cmap='gray')\n",
        "    ax.axis('off')\n",
        "    ax.set_title(f'Class {label}')\n",
        "\n",
        "    # Increment the counter for the respective class\n",
        "    class_counts_raw[label] += 1\n",
        "\n",
        "plt.tight_layout()\n",
        "plt.show()\n",
        "\n",
        "# Plot 10 samples for each class from test_data_biased\n",
        "fig_biased, axes_biased = plt.subplots(2, 10, figsize=(20, 4))\n",
        "\n",
        "for image, label in test_data_biased:\n",
        "    # Check if the maximum number of samples for each class is reached\n",
        "    if class_counts_biased[label] >= 10:\n",
        "        continue\n",
        "\n",
        "    # Plot the image\n",
        "    ax = axes_biased[label][class_counts_biased[label]]\n",
        "    ax.imshow(image, cmap='gray')\n",
        "    ax.axis('off')\n",
        "    ax.set_title(f'Class {label}')\n",
        "\n",
        "    # Increment the counter for the respective class\n",
        "    class_counts_biased[label] += 1\n",
        "\n",
        "plt.tight_layout()\n",
        "plt.show()\n"
      ]
    },
    {
      "cell_type": "markdown",
      "metadata": {
        "id": "VR1-2Xg3ELd_"
      },
      "source": [
        "Therefore, we should have a training dataset ```remapped_train_data_with_spurious``` with two classes, 0 (containing digits 0-4) and 1 (digits 5-9).\n",
        "99% of the samples in class 0 have a spurious feature, while 1% of the class 1 has the same spurious feature.\n",
        "\n",
        "As for testing dataset, we have 2, ```test_data_raw``` and ```test_data_biased```. One will be a raw MNIST test dataset, while the other one will be a modified one with spurious features for class 1 samples.\n",
        "\n",
        "Thus we have ```test_data_daw```, ```test_data_spurious``` with only class 1 sample spurious features, `remapped_train_data_with_spurious`, and `remapped_train_data`"
      ]
    },
    {
      "cell_type": "markdown",
      "metadata": {
        "id": "Uph4IAqN8VTe"
      },
      "source": [
        "# Dataloaders\n",
        "make batches"
      ]
    },
    {
      "cell_type": "code",
      "execution_count": 10,
      "metadata": {
        "id": "u3Bh8Xs4-S0r"
      },
      "outputs": [],
      "source": [
        "from PIL import Image\n",
        "\n",
        "# Convert grayscale images in remapped_test_data to RGB\n",
        "remapped_test_data_rgb = [(image.convert(\"RGB\"), label) for image, label in remapped_test_data]\n",
        "\n",
        "# Define a transform to convert PIL images to tensors\n",
        "transform = transforms.ToTensor()\n",
        "\n",
        "# Convert remapped_train_data_with_spurious to tensors\n",
        "remapped_spurious_train_data_tensor = [(transform(image), label) for image, label in remapped_train_data_with_spurious]\n",
        "\n",
        "# Convert remapped_test_data_rgb to tensors\n",
        "test_data_raw_tensor = [(transform(image), label) for image, label in remapped_test_data_rgb]\n",
        "\n",
        "# Convert test_data_biased to tensors\n",
        "test_data_biased_tensor = [(transform(image), label) for image, label in test_data_biased]\n"
      ]
    },
    {
      "cell_type": "code",
      "execution_count": 11,
      "metadata": {
        "id": "IWdJy_tW6Dop",
        "colab": {
          "base_uri": "https://localhost:8080/"
        },
        "outputId": "2eee7f34-b6f4-4bb8-9eca-28457fadcdb3"
      },
      "outputs": [
        {
          "output_type": "stream",
          "name": "stdout",
          "text": [
            "Data batch shape: torch.Size([128, 3, 28, 28])\n",
            "Label batch shape: torch.Size([128])\n",
            "Data batch example: tensor([[[0., 0., 0.,  ..., 0., 0., 0.],\n",
            "         [0., 0., 0.,  ..., 0., 0., 0.],\n",
            "         [0., 0., 0.,  ..., 0., 0., 0.],\n",
            "         ...,\n",
            "         [0., 0., 0.,  ..., 0., 0., 0.],\n",
            "         [0., 0., 0.,  ..., 0., 0., 0.],\n",
            "         [0., 0., 0.,  ..., 0., 0., 0.]],\n",
            "\n",
            "        [[0., 0., 0.,  ..., 0., 0., 0.],\n",
            "         [0., 0., 0.,  ..., 0., 0., 0.],\n",
            "         [0., 0., 0.,  ..., 0., 0., 0.],\n",
            "         ...,\n",
            "         [0., 0., 0.,  ..., 0., 0., 0.],\n",
            "         [0., 0., 0.,  ..., 0., 0., 0.],\n",
            "         [0., 0., 0.,  ..., 0., 0., 0.]],\n",
            "\n",
            "        [[0., 0., 0.,  ..., 0., 0., 0.],\n",
            "         [0., 0., 0.,  ..., 0., 0., 0.],\n",
            "         [0., 0., 0.,  ..., 0., 0., 0.],\n",
            "         ...,\n",
            "         [0., 0., 0.,  ..., 0., 0., 0.],\n",
            "         [0., 0., 0.,  ..., 0., 0., 0.],\n",
            "         [0., 0., 0.,  ..., 0., 0., 0.]]])\n",
            "Label batch example: tensor(1)\n"
          ]
        }
      ],
      "source": [
        "biased_train_dataloader = DataLoader(remapped_spurious_train_data_tensor, batch_size=128)\n",
        "raw_test_dataloader = DataLoader(test_data_raw_tensor, batch_size=128)\n",
        "biased_test_dataloader = DataLoader(test_data_biased_tensor, batch_size=128)\n",
        "\n",
        "len(biased_train_dataloader)\n",
        "len(raw_test_dataloader)\n",
        "len(biased_test_dataloader)\n",
        "\n",
        "for data_batch, label_batch in biased_train_dataloader:\n",
        "    print(\"Data batch shape:\", data_batch.shape)\n",
        "    print(\"Label batch shape:\", label_batch.shape)\n",
        "    print(\"Data batch example:\", data_batch[0])\n",
        "    print(\"Label batch example:\", label_batch[0])\n",
        "    break  # Only print the first batch for brevity\n"
      ]
    },
    {
      "cell_type": "markdown",
      "metadata": {
        "id": "asZo9-78Ta4-"
      },
      "source": [
        "### Creating a subset dataset for testing purposes"
      ]
    },
    {
      "cell_type": "code",
      "execution_count": 12,
      "metadata": {
        "id": "gciQRBcgTaer"
      },
      "outputs": [],
      "source": [
        "# Define subset sizes\n",
        "subset_size_train = 300\n",
        "subset_size_test_raw = 100\n",
        "subset_size_test_biased = 100\n",
        "\n",
        "# Randomly sample subsets from the tensors\n",
        "subset_train_biased_tensor = random.sample(remapped_spurious_train_data_tensor, subset_size_train)\n",
        "subset_test_raw_tensor = random.sample(test_data_raw_tensor, subset_size_test_raw)\n",
        "subset_test_biased_tensor = random.sample(test_data_biased_tensor, subset_size_test_biased)\n",
        "\n",
        "# Define batch size\n",
        "batch_size = 64  # Adjust as needed\n",
        "\n",
        "# Create DataLoader for the subset of training data\n",
        "subset_train_biased_dataloader = DataLoader(subset_train_biased_tensor, batch_size=batch_size, shuffle=True)\n",
        "\n",
        "# Create DataLoader for the subset of raw test data\n",
        "subset_test_raw_dataloader = DataLoader(subset_test_raw_tensor, batch_size=batch_size, shuffle=False)\n",
        "\n",
        "# Create DataLoader for the subset of biased test data\n",
        "subset_test_biased_dataloader = DataLoader(subset_test_biased_tensor, batch_size=batch_size, shuffle=False)"
      ]
    },
    {
      "cell_type": "markdown",
      "metadata": {
        "id": "Dlxs0SJ98ftx"
      },
      "source": [
        "# Define CNN\n",
        "Define a Convolutional Neural Network and give its class a ```get_grad_cam_target_layer``` function which will grab the last convolutional layer to use it for saliency map generation. Uses almost the same architecture as the paper \"MaskTune: Mitigating Spurious Correlations by Forcing to Explore\""
      ]
    },
    {
      "cell_type": "code",
      "execution_count": 14,
      "metadata": {
        "id": "kFdy4wMmGyXC"
      },
      "outputs": [],
      "source": [
        "class SmallCNN(nn.Module):\n",
        "    def __init__(self, num_classes):\n",
        "        super().__init__()\n",
        "        self.num_classes = num_classes\n",
        "        self.backbone = nn.Sequential(\n",
        "            nn.Conv2d(3, 16, (3, 3), (1, 1)),  # Change 1 to 3 for RGB input\n",
        "            nn.BatchNorm2d(16),\n",
        "            nn.ReLU(),\n",
        "            nn.Conv2d(16, 16, (3, 3), (1, 1)),\n",
        "            nn.BatchNorm2d(num_features=16),\n",
        "            nn.ReLU(),\n",
        "            nn.MaxPool2d((2, 2), (2, 2)),\n",
        "            nn.Conv2d(16, 32, (3, 3), (1, 1)),\n",
        "            nn.BatchNorm2d(num_features=32),\n",
        "            nn.ReLU(),\n",
        "            nn.Conv2d(32, 32, (3, 3), (1, 1)),\n",
        "            nn.BatchNorm2d(num_features=32),\n",
        "            nn.ReLU(),\n",
        "            nn.MaxPool2d((2, 2), (2, 2)),\n",
        "            nn.Flatten()\n",
        "        )\n",
        "        self.linear = nn.Sequential(\n",
        "            nn.Linear(512, 256),\n",
        "            nn.BatchNorm1d(num_features=256),\n",
        "            nn.ReLU(),\n",
        "            nn.Linear(256, self.num_classes)\n",
        "        )\n",
        "\n",
        "    def forward(self, x):\n",
        "        features = self.backbone(x)\n",
        "        logits = self.linear(features)\n",
        "        return logits\n",
        "\n",
        "    def get_grad_cam_target_layer(self):\n",
        "        return self.backbone[-3]"
      ]
    },
    {
      "cell_type": "markdown",
      "metadata": {
        "id": "JmVn-g3Z87tf"
      },
      "source": [
        "### Hyperparameters, optimizer, model selection"
      ]
    },
    {
      "cell_type": "code",
      "execution_count": 16,
      "metadata": {
        "id": "8ROjx8uF04n7"
      },
      "outputs": [],
      "source": [
        "import torch.optim as optim\n",
        "from sklearn.metrics import accuracy_score, precision_score, recall_score, f1_score\n",
        "\n",
        "# Hyperparameters according to the paper\n",
        "lr = 0.01\n",
        "momentum = 0.9\n",
        "weight_decay = 1e-4\n",
        "batch_size = 128\n",
        "epochs = 20\n",
        "lr_decay_epochs = 25\n",
        "lr_decay_factor = 0.5\n",
        "number_of_classes = 2\n",
        "\n",
        "# Loss function\n",
        "loss_function = nn.CrossEntropyLoss()\n",
        "\n",
        "# Optimizer with the above presented hyperparameters\n",
        "model = SmallCNN(number_of_classes)\n",
        "optimizer = optim.SGD(model.parameters(), lr=lr, momentum=momentum, weight_decay=weight_decay)\n",
        "\n",
        "# Learning rate scheduler to decrease learning rate every lr_decay_epochs epochs\n",
        "lr_scheduler = optim.lr_scheduler.StepLR(optimizer, step_size=lr_decay_epochs, gamma=lr_decay_factor)"
      ]
    },
    {
      "cell_type": "markdown",
      "metadata": {
        "id": "e1ti6kBN9F5R"
      },
      "source": [
        "# Training and Testing\n",
        "Done with the specified parameters and models above"
      ]
    },
    {
      "cell_type": "markdown",
      "metadata": {
        "id": "-D2mbCXzwL-3"
      },
      "source": [
        "`test_model()` has:\n",
        "\n",
        "**Class-wise accuracy** - correctness of predictions for each class infividually. We expect improved class-wise accuracy for biased dataset after applying MaskTune. Before that, biased dataset should have low class-wise accuracy for the underrepresented classes.\n",
        "\n",
        "**Precision and Recall, F1 score** -\n",
        "\n",
        "*   Precision - how many of the predicted positive samples are actually positive\n",
        "*   Recall - how many of the actual positive samples are predicted as positive\n",
        "*   F1 score - balance between them\n",
        "We expect to see improvements in those metrics after applying MaskTune, especially for the biased dataset.\n",
        "\n",
        "**Confusion Matrix** - detailed breakdown of correct and incorrect classifications for each class. After applying Masktune, we should see the improvements in the main diagonal of the matrix (correct classifications)\n",
        "\n",
        "**Accuracy** - overall correctness of the predictions. Improvements in accuracy after applying Masktune is expected on both raw and biased datasets. Before that, accuracy might be lower on the biased dataset compared to the raw dataset due to the bias."
      ]
    },
    {
      "cell_type": "code",
      "execution_count": null,
      "metadata": {
        "id": "8-qCeq790EaG"
      },
      "outputs": [],
      "source": [
        "def train_erm(model, dataloader, optimizer, loss_function, epochs=100):\n",
        "    for epoch in range(epochs):\n",
        "        model.train()  # Set the model to training mode\n",
        "        total_loss = 0.0\n",
        "        correct_predictions = 0\n",
        "        total_samples = 0\n",
        "\n",
        "        for xb, yb in dataloader:\n",
        "            optimizer.zero_grad()\n",
        "            preds = model(xb)\n",
        "            loss = loss_function(preds, yb)\n",
        "            loss.backward()\n",
        "            optimizer.step()\n",
        "\n",
        "            total_loss += loss.item() * xb.size(0)\n",
        "            correct_predictions += (preds.argmax(1) == yb).sum().item()\n",
        "            total_samples += xb.size(0)\n",
        "\n",
        "        epoch_loss = total_loss / total_samples\n",
        "        epoch_accuracy = correct_predictions / total_samples\n",
        "\n",
        "        print(f\"Epoch {epoch+1}/{epochs}, Loss: {epoch_loss:.4f}, Accuracy: {epoch_accuracy:.4f}\")\n",
        "\n",
        "        torch.save(model.state_dict(), f'/content/data/MNIST/CNN_checkpoint.pth')\n"
      ]
    },
    {
      "cell_type": "code",
      "execution_count": null,
      "metadata": {
        "id": "pmmuI9Q3y4nh"
      },
      "outputs": [],
      "source": [
        "def test_model(model, dataloader, loss_function, num_classes=2):\n",
        "    model.eval()  # Set the model to evaluation mode\n",
        "    total_loss = 0.0\n",
        "    correct_predictions = 0\n",
        "    total_samples = 0\n",
        "\n",
        "    class_correct = [0] * num_classes\n",
        "    class_samples = [0] * num_classes\n",
        "\n",
        "    all_preds = []\n",
        "    all_labels = []\n",
        "\n",
        "    with torch.no_grad():\n",
        "        for xb, yb in dataloader:\n",
        "            preds = model(xb)\n",
        "            loss = loss_function(preds, yb)\n",
        "\n",
        "            total_loss += loss.item() * xb.size(0)\n",
        "            correct_predictions += (preds.argmax(1) == yb).sum().item()\n",
        "            total_samples += xb.size(0)\n",
        "\n",
        "            for i in range(len(yb)):\n",
        "                label = yb[i].item()\n",
        "                pred = preds.argmax(1)[i].item()\n",
        "                all_preds.append(pred)\n",
        "                all_labels.append(label)\n",
        "                if label == pred:\n",
        "                    class_correct[label] += 1\n",
        "                class_samples[label] += 1\n",
        "\n",
        "    average_loss = total_loss / total_samples\n",
        "    accuracy = correct_predictions / total_samples\n",
        "    class_accuracy = [class_correct[i] / class_samples[i] if class_samples[i] > 0 else 0 for i in range(num_classes)]\n",
        "\n",
        "    print(f\"Test Loss: {average_loss:.4f}, Accuracy: {accuracy:.4f}\")\n",
        "    for i in range(num_classes):\n",
        "        print(f\"Class {i} Accuracy: {class_accuracy[i]:.4f}\")\n",
        "\n",
        "    conf_matrix = confusion_matrix(all_labels, all_preds)\n",
        "    precision = precision_score(all_labels, all_preds, average='macro')\n",
        "    recall = recall_score(all_labels, all_preds, average='macro')\n",
        "    f1 = f1_score(all_labels, all_preds, average='macro')\n",
        "\n",
        "    print(f\"Confusion Matrix:\\n{conf_matrix}\")\n",
        "    print(f\"Precision: {precision:.4f}\")\n",
        "    print(f\"Recall: {recall:.4f}\")\n",
        "    print(f\"F1 Score: {f1:.4f}\")\n"
      ]
    },
    {
      "cell_type": "code",
      "execution_count": null,
      "metadata": {
        "colab": {
          "base_uri": "https://localhost:8080/"
        },
        "id": "2_avXX_C5iiE",
        "outputId": "00ff6da6-811e-4275-a822-c4cc7b2cd7f6"
      },
      "outputs": [
        {
          "name": "stdout",
          "output_type": "stream",
          "text": [
            "Epoch 1/1, Loss: 0.0312, Accuracy: 0.9891\n",
            "\u001b[1m \u001b[93m Testing on Raw Test Dataset: \u001b[0m\n",
            "Test Loss: 0.3785, Accuracy: 0.8496\n",
            "Class 0 Accuracy: 0.7095\n",
            "Class 1 Accuracy: 0.9977\n",
            "Confusion Matrix:\n",
            "[[3646 1493]\n",
            " [  11 4850]]\n",
            "Precision: 0.8808\n",
            "Recall: 0.8536\n",
            "F1 Score: 0.8474\n",
            "\u001b[1m \u001b[93m Testing on Biased Test Dataset: \u001b[0m\n",
            "Test Loss: 0.7701, Accuracy: 0.6937\n",
            "Class 0 Accuracy: 0.7095\n",
            "Class 1 Accuracy: 0.6770\n",
            "Confusion Matrix:\n",
            "[[3646 1493]\n",
            " [1570 3291]]\n",
            "Precision: 0.6935\n",
            "Recall: 0.6932\n",
            "F1 Score: 0.6933\n"
          ]
        }
      ],
      "source": [
        "# Train the model with biased training dataset\n",
        "train_erm(model, biased_train_dataloader, optimizer, loss_function, epochs=1)\n",
        "\n",
        "# Test the model on the raw test dataset\n",
        "print(\"\\033[1m \\033[93m Testing on Raw Test Dataset: \\033[0m\")  # Bold and yellow text\n",
        "test_model(model, raw_test_dataloader, loss_function)\n",
        "\n",
        "# Test the model on the biased test dataset\n",
        "print(\"\\033[1m \\033[93m Testing on Biased Test Dataset: \\033[0m\") # Reset formatting\n",
        "test_model(model, biased_test_dataloader, loss_function)\n"
      ]
    },
    {
      "cell_type": "markdown",
      "metadata": {
        "id": "03mdSJ74xEDP"
      },
      "source": [
        "# Masktune\n",
        "After the initial training with the empirical risk minimization, let's apply Masktune, which incorporates:\n",
        "\n",
        "- **Mask Generation** - identifying and masking the most influential, potentially spurious features\n",
        "\n",
        "- **Mask Application and Finetunning** - by finetuning the model with the masked data, it is forced to explore less prominent and potentially more descriptive non-spurious features.\n",
        "\n",
        "- **Iteratarions** - enable us to adjust the depth of the feature depth and descriptiveness."
      ]
    },
    {
      "cell_type": "markdown",
      "metadata": {
        "id": "UZ1C-PZh8xK2"
      },
      "source": [
        "## Mask Generation\n",
        "\n",
        "1.   **Train the model using** Empirical Risk Minimization (**ERM**)\n",
        "2.   **Identify the spurious features** / class activations from saliency maps. In case of present spurious features, the method will likely identify the spurious feature, while for the input without any spurious features, the function will identify the most prominent features to mask, forcing the training to escape its myopic and greedy feature-seeking approach and encouraging and leveraging more input variables [1]\n",
        "3.  **Generate masks** to cover the most discriminatory features discovered in the saliency maps.\n",
        "4.  The generated masks from the step 3 will be applied to the dataset\n",
        "5.  We will fine-tune the pretrained ERM model on newly masked dataset onlt for one epoch."
      ]
    },
    {
      "cell_type": "code",
      "execution_count": null,
      "metadata": {
        "id": "uRjODdQtysfQ"
      },
      "outputs": [],
      "source": [
        "'''\n",
        "class MaskTunePipeline:\n",
        "    def __init__(self, model, biased_train_dataloader, raw_test_dataloader, biased_test_dataloader, mask_dir, batch_size=128, epochs=1, finetune_epochs=1, num_classes=2):\n",
        "        self.model = model\n",
        "        self.biased_train_dataloader = biased_train_dataloader\n",
        "        self.raw_test_dataloader = raw_test_dataloader\n",
        "        self.biased_test_dataloader = biased_test_dataloader\n",
        "        self.mask_dir = mask_dir\n",
        "        self.batch_size = batch_size\n",
        "        self.epochs = epochs\n",
        "        self.finetune_epochs = finetune_epochs\n",
        "        self.optimizer = optim.SGD(self.model.parameters(), lr=0.01, momentum=0.9, weight_decay=1e-4)\n",
        "        self.loss_function = nn.CrossEntropyLoss()\n",
        "        self.num_classes = num_classes\n",
        "\n",
        "    def train_erm(self):\n",
        "        for epoch in range(self.epochs):\n",
        "            self.model.train()\n",
        "            total_loss = 0.0\n",
        "            correct_predictions = 0\n",
        "            total_samples = 0\n",
        "\n",
        "            for xb, yb in self.biased_train_dataloader:\n",
        "                self.optimizer.zero_grad()\n",
        "                preds = self.model(xb)\n",
        "                loss = self.loss_function(preds, yb)\n",
        "                loss.backward()\n",
        "                self.optimizer.step()\n",
        "\n",
        "                total_loss += loss.item() * xb.size(0)\n",
        "                correct_predictions += (preds.argmax(1) == yb).sum().item()\n",
        "                total_samples += xb.size(0)\n",
        "\n",
        "            epoch_loss = total_loss / total_samples\n",
        "            epoch_accuracy = correct_predictions / total_samples\n",
        "\n",
        "            print(f\"Epoch {epoch+1}/{self.epochs}, Loss: {epoch_loss:.4f}, Accuracy: {epoch_accuracy:.4f}\")\n",
        "            torch.save(self.model.state_dict(), f'{self.mask_dir}/CNN_checkpoint.pth')\n",
        "\n",
        "    # RuntimeError: cannot register a hook on a tensor that doesn't require gradient\n",
        "    # Maybe the model is frozen?\n",
        "    def test_model(self, dataloader):\n",
        "        self.model.eval()\n",
        "        test_loss = 0\n",
        "        correct = 0\n",
        "        class_correct = [0. for _ in range(self.num_classes)]\n",
        "        class_total = [0. for _ in range(self.num_classes)]\n",
        "        confusion_matrix = np.zeros((self.num_classes, self.num_classes), dtype=int)\n",
        "\n",
        "        with torch.no_grad():\n",
        "            for xb, yb in dataloader:\n",
        "                preds = self.model(xb)\n",
        "                loss = self.loss_function(preds, yb)\n",
        "                test_loss += loss.item()\n",
        "                pred_class = preds.argmax(dim=1)\n",
        "                correct += (pred_class == yb).sum().item()\n",
        "\n",
        "                for i in range(len(pred_class)):\n",
        "                    confusion_matrix[yb[i]][pred_class[i]] += 1\n",
        "                    class_total[yb[i]] += 1\n",
        "                    if pred_class[i] == yb[i]:\n",
        "                        class_correct[yb[i]] += 1\n",
        "\n",
        "        accuracy = correct / len(dataloader.dataset)\n",
        "        test_loss /= len(dataloader.dataset)\n",
        "\n",
        "        print(f\"Test Loss: {test_loss:.4f}, Accuracy: {accuracy:.4f}\")\n",
        "        for i in range(self.num_classes):\n",
        "            print(f\"Class {i} Accuracy: {100 * class_correct[i] / class_total[i]:.4f}\")\n",
        "        print(\"Confusion Matrix:\")\n",
        "        print(confusion_matrix)\n",
        "\n",
        "    def generate_map(self, sample_idx, sample_class):\n",
        "        checkpoint = torch.load(f'{self.mask_dir}/CNN_checkpoint.pth')\n",
        "        self.model.load_state_dict(checkpoint)\n",
        "        self.model.eval()\n",
        "\n",
        "        if not isinstance(sample_idx, int):\n",
        "            raise ValueError(\"sample_idx must be an integer representing the sample index\")\n",
        "\n",
        "        try:\n",
        "            data, label = self.biased_train_dataloader.dataset[sample_idx]\n",
        "        except IndexError:\n",
        "            raise IndexError(f\"sample_idx {sample_idx} is out of range for the biased training dataset\")\n",
        "\n",
        "        if len(data.shape) == 3:\n",
        "            data = data.unsqueeze(0)\n",
        "\n",
        "        data = data.to(next(self.model.parameters()).device)\n",
        "        data.requires_grad = True  # Ensure the tensor requires gradients\n",
        "\n",
        "        target_layer = self.model.get_grad_cam_target_layer()\n",
        "        cam = XGradCAM(self.model, target_layer)\n",
        "        output = self.model(data)\n",
        "        batch_size = data.size(0)\n",
        "        class_idx = [sample_class] * batch_size\n",
        "\n",
        "        saliency_map = cam(class_idx=class_idx, scores=output)\n",
        "        saliency_map_np = saliency_map[0].detach().cpu().numpy()\n",
        "        saliency_map_np = saliency_map_np.reshape(saliency_map_np.shape[1:])\n",
        "\n",
        "        return saliency_map_np\n",
        "\n",
        "    def create_mask(self, saliency_map, threshold=0.5):\n",
        "        mask = saliency_map > threshold\n",
        "        return mask.astype(np.float32)\n",
        "\n",
        "    def apply_mask(self, image, mask, resize_dims=(28, 28)):\n",
        "        mask_resized = F.interpolate(torch.tensor(mask).unsqueeze(0).unsqueeze(0), size=(image.shape[1], image.shape[2]), mode='nearest').squeeze(0).squeeze(0)\n",
        "        masked_image = image * (1 - mask_resized)\n",
        "        masked_image_resized = F.interpolate(masked_image.unsqueeze(0), size=resize_dims, mode='bilinear', align_corners=False).squeeze(0)\n",
        "        return masked_image_resized\n",
        "\n",
        "    def mask_data(self):\n",
        "        print(\"Generating and applying masks to the training data...\")\n",
        "        masked_data = []\n",
        "        for i, (data, label) in enumerate(self.biased_train_dataloader.dataset):\n",
        "            data, label = torch.tensor(data).clone().detach(), torch.tensor(label).clone().detach()\n",
        "            saliency_map = self.generate_map(i, label.item())\n",
        "            mask = self.create_mask(saliency_map)\n",
        "            masked_image = self.apply_mask(data, mask)\n",
        "            masked_data.append((masked_image, label))\n",
        "        torch.save(masked_data, f'{self.mask_dir}/masked_train_data.pth')\n",
        "        print(\"Masks generated and applied to the training data.\")\n",
        "\n",
        "    def finetune(self, masked_dataloader):\n",
        "        self.model.train()\n",
        "        for epoch in range(self.finetune_epochs):\n",
        "            total_loss = 0.0\n",
        "            correct_predictions = 0\n",
        "            total_samples = 0\n",
        "\n",
        "            for xb, yb in masked_dataloader:\n",
        "                self.optimizer.zero_grad()\n",
        "                preds = self.model(xb)\n",
        "                loss = self.loss_function(preds, yb)\n",
        "                loss.backward()\n",
        "                self.optimizer.step()\n",
        "\n",
        "                total_loss += loss.item() * xb.size(0)\n",
        "                correct_predictions += (preds.argmax(1) == yb).sum().item()\n",
        "                total_samples += xb.size(0)\n",
        "\n",
        "            epoch_loss = total_loss / total_samples\n",
        "            epoch_accuracy = correct_predictions / total_samples\n",
        "\n",
        "            print(f\"Finetune Epoch {epoch+1}/{self.finetune_epochs}, Loss: {epoch_loss:.4f}, Accuracy: {epoch_accuracy:.4f}\")\n",
        "            torch.save(self.model.state_dict(), f'{self.mask_dir}/finetuned_model_checkpoint.pth')\n",
        "\n",
        "    def masktune(self):\n",
        "        self.train_erm()\n",
        "        print(\"\\033[1m \\033[93m Testing on Raw Test Dataset: \\033[0m\")\n",
        "        self.test_model(self.raw_test_dataloader)\n",
        "        print(\"\\033[1m \\033[93m Testing on Biased Test Dataset: \\033[0m\")\n",
        "        self.test_model(self.biased_test_dataloader)\n",
        "\n",
        "        self.mask_data()\n",
        "\n",
        "        masked_data = torch.load(f'{self.mask_dir}/masked_train_data.pth')\n",
        "        masked_train_dataloader = DataLoader(masked_data, batch_size=self.batch_size, shuffle=True)\n",
        "\n",
        "        print(\"\\033[1m \\033[93m Fine-tuning with masked data... \\033[0m\")\n",
        "        self.finetune(masked_train_dataloader)\n",
        "\n",
        "        print(\"\\033[1m \\033[93m Testing on Raw Test Dataset after fine-tuning: \\033[0m\")\n",
        "        self.test_model(self.raw_test_dataloader)\n",
        "        print(\"\\033[1m \\033[93m Testing on Biased Test Dataset after fine-tuning: \\033[0m\")\n",
        "        self.test_model(self.biased_test_dataloader)\n",
        "\n",
        "# Example usage:\n",
        "# model = SmallCNN(num_classes=2)\n",
        "# pipeline = MaskTunePipeline(model, subset_train_biased_dataloader, subset_test_raw_dataloader, subset_test_biased_dataloader, mask_dir='/content/data/MNIST')\n",
        "# pipeline.masktune()\n",
        "'''"
      ]
    },
    {
      "cell_type": "code",
      "execution_count": null,
      "metadata": {
        "collapsed": true,
        "id": "qt3Uu24HAyUQ"
      },
      "outputs": [],
      "source": [
        "# Initialize the MaskTunePipeline and run masktune\n",
        "#device = torch.device(\"cuda\" if torch.cuda.is_available() else \"cpu\")\n",
        "import warnings\n",
        "warnings.filterwarnings(\"ignore\")\n",
        "model = SmallCNN(num_classes=2)\n",
        "#model = model.to(device)  # Move the model to the chosen device\n",
        "\n",
        "# Testing\n",
        "pipeline = MaskTunePipeline(model, subset_train_biased_dataloader, subset_test_raw_dataloader, subset_test_biased_dataloader, mask_dir='/content/data/MNIST')\n",
        "#pipeline = MaskTunePipeline(model, biased_train_dataloader, raw_test_dataloader, biased_test_dataloader, mask_dir='/content/data/MNIST')\n",
        "pipeline.masktune()\n"
      ]
    },
    {
      "cell_type": "code",
      "source": [
        "\n",
        "\n",
        "class SmallCNN(nn.Module):\n",
        "    def __init__(self, num_classes):\n",
        "        super().__init__()\n",
        "        self.num_classes = num_classes\n",
        "        self.backbone = nn.Sequential(\n",
        "            nn.Conv2d(3, 16, (3, 3), (1, 1)),\n",
        "            nn.BatchNorm2d(16),\n",
        "            nn.ReLU(),\n",
        "            nn.Conv2d(16, 16, (3, 3), (1, 1)),\n",
        "            nn.BatchNorm2d(num_features=16),\n",
        "            nn.ReLU(),\n",
        "            nn.MaxPool2d((2, 2), (2, 2)),\n",
        "            nn.Conv2d(16, 32, (3, 3), (1, 1)),\n",
        "            nn.BatchNorm2d(num_features=32),\n",
        "            nn.ReLU(),\n",
        "            nn.Conv2d(32, 32, (3, 3), (1, 1)),\n",
        "            nn.BatchNorm2d(num_features=32),\n",
        "            nn.ReLU(),\n",
        "            nn.MaxPool2d((2, 2), (2, 2)),\n",
        "            nn.Flatten()\n",
        "        )\n",
        "        self.linear = nn.Sequential(\n",
        "            nn.Linear(512, 256),\n",
        "            nn.BatchNorm1d(num_features=256),\n",
        "            nn.ReLU(),\n",
        "            nn.Linear(256, self.num_classes)\n",
        "        )\n",
        "\n",
        "    def forward(self, x):\n",
        "        features = self.backbone(x)\n",
        "        logits = self.linear(features)\n",
        "        return logits\n",
        "\n",
        "    def get_grad_cam_target_layer(self):\n",
        "        return self.backbone[-3]\n",
        "\n",
        "def train_erm(model, dataloader, epochs=1, learning_rate=0.01, momentum=0.9, weight_decay=1e-4, save_path='cnn_checkpoint.pth'):\n",
        "    optimizer = optim.SGD(model.parameters(), lr=learning_rate, momentum=momentum, weight_decay=weight_decay)\n",
        "    loss_function = nn.CrossEntropyLoss()\n",
        "\n",
        "    for epoch in range(epochs):\n",
        "        model.train()\n",
        "        total_loss = 0.0\n",
        "        correct_predictions = 0\n",
        "        total_samples = 0\n",
        "\n",
        "        for xb, yb in dataloader:\n",
        "            optimizer.zero_grad()\n",
        "            preds = model(xb)\n",
        "            loss = loss_function(preds, yb)\n",
        "            loss.backward()\n",
        "            optimizer.step()\n",
        "\n",
        "            total_loss += loss.item() * xb.size(0)\n",
        "            correct_predictions += (preds.argmax(1) == yb).sum().item()\n",
        "            total_samples += xb.size(0)\n",
        "\n",
        "        epoch_loss = total_loss / total_samples\n",
        "        epoch_accuracy = correct_predictions / total_samples\n",
        "\n",
        "        print(f\"Epoch {epoch+1}/{epochs}, Loss: {epoch_loss:.4f}, Accuracy: {epoch_accuracy:.4f}\")\n",
        "        torch.save(model.state_dict(), save_path)\n",
        "\n",
        "\n"
      ],
      "metadata": {
        "id": "VGgA9ky30ZMk"
      },
      "execution_count": 56,
      "outputs": []
    },
    {
      "cell_type": "code",
      "source": [
        "def test_model(model, dataloader, loss_function):\n",
        "    model.eval()\n",
        "    test_loss = 0\n",
        "    correct = 0\n",
        "    class_correct = [0 for _ in range(model.num_classes)]\n",
        "    class_total = [0 for _ in range(model.num_classes)]\n",
        "    confusion_matrix = np.zeros((model.num_classes, model.num_classes), dtype=int)\n",
        "\n",
        "    with torch.no_grad():\n",
        "        for xb, yb in dataloader:\n",
        "            preds = model(xb)\n",
        "            loss = loss_function(preds, yb)\n",
        "            test_loss += loss.item()\n",
        "            pred_class = preds.argmax(dim=1)\n",
        "            correct += (pred_class == yb).sum().item()\n",
        "\n",
        "            for i in range(len(pred_class)):\n",
        "                confusion_matrix[yb[i]][pred_class[i]] += 1\n",
        "                class_total[yb[i]] += 1\n",
        "                if pred_class[i] == yb[i]:\n",
        "                    class_correct[yb[i]] += 1\n",
        "\n",
        "    accuracy = correct / len(dataloader.dataset)\n",
        "    test_loss /= len(dataloader.dataset)\n",
        "\n",
        "    print(f\"Test Loss: {test_loss:.4f}, Accuracy: {accuracy:.4f}\")\n",
        "    for i in range(model.num_classes):\n",
        "        print(f\"Class {i} Accuracy: {100 * class_correct[i] / class_total[i]:.4f}\")\n",
        "    print(\"Confusion Matrix:\")\n",
        "    print(confusion_matrix)\n"
      ],
      "metadata": {
        "id": "Fdg6h5lG3rzC"
      },
      "execution_count": 57,
      "outputs": []
    },
    {
      "cell_type": "code",
      "source": [
        "def generate_saliency_map(model, checkpoint_path, dataloader, threshold=0.5):\n",
        "    # Load the model checkpoint\n",
        "    checkpoint = torch.load(checkpoint_path)\n",
        "    model.load_state_dict(checkpoint)\n",
        "    model.eval()  # Set the model to evaluation mode\n",
        "\n",
        "    target_layer = model.get_grad_cam_target_layer()\n",
        "    cam = XGradCAM(model, target_layer)\n",
        "\n",
        "    masked_dataset = []\n",
        "    saliency_maps = []\n",
        "    original_images = []\n",
        "    masked_images = []\n",
        "\n",
        "    for data, labels in dataloader:\n",
        "        for i in range(data.size(0)):\n",
        "            sample_data = data[i]\n",
        "            sample_class = labels[i].item()\n",
        "\n",
        "            # Prepare the input tensor\n",
        "            input_tensor = sample_data.unsqueeze(0)  # Add batch dimension\n",
        "\n",
        "            # Generate the saliency map using XGradCAM\n",
        "            output = model(input_tensor)\n",
        "            saliency_map = cam(class_idx=[sample_class], scores=output)\n",
        "\n",
        "            # Convert the saliency map tensor to a numpy array\n",
        "            saliency_map_np = saliency_map[0].detach().cpu().numpy()\n",
        "\n",
        "            # Reshape the saliency map to 2D\n",
        "            saliency_map_np = saliency_map_np.reshape(saliency_map_np.shape[1:])\n",
        "\n",
        "            # Create mask\n",
        "            mask = create_mask(saliency_map_np, threshold=threshold)\n",
        "\n",
        "            # Apply mask\n",
        "            masked_image = apply_mask(sample_data, mask)\n",
        "\n",
        "            # Append masked image and label to the new dataset\n",
        "            masked_dataset.append((masked_image, labels[i]))\n",
        "            saliency_maps.append(saliency_map_np)\n",
        "            original_images.append(sample_data)\n",
        "            masked_images.append(masked_image)\n",
        "\n",
        "    return masked_dataset, saliency_maps, original_images, masked_images\n",
        "\n",
        "def create_mask(saliency_map, threshold=0.5):\n",
        "    # Normalize the saliency map to the range [0, 1]\n",
        "    saliency_map_normalized = (saliency_map - np.min(saliency_map)) / (np.max(saliency_map) - np.min(saliency_map))\n",
        "\n",
        "    # Create a mask where the saliency map values are above the threshold\n",
        "    mask = saliency_map_normalized > threshold\n",
        "\n",
        "    return mask.astype(np.float32)\n",
        "\n",
        "def apply_mask(image, mask):\n",
        "    # Ensure the mask has the same height and width as the image\n",
        "    mask_resized = cv2.resize(mask, (image.shape[2], image.shape[1]))\n",
        "\n",
        "    # Apply the mask to the image (inverted mask to zero out the active regions)\n",
        "    mask_resized_tensor = torch.tensor(1 - mask_resized).float().unsqueeze(0)\n",
        "    masked_image = image * mask_resized_tensor\n",
        "\n",
        "    return masked_image\n",
        "\n",
        "def plot_saliency_and_mask(image, saliency_map, mask, masked_image):\n",
        "    # Convert the image tensor to a numpy array\n",
        "    image_np = image.permute(1, 2, 0).cpu().numpy()\n",
        "    masked_image_np = masked_image.permute(1, 2, 0).cpu().numpy()\n",
        "\n",
        "    # Resize the saliency map and mask to match the image size\n",
        "    saliency_map_resized = cv2.resize(saliency_map, (image_np.shape[1], image_np.shape[0]))\n",
        "    mask_resized = cv2.resize(mask, (image_np.shape[1], image_np.shape[0]))\n",
        "\n",
        "    # Normalize the saliency map\n",
        "    saliency_map_resized = (saliency_map_resized - np.min(saliency_map_resized)) / (np.max(saliency_map_resized) - np.min(saliency_map_resized))\n",
        "\n",
        "    # Apply colormap to saliency map\n",
        "    saliency_map_colored = cv2.applyColorMap(np.uint8(255 * saliency_map_resized), cv2.COLORMAP_JET)\n",
        "    saliency_map_colored = saliency_map_colored / 255.0  # Normalize to [0, 1]\n",
        "\n",
        "    # Overlay the saliency map on the original image\n",
        "    overlay = 0.5 * image_np + 0.5 * saliency_map_colored\n",
        "\n",
        "    # Plot the original image, saliency map, mask, and masked image\n",
        "    fig, axes = plt.subplots(1, 4, figsize=(12, 3))  # Adjust figsize for compact layout\n",
        "    fig.subplots_adjust(wspace=0.1)  # Adjust space between subplots\n",
        "\n",
        "    axes[0].set_title('Original Image')\n",
        "    axes[0].imshow(image_np)\n",
        "    axes[0].axis('off')\n",
        "\n",
        "    axes[1].set_title('Saliency Map')\n",
        "    axes[1].imshow(overlay)\n",
        "    axes[1].axis('off')\n",
        "\n",
        "    axes[2].set_title('Mask')\n",
        "    axes[2].imshow(mask_resized, cmap='gray')\n",
        "    axes[2].axis('off')\n",
        "\n",
        "    axes[3].set_title('Masked Image')\n",
        "    axes[3].imshow(masked_image_np)\n",
        "    axes[3].axis('off')\n",
        "\n",
        "    plt.show()\n",
        "\n"
      ],
      "metadata": {
        "id": "gWFyGy5m3sZx"
      },
      "execution_count": 58,
      "outputs": []
    },
    {
      "cell_type": "code",
      "source": [
        "model = SmallCNN(num_classes=2)\n",
        "train_erm(model, biased_train_dataloader, epochs=10, save_path='/content/data/MNIST/CNN_checkpoint.pth')"
      ],
      "metadata": {
        "colab": {
          "base_uri": "https://localhost:8080/"
        },
        "id": "cL86BZUa3asG",
        "outputId": "d8fadb6f-cf7f-4c9a-acbb-51b51581211c"
      },
      "execution_count": 59,
      "outputs": [
        {
          "output_type": "stream",
          "name": "stdout",
          "text": [
            "Epoch 1/10, Loss: 0.0318, Accuracy: 0.9882\n",
            "Epoch 2/10, Loss: 0.0092, Accuracy: 0.9971\n",
            "Epoch 3/10, Loss: 0.0052, Accuracy: 0.9987\n",
            "Epoch 4/10, Loss: 0.0031, Accuracy: 0.9996\n",
            "Epoch 5/10, Loss: 0.0019, Accuracy: 0.9998\n",
            "Epoch 6/10, Loss: 0.0013, Accuracy: 0.9999\n",
            "Epoch 7/10, Loss: 0.0008, Accuracy: 1.0000\n",
            "Epoch 8/10, Loss: 0.0006, Accuracy: 1.0000\n",
            "Epoch 9/10, Loss: 0.0005, Accuracy: 1.0000\n",
            "Epoch 10/10, Loss: 0.0004, Accuracy: 1.0000\n"
          ]
        }
      ]
    },
    {
      "cell_type": "code",
      "source": [
        "# Example usage:\n",
        "model = SmallCNN(num_classes=2)\n",
        "loss_function = nn.CrossEntropyLoss()\n",
        "test_model(model, raw_test_dataloader, loss_function)\n",
        "test_model(model, biased_test_dataloader, loss_function)"
      ],
      "metadata": {
        "colab": {
          "base_uri": "https://localhost:8080/"
        },
        "id": "4-rKMPbg3sKr",
        "outputId": "a85ee78e-dc1d-4e68-97a8-638e643660e4"
      },
      "execution_count": 60,
      "outputs": [
        {
          "output_type": "stream",
          "name": "stdout",
          "text": [
            "Test Loss: 0.0055, Accuracy: 0.4918\n",
            "Class 0 Accuracy: 86.6316\n",
            "Class 1 Accuracy: 9.5865\n",
            "Confusion Matrix:\n",
            "[[4452  687]\n",
            " [4395  466]]\n",
            "Test Loss: 0.0055, Accuracy: 0.4935\n",
            "Class 0 Accuracy: 86.6316\n",
            "Class 1 Accuracy: 9.9362\n",
            "Confusion Matrix:\n",
            "[[4452  687]\n",
            " [4378  483]]\n"
          ]
        }
      ]
    },
    {
      "cell_type": "code",
      "source": [
        "# Example usage:\n",
        "model = SmallCNN(num_classes=2)\n",
        "masked_train_dataset, saliency_maps, original_images, masked_images = generate_saliency_map(model, '/content/data/MNIST/CNN_checkpoint.pth', biased_train_dataloader, threshold=0.5)\n",
        "masked_train_dataloader = DataLoader(masked_train_dataset, batch_size=batch_size, shuffle=True)\n",
        "\n",
        "# Plot some saliency maps, masks, and masked images\n",
        "for i in range(5):  # Plot the first 5 samples\n",
        "    plot_saliency_and_mask(original_images[i], saliency_maps[i], create_mask(saliency_maps[i], threshold=0.3), masked_images[i])"
      ],
      "metadata": {
        "colab": {
          "base_uri": "https://localhost:8080/",
          "height": 1000
        },
        "id": "drqnQMuI3ssz",
        "outputId": "4e1be363-f49e-470b-a93c-ece01e2ef657"
      },
      "execution_count": 61,
      "outputs": [
        {
          "output_type": "display_data",
          "data": {
            "text/plain": [
              "<Figure size 1200x300 with 4 Axes>"
            ],
            "image/png": "[encoded data removed]"
          },
          "metadata": {}
        },
        {
          "output_type": "display_data",
          "data": {
            "text/plain": [
              "<Figure size 1200x300 with 4 Axes>"
            ],
            "image/png": "[encoded data removed]"
          },
          "metadata": {}
        },
        {
          "output_type": "display_data",
          "data": {
            "text/plain": [
              "<Figure size 1200x300 with 4 Axes>"
            ],
            "image/png": "[encoded data removed]"
          },
          "metadata": {}
        },
        {
          "output_type": "display_data",
          "data": {
            "text/plain": [
              "<Figure size 1200x300 with 4 Axes>"
            ],
            "image/png": "[encoded data removed]"
          },
          "metadata": {}
        },
        {
          "output_type": "display_data",
          "data": {
            "text/plain": [
              "<Figure size 1200x300 with 4 Axes>"
            ],
            "image/png": "[encoded data removed]"
          },
          "metadata": {}
        }
      ]
    },
    {
      "cell_type": "code",
      "source": [
        "# 1. Load the pre-trained model\n",
        "model = SmallCNN(num_classes=2)\n",
        "checkpoint_path = '/content/data/MNIST/CNN_checkpoint.pth'\n",
        "model.load_state_dict(torch.load(checkpoint_path))\n",
        "\n",
        "# 2. Define fine-tuning parameters (optional)\n",
        "learning_rate = 0.001\n",
        "epochs = 5\n",
        "optimizer = optim.Adam(model.parameters(), lr=learning_rate)\n",
        "\n",
        "# 3. Create fine-tuning dataloader\n",
        "masked_train_dataloader = DataLoader(masked_train_dataset, batch_size=batch_size, shuffle=True)\n",
        "\n",
        "# 4. Fine-tuning loop\n",
        "loss_function = nn.CrossEntropyLoss()\n",
        "\n",
        "model.train()\n",
        "for epoch in range(epochs):\n",
        "    total_loss = 0.0\n",
        "    correct_predictions = 0\n",
        "    total_samples = 0\n",
        "\n",
        "    for xb, yb in masked_train_dataloader:\n",
        "        optimizer.zero_grad()\n",
        "        preds = model(xb)\n",
        "        loss = loss_function(preds, yb)\n",
        "        loss.backward()\n",
        "        optimizer.step()\n",
        "\n",
        "        total_loss += loss.item() * xb.size(0)\n",
        "        correct_predictions += (preds.argmax(1) == yb).sum().item()\n",
        "        total_samples += xb.size(0)\n",
        "\n",
        "    epoch_loss = total_loss / total_samples\n",
        "    epoch_accuracy = correct_predictions / total_samples\n",
        "\n",
        "    print(f\"Fine-tuning Epoch {epoch+1}/{epochs}, Loss: {epoch_loss:.4f}, Accuracy: {epoch_accuracy:.4f}\")\n",
        "\n",
        "# 5. Evaluate fine-tuned model (example using test_raw dataloader)\n",
        "test_model(model, subset_test_raw_dataloader, loss_function)\n"
      ],
      "metadata": {
        "colab": {
          "base_uri": "https://localhost:8080/"
        },
        "id": "BhGnHRjyptmU",
        "outputId": "2690f786-56c0-467e-e332-7bedcef52bf3"
      },
      "execution_count": 62,
      "outputs": [
        {
          "output_type": "stream",
          "name": "stdout",
          "text": [
            "Fine-tuning Epoch 1/5, Loss: 0.0145, Accuracy: 0.9957\n",
            "Fine-tuning Epoch 2/5, Loss: 0.0040, Accuracy: 0.9988\n",
            "Fine-tuning Epoch 3/5, Loss: 0.0037, Accuracy: 0.9986\n",
            "Fine-tuning Epoch 4/5, Loss: 0.0031, Accuracy: 0.9989\n",
            "Fine-tuning Epoch 5/5, Loss: 0.0017, Accuracy: 0.9994\n",
            "Test Loss: 0.0046, Accuracy: 0.9700\n",
            "Class 0 Accuracy: 94.2308\n",
            "Class 1 Accuracy: 100.0000\n",
            "Confusion Matrix:\n",
            "[[49  3]\n",
            " [ 0 48]]\n"
          ]
        }
      ]
    },
    {
      "cell_type": "markdown",
      "metadata": {
        "id": "EwbD6_8B9Vwa"
      },
      "source": [
        "# Generating Saliency Map using XGradCAM\n",
        "Implementing explainability.\n",
        "Using the, for example, last convolutional layer from the trained CNN checkpoint to generate the gradient and hook.\n",
        "Pass a random instance from each class to the trained model. The model, target layer from the trained network and the network output are used to generate a saliency_map which is interpolated and projected onto the appropriate input image."
      ]
    },
    {
      "cell_type": "code",
      "execution_count": 66,
      "metadata": {
        "colab": {
          "base_uri": "https://localhost:8080/",
          "height": 407
        },
        "id": "fdd_xUPMwML7",
        "outputId": "4303fc0f-f274-40ac-ca99-90a62a6e4c1d"
      },
      "outputs": [
        {
          "output_type": "display_data",
          "data": {
            "text/plain": [
              "<Figure size 400x400 with 4 Axes>"
            ],
            "image/png": "[encoded data removed]"
          },
          "metadata": {}
        }
      ],
      "source": [
        "# Load the model\n",
        "model = SmallCNN(num_classes=2)\n",
        "\n",
        "def generate_map(sample_data, sample_class):\n",
        "    checkpoint = torch.load('/content/data/MNIST/CNN_checkpoint.pth') # Load the saved model checkpoint\n",
        "    model.load_state_dict(checkpoint)\n",
        "    model.eval() # Set the model to evaluation mode\n",
        "\n",
        "    # Get the target layer\n",
        "    target_layer = model.get_grad_cam_target_layer() # Last convolutional layer is the target\n",
        "    # Prepare the input tensor\n",
        "    input_tensor = sample_data # a sample from the dataset passed to the function\n",
        "\n",
        "    cam = XGradCAM(model, target_layer)\n",
        "    output = model(input_tensor.unsqueeze(0))\n",
        "    saliency_map = cam(class_idx=sample_class, scores=output)\n",
        "\n",
        "    # Get the first saliency map tensor from the list\n",
        "    saliency_map_tensor = saliency_map[0]\n",
        "\n",
        "    # Convert the saliency map tensor to a numpy array\n",
        "    saliency_map_np = saliency_map_tensor.detach().cpu().numpy()\n",
        "\n",
        "    # Reshape the saliency map to 2D\n",
        "    saliency_map_np = saliency_map_np.reshape(saliency_map_np.shape[1:])\n",
        "\n",
        "    return saliency_map_np\n",
        "\n",
        "def interpolate_heatmap(input_tensor, saliency_map_np):\n",
        "    # Convert the input tensor to a numpy array image\n",
        "    input_img_np = input_tensor.permute(1, 2, 0).cpu().numpy()  # Change the shape from (C, H, W) to (H, W, C)\n",
        "    input_img_np = np.uint8(255 * input_img_np)\n",
        "\n",
        "    # Resize the saliency map to match the size of the original image\n",
        "    heatmap_resized = cv2.resize(saliency_map_np, (input_img_np.shape[1], input_img_np.shape[0]))\n",
        "\n",
        "    # Normalize the saliency map values to the range [0, 255]\n",
        "    heatmap_resized = (heatmap_resized - np.min(heatmap_resized)) / (np.max(heatmap_resized) - np.min(heatmap_resized)) * 255\n",
        "    heatmap_resized = np.uint8(heatmap_resized)\n",
        "\n",
        "    # Apply a colormap to the saliency map to convert it into a heatmap image\n",
        "    heatmap_colored = cv2.applyColorMap(heatmap_resized, cv2.COLORMAP_JET)\n",
        "\n",
        "    # Overlay the heatmap image onto the original image\n",
        "    superimposed_img = cv2.addWeighted(input_img_np, 0.7, heatmap_colored, 0.3, 0)\n",
        "\n",
        "    return superimposed_img\n",
        "\n",
        "# Dictionary to store interpolated images by class label\n",
        "interpolated_images_by_class = {}\n",
        "saliency_maps_by_class = {}\n",
        "\n",
        "# Function to generate and interpolate the heatmap for one instance of each class\n",
        "def generate_and_interpolate_heatmap_one_per_class():\n",
        "    # Create a dictionary to hold the data instances for each class\n",
        "    class_data_dict = {}\n",
        "\n",
        "    # Iterate through the training data\n",
        "    for data, label in remapped_spurious_train_data_tensor:\n",
        "        if label not in class_data_dict:\n",
        "            class_data_dict[label] = []\n",
        "        class_data_dict[label].append(data)\n",
        "\n",
        "    # Iterate through each class label\n",
        "    for class_label in range(2):  # Assuming 2 classes (0 and 1)\n",
        "        # Get the data instances for the specified class label\n",
        "        class_data = class_data_dict.get(class_label, [])\n",
        "\n",
        "        # Select one random instance from the class data\n",
        "        if class_data:\n",
        "            random_instance = random.choice(class_data)\n",
        "\n",
        "            # Generate the saliency map for the random instance\n",
        "            saliency_map_np = generate_map(random_instance, class_label)\n",
        "\n",
        "            # Interpolate the heatmap for the random instance\n",
        "            interpolated_img = interpolate_heatmap(random_instance, saliency_map_np)\n",
        "\n",
        "            # Store the interpolated image in the dictionary by class label\n",
        "            interpolated_images_by_class[class_label] = interpolated_img\n",
        "\n",
        "            saliency_maps_by_class[class_label] = saliency_map_np\n",
        "\n",
        "# Generate interpolated images for one instance per class\n",
        "generate_and_interpolate_heatmap_one_per_class()\n",
        "\n",
        "# Plot the interpolated images and saliency maps together\n",
        "fig, axs = plt.subplots(2, 2, figsize=(4, 4))  # Adjust figsize for square plot\n",
        "\n",
        "for i, ax in enumerate(axs.flat):\n",
        "  class_label = i // number_of_classes # Different for each dataset\n",
        "  interpolated_img = interpolated_images_by_class.get(class_label)\n",
        "  saliency_map_by_class = saliency_maps_by_class.get(class_label)  # Assuming separate dictionary\n",
        "\n",
        "  if interpolated_img is not None:\n",
        "    # Display the interpolated image on the top half of the subplot\n",
        "    axs[i // 2, 0].imshow(interpolated_img)\n",
        "    axs[i // 2, 0].axis('off')\n",
        "    axs[i // 2, 0].set_title(f'Class {class_label} - Image')\n",
        "\n",
        "    # Display the saliency map on the bottom half of the subplot\n",
        "    axs[i // 2, 1].imshow(saliency_map_by_class)  # Assuming saliency map format is compatible\n",
        "    axs[i // 2, 1].axis('off')\n",
        "    axs[i // 2, 1].set_title(f'Class {class_label} - Saliency Map')\n",
        "\n",
        "  else:\n",
        "    axs[i].axis('off')\n",
        "\n",
        "plt.tight_layout()\n",
        "plt.show()\n",
        "\n"
      ]
    },
    {
      "cell_type": "code",
      "source": [],
      "metadata": {
        "id": "ULkXwNYL7RkF"
      },
      "execution_count": null,
      "outputs": []
    },
    {
      "cell_type": "markdown",
      "metadata": {
        "id": "2zzb23_ZU1Uf"
      },
      "source": [
        "TODO:\n",
        "start implementing MaskTune for MNIST\n",
        "\n",
        "- [x] **ISSUE:** The transformation function transforms every instance in the dataset instead of the ones of the chosen class\n",
        "- [x] Create a biased MNIST dataset - for it to work, induce spurious feature to one class so the model will pick up the easyeast detectable feature. If the bias is applied to every class, the result wont change because during training, the model is forced to focus on other features in order to predict correctly.\n",
        "- [ ] See how it performs compared to unbised MNIST\n",
        "\n",
        "---\n",
        "\n",
        "- [ ] def `finetune` (finetune erm checkpoint with ```masktune```)\n",
        "- [ ] def ```masktune```\n",
        "- [ ] def ```finetune```\n",
        "\n",
        "---\n",
        "\n",
        "- [ ] Compare performances and saliency matrices between unbiased and biased MNIST datasets\n",
        "\n",
        "\n",
        "\n"
      ]
    },
    {
      "cell_type": "code",
      "execution_count": null,
      "metadata": {
        "id": "ch_tT-25_JQQ"
      },
      "outputs": [],
      "source": []
    }
  ],
  "metadata": {
    "accelerator": "GPU",
    "colab": {
      "gpuType": "T4",
      "provenance": [],
      "authorship_tag": "ABX9TyNn2g4cuwY8DGFVU5PvIs7O",
      "include_colab_link": true
    },
    "kernelspec": {
      "display_name": "Python 3",
      "name": "python3"
    },
    "language_info": {
      "name": "python"
    }
  },
  "nbformat": 4,
  "nbformat_minor": 0
}